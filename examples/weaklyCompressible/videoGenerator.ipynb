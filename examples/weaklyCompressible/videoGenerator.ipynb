{
 "cells": [
  {
   "cell_type": "code",
   "execution_count": 1,
   "metadata": {},
   "outputs": [],
   "source": [
    "import imageio.v2 as imageio\n",
    "import os"
   ]
  },
  {
   "cell_type": "code",
   "execution_count": 2,
   "metadata": {},
   "outputs": [
    {
     "name": "stdout",
     "output_type": "stream",
     "text": [
      "['frame_00000.png', 'frame_00039.png', 'frame_00079.png', 'frame_00119.png', 'frame_00159.png', 'frame_00199.png', 'frame_00239.png', 'frame_00279.png', 'frame_00319.png', 'frame_00359.png', 'frame_00399.png', 'frame_00439.png', 'frame_00479.png', 'frame_00519.png', 'frame_00559.png', 'frame_00599.png', 'frame_00639.png', 'frame_00679.png', 'frame_00719.png', 'frame_00759.png', 'frame_00799.png', 'frame_00839.png', 'frame_00879.png', 'frame_00919.png', 'frame_00959.png', 'frame_00999.png', 'frame_01039.png', 'frame_01079.png', 'frame_01119.png', 'frame_01159.png', 'frame_01199.png', 'frame_01239.png', 'frame_01279.png', 'frame_01319.png', 'frame_01359.png', 'frame_01399.png', 'frame_01439.png', 'frame_01479.png', 'frame_01519.png', 'frame_01559.png', 'frame_01599.png', 'frame_01639.png', 'frame_01679.png', 'frame_01719.png', 'frame_01759.png', 'frame_01799.png', 'frame_01839.png', 'frame_01879.png', 'frame_01919.png', 'frame_01959.png', 'frame_01999.png', 'frame_02039.png', 'frame_02079.png', 'frame_02119.png', 'frame_02159.png', 'frame_02199.png', 'frame_02239.png', 'frame_02279.png', 'frame_02319.png', 'frame_02359.png', 'frame_02399.png', 'frame_02439.png', 'frame_02479.png', 'frame_02519.png', 'frame_02559.png', 'frame_02599.png', 'frame_02639.png', 'frame_02679.png', 'frame_02719.png', 'frame_02759.png', 'frame_02799.png', 'frame_02839.png', 'frame_02879.png', 'frame_02919.png', 'frame_02959.png', 'frame_02999.png', 'frame_03039.png', 'frame_03079.png', 'frame_03119.png', 'frame_03159.png', 'frame_03199.png', 'frame_03239.png', 'frame_03279.png', 'frame_03319.png', 'frame_03359.png', 'frame_03399.png', 'frame_03439.png', 'frame_03479.png', 'frame_03519.png', 'frame_03559.png', 'frame_03599.png', 'frame_03639.png', 'frame_03679.png', 'frame_03719.png', 'frame_03759.png', 'frame_03799.png', 'frame_03839.png', 'frame_03879.png', 'frame_03919.png', 'frame_03959.png', 'frame_03999.png', 'frame_04039.png', 'frame_04079.png', 'frame_04119.png', 'frame_04159.png', 'frame_04199.png', 'frame_04239.png', 'frame_04279.png', 'frame_04319.png', 'frame_04359.png', 'frame_04399.png', 'frame_04439.png', 'frame_04479.png', 'frame_04519.png', 'frame_04559.png', 'frame_04599.png', 'frame_04639.png', 'frame_04679.png', 'frame_04719.png', 'frame_04759.png', 'frame_04799.png', 'frame_04839.png', 'frame_04879.png', 'frame_04919.png', 'frame_04959.png', 'frame_04999.png', 'frame_05039.png', 'frame_05079.png', 'frame_05119.png', 'frame_05159.png', 'frame_05199.png', 'frame_05239.png', 'frame_05279.png', 'frame_05319.png', 'frame_05359.png', 'frame_05399.png', 'frame_05439.png', 'frame_05479.png', 'frame_05519.png', 'frame_05559.png', 'frame_05599.png', 'frame_05639.png', 'frame_05679.png', 'frame_05719.png', 'frame_05759.png', 'frame_05799.png', 'frame_05839.png', 'frame_05879.png', 'frame_05919.png', 'frame_05959.png', 'frame_05999.png', 'frame_06039.png', 'frame_06079.png', 'frame_06119.png', 'frame_06159.png', 'frame_06199.png', 'frame_06239.png', 'frame_06279.png', 'frame_06319.png', 'frame_06359.png', 'frame_06399.png', 'frame_06439.png', 'frame_06479.png', 'frame_06519.png', 'frame_06559.png', 'frame_06599.png', 'frame_06639.png', 'frame_06679.png', 'frame_06719.png', 'frame_06759.png', 'frame_06799.png', 'frame_06839.png', 'frame_06879.png', 'frame_06919.png', 'frame_06959.png', 'frame_06999.png', 'frame_07039.png', 'frame_07079.png', 'frame_07119.png', 'frame_07159.png', 'frame_07199.png', 'frame_07239.png', 'frame_07279.png', 'frame_07319.png', 'frame_07359.png', 'frame_07399.png', 'frame_07439.png', 'frame_07479.png', 'frame_07519.png', 'frame_07559.png', 'frame_07599.png', 'frame_07639.png', 'frame_07679.png', 'frame_07719.png', 'frame_07759.png', 'frame_07799.png', 'frame_07839.png', 'frame_07879.png', 'frame_07919.png', 'frame_07959.png', 'frame_07999.png']\n"
     ]
    }
   ],
   "source": [
    "scene = '15_damBreak'\n",
    "path = f'./images/{scene}/'\n",
    "\n",
    "fileList = os.listdir(path)\n",
    "fileList = [f for f in fileList if f.endswith('.png') and f.startswith('frame_')]\n",
    "fileList = sorted(fileList)\n",
    "print(fileList)"
   ]
  },
  {
   "cell_type": "code",
   "execution_count": 3,
   "metadata": {},
   "outputs": [],
   "source": [
    "def resizeImageLongEdge(image, longEdge):\n",
    "    height, width = image.shape[:2]\n",
    "    if height > width:\n",
    "        newHeight = longEdge\n",
    "        newWidth = int(longEdge * width / height)\n",
    "    else:\n",
    "        newWidth = longEdge\n",
    "        newHeight = int(longEdge * height / width)\n",
    "    image.resize(newHeight, newWidth, refcheck=False)\n",
    "    return image"
   ]
  },
  {
   "cell_type": "code",
   "execution_count": 4,
   "metadata": {},
   "outputs": [],
   "source": [
    "# firstFrame.shape\n",
    "# longEdge = 1200\n",
    "# # ratio = \n",
    "# aspect = firstFrame.shape[0] / firstFrame.shape[1]\n",
    "# print(aspect)\n",
    "# print(firstFrame.shape)\n",
    "\n",
    "# if aspect < 0:\n",
    "#     firstFrame = firstFrame.resize(int(longEdge * aspect), longEdge)\n",
    "# else:\n",
    "#     firstFrame = firstFrame.resize(longEdge, int(longEdge * aspect))\n",
    "# # firstFrame.resize()"
   ]
  },
  {
   "cell_type": "code",
   "execution_count": 5,
   "metadata": {},
   "outputs": [],
   "source": [
    "# imageio.help('.mp4')"
   ]
  },
  {
   "cell_type": "code",
   "execution_count": null,
   "metadata": {},
   "outputs": [],
   "source": [
    "writer = imageio.get_writer('test.mp4', fps=50, bitrate='10M')\n",
    "for image in fileList:\n",
    "    writer.append_data(imageio.imread(path + image))\n",
    "writer.close()\n",
    "\n",
    "images = []\n",
    "for image in fileList:\n",
    "    images.append(imread(path + image))\n",
    "\n",
    "currentImageSize = images[0].shape\n",
    "currentLongEdge = max(images[0].shape[0], images[0].shape[1])\n",
    "targetLongEdge = 600\n",
    "ratio = targetLongEdge / currentLongEdge\n",
    "\n",
    "images = [(rescale(image, ratio, anti_aliasing=True, channel_axis=-1)*255).astype('uint8') for image in images]\n",
    "\n",
    "# for image in images:\n",
    "    # print(image.shape)\n",
    "    # break\n",
    "\n",
    "# images = [resizeImageLongEdge(i, 600) for i in images]\n",
    "\n",
    "imageio.mimsave('test.gif', images, fps=50)"
   ]
  },
  {
   "cell_type": "code",
   "execution_count": 25,
   "metadata": {},
   "outputs": [],
   "source": [
    "from skimage.transform import resize, rescale\n",
    "from skimage.io import imread"
   ]
  },
  {
   "cell_type": "code",
   "execution_count": 37,
   "metadata": {},
   "outputs": [],
   "source": [
    "images = []\n",
    "for image in fileList:\n",
    "    images.append(imread(path + image))\n",
    "\n",
    "currentImageSize = images[0].shape\n",
    "currentLongEdge = max(images[0].shape[0], images[0].shape[1])\n",
    "targetLongEdge = 600\n",
    "ratio = targetLongEdge / currentLongEdge\n",
    "\n",
    "images = [(rescale(image, ratio, anti_aliasing=True, channel_axis=-1)*255).astype('uint8') for image in images]\n",
    "\n",
    "# for image in images:\n",
    "    # print(image.shape)\n",
    "    # break\n",
    "\n",
    "# images = [resizeImageLongEdge(i, 600) for i in images]\n",
    "\n",
    "imageio.mimsave('test.gif', images, fps=50)"
   ]
  },
  {
   "cell_type": "code",
   "execution_count": 38,
   "metadata": {},
   "outputs": [],
   "source": [
    "import pygifsicle\n",
    "pygifsicle.optimize('test.gif', 'optimized.gif')"
   ]
  },
  {
   "cell_type": "code",
   "execution_count": 32,
   "metadata": {},
   "outputs": [],
   "source": [
    "images = []\n",
    "for image in fileList:\n",
    "    images.append(imread(path + image))\n"
   ]
  },
  {
   "cell_type": "code",
   "execution_count": null,
   "metadata": {},
   "outputs": [
    {
     "name": "stdout",
     "output_type": "stream",
     "text": [
      "(400, 1200, 4)\n"
     ]
    }
   ],
   "source": [
    "\n",
    "# print(currentImageSize)"
   ]
  },
  {
   "cell_type": "code",
   "execution_count": 7,
   "metadata": {},
   "outputs": [],
   "source": [
    "writer = imageio.get_writer('test.gif', fps = 50)\n",
    "for image in fileList:\n",
    "    writer.append_data(resizeImageLongEdge(imageio.imread(path + image), 600))\n",
    "writer.close()"
   ]
  },
  {
   "cell_type": "code",
   "execution_count": null,
   "metadata": {},
   "outputs": [],
   "source": []
  }
 ],
 "metadata": {
  "kernelspec": {
   "display_name": "torchSPH",
   "language": "python",
   "name": "python3"
  },
  "language_info": {
   "codemirror_mode": {
    "name": "ipython",
    "version": 3
   },
   "file_extension": ".py",
   "mimetype": "text/x-python",
   "name": "python",
   "nbconvert_exporter": "python",
   "pygments_lexer": "ipython3",
   "version": "3.11.11"
  }
 },
 "nbformat": 4,
 "nbformat_minor": 2
}
