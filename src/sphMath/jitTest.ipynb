{
 "cells": [
  {
   "cell_type": "code",
   "execution_count": 1,
   "id": "9d016565",
   "metadata": {},
   "outputs": [],
   "source": [
    "import torch"
   ]
  },
  {
   "cell_type": "code",
   "execution_count": 7,
   "id": "fcb19fd5",
   "metadata": {},
   "outputs": [],
   "source": [
    "from typing import Union\n",
    "from sphMath.schemes.states.compressiblesph import CompressibleState\n",
    "from sphMath.schemes.states.common import BasicState\n",
    "from sphMath.schemes.states.wcsph import WeaklyCompressibleState\n",
    "\n",
    "types = Union[BasicState, CompressibleState, WeaklyCompressibleState]\n",
    "typeList = [BasicState, CompressibleState, WeaklyCompressibleState]"
   ]
  },
  {
   "cell_type": "code",
   "execution_count": 18,
   "id": "0f17a3f9",
   "metadata": {},
   "outputs": [
    {
     "ename": "RuntimeError",
     "evalue": "\ngetattr's second argument must be a string literal:\n  File \"/tmp/ipykernel_322025/1571337005.py\", line 4\ndef getAttribute(particles: Union[BasicState, CompressibleState, WeaklyCompressibleState], attribute: str):\n    if isinstance(particles, BasicState):\n        return getattr(particles, attribute)\n               ~~~~~~~~~~~~~~~~~~~~~~~~~~~~ <--- HERE\n    elif isinstance(particles, CompressibleState):\n        return getattr(particles, attribute)\n",
     "output_type": "error",
     "traceback": [
      "\u001b[0;31m---------------------------------------------------------------------------\u001b[0m",
      "\u001b[0;31mRuntimeError\u001b[0m                              Traceback (most recent call last)",
      "Cell \u001b[0;32mIn[18], line 1\u001b[0m\n\u001b[0;32m----> 1\u001b[0m \u001b[38;5;129;43m@torch\u001b[39;49m\u001b[38;5;241;43m.\u001b[39;49m\u001b[43mjit\u001b[49m\u001b[38;5;241;43m.\u001b[39;49m\u001b[43mscript\u001b[49m\n\u001b[1;32m      2\u001b[0m \u001b[38;5;28;43;01mdef\u001b[39;49;00m\u001b[38;5;250;43m \u001b[39;49m\u001b[38;5;21;43mgetAttribute\u001b[39;49m\u001b[43m(\u001b[49m\u001b[43mparticles\u001b[49m\u001b[43m:\u001b[49m\u001b[43m \u001b[49m\u001b[43mUnion\u001b[49m\u001b[43m[\u001b[49m\u001b[43mBasicState\u001b[49m\u001b[43m,\u001b[49m\u001b[43m \u001b[49m\u001b[43mCompressibleState\u001b[49m\u001b[43m,\u001b[49m\u001b[43m \u001b[49m\u001b[43mWeaklyCompressibleState\u001b[49m\u001b[43m]\u001b[49m\u001b[43m,\u001b[49m\u001b[43m \u001b[49m\u001b[43mattribute\u001b[49m\u001b[43m:\u001b[49m\u001b[43m \u001b[49m\u001b[38;5;28;43mstr\u001b[39;49m\u001b[43m)\u001b[49m\u001b[43m:\u001b[49m\n\u001b[1;32m      3\u001b[0m \u001b[43m    \u001b[49m\u001b[38;5;28;43;01mif\u001b[39;49;00m\u001b[43m \u001b[49m\u001b[38;5;28;43misinstance\u001b[39;49m\u001b[43m(\u001b[49m\u001b[43mparticles\u001b[49m\u001b[43m,\u001b[49m\u001b[43m \u001b[49m\u001b[43mBasicState\u001b[49m\u001b[43m)\u001b[49m\u001b[43m:\u001b[49m\n\u001b[1;32m      4\u001b[0m \u001b[43m        \u001b[49m\u001b[38;5;28;43;01mreturn\u001b[39;49;00m\u001b[43m \u001b[49m\u001b[38;5;28;43mgetattr\u001b[39;49m\u001b[43m(\u001b[49m\u001b[43mparticles\u001b[49m\u001b[43m,\u001b[49m\u001b[43m \u001b[49m\u001b[43mattribute\u001b[49m\u001b[43m)\u001b[49m\n",
      "File \u001b[0;32m~/anaconda3/envs/torchSPH/lib/python3.11/site-packages/torch/jit/_script.py:1429\u001b[0m, in \u001b[0;36mscript\u001b[0;34m(obj, optimize, _frames_up, _rcb, example_inputs)\u001b[0m\n\u001b[1;32m   1427\u001b[0m prev \u001b[38;5;241m=\u001b[39m _TOPLEVEL\n\u001b[1;32m   1428\u001b[0m _TOPLEVEL \u001b[38;5;241m=\u001b[39m \u001b[38;5;28;01mFalse\u001b[39;00m\n\u001b[0;32m-> 1429\u001b[0m ret \u001b[38;5;241m=\u001b[39m \u001b[43m_script_impl\u001b[49m\u001b[43m(\u001b[49m\n\u001b[1;32m   1430\u001b[0m \u001b[43m    \u001b[49m\u001b[43mobj\u001b[49m\u001b[38;5;241;43m=\u001b[39;49m\u001b[43mobj\u001b[49m\u001b[43m,\u001b[49m\n\u001b[1;32m   1431\u001b[0m \u001b[43m    \u001b[49m\u001b[43moptimize\u001b[49m\u001b[38;5;241;43m=\u001b[39;49m\u001b[43moptimize\u001b[49m\u001b[43m,\u001b[49m\n\u001b[1;32m   1432\u001b[0m \u001b[43m    \u001b[49m\u001b[43m_frames_up\u001b[49m\u001b[38;5;241;43m=\u001b[39;49m\u001b[43m_frames_up\u001b[49m\u001b[43m \u001b[49m\u001b[38;5;241;43m+\u001b[39;49m\u001b[43m \u001b[49m\u001b[38;5;241;43m1\u001b[39;49m\u001b[43m,\u001b[49m\n\u001b[1;32m   1433\u001b[0m \u001b[43m    \u001b[49m\u001b[43m_rcb\u001b[49m\u001b[38;5;241;43m=\u001b[39;49m\u001b[43m_rcb\u001b[49m\u001b[43m,\u001b[49m\n\u001b[1;32m   1434\u001b[0m \u001b[43m    \u001b[49m\u001b[43mexample_inputs\u001b[49m\u001b[38;5;241;43m=\u001b[39;49m\u001b[43mexample_inputs\u001b[49m\u001b[43m,\u001b[49m\n\u001b[1;32m   1435\u001b[0m \u001b[43m\u001b[49m\u001b[43m)\u001b[49m\n\u001b[1;32m   1437\u001b[0m \u001b[38;5;28;01mif\u001b[39;00m prev:\n\u001b[1;32m   1438\u001b[0m     log_torchscript_usage(\u001b[38;5;124m\"\u001b[39m\u001b[38;5;124mscript\u001b[39m\u001b[38;5;124m\"\u001b[39m, model_id\u001b[38;5;241m=\u001b[39m_get_model_id(ret))\n",
      "File \u001b[0;32m~/anaconda3/envs/torchSPH/lib/python3.11/site-packages/torch/jit/_script.py:1205\u001b[0m, in \u001b[0;36m_script_impl\u001b[0;34m(obj, optimize, _frames_up, _rcb, example_inputs)\u001b[0m\n\u001b[1;32m   1203\u001b[0m \u001b[38;5;28;01mif\u001b[39;00m _rcb \u001b[38;5;129;01mis\u001b[39;00m \u001b[38;5;28;01mNone\u001b[39;00m:\n\u001b[1;32m   1204\u001b[0m     _rcb \u001b[38;5;241m=\u001b[39m _jit_internal\u001b[38;5;241m.\u001b[39mcreateResolutionCallbackFromClosure(obj)\n\u001b[0;32m-> 1205\u001b[0m fn \u001b[38;5;241m=\u001b[39m \u001b[43mtorch\u001b[49m\u001b[38;5;241;43m.\u001b[39;49m\u001b[43m_C\u001b[49m\u001b[38;5;241;43m.\u001b[39;49m\u001b[43m_jit_script_compile\u001b[49m\u001b[43m(\u001b[49m\n\u001b[1;32m   1206\u001b[0m \u001b[43m    \u001b[49m\u001b[43mqualified_name\u001b[49m\u001b[43m,\u001b[49m\u001b[43m \u001b[49m\u001b[43mast\u001b[49m\u001b[43m,\u001b[49m\u001b[43m \u001b[49m\u001b[43m_rcb\u001b[49m\u001b[43m,\u001b[49m\u001b[43m \u001b[49m\u001b[43mget_default_args\u001b[49m\u001b[43m(\u001b[49m\u001b[43mobj\u001b[49m\u001b[43m)\u001b[49m\n\u001b[1;32m   1207\u001b[0m \u001b[43m\u001b[49m\u001b[43m)\u001b[49m\n\u001b[1;32m   1208\u001b[0m \u001b[38;5;66;03m# Forward docstrings\u001b[39;00m\n\u001b[1;32m   1209\u001b[0m fn\u001b[38;5;241m.\u001b[39m\u001b[38;5;18m__doc__\u001b[39m \u001b[38;5;241m=\u001b[39m obj\u001b[38;5;241m.\u001b[39m\u001b[38;5;18m__doc__\u001b[39m\n",
      "\u001b[0;31mRuntimeError\u001b[0m: \ngetattr's second argument must be a string literal:\n  File \"/tmp/ipykernel_322025/1571337005.py\", line 4\ndef getAttribute(particles: Union[BasicState, CompressibleState, WeaklyCompressibleState], attribute: str):\n    if isinstance(particles, BasicState):\n        return getattr(particles, attribute)\n               ~~~~~~~~~~~~~~~~~~~~~~~~~~~~ <--- HERE\n    elif isinstance(particles, CompressibleState):\n        return getattr(particles, attribute)\n"
     ]
    }
   ],
   "source": [
    "@torch.jit.script\n",
    "def getAttribute(particles: Union[BasicState, CompressibleState, WeaklyCompressibleState], attribute: str):\n",
    "    if isinstance(particles, BasicState):\n",
    "        return getattr(particles, attribute)\n",
    "    elif isinstance(particles, CompressibleState):\n",
    "        return getattr(particles, attribute)\n",
    "    elif isinstance(particles, WeaklyCompressibleState):\n",
    "        return getattr(particles, attribute)\n",
    "    else:\n",
    "        raise TypeError(\"Unsupported type for particles\")"
   ]
  },
  {
   "cell_type": "code",
   "execution_count": 16,
   "id": "c15d42b7",
   "metadata": {},
   "outputs": [],
   "source": [
    "state = BasicState(\n",
    "    positions = torch.tensor([0]),\n",
    "    supports = torch.tensor([0]),\n",
    "    masses = torch.tensor([0]),\n",
    "    densities = torch.tensor([0]),\n",
    "    velocities = torch.tensor([0]),\n",
    "    kinds = torch.tensor([0]),\n",
    "    materials = torch.tensor([0]),\n",
    "    UIDs = torch.tensor([0]),\n",
    ")"
   ]
  },
  {
   "cell_type": "code",
   "execution_count": 23,
   "id": "7b0c628d",
   "metadata": {},
   "outputs": [
    {
     "ename": "RuntimeError",
     "evalue": "\nArguments for call are not valid.\nThe following variants are available:\n  \n  aten::__contains__.int_list(int[] l, int item) -> bool:\n  Expected a value of type 'List[int]' for argument 'l' but instead found type 'List[__torch__.sphMath.enums.KernelCorrectionScheme]'.\n  \n  aten::__contains__.str_list(str[] l, str item) -> bool:\n  Expected a value of type 'List[str]' for argument 'l' but instead found type 'List[__torch__.sphMath.enums.KernelCorrectionScheme]'.\n  \n  aten::__contains__.str(Dict(str, t) dict, str key) -> bool:\n  Could not match type List[__torch__.sphMath.enums.KernelCorrectionScheme] to Dict[str, t] in argument 'dict': Cannot match a dict to List[__torch__.sphMath.enums.KernelCorrectionScheme].\n  \n  aten::__contains__.int(Dict(int, t) dict, int key) -> bool:\n  Could not match type List[__torch__.sphMath.enums.KernelCorrectionScheme] to Dict[int, t] in argument 'dict': Cannot match a dict to List[__torch__.sphMath.enums.KernelCorrectionScheme].\n  \n  aten::__contains__.bool(Dict(bool, t) dict, bool key) -> bool:\n  Could not match type List[__torch__.sphMath.enums.KernelCorrectionScheme] to Dict[bool, t] in argument 'dict': Cannot match a dict to List[__torch__.sphMath.enums.KernelCorrectionScheme].\n  \n  aten::__contains__.float(Dict(float, t) dict, float key) -> bool:\n  Could not match type List[__torch__.sphMath.enums.KernelCorrectionScheme] to Dict[float, t] in argument 'dict': Cannot match a dict to List[__torch__.sphMath.enums.KernelCorrectionScheme].\n  \n  aten::__contains__.complex(Dict(complex, t) dict, complex key) -> bool:\n  Could not match type List[__torch__.sphMath.enums.KernelCorrectionScheme] to Dict[complex, t] in argument 'dict': Cannot match a dict to List[__torch__.sphMath.enums.KernelCorrectionScheme].\n  \n  aten::__contains__.Tensor(Dict(Tensor, t) dict, Tensor key) -> bool:\n  Could not match type List[__torch__.sphMath.enums.KernelCorrectionScheme] to Dict[Tensor, t] in argument 'dict': Cannot match a dict to List[__torch__.sphMath.enums.KernelCorrectionScheme].\n  \n  aten::__contains__.float_list(float[] l, float item) -> bool:\n  Expected a value of type 'List[float]' for argument 'l' but instead found type 'List[__torch__.sphMath.enums.KernelCorrectionScheme]'.\n  \n  __contains__(str self, str key) -> bool:\n  Expected a value of type 'str' for argument 'self' but instead found type 'List[__torch__.sphMath.enums.KernelCorrectionScheme]'.\n\nThe original call is:\n  File \"/tmp/ipykernel_322025/798854730.py\", line 6\n@torch.jit.script\ndef test(schemes: List[KernelCorrectionScheme]):\n    if KernelCorrectionScheme.CRKSPH in schemes:\n       ~~~~~~~~~~~~~~~~~~~~~~~~~~~~~~~~~~~~~~~~ <--- HERE\n        print(\"CRKSPH is in the list\")\n",
     "output_type": "error",
     "traceback": [
      "\u001b[0;31m---------------------------------------------------------------------------\u001b[0m",
      "\u001b[0;31mRuntimeError\u001b[0m                              Traceback (most recent call last)",
      "Cell \u001b[0;32mIn[23], line 4\u001b[0m\n\u001b[1;32m      1\u001b[0m \u001b[38;5;28;01mfrom\u001b[39;00m\u001b[38;5;250m \u001b[39m\u001b[38;5;21;01msphMath\u001b[39;00m\u001b[38;5;21;01m.\u001b[39;00m\u001b[38;5;21;01menums\u001b[39;00m\u001b[38;5;250m \u001b[39m\u001b[38;5;28;01mimport\u001b[39;00m KernelCorrectionScheme\n\u001b[1;32m      2\u001b[0m \u001b[38;5;28;01mfrom\u001b[39;00m\u001b[38;5;250m \u001b[39m\u001b[38;5;21;01mtyping\u001b[39;00m\u001b[38;5;250m \u001b[39m\u001b[38;5;28;01mimport\u001b[39;00m List\n\u001b[0;32m----> 4\u001b[0m \u001b[38;5;129;43m@torch\u001b[39;49m\u001b[38;5;241;43m.\u001b[39;49m\u001b[43mjit\u001b[49m\u001b[38;5;241;43m.\u001b[39;49m\u001b[43mscript\u001b[49m\n\u001b[1;32m      5\u001b[0m \u001b[38;5;28;43;01mdef\u001b[39;49;00m\u001b[38;5;250;43m \u001b[39;49m\u001b[38;5;21;43mtest\u001b[39;49m\u001b[43m(\u001b[49m\u001b[43mschemes\u001b[49m\u001b[43m:\u001b[49m\u001b[43m \u001b[49m\u001b[43mList\u001b[49m\u001b[43m[\u001b[49m\u001b[43mKernelCorrectionScheme\u001b[49m\u001b[43m]\u001b[49m\u001b[43m)\u001b[49m\u001b[43m:\u001b[49m\n\u001b[1;32m      6\u001b[0m \u001b[43m    \u001b[49m\u001b[38;5;28;43;01mif\u001b[39;49;00m\u001b[43m \u001b[49m\u001b[43mKernelCorrectionScheme\u001b[49m\u001b[38;5;241;43m.\u001b[39;49m\u001b[43mCRKSPH\u001b[49m\u001b[43m \u001b[49m\u001b[38;5;129;43;01min\u001b[39;49;00m\u001b[43m \u001b[49m\u001b[43mschemes\u001b[49m\u001b[43m:\u001b[49m\n\u001b[1;32m      7\u001b[0m \u001b[43m        \u001b[49m\u001b[38;5;28;43mprint\u001b[39;49m\u001b[43m(\u001b[49m\u001b[38;5;124;43m\"\u001b[39;49m\u001b[38;5;124;43mCRKSPH is in the list\u001b[39;49m\u001b[38;5;124;43m\"\u001b[39;49m\u001b[43m)\u001b[49m\n",
      "File \u001b[0;32m~/anaconda3/envs/torchSPH/lib/python3.11/site-packages/torch/jit/_script.py:1429\u001b[0m, in \u001b[0;36mscript\u001b[0;34m(obj, optimize, _frames_up, _rcb, example_inputs)\u001b[0m\n\u001b[1;32m   1427\u001b[0m prev \u001b[38;5;241m=\u001b[39m _TOPLEVEL\n\u001b[1;32m   1428\u001b[0m _TOPLEVEL \u001b[38;5;241m=\u001b[39m \u001b[38;5;28;01mFalse\u001b[39;00m\n\u001b[0;32m-> 1429\u001b[0m ret \u001b[38;5;241m=\u001b[39m \u001b[43m_script_impl\u001b[49m\u001b[43m(\u001b[49m\n\u001b[1;32m   1430\u001b[0m \u001b[43m    \u001b[49m\u001b[43mobj\u001b[49m\u001b[38;5;241;43m=\u001b[39;49m\u001b[43mobj\u001b[49m\u001b[43m,\u001b[49m\n\u001b[1;32m   1431\u001b[0m \u001b[43m    \u001b[49m\u001b[43moptimize\u001b[49m\u001b[38;5;241;43m=\u001b[39;49m\u001b[43moptimize\u001b[49m\u001b[43m,\u001b[49m\n\u001b[1;32m   1432\u001b[0m \u001b[43m    \u001b[49m\u001b[43m_frames_up\u001b[49m\u001b[38;5;241;43m=\u001b[39;49m\u001b[43m_frames_up\u001b[49m\u001b[43m \u001b[49m\u001b[38;5;241;43m+\u001b[39;49m\u001b[43m \u001b[49m\u001b[38;5;241;43m1\u001b[39;49m\u001b[43m,\u001b[49m\n\u001b[1;32m   1433\u001b[0m \u001b[43m    \u001b[49m\u001b[43m_rcb\u001b[49m\u001b[38;5;241;43m=\u001b[39;49m\u001b[43m_rcb\u001b[49m\u001b[43m,\u001b[49m\n\u001b[1;32m   1434\u001b[0m \u001b[43m    \u001b[49m\u001b[43mexample_inputs\u001b[49m\u001b[38;5;241;43m=\u001b[39;49m\u001b[43mexample_inputs\u001b[49m\u001b[43m,\u001b[49m\n\u001b[1;32m   1435\u001b[0m \u001b[43m\u001b[49m\u001b[43m)\u001b[49m\n\u001b[1;32m   1437\u001b[0m \u001b[38;5;28;01mif\u001b[39;00m prev:\n\u001b[1;32m   1438\u001b[0m     log_torchscript_usage(\u001b[38;5;124m\"\u001b[39m\u001b[38;5;124mscript\u001b[39m\u001b[38;5;124m\"\u001b[39m, model_id\u001b[38;5;241m=\u001b[39m_get_model_id(ret))\n",
      "File \u001b[0;32m~/anaconda3/envs/torchSPH/lib/python3.11/site-packages/torch/jit/_script.py:1205\u001b[0m, in \u001b[0;36m_script_impl\u001b[0;34m(obj, optimize, _frames_up, _rcb, example_inputs)\u001b[0m\n\u001b[1;32m   1203\u001b[0m \u001b[38;5;28;01mif\u001b[39;00m _rcb \u001b[38;5;129;01mis\u001b[39;00m \u001b[38;5;28;01mNone\u001b[39;00m:\n\u001b[1;32m   1204\u001b[0m     _rcb \u001b[38;5;241m=\u001b[39m _jit_internal\u001b[38;5;241m.\u001b[39mcreateResolutionCallbackFromClosure(obj)\n\u001b[0;32m-> 1205\u001b[0m fn \u001b[38;5;241m=\u001b[39m \u001b[43mtorch\u001b[49m\u001b[38;5;241;43m.\u001b[39;49m\u001b[43m_C\u001b[49m\u001b[38;5;241;43m.\u001b[39;49m\u001b[43m_jit_script_compile\u001b[49m\u001b[43m(\u001b[49m\n\u001b[1;32m   1206\u001b[0m \u001b[43m    \u001b[49m\u001b[43mqualified_name\u001b[49m\u001b[43m,\u001b[49m\u001b[43m \u001b[49m\u001b[43mast\u001b[49m\u001b[43m,\u001b[49m\u001b[43m \u001b[49m\u001b[43m_rcb\u001b[49m\u001b[43m,\u001b[49m\u001b[43m \u001b[49m\u001b[43mget_default_args\u001b[49m\u001b[43m(\u001b[49m\u001b[43mobj\u001b[49m\u001b[43m)\u001b[49m\n\u001b[1;32m   1207\u001b[0m \u001b[43m\u001b[49m\u001b[43m)\u001b[49m\n\u001b[1;32m   1208\u001b[0m \u001b[38;5;66;03m# Forward docstrings\u001b[39;00m\n\u001b[1;32m   1209\u001b[0m fn\u001b[38;5;241m.\u001b[39m\u001b[38;5;18m__doc__\u001b[39m \u001b[38;5;241m=\u001b[39m obj\u001b[38;5;241m.\u001b[39m\u001b[38;5;18m__doc__\u001b[39m\n",
      "\u001b[0;31mRuntimeError\u001b[0m: \nArguments for call are not valid.\nThe following variants are available:\n  \n  aten::__contains__.int_list(int[] l, int item) -> bool:\n  Expected a value of type 'List[int]' for argument 'l' but instead found type 'List[__torch__.sphMath.enums.KernelCorrectionScheme]'.\n  \n  aten::__contains__.str_list(str[] l, str item) -> bool:\n  Expected a value of type 'List[str]' for argument 'l' but instead found type 'List[__torch__.sphMath.enums.KernelCorrectionScheme]'.\n  \n  aten::__contains__.str(Dict(str, t) dict, str key) -> bool:\n  Could not match type List[__torch__.sphMath.enums.KernelCorrectionScheme] to Dict[str, t] in argument 'dict': Cannot match a dict to List[__torch__.sphMath.enums.KernelCorrectionScheme].\n  \n  aten::__contains__.int(Dict(int, t) dict, int key) -> bool:\n  Could not match type List[__torch__.sphMath.enums.KernelCorrectionScheme] to Dict[int, t] in argument 'dict': Cannot match a dict to List[__torch__.sphMath.enums.KernelCorrectionScheme].\n  \n  aten::__contains__.bool(Dict(bool, t) dict, bool key) -> bool:\n  Could not match type List[__torch__.sphMath.enums.KernelCorrectionScheme] to Dict[bool, t] in argument 'dict': Cannot match a dict to List[__torch__.sphMath.enums.KernelCorrectionScheme].\n  \n  aten::__contains__.float(Dict(float, t) dict, float key) -> bool:\n  Could not match type List[__torch__.sphMath.enums.KernelCorrectionScheme] to Dict[float, t] in argument 'dict': Cannot match a dict to List[__torch__.sphMath.enums.KernelCorrectionScheme].\n  \n  aten::__contains__.complex(Dict(complex, t) dict, complex key) -> bool:\n  Could not match type List[__torch__.sphMath.enums.KernelCorrectionScheme] to Dict[complex, t] in argument 'dict': Cannot match a dict to List[__torch__.sphMath.enums.KernelCorrectionScheme].\n  \n  aten::__contains__.Tensor(Dict(Tensor, t) dict, Tensor key) -> bool:\n  Could not match type List[__torch__.sphMath.enums.KernelCorrectionScheme] to Dict[Tensor, t] in argument 'dict': Cannot match a dict to List[__torch__.sphMath.enums.KernelCorrectionScheme].\n  \n  aten::__contains__.float_list(float[] l, float item) -> bool:\n  Expected a value of type 'List[float]' for argument 'l' but instead found type 'List[__torch__.sphMath.enums.KernelCorrectionScheme]'.\n  \n  __contains__(str self, str key) -> bool:\n  Expected a value of type 'str' for argument 'self' but instead found type 'List[__torch__.sphMath.enums.KernelCorrectionScheme]'.\n\nThe original call is:\n  File \"/tmp/ipykernel_322025/798854730.py\", line 6\n@torch.jit.script\ndef test(schemes: List[KernelCorrectionScheme]):\n    if KernelCorrectionScheme.CRKSPH in schemes:\n       ~~~~~~~~~~~~~~~~~~~~~~~~~~~~~~~~~~~~~~~~ <--- HERE\n        print(\"CRKSPH is in the list\")\n"
     ]
    }
   ],
   "source": [
    "from sphMath.enums import KernelCorrectionScheme\n",
    "from typing import List\n",
    "\n",
    "@torch.jit.script\n",
    "def test(schemes: List[KernelCorrectionScheme]):\n",
    "    if KernelCorrectionScheme.CRKSPH in schemes:\n",
    "        print(\"CRKSPH is in the list\")"
   ]
  },
  {
   "cell_type": "code",
   "execution_count": 24,
   "id": "7a8078f8",
   "metadata": {},
   "outputs": [],
   "source": [
    "\n",
    "@torch.jit.script\n",
    "def test(schemes: List[KernelCorrectionScheme]):\n",
    "    if KernelCorrectionScheme.CRKSPH.value in [s.value for s in schemes]:\n",
    "        print(\"CRKSPH is in the list\")"
   ]
  },
  {
   "cell_type": "code",
   "execution_count": null,
   "id": "5f19d9cb",
   "metadata": {},
   "outputs": [],
   "source": []
  }
 ],
 "metadata": {
  "kernelspec": {
   "display_name": "torchSPH",
   "language": "python",
   "name": "python3"
  },
  "language_info": {
   "codemirror_mode": {
    "name": "ipython",
    "version": 3
   },
   "file_extension": ".py",
   "mimetype": "text/x-python",
   "name": "python",
   "nbconvert_exporter": "python",
   "pygments_lexer": "ipython3",
   "version": "3.11.8"
  }
 },
 "nbformat": 4,
 "nbformat_minor": 5
}
