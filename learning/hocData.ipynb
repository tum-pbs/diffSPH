{
 "cells": [
  {
   "cell_type": "code",
   "execution_count": 1,
   "id": "9343440e",
   "metadata": {},
   "outputs": [],
   "source": [
    "%matplotlib widget\n",
    "import torch\n",
    "import os\n",
    "import copy\n",
    "os.environ['TORCH_CUDA_ARCH_LIST'] = f'{torch.cuda.get_device_properties(0).major}.{torch.cuda.get_device_properties(0).minor}'\n",
    "\n",
    "import warnings\n",
    "from tqdm import TqdmExperimentalWarning\n",
    "warnings.filterwarnings(\"ignore\", category=TqdmExperimentalWarning)\n",
    "from tqdm.autonotebook import tqdm\n",
    "\n",
    "import matplotlib.pyplot as plt\n",
    "\n",
    "from sphMath.operations import sph_operation, mod\n",
    "from sphMath.sampling import buildDomainDescription, sampleRegularParticles\n",
    "from sphMath.modules.eos import idealGasEOS\n",
    "from sphMath.schema import getSimulationScheme\n",
    "from sphMath.reference.sod import buildSod_reference, sodInitialState, generateSod1D\n",
    "from sphMath.modules.adaptiveSmoothingASPH import n_h_to_nH\n",
    "from sphMath.reference.sod import plotSod\n",
    "from sphMath.enums import *"
   ]
  },
  {
   "cell_type": "code",
   "execution_count": 2,
   "id": "cb4b3d4b",
   "metadata": {},
   "outputs": [],
   "source": [
    "device = torch.device('cuda:0') if torch.cuda.is_available() else torch.device('cpu')\n",
    "device = torch.device('cpu')\n",
    "dtype = torch.float64\n",
    "\n",
    "nx = 64\n",
    "dim = 1\n",
    "kernel = KernelType.Wendland4\n",
    "targetNeighbors = n_h_to_nH(8, dim)\n",
    "CFL = 0.3\n",
    "goalRadius = 0.8\n",
    "\n",
    "nx = 256\n",
    "rho0 = 1\n",
    "E0 = 1\n",
    "gamma = 1.4\n",
    "\n",
    "scheme = SimulationScheme.CompSPH\n",
    "integrationScheme = IntegrationSchemeType.rungeKutta2\n",
    "viscositySwitch = ViscositySwitch.NoneSwitch\n",
    "supportScheme = AdaptiveSupportScheme.OwenScheme\n",
    "\n",
    "domain = buildDomainDescription(l = 1, dim = dim, periodic = True, device = device, dtype = dtype)\n",
    "domain.min = torch.tensor([0, 0], device = device, dtype = dtype)\n",
    "domain.max = torch.tensor([1, 1], device = device, dtype = dtype)\n",
    "\n",
    "simulator, SimulationSystem, solverConfig, integrator = getSimulationScheme(\n",
    "     scheme, kernel, integrationScheme, \n",
    "     gamma, targetNeighbors, domain, \n",
    "     viscositySwitch=viscositySwitch, supportScheme = supportScheme)"
   ]
  },
  {
   "cell_type": "code",
   "execution_count": 3,
   "id": "fb6c76d1",
   "metadata": {},
   "outputs": [],
   "source": [
    "import numpy as np\n",
    "# Function to sample particles such that their density equals a desired PDF\n",
    "def samplePDF(pdf, n = 2048, numParticles = 256, plot = False, randomSampling = False):\n",
    "    x = np.linspace(-1,1,n)\n",
    "    if plot:\n",
    "        fig, axis = plt.subplots(1, 1, figsize=(9,6), sharex = False, sharey = False, squeeze = False)\n",
    "\n",
    "    n = 2048\n",
    "    xs = np.linspace(-1,1,n)\n",
    "\n",
    "    if plot:\n",
    "        axis[0,0].plot(xs, pdf(xs))\n",
    "\n",
    "    normalized_pdf = lambda x: pdf(x) / np.sum(pdf(np.linspace(-1,1,n)))\n",
    "    if plot:\n",
    "        axis[0,0].plot(xs, normalized_pdf(xs))\n",
    "        axis[0,0].axhline(0,ls= '--', color = 'black')\n",
    "\n",
    "\n",
    "    xs = np.linspace(-1,1,n)\n",
    "    fxs = normalized_pdf(xs)\n",
    "    sampled_cdf = np.cumsum(fxs) - fxs[0]\n",
    "    sampled_cdf = sampled_cdf / sampled_cdf[-1] \n",
    "    inv_cdf = lambda x : np.interp(x, sampled_cdf, np.linspace(-1,1,n))\n",
    "\n",
    "    samples = np.random.uniform(size = numParticles)\n",
    "    if not randomSampling:\n",
    "        samples = np.linspace(0,1,numParticles, endpoint=False)\n",
    "    sampled = inv_cdf(samples)\n",
    "\n",
    "    return sampled"
   ]
  },
  {
   "cell_type": "code",
   "execution_count": 60,
   "id": "0ce7bae1",
   "metadata": {},
   "outputs": [],
   "source": [
    "from scipy.interpolate import RegularGridInterpolator  \n",
    "import numpy as np\n",
    "\n",
    "\n",
    "def interpolant(t):\n",
    "    return t*t*t*(t*(t*6 - 15) + 10)\n",
    "\n",
    "\n",
    "def generate_perlin_noise_2d(\n",
    "        shape, res, tileable=(False, False), interpolant=interpolant, rng = np.random.default_rng(seed=42)\n",
    "):\n",
    "    \"\"\"Generate a 2D numpy array of perlin noise.\n",
    "\n",
    "    Args:\n",
    "        shape: The shape of the generated array (tuple of two ints).\n",
    "            This must be a multple of res.\n",
    "        res: The number of periods of noise to generate along each\n",
    "            axis (tuple of two ints). Note shape must be a multiple of\n",
    "            res.\n",
    "        tileable: If the noise should be tileable along each axis\n",
    "            (tuple of two bools). Defaults to (False, False).\n",
    "        interpolant: The interpolation function, defaults to\n",
    "            t*t*t*(t*(t*6 - 15) + 10).\n",
    "\n",
    "    Returns:\n",
    "        A numpy array of shape shape with the generated noise.\n",
    "\n",
    "    Raises:\n",
    "        ValueError: If shape is not a multiple of res.\n",
    "    \"\"\"\n",
    "    delta = (res[0] / shape[0], res[1] / shape[1])\n",
    "    d = (shape[0] // res[0], shape[1] // res[1])\n",
    "    grid = np.mgrid[0:res[0]:delta[0], 0:res[1]:delta[1]]\\\n",
    "             .transpose(1, 2, 0) % 1\n",
    "    # Gradients\n",
    "    angles = 2*np.pi*rng.random((res[0]+1, res[1]+1))\n",
    "    gradients = np.dstack((np.cos(angles), np.sin(angles)))\n",
    "    if tileable[0]:\n",
    "        gradients[-1,:] = gradients[0,:]\n",
    "    if tileable[1]:\n",
    "        gradients[:,-1] = gradients[:,0]\n",
    "    gradients = gradients.repeat(d[0], 0).repeat(d[1], 1)\n",
    "    g00 = gradients[    :-d[0],    :-d[1]]\n",
    "    g10 = gradients[d[0]:     ,    :-d[1]]\n",
    "    g01 = gradients[    :-d[0],d[1]:     ]\n",
    "    g11 = gradients[d[0]:     ,d[1]:     ]\n",
    "    # Ramps\n",
    "    n00 = np.sum(np.dstack((grid[:,:,0]  , grid[:,:,1]  )) * g00, 2)\n",
    "    n10 = np.sum(np.dstack((grid[:,:,0]-1, grid[:,:,1]  )) * g10, 2)\n",
    "    n01 = np.sum(np.dstack((grid[:,:,0]  , grid[:,:,1]-1)) * g01, 2)\n",
    "    n11 = np.sum(np.dstack((grid[:,:,0]-1, grid[:,:,1]-1)) * g11, 2)\n",
    "    # Interpolation\n",
    "    t = interpolant(grid)\n",
    "    n0 = n00*(1-t[:,:,0]) + t[:,:,0]*n10\n",
    "    n1 = n01*(1-t[:,:,0]) + t[:,:,0]*n11\n",
    "    return np.sqrt(2)*((1-t[:,:,1])*n0 + t[:,:,1]*n1)\n",
    "\n",
    "\n",
    "def generate_fractal_noise_2d(\n",
    "        shape, res, octaves=1, persistence=0.5,\n",
    "        lacunarity=2, tileable=(False, False),\n",
    "        interpolant=interpolant, seed = 1337\n",
    "):\n",
    "    \"\"\"Generate a 2D numpy array of fractal noise.\n",
    "\n",
    "    Args:\n",
    "        shape: The shape of the generated array (tuple of two ints).\n",
    "            This must be a multiple of lacunarity**(octaves-1)*res.\n",
    "        res: The number of periods of noise to generate along each\n",
    "            axis (tuple of two ints). Note shape must be a multiple of\n",
    "            (lacunarity**(octaves-1)*res).\n",
    "        octaves: The number of octaves in the noise. Defaults to 1.\n",
    "        persistence: The scaling factor between two octaves.\n",
    "        lacunarity: The frequency factor between two octaves.\n",
    "        tileable: If the noise should be tileable along each axis\n",
    "            (tuple of two bools). Defaults to (False, False).\n",
    "        interpolant: The, interpolation function, defaults to\n",
    "            t*t*t*(t*(t*6 - 15) + 10).\n",
    "\n",
    "    Returns:\n",
    "        A numpy array of fractal noise and of shape shape generated by\n",
    "        combining several octaves of perlin noise.\n",
    "\n",
    "    Raises:\n",
    "        ValueError: If shape is not a multiple of\n",
    "            (lacunarity**(octaves-1)*res).\n",
    "    \"\"\"\n",
    "    rng = np.random.default_rng(seed=seed)\n",
    "    \n",
    "    noise = np.zeros(shape)\n",
    "    frequency = 1\n",
    "    amplitude = 1\n",
    "    for _ in range(octaves):\n",
    "        noise += amplitude * generate_perlin_noise_2d(\n",
    "            shape, (frequency*res[0], frequency*res[1]), tileable, interpolant, rng\n",
    "        )\n",
    "        frequency *= lacunarity\n",
    "        amplitude *= persistence\n",
    "    return noise\n",
    "\n",
    "import matplotlib.pyplot as plt\n",
    "\n",
    "def generate1DPeriodicNoise(numSamples = 1024, r = 0.75, freq = 4, octaves = 2, persistence = 0.75, lacunarity = 2, plot = False, seed = 1337):\n",
    "    noise = generate_fractal_noise_2d([numSamples*2, numSamples*2], [freq,freq], octaves, persistence = persistence, lacunarity = lacunarity, seed = seed)\n",
    "\n",
    "    interp = RegularGridInterpolator((np.linspace(-1,1,numSamples*2), np.linspace(-1,1,numSamples*2)), noise)\n",
    "    thetas = np.linspace(0, 2 * np.pi, numSamples)\n",
    "\n",
    "    x = np.cos(thetas) * r\n",
    "    y = np.sin(thetas) * r\n",
    "\n",
    "    sampled = interp(np.vstack((x,y)).transpose())\n",
    "    if plot:\n",
    "        fig, axis = plt.subplots(1, 2, figsize=(12,6), sharex = False, sharey = False, squeeze = False)\n",
    "\n",
    "        circle1 = plt.Circle((0, 0), r, color='white', ls = '--', fill = False)\n",
    "        axis[0,0].imshow(noise, extent =(-1,1,-1,1))\n",
    "        axis[0,0].add_patch(circle1)\n",
    "        axis[0,1].plot(thetas, sampled)\n",
    "\n",
    "        fig.tight_layout()\n",
    "    return sampled"
   ]
  },
  {
   "cell_type": "code",
   "execution_count": 61,
   "id": "2f6edcfb",
   "metadata": {},
   "outputs": [],
   "source": [
    "numParticles = 1024"
   ]
  },
  {
   "cell_type": "code",
   "execution_count": 62,
   "id": "6b2c3e4b",
   "metadata": {},
   "outputs": [
    {
     "name": "stdout",
     "output_type": "stream",
     "text": [
      "tensor([-1.], dtype=torch.float64) tensor([1.], dtype=torch.float64)\n"
     ]
    }
   ],
   "source": [
    "from sphMath.util import volumeToSupport\n",
    "from sphMath.sampling import ParticleSet\n",
    "domain = buildDomainDescription(l = 2, dim = dim, periodic = True, device = device, dtype = dtype)\n",
    "print(domain.min, domain.max)\n",
    "pdf = lambda x: 0.1 * np.sin(4*x * np.pi) + 2\n",
    "# pdf = lambda x: np.ones_like(x)\n",
    "\n",
    "\n",
    "# pdf = lambda x: 2 + 0.1 * np.abs(x)\n",
    "\n",
    "def pdf(x):\n",
    "    out = np.array(np.ones_like(x) * 2)\n",
    "    out[np.abs(x) > 1/3] = 1\n",
    "    return out\n",
    "\n",
    "def pdf(x):\n",
    "    x = np.array(x)\n",
    "    out = np.array(np.ones_like(x))\n",
    "    out[x > 0] = x[x>0] + 0\n",
    "    out[x < 0] = x[x<0] + 2\n",
    "    return out + 1\n",
    "\n",
    "pdf = lambda x: np.abs(x) + 1\n",
    "pdf = lambda x: 1 + np.exp(-(x * 8)**2) * 2\n",
    "pdf = lambda x: np.ones_like(np.array(x))\n",
    "\n",
    "noise  = 2 + generate1DPeriodicNoise(numSamples = numParticles, r = 0.75, freq = 1, octaves = 1, plot = False, seed = 1234) * 0.25\n",
    "pdf = lambda x : np.interp(x, np.linspace(-1,1,numParticles), noise)"
   ]
  },
  {
   "cell_type": "code",
   "execution_count": 63,
   "id": "a6fe2cee",
   "metadata": {},
   "outputs": [],
   "source": [
    "seeds = np.random.randint(0, 2**32 - 1, size = 16)"
   ]
  },
  {
   "cell_type": "code",
   "execution_count": 64,
   "id": "91ed8ccd",
   "metadata": {},
   "outputs": [
    {
     "data": {
      "application/vnd.jupyter.widget-view+json": {
       "model_id": "283a116629bb4148a94bed08a8e9f7f8",
       "version_major": 2,
       "version_minor": 0
      },
      "text/plain": [
       "  0%|          | 0/16 [00:00<?, ?it/s]"
      ]
     },
     "metadata": {},
     "output_type": "display_data"
    },
    {
     "data": {
      "application/vnd.jupyter.widget-view+json": {
       "model_id": "d0e1e95bdea1410da475f254990f3888",
       "version_major": 2,
       "version_minor": 0
      },
      "text/plain": [
       "  0%|          | 0/4 [00:00<?, ?it/s]"
      ]
     },
     "metadata": {},
     "output_type": "display_data"
    },
    {
     "data": {
      "application/vnd.jupyter.widget-view+json": {
       "model_id": "039e8125bd2942b19958916b6cb9b66c",
       "version_major": 2,
       "version_minor": 0
      },
      "text/plain": [
       "  0%|          | 0/4 [00:00<?, ?it/s]"
      ]
     },
     "metadata": {},
     "output_type": "display_data"
    },
    {
     "data": {
      "application/vnd.jupyter.widget-view+json": {
       "model_id": "32a98d0dc3334663b106280fd05df5fa",
       "version_major": 2,
       "version_minor": 0
      },
      "text/plain": [
       "  0%|          | 0/4 [00:00<?, ?it/s]"
      ]
     },
     "metadata": {},
     "output_type": "display_data"
    },
    {
     "data": {
      "application/vnd.jupyter.widget-view+json": {
       "model_id": "e091da9527dc44dc9facb00d0bdfe4a8",
       "version_major": 2,
       "version_minor": 0
      },
      "text/plain": [
       "  0%|          | 0/4 [00:00<?, ?it/s]"
      ]
     },
     "metadata": {},
     "output_type": "display_data"
    },
    {
     "data": {
      "application/vnd.jupyter.widget-view+json": {
       "model_id": "e2363a8923ff4590bf146e75de721a87",
       "version_major": 2,
       "version_minor": 0
      },
      "text/plain": [
       "  0%|          | 0/4 [00:00<?, ?it/s]"
      ]
     },
     "metadata": {},
     "output_type": "display_data"
    },
    {
     "data": {
      "application/vnd.jupyter.widget-view+json": {
       "model_id": "354cb97697ec467bb4a9c7b9360a5d76",
       "version_major": 2,
       "version_minor": 0
      },
      "text/plain": [
       "  0%|          | 0/4 [00:00<?, ?it/s]"
      ]
     },
     "metadata": {},
     "output_type": "display_data"
    },
    {
     "data": {
      "application/vnd.jupyter.widget-view+json": {
       "model_id": "b2d292e1af354265945df734574e151a",
       "version_major": 2,
       "version_minor": 0
      },
      "text/plain": [
       "  0%|          | 0/4 [00:00<?, ?it/s]"
      ]
     },
     "metadata": {},
     "output_type": "display_data"
    },
    {
     "data": {
      "application/vnd.jupyter.widget-view+json": {
       "model_id": "c24177c9dc5042c58655773256f016fa",
       "version_major": 2,
       "version_minor": 0
      },
      "text/plain": [
       "  0%|          | 0/4 [00:00<?, ?it/s]"
      ]
     },
     "metadata": {},
     "output_type": "display_data"
    },
    {
     "data": {
      "application/vnd.jupyter.widget-view+json": {
       "model_id": "863feac2425740cc8f3246e69ea1cc14",
       "version_major": 2,
       "version_minor": 0
      },
      "text/plain": [
       "  0%|          | 0/4 [00:00<?, ?it/s]"
      ]
     },
     "metadata": {},
     "output_type": "display_data"
    },
    {
     "data": {
      "application/vnd.jupyter.widget-view+json": {
       "model_id": "7a9d104877d94117ae58c84fe85b5451",
       "version_major": 2,
       "version_minor": 0
      },
      "text/plain": [
       "  0%|          | 0/4 [00:00<?, ?it/s]"
      ]
     },
     "metadata": {},
     "output_type": "display_data"
    },
    {
     "data": {
      "application/vnd.jupyter.widget-view+json": {
       "model_id": "d02b609c8a8b4793a48159d9c88fc8c8",
       "version_major": 2,
       "version_minor": 0
      },
      "text/plain": [
       "  0%|          | 0/4 [00:00<?, ?it/s]"
      ]
     },
     "metadata": {},
     "output_type": "display_data"
    },
    {
     "data": {
      "application/vnd.jupyter.widget-view+json": {
       "model_id": "b398a18edd674184941eb50fc500ee10",
       "version_major": 2,
       "version_minor": 0
      },
      "text/plain": [
       "  0%|          | 0/4 [00:00<?, ?it/s]"
      ]
     },
     "metadata": {},
     "output_type": "display_data"
    },
    {
     "data": {
      "application/vnd.jupyter.widget-view+json": {
       "model_id": "b0dcbdb5aa6c49d8ae3c5ab4ed92cacb",
       "version_major": 2,
       "version_minor": 0
      },
      "text/plain": [
       "  0%|          | 0/4 [00:00<?, ?it/s]"
      ]
     },
     "metadata": {},
     "output_type": "display_data"
    },
    {
     "data": {
      "application/vnd.jupyter.widget-view+json": {
       "model_id": "b810f9fe947d44c0aaeaf74b7b8efaa8",
       "version_major": 2,
       "version_minor": 0
      },
      "text/plain": [
       "  0%|          | 0/4 [00:00<?, ?it/s]"
      ]
     },
     "metadata": {},
     "output_type": "display_data"
    },
    {
     "data": {
      "application/vnd.jupyter.widget-view+json": {
       "model_id": "cca3e3c51cf744cc8b7f4786cee7ecf0",
       "version_major": 2,
       "version_minor": 0
      },
      "text/plain": [
       "  0%|          | 0/4 [00:00<?, ?it/s]"
      ]
     },
     "metadata": {},
     "output_type": "display_data"
    },
    {
     "data": {
      "application/vnd.jupyter.widget-view+json": {
       "model_id": "d6d57685ec494ba1a4b3648b840b0e3f",
       "version_major": 2,
       "version_minor": 0
      },
      "text/plain": [
       "  0%|          | 0/4 [00:00<?, ?it/s]"
      ]
     },
     "metadata": {},
     "output_type": "display_data"
    },
    {
     "data": {
      "application/vnd.jupyter.widget-view+json": {
       "model_id": "12ea59c852074ca6b1b84f848040852e",
       "version_major": 2,
       "version_minor": 0
      },
      "text/plain": [
       "  0%|          | 0/4 [00:00<?, ?it/s]"
      ]
     },
     "metadata": {},
     "output_type": "display_data"
    },
    {
     "data": {
      "application/vnd.jupyter.widget-view+json": {
       "model_id": "3f2a3d3b85a94e7f982d11b7d26426b7",
       "version_major": 2,
       "version_minor": 0
      },
      "text/plain": [
       "  0%|          | 0/4 [00:00<?, ?it/s]"
      ]
     },
     "metadata": {},
     "output_type": "display_data"
    },
    {
     "data": {
      "application/vnd.jupyter.widget-view+json": {
       "model_id": "bbfeb56fb09749bd8a8fc1aaa858dc01",
       "version_major": 2,
       "version_minor": 0
      },
      "text/plain": [
       "  0%|          | 0/4 [00:00<?, ?it/s]"
      ]
     },
     "metadata": {},
     "output_type": "display_data"
    },
    {
     "data": {
      "application/vnd.jupyter.widget-view+json": {
       "model_id": "637ab251f83c4931b2c8116e3132690e",
       "version_major": 2,
       "version_minor": 0
      },
      "text/plain": [
       "  0%|          | 0/4 [00:00<?, ?it/s]"
      ]
     },
     "metadata": {},
     "output_type": "display_data"
    },
    {
     "data": {
      "application/vnd.jupyter.widget-view+json": {
       "model_id": "4971a9501ddf4dfeb1a3686ad74e95f3",
       "version_major": 2,
       "version_minor": 0
      },
      "text/plain": [
       "  0%|          | 0/4 [00:00<?, ?it/s]"
      ]
     },
     "metadata": {},
     "output_type": "display_data"
    },
    {
     "data": {
      "application/vnd.jupyter.widget-view+json": {
       "model_id": "ac129828721e48bd82a42ecc255c2973",
       "version_major": 2,
       "version_minor": 0
      },
      "text/plain": [
       "  0%|          | 0/4 [00:00<?, ?it/s]"
      ]
     },
     "metadata": {},
     "output_type": "display_data"
    },
    {
     "data": {
      "application/vnd.jupyter.widget-view+json": {
       "model_id": "9cd440b401d6472b986962bec6e143f8",
       "version_major": 2,
       "version_minor": 0
      },
      "text/plain": [
       "  0%|          | 0/4 [00:00<?, ?it/s]"
      ]
     },
     "metadata": {},
     "output_type": "display_data"
    },
    {
     "data": {
      "application/vnd.jupyter.widget-view+json": {
       "model_id": "3cb2c5d9aa5740df9db3125067b1315d",
       "version_major": 2,
       "version_minor": 0
      },
      "text/plain": [
       "  0%|          | 0/4 [00:00<?, ?it/s]"
      ]
     },
     "metadata": {},
     "output_type": "display_data"
    },
    {
     "data": {
      "application/vnd.jupyter.widget-view+json": {
       "model_id": "196d74d0330c4ae4b20c014510d37fc0",
       "version_major": 2,
       "version_minor": 0
      },
      "text/plain": [
       "  0%|          | 0/4 [00:00<?, ?it/s]"
      ]
     },
     "metadata": {},
     "output_type": "display_data"
    },
    {
     "data": {
      "application/vnd.jupyter.widget-view+json": {
       "model_id": "805c4927b28346609eacc3031bc87611",
       "version_major": 2,
       "version_minor": 0
      },
      "text/plain": [
       "  0%|          | 0/4 [00:00<?, ?it/s]"
      ]
     },
     "metadata": {},
     "output_type": "display_data"
    },
    {
     "data": {
      "application/vnd.jupyter.widget-view+json": {
       "model_id": "ee027819104a45748ce1803f84f02420",
       "version_major": 2,
       "version_minor": 0
      },
      "text/plain": [
       "  0%|          | 0/4 [00:00<?, ?it/s]"
      ]
     },
     "metadata": {},
     "output_type": "display_data"
    },
    {
     "data": {
      "application/vnd.jupyter.widget-view+json": {
       "model_id": "1cc62b2a9339404ca24247f033a73834",
       "version_major": 2,
       "version_minor": 0
      },
      "text/plain": [
       "  0%|          | 0/4 [00:00<?, ?it/s]"
      ]
     },
     "metadata": {},
     "output_type": "display_data"
    },
    {
     "data": {
      "application/vnd.jupyter.widget-view+json": {
       "model_id": "63d058dc487348e0802cb84cda3f26f2",
       "version_major": 2,
       "version_minor": 0
      },
      "text/plain": [
       "  0%|          | 0/4 [00:00<?, ?it/s]"
      ]
     },
     "metadata": {},
     "output_type": "display_data"
    },
    {
     "data": {
      "application/vnd.jupyter.widget-view+json": {
       "model_id": "e454d42b97664bfc894509b15babe5e8",
       "version_major": 2,
       "version_minor": 0
      },
      "text/plain": [
       "  0%|          | 0/4 [00:00<?, ?it/s]"
      ]
     },
     "metadata": {},
     "output_type": "display_data"
    },
    {
     "data": {
      "application/vnd.jupyter.widget-view+json": {
       "model_id": "8696e9a540114849aba6551267336d46",
       "version_major": 2,
       "version_minor": 0
      },
      "text/plain": [
       "  0%|          | 0/4 [00:00<?, ?it/s]"
      ]
     },
     "metadata": {},
     "output_type": "display_data"
    },
    {
     "data": {
      "application/vnd.jupyter.widget-view+json": {
       "model_id": "66ab828ecca1449b99e07eeb6d5f539c",
       "version_major": 2,
       "version_minor": 0
      },
      "text/plain": [
       "  0%|          | 0/4 [00:00<?, ?it/s]"
      ]
     },
     "metadata": {},
     "output_type": "display_data"
    },
    {
     "data": {
      "application/vnd.jupyter.widget-view+json": {
       "model_id": "2b8355d7e66d4731b77c529ed37338d4",
       "version_major": 2,
       "version_minor": 0
      },
      "text/plain": [
       "  0%|          | 0/4 [00:00<?, ?it/s]"
      ]
     },
     "metadata": {},
     "output_type": "display_data"
    },
    {
     "data": {
      "application/vnd.jupyter.widget-view+json": {
       "model_id": "2681f0ca6b49433da34cfa567054c98d",
       "version_major": 2,
       "version_minor": 0
      },
      "text/plain": [
       "  0%|          | 0/4 [00:00<?, ?it/s]"
      ]
     },
     "metadata": {},
     "output_type": "display_data"
    },
    {
     "data": {
      "application/vnd.jupyter.widget-view+json": {
       "model_id": "7e2416eb11ce435396321fa3bb1580fc",
       "version_major": 2,
       "version_minor": 0
      },
      "text/plain": [
       "  0%|          | 0/4 [00:00<?, ?it/s]"
      ]
     },
     "metadata": {},
     "output_type": "display_data"
    },
    {
     "data": {
      "application/vnd.jupyter.widget-view+json": {
       "model_id": "c088a793c1424529977749fe34f944c2",
       "version_major": 2,
       "version_minor": 0
      },
      "text/plain": [
       "  0%|          | 0/4 [00:00<?, ?it/s]"
      ]
     },
     "metadata": {},
     "output_type": "display_data"
    },
    {
     "data": {
      "application/vnd.jupyter.widget-view+json": {
       "model_id": "cbfb5da15e71451287def5fff0e821b5",
       "version_major": 2,
       "version_minor": 0
      },
      "text/plain": [
       "  0%|          | 0/4 [00:00<?, ?it/s]"
      ]
     },
     "metadata": {},
     "output_type": "display_data"
    },
    {
     "data": {
      "application/vnd.jupyter.widget-view+json": {
       "model_id": "df580eb0df7c43fab48e60bef4f39870",
       "version_major": 2,
       "version_minor": 0
      },
      "text/plain": [
       "  0%|          | 0/4 [00:00<?, ?it/s]"
      ]
     },
     "metadata": {},
     "output_type": "display_data"
    },
    {
     "data": {
      "application/vnd.jupyter.widget-view+json": {
       "model_id": "df9ad4cb8ba84c1080077404e3ac7bf8",
       "version_major": 2,
       "version_minor": 0
      },
      "text/plain": [
       "  0%|          | 0/4 [00:00<?, ?it/s]"
      ]
     },
     "metadata": {},
     "output_type": "display_data"
    },
    {
     "data": {
      "application/vnd.jupyter.widget-view+json": {
       "model_id": "afc90c2fb1c440aaab79b73c41db8b7a",
       "version_major": 2,
       "version_minor": 0
      },
      "text/plain": [
       "  0%|          | 0/4 [00:00<?, ?it/s]"
      ]
     },
     "metadata": {},
     "output_type": "display_data"
    },
    {
     "data": {
      "application/vnd.jupyter.widget-view+json": {
       "model_id": "839a380a1e2c41ca8e0a0618ac4ef775",
       "version_major": 2,
       "version_minor": 0
      },
      "text/plain": [
       "  0%|          | 0/4 [00:00<?, ?it/s]"
      ]
     },
     "metadata": {},
     "output_type": "display_data"
    },
    {
     "data": {
      "application/vnd.jupyter.widget-view+json": {
       "model_id": "87d3763572fb420f908ae1eafe5e9801",
       "version_major": 2,
       "version_minor": 0
      },
      "text/plain": [
       "  0%|          | 0/4 [00:00<?, ?it/s]"
      ]
     },
     "metadata": {},
     "output_type": "display_data"
    },
    {
     "data": {
      "application/vnd.jupyter.widget-view+json": {
       "model_id": "e0e39453083c4c4699fcb5083dbb4fda",
       "version_major": 2,
       "version_minor": 0
      },
      "text/plain": [
       "  0%|          | 0/4 [00:00<?, ?it/s]"
      ]
     },
     "metadata": {},
     "output_type": "display_data"
    },
    {
     "data": {
      "application/vnd.jupyter.widget-view+json": {
       "model_id": "32db6498d9d245219ec171cff1d54fce",
       "version_major": 2,
       "version_minor": 0
      },
      "text/plain": [
       "  0%|          | 0/4 [00:00<?, ?it/s]"
      ]
     },
     "metadata": {},
     "output_type": "display_data"
    },
    {
     "data": {
      "application/vnd.jupyter.widget-view+json": {
       "model_id": "e6136f66bb0849f2af9ab779f1379820",
       "version_major": 2,
       "version_minor": 0
      },
      "text/plain": [
       "  0%|          | 0/4 [00:00<?, ?it/s]"
      ]
     },
     "metadata": {},
     "output_type": "display_data"
    },
    {
     "data": {
      "application/vnd.jupyter.widget-view+json": {
       "model_id": "8969878497c84e6ab9b2f00f81e930ca",
       "version_major": 2,
       "version_minor": 0
      },
      "text/plain": [
       "  0%|          | 0/4 [00:00<?, ?it/s]"
      ]
     },
     "metadata": {},
     "output_type": "display_data"
    },
    {
     "data": {
      "application/vnd.jupyter.widget-view+json": {
       "model_id": "2da3b1135bed4c2281f359ac070813a1",
       "version_major": 2,
       "version_minor": 0
      },
      "text/plain": [
       "  0%|          | 0/4 [00:00<?, ?it/s]"
      ]
     },
     "metadata": {},
     "output_type": "display_data"
    },
    {
     "data": {
      "application/vnd.jupyter.widget-view+json": {
       "model_id": "48bd06754be243ca9b5bbc234b2382f8",
       "version_major": 2,
       "version_minor": 0
      },
      "text/plain": [
       "  0%|          | 0/4 [00:00<?, ?it/s]"
      ]
     },
     "metadata": {},
     "output_type": "display_data"
    },
    {
     "data": {
      "application/vnd.jupyter.widget-view+json": {
       "model_id": "ac5503bdeab34bf2bf1e6cc6c62c35ce",
       "version_major": 2,
       "version_minor": 0
      },
      "text/plain": [
       "  0%|          | 0/4 [00:00<?, ?it/s]"
      ]
     },
     "metadata": {},
     "output_type": "display_data"
    },
    {
     "data": {
      "application/vnd.jupyter.widget-view+json": {
       "model_id": "3f816fbfc7b34e76aa9e7d5e8a0a6ec9",
       "version_major": 2,
       "version_minor": 0
      },
      "text/plain": [
       "  0%|          | 0/4 [00:00<?, ?it/s]"
      ]
     },
     "metadata": {},
     "output_type": "display_data"
    },
    {
     "data": {
      "application/vnd.jupyter.widget-view+json": {
       "model_id": "e14a17ba819e41a9849d876661e4221f",
       "version_major": 2,
       "version_minor": 0
      },
      "text/plain": [
       "  0%|          | 0/4 [00:00<?, ?it/s]"
      ]
     },
     "metadata": {},
     "output_type": "display_data"
    },
    {
     "data": {
      "application/vnd.jupyter.widget-view+json": {
       "model_id": "04c3886e52064a249f34d75494642ab4",
       "version_major": 2,
       "version_minor": 0
      },
      "text/plain": [
       "  0%|          | 0/4 [00:00<?, ?it/s]"
      ]
     },
     "metadata": {},
     "output_type": "display_data"
    },
    {
     "data": {
      "application/vnd.jupyter.widget-view+json": {
       "model_id": "93013f28a9b24ddfa20381337021d65e",
       "version_major": 2,
       "version_minor": 0
      },
      "text/plain": [
       "  0%|          | 0/4 [00:00<?, ?it/s]"
      ]
     },
     "metadata": {},
     "output_type": "display_data"
    },
    {
     "data": {
      "application/vnd.jupyter.widget-view+json": {
       "model_id": "754f94c2e0374a298acf0a2d0162ae98",
       "version_major": 2,
       "version_minor": 0
      },
      "text/plain": [
       "  0%|          | 0/4 [00:00<?, ?it/s]"
      ]
     },
     "metadata": {},
     "output_type": "display_data"
    },
    {
     "data": {
      "application/vnd.jupyter.widget-view+json": {
       "model_id": "4ceb176416284f1680bf1b34226d49d9",
       "version_major": 2,
       "version_minor": 0
      },
      "text/plain": [
       "  0%|          | 0/4 [00:00<?, ?it/s]"
      ]
     },
     "metadata": {},
     "output_type": "display_data"
    },
    {
     "data": {
      "application/vnd.jupyter.widget-view+json": {
       "model_id": "795be13461314c3bac09507e744fe086",
       "version_major": 2,
       "version_minor": 0
      },
      "text/plain": [
       "  0%|          | 0/4 [00:00<?, ?it/s]"
      ]
     },
     "metadata": {},
     "output_type": "display_data"
    },
    {
     "data": {
      "application/vnd.jupyter.widget-view+json": {
       "model_id": "2159f7bafbe249319f430af51a9e53e9",
       "version_major": 2,
       "version_minor": 0
      },
      "text/plain": [
       "  0%|          | 0/4 [00:00<?, ?it/s]"
      ]
     },
     "metadata": {},
     "output_type": "display_data"
    },
    {
     "data": {
      "application/vnd.jupyter.widget-view+json": {
       "model_id": "807573e9f64c40d38b6f9d02a2f9e262",
       "version_major": 2,
       "version_minor": 0
      },
      "text/plain": [
       "  0%|          | 0/4 [00:00<?, ?it/s]"
      ]
     },
     "metadata": {},
     "output_type": "display_data"
    },
    {
     "data": {
      "application/vnd.jupyter.widget-view+json": {
       "model_id": "1f54f2775d9847bb9816f43a912ef142",
       "version_major": 2,
       "version_minor": 0
      },
      "text/plain": [
       "  0%|          | 0/4 [00:00<?, ?it/s]"
      ]
     },
     "metadata": {},
     "output_type": "display_data"
    },
    {
     "data": {
      "application/vnd.jupyter.widget-view+json": {
       "model_id": "21ed78ac5b5144379bc1710018212232",
       "version_major": 2,
       "version_minor": 0
      },
      "text/plain": [
       "  0%|          | 0/4 [00:00<?, ?it/s]"
      ]
     },
     "metadata": {},
     "output_type": "display_data"
    },
    {
     "data": {
      "application/vnd.jupyter.widget-view+json": {
       "model_id": "723086bc1bde44dd8c90ab3e89b690bb",
       "version_major": 2,
       "version_minor": 0
      },
      "text/plain": [
       "  0%|          | 0/4 [00:00<?, ?it/s]"
      ]
     },
     "metadata": {},
     "output_type": "display_data"
    },
    {
     "data": {
      "application/vnd.jupyter.widget-view+json": {
       "model_id": "87585827ca69481db5aef23a14daa4a3",
       "version_major": 2,
       "version_minor": 0
      },
      "text/plain": [
       "  0%|          | 0/4 [00:00<?, ?it/s]"
      ]
     },
     "metadata": {},
     "output_type": "display_data"
    },
    {
     "data": {
      "application/vnd.jupyter.widget-view+json": {
       "model_id": "89be439789fc4071bccd11f3c12ae347",
       "version_major": 2,
       "version_minor": 0
      },
      "text/plain": [
       "  0%|          | 0/4 [00:00<?, ?it/s]"
      ]
     },
     "metadata": {},
     "output_type": "display_data"
    },
    {
     "data": {
      "application/vnd.jupyter.widget-view+json": {
       "model_id": "89ffff8f10034905b08ec310694cf9b2",
       "version_major": 2,
       "version_minor": 0
      },
      "text/plain": [
       "  0%|          | 0/4 [00:00<?, ?it/s]"
      ]
     },
     "metadata": {},
     "output_type": "display_data"
    },
    {
     "data": {
      "application/vnd.jupyter.widget-view+json": {
       "model_id": "05ae32edbb624cd3bc3baeea2ff96424",
       "version_major": 2,
       "version_minor": 0
      },
      "text/plain": [
       "  0%|          | 0/4 [00:00<?, ?it/s]"
      ]
     },
     "metadata": {},
     "output_type": "display_data"
    },
    {
     "data": {
      "application/vnd.jupyter.widget-view+json": {
       "model_id": "d8470e3bd15e433f97d35fcde9753946",
       "version_major": 2,
       "version_minor": 0
      },
      "text/plain": [
       "  0%|          | 0/4 [00:00<?, ?it/s]"
      ]
     },
     "metadata": {},
     "output_type": "display_data"
    },
    {
     "data": {
      "application/vnd.jupyter.widget-view+json": {
       "model_id": "4bf412f0f76a40b08974d46c31497456",
       "version_major": 2,
       "version_minor": 0
      },
      "text/plain": [
       "  0%|          | 0/4 [00:00<?, ?it/s]"
      ]
     },
     "metadata": {},
     "output_type": "display_data"
    },
    {
     "data": {
      "application/vnd.jupyter.widget-view+json": {
       "model_id": "ba752e4db5fe46a5b7741ea5531a89a8",
       "version_major": 2,
       "version_minor": 0
      },
      "text/plain": [
       "  0%|          | 0/4 [00:00<?, ?it/s]"
      ]
     },
     "metadata": {},
     "output_type": "display_data"
    },
    {
     "data": {
      "application/vnd.jupyter.widget-view+json": {
       "model_id": "4b12c0596267496c9c7863bedd7a81ad",
       "version_major": 2,
       "version_minor": 0
      },
      "text/plain": [
       "  0%|          | 0/4 [00:00<?, ?it/s]"
      ]
     },
     "metadata": {},
     "output_type": "display_data"
    },
    {
     "data": {
      "application/vnd.jupyter.widget-view+json": {
       "model_id": "732e3459982f44788e7dda822df9f9d4",
       "version_major": 2,
       "version_minor": 0
      },
      "text/plain": [
       "  0%|          | 0/4 [00:00<?, ?it/s]"
      ]
     },
     "metadata": {},
     "output_type": "display_data"
    },
    {
     "data": {
      "application/vnd.jupyter.widget-view+json": {
       "model_id": "f55a2e2131c24397a97dc1961b4ca1fa",
       "version_major": 2,
       "version_minor": 0
      },
      "text/plain": [
       "  0%|          | 0/4 [00:00<?, ?it/s]"
      ]
     },
     "metadata": {},
     "output_type": "display_data"
    },
    {
     "data": {
      "application/vnd.jupyter.widget-view+json": {
       "model_id": "d7b472d93b3846799d7e913d2f11303f",
       "version_major": 2,
       "version_minor": 0
      },
      "text/plain": [
       "  0%|          | 0/4 [00:00<?, ?it/s]"
      ]
     },
     "metadata": {},
     "output_type": "display_data"
    },
    {
     "data": {
      "application/vnd.jupyter.widget-view+json": {
       "model_id": "1c997ae2ac3a43d39f349344ccd1b918",
       "version_major": 2,
       "version_minor": 0
      },
      "text/plain": [
       "  0%|          | 0/4 [00:00<?, ?it/s]"
      ]
     },
     "metadata": {},
     "output_type": "display_data"
    },
    {
     "data": {
      "application/vnd.jupyter.widget-view+json": {
       "model_id": "9dd2af623c964744838955f76ba1d086",
       "version_major": 2,
       "version_minor": 0
      },
      "text/plain": [
       "  0%|          | 0/4 [00:00<?, ?it/s]"
      ]
     },
     "metadata": {},
     "output_type": "display_data"
    },
    {
     "data": {
      "application/vnd.jupyter.widget-view+json": {
       "model_id": "379404c1664a46e1b9ff92ac36100d68",
       "version_major": 2,
       "version_minor": 0
      },
      "text/plain": [
       "  0%|          | 0/4 [00:00<?, ?it/s]"
      ]
     },
     "metadata": {},
     "output_type": "display_data"
    },
    {
     "data": {
      "application/vnd.jupyter.widget-view+json": {
       "model_id": "d5fd443846ca4e1b9c1d54a625b0d4b1",
       "version_major": 2,
       "version_minor": 0
      },
      "text/plain": [
       "  0%|          | 0/4 [00:00<?, ?it/s]"
      ]
     },
     "metadata": {},
     "output_type": "display_data"
    },
    {
     "data": {
      "application/vnd.jupyter.widget-view+json": {
       "model_id": "bbaafa18afea4881a3fc14ec9c780c76",
       "version_major": 2,
       "version_minor": 0
      },
      "text/plain": [
       "  0%|          | 0/4 [00:00<?, ?it/s]"
      ]
     },
     "metadata": {},
     "output_type": "display_data"
    },
    {
     "data": {
      "application/vnd.jupyter.widget-view+json": {
       "model_id": "ba5d8239522e48619a95a3b5f56d9c73",
       "version_major": 2,
       "version_minor": 0
      },
      "text/plain": [
       "  0%|          | 0/4 [00:00<?, ?it/s]"
      ]
     },
     "metadata": {},
     "output_type": "display_data"
    },
    {
     "data": {
      "application/vnd.jupyter.widget-view+json": {
       "model_id": "e0419b2088e64b29a5db482b1fd7c724",
       "version_major": 2,
       "version_minor": 0
      },
      "text/plain": [
       "  0%|          | 0/4 [00:00<?, ?it/s]"
      ]
     },
     "metadata": {},
     "output_type": "display_data"
    },
    {
     "data": {
      "application/vnd.jupyter.widget-view+json": {
       "model_id": "4060748007fe49d5ac2f58c0b32a1186",
       "version_major": 2,
       "version_minor": 0
      },
      "text/plain": [
       "  0%|          | 0/4 [00:00<?, ?it/s]"
      ]
     },
     "metadata": {},
     "output_type": "display_data"
    },
    {
     "data": {
      "application/vnd.jupyter.widget-view+json": {
       "model_id": "b8128b98b0f246a8b93b3dd09dcb6495",
       "version_major": 2,
       "version_minor": 0
      },
      "text/plain": [
       "  0%|          | 0/4 [00:00<?, ?it/s]"
      ]
     },
     "metadata": {},
     "output_type": "display_data"
    },
    {
     "data": {
      "application/vnd.jupyter.widget-view+json": {
       "model_id": "5316ed9452744cfd89769355fd4f0cec",
       "version_major": 2,
       "version_minor": 0
      },
      "text/plain": [
       "  0%|          | 0/4 [00:00<?, ?it/s]"
      ]
     },
     "metadata": {},
     "output_type": "display_data"
    },
    {
     "data": {
      "application/vnd.jupyter.widget-view+json": {
       "model_id": "35c5e8d3a2dd422ba9ded4575275a77e",
       "version_major": 2,
       "version_minor": 0
      },
      "text/plain": [
       "  0%|          | 0/4 [00:00<?, ?it/s]"
      ]
     },
     "metadata": {},
     "output_type": "display_data"
    },
    {
     "data": {
      "application/vnd.jupyter.widget-view+json": {
       "model_id": "94b0bfd6e66141239ada1c80b9eef05b",
       "version_major": 2,
       "version_minor": 0
      },
      "text/plain": [
       "  0%|          | 0/4 [00:00<?, ?it/s]"
      ]
     },
     "metadata": {},
     "output_type": "display_data"
    },
    {
     "data": {
      "application/vnd.jupyter.widget-view+json": {
       "model_id": "52adc1f359c3477a8b48857852aadfa5",
       "version_major": 2,
       "version_minor": 0
      },
      "text/plain": [
       "  0%|          | 0/4 [00:00<?, ?it/s]"
      ]
     },
     "metadata": {},
     "output_type": "display_data"
    },
    {
     "data": {
      "application/vnd.jupyter.widget-view+json": {
       "model_id": "5c28959441dc4cceaa00756e54ba67ed",
       "version_major": 2,
       "version_minor": 0
      },
      "text/plain": [
       "  0%|          | 0/4 [00:00<?, ?it/s]"
      ]
     },
     "metadata": {},
     "output_type": "display_data"
    },
    {
     "data": {
      "application/vnd.jupyter.widget-view+json": {
       "model_id": "aaacdaaceaf348e2a3341b7fbe9b623f",
       "version_major": 2,
       "version_minor": 0
      },
      "text/plain": [
       "  0%|          | 0/4 [00:00<?, ?it/s]"
      ]
     },
     "metadata": {},
     "output_type": "display_data"
    },
    {
     "data": {
      "application/vnd.jupyter.widget-view+json": {
       "model_id": "e337fdddd7984e789bbf263b08a52135",
       "version_major": 2,
       "version_minor": 0
      },
      "text/plain": [
       "  0%|          | 0/4 [00:00<?, ?it/s]"
      ]
     },
     "metadata": {},
     "output_type": "display_data"
    },
    {
     "data": {
      "application/vnd.jupyter.widget-view+json": {
       "model_id": "60d748d96883458babd0a212eee8e43c",
       "version_major": 2,
       "version_minor": 0
      },
      "text/plain": [
       "  0%|          | 0/4 [00:00<?, ?it/s]"
      ]
     },
     "metadata": {},
     "output_type": "display_data"
    },
    {
     "data": {
      "application/vnd.jupyter.widget-view+json": {
       "model_id": "6fb8bb9f0f144ee1aa25dbbf397fc23f",
       "version_major": 2,
       "version_minor": 0
      },
      "text/plain": [
       "  0%|          | 0/4 [00:00<?, ?it/s]"
      ]
     },
     "metadata": {},
     "output_type": "display_data"
    },
    {
     "data": {
      "application/vnd.jupyter.widget-view+json": {
       "model_id": "96f28bc8f2e440b7800f34811ccdb3b1",
       "version_major": 2,
       "version_minor": 0
      },
      "text/plain": [
       "  0%|          | 0/4 [00:00<?, ?it/s]"
      ]
     },
     "metadata": {},
     "output_type": "display_data"
    },
    {
     "data": {
      "application/vnd.jupyter.widget-view+json": {
       "model_id": "7a522a97ff724bd1a81518321f02d110",
       "version_major": 2,
       "version_minor": 0
      },
      "text/plain": [
       "  0%|          | 0/4 [00:00<?, ?it/s]"
      ]
     },
     "metadata": {},
     "output_type": "display_data"
    },
    {
     "data": {
      "application/vnd.jupyter.widget-view+json": {
       "model_id": "d5a383c9247e4891b170f90df7ea46bf",
       "version_major": 2,
       "version_minor": 0
      },
      "text/plain": [
       "  0%|          | 0/4 [00:00<?, ?it/s]"
      ]
     },
     "metadata": {},
     "output_type": "display_data"
    },
    {
     "data": {
      "application/vnd.jupyter.widget-view+json": {
       "model_id": "fdda406d0ba9493e88f379464904c08e",
       "version_major": 2,
       "version_minor": 0
      },
      "text/plain": [
       "  0%|          | 0/4 [00:00<?, ?it/s]"
      ]
     },
     "metadata": {},
     "output_type": "display_data"
    },
    {
     "data": {
      "application/vnd.jupyter.widget-view+json": {
       "model_id": "1e10e17e649f49909913aeaf937e6764",
       "version_major": 2,
       "version_minor": 0
      },
      "text/plain": [
       "  0%|          | 0/4 [00:00<?, ?it/s]"
      ]
     },
     "metadata": {},
     "output_type": "display_data"
    },
    {
     "data": {
      "application/vnd.jupyter.widget-view+json": {
       "model_id": "dda6629a3c46422fb9e2ded8294941d9",
       "version_major": 2,
       "version_minor": 0
      },
      "text/plain": [
       "  0%|          | 0/4 [00:00<?, ?it/s]"
      ]
     },
     "metadata": {},
     "output_type": "display_data"
    },
    {
     "data": {
      "application/vnd.jupyter.widget-view+json": {
       "model_id": "d11f44ab1d044c65826ba2851b170ee4",
       "version_major": 2,
       "version_minor": 0
      },
      "text/plain": [
       "  0%|          | 0/4 [00:00<?, ?it/s]"
      ]
     },
     "metadata": {},
     "output_type": "display_data"
    },
    {
     "data": {
      "application/vnd.jupyter.widget-view+json": {
       "model_id": "31c1c23800e840f4aa8ce81c37cba178",
       "version_major": 2,
       "version_minor": 0
      },
      "text/plain": [
       "  0%|          | 0/4 [00:00<?, ?it/s]"
      ]
     },
     "metadata": {},
     "output_type": "display_data"
    },
    {
     "data": {
      "application/vnd.jupyter.widget-view+json": {
       "model_id": "299748cdd3204718a9d32c53e7742012",
       "version_major": 2,
       "version_minor": 0
      },
      "text/plain": [
       "  0%|          | 0/4 [00:00<?, ?it/s]"
      ]
     },
     "metadata": {},
     "output_type": "display_data"
    },
    {
     "data": {
      "application/vnd.jupyter.widget-view+json": {
       "model_id": "7aaaf56a0a1745d0b1bfd79803860ef7",
       "version_major": 2,
       "version_minor": 0
      },
      "text/plain": [
       "  0%|          | 0/4 [00:00<?, ?it/s]"
      ]
     },
     "metadata": {},
     "output_type": "display_data"
    },
    {
     "data": {
      "application/vnd.jupyter.widget-view+json": {
       "model_id": "5eda206b6ef54187a6ac2a2d10e96d67",
       "version_major": 2,
       "version_minor": 0
      },
      "text/plain": [
       "  0%|          | 0/4 [00:00<?, ?it/s]"
      ]
     },
     "metadata": {},
     "output_type": "display_data"
    },
    {
     "data": {
      "application/vnd.jupyter.widget-view+json": {
       "model_id": "f83cf66bcd7b480cba20574a9a4f1c1e",
       "version_major": 2,
       "version_minor": 0
      },
      "text/plain": [
       "  0%|          | 0/4 [00:00<?, ?it/s]"
      ]
     },
     "metadata": {},
     "output_type": "display_data"
    },
    {
     "data": {
      "application/vnd.jupyter.widget-view+json": {
       "model_id": "90d769c8ce03461fa40cb5faccdc322d",
       "version_major": 2,
       "version_minor": 0
      },
      "text/plain": [
       "  0%|          | 0/4 [00:00<?, ?it/s]"
      ]
     },
     "metadata": {},
     "output_type": "display_data"
    },
    {
     "data": {
      "application/vnd.jupyter.widget-view+json": {
       "model_id": "1b1965343d1042fb91d239d0321419be",
       "version_major": 2,
       "version_minor": 0
      },
      "text/plain": [
       "  0%|          | 0/4 [00:00<?, ?it/s]"
      ]
     },
     "metadata": {},
     "output_type": "display_data"
    },
    {
     "data": {
      "application/vnd.jupyter.widget-view+json": {
       "model_id": "63555d3908af4b0dbdab5a1b3bb59b5a",
       "version_major": 2,
       "version_minor": 0
      },
      "text/plain": [
       "  0%|          | 0/4 [00:00<?, ?it/s]"
      ]
     },
     "metadata": {},
     "output_type": "display_data"
    },
    {
     "data": {
      "application/vnd.jupyter.widget-view+json": {
       "model_id": "d98b87611ac64672851c791ce88462a9",
       "version_major": 2,
       "version_minor": 0
      },
      "text/plain": [
       "  0%|          | 0/4 [00:00<?, ?it/s]"
      ]
     },
     "metadata": {},
     "output_type": "display_data"
    },
    {
     "data": {
      "application/vnd.jupyter.widget-view+json": {
       "model_id": "8101ee877be54d11b4bcae2c19ff1423",
       "version_major": 2,
       "version_minor": 0
      },
      "text/plain": [
       "  0%|          | 0/4 [00:00<?, ?it/s]"
      ]
     },
     "metadata": {},
     "output_type": "display_data"
    },
    {
     "data": {
      "application/vnd.jupyter.widget-view+json": {
       "model_id": "7221918c625943dbb99247db128e9158",
       "version_major": 2,
       "version_minor": 0
      },
      "text/plain": [
       "  0%|          | 0/4 [00:00<?, ?it/s]"
      ]
     },
     "metadata": {},
     "output_type": "display_data"
    },
    {
     "data": {
      "application/vnd.jupyter.widget-view+json": {
       "model_id": "23c34f6850a34506b4b09af661e1ee90",
       "version_major": 2,
       "version_minor": 0
      },
      "text/plain": [
       "  0%|          | 0/4 [00:00<?, ?it/s]"
      ]
     },
     "metadata": {},
     "output_type": "display_data"
    },
    {
     "data": {
      "application/vnd.jupyter.widget-view+json": {
       "model_id": "98aeb94ba3114167a89aebccbfa038fe",
       "version_major": 2,
       "version_minor": 0
      },
      "text/plain": [
       "  0%|          | 0/4 [00:00<?, ?it/s]"
      ]
     },
     "metadata": {},
     "output_type": "display_data"
    },
    {
     "data": {
      "application/vnd.jupyter.widget-view+json": {
       "model_id": "e5965858c13141aa8ab6f2a04841a2df",
       "version_major": 2,
       "version_minor": 0
      },
      "text/plain": [
       "  0%|          | 0/4 [00:00<?, ?it/s]"
      ]
     },
     "metadata": {},
     "output_type": "display_data"
    },
    {
     "data": {
      "application/vnd.jupyter.widget-view+json": {
       "model_id": "71ad3c161c634af784f7ce1baac43c35",
       "version_major": 2,
       "version_minor": 0
      },
      "text/plain": [
       "  0%|          | 0/4 [00:00<?, ?it/s]"
      ]
     },
     "metadata": {},
     "output_type": "display_data"
    },
    {
     "data": {
      "application/vnd.jupyter.widget-view+json": {
       "model_id": "abfaefa286794020b104680621c7f109",
       "version_major": 2,
       "version_minor": 0
      },
      "text/plain": [
       "  0%|          | 0/4 [00:00<?, ?it/s]"
      ]
     },
     "metadata": {},
     "output_type": "display_data"
    },
    {
     "data": {
      "application/vnd.jupyter.widget-view+json": {
       "model_id": "0a860d759f9e4a67886c5cc50773884f",
       "version_major": 2,
       "version_minor": 0
      },
      "text/plain": [
       "  0%|          | 0/4 [00:00<?, ?it/s]"
      ]
     },
     "metadata": {},
     "output_type": "display_data"
    },
    {
     "data": {
      "application/vnd.jupyter.widget-view+json": {
       "model_id": "e6b593c825214cf7945b4b51ec870c6f",
       "version_major": 2,
       "version_minor": 0
      },
      "text/plain": [
       "  0%|          | 0/4 [00:00<?, ?it/s]"
      ]
     },
     "metadata": {},
     "output_type": "display_data"
    },
    {
     "data": {
      "application/vnd.jupyter.widget-view+json": {
       "model_id": "bdaa9e4935434732b324e2261c1afe6a",
       "version_major": 2,
       "version_minor": 0
      },
      "text/plain": [
       "  0%|          | 0/4 [00:00<?, ?it/s]"
      ]
     },
     "metadata": {},
     "output_type": "display_data"
    },
    {
     "data": {
      "application/vnd.jupyter.widget-view+json": {
       "model_id": "dab0f556ee494ad6b5fd31826bbefc65",
       "version_major": 2,
       "version_minor": 0
      },
      "text/plain": [
       "  0%|          | 0/4 [00:00<?, ?it/s]"
      ]
     },
     "metadata": {},
     "output_type": "display_data"
    },
    {
     "data": {
      "application/vnd.jupyter.widget-view+json": {
       "model_id": "f0e5647dbc3c446794cb5d96c08ca344",
       "version_major": 2,
       "version_minor": 0
      },
      "text/plain": [
       "  0%|          | 0/4 [00:00<?, ?it/s]"
      ]
     },
     "metadata": {},
     "output_type": "display_data"
    },
    {
     "data": {
      "application/vnd.jupyter.widget-view+json": {
       "model_id": "59953519aeb348a2a5a72c6394a2b8af",
       "version_major": 2,
       "version_minor": 0
      },
      "text/plain": [
       "  0%|          | 0/4 [00:00<?, ?it/s]"
      ]
     },
     "metadata": {},
     "output_type": "display_data"
    },
    {
     "data": {
      "application/vnd.jupyter.widget-view+json": {
       "model_id": "8b4859b924ef4d8a9d530d82109e1e35",
       "version_major": 2,
       "version_minor": 0
      },
      "text/plain": [
       "  0%|          | 0/4 [00:00<?, ?it/s]"
      ]
     },
     "metadata": {},
     "output_type": "display_data"
    },
    {
     "data": {
      "application/vnd.jupyter.widget-view+json": {
       "model_id": "eeee50d943df44bba2d9ad7ee677fd5b",
       "version_major": 2,
       "version_minor": 0
      },
      "text/plain": [
       "  0%|          | 0/4 [00:00<?, ?it/s]"
      ]
     },
     "metadata": {},
     "output_type": "display_data"
    },
    {
     "data": {
      "application/vnd.jupyter.widget-view+json": {
       "model_id": "774b7211a4cd428f9e7d13ded7b18533",
       "version_major": 2,
       "version_minor": 0
      },
      "text/plain": [
       "  0%|          | 0/4 [00:00<?, ?it/s]"
      ]
     },
     "metadata": {},
     "output_type": "display_data"
    },
    {
     "data": {
      "application/vnd.jupyter.widget-view+json": {
       "model_id": "37df17cf39ac41c98167ad9b6bd7d3c6",
       "version_major": 2,
       "version_minor": 0
      },
      "text/plain": [
       "  0%|          | 0/4 [00:00<?, ?it/s]"
      ]
     },
     "metadata": {},
     "output_type": "display_data"
    },
    {
     "data": {
      "application/vnd.jupyter.widget-view+json": {
       "model_id": "6408bf9162494f58b17f82d7b9b58926",
       "version_major": 2,
       "version_minor": 0
      },
      "text/plain": [
       "  0%|          | 0/4 [00:00<?, ?it/s]"
      ]
     },
     "metadata": {},
     "output_type": "display_data"
    },
    {
     "data": {
      "application/vnd.jupyter.widget-view+json": {
       "model_id": "fff9afd9a9874e9aa6e414f47d70f88a",
       "version_major": 2,
       "version_minor": 0
      },
      "text/plain": [
       "  0%|          | 0/4 [00:00<?, ?it/s]"
      ]
     },
     "metadata": {},
     "output_type": "display_data"
    },
    {
     "data": {
      "application/vnd.jupyter.widget-view+json": {
       "model_id": "b50aa49f4a9e44d4a26df80b1397446a",
       "version_major": 2,
       "version_minor": 0
      },
      "text/plain": [
       "  0%|          | 0/4 [00:00<?, ?it/s]"
      ]
     },
     "metadata": {},
     "output_type": "display_data"
    },
    {
     "data": {
      "application/vnd.jupyter.widget-view+json": {
       "model_id": "6cf347027883475594761094111699a3",
       "version_major": 2,
       "version_minor": 0
      },
      "text/plain": [
       "  0%|          | 0/4 [00:00<?, ?it/s]"
      ]
     },
     "metadata": {},
     "output_type": "display_data"
    },
    {
     "data": {
      "application/vnd.jupyter.widget-view+json": {
       "model_id": "b246f37c302f44409a5ca8488ae28f5e",
       "version_major": 2,
       "version_minor": 0
      },
      "text/plain": [
       "  0%|          | 0/4 [00:00<?, ?it/s]"
      ]
     },
     "metadata": {},
     "output_type": "display_data"
    },
    {
     "data": {
      "application/vnd.jupyter.widget-view+json": {
       "model_id": "0db7fb8fc0a44731a77cf35c45e81a1e",
       "version_major": 2,
       "version_minor": 0
      },
      "text/plain": [
       "  0%|          | 0/4 [00:00<?, ?it/s]"
      ]
     },
     "metadata": {},
     "output_type": "display_data"
    },
    {
     "data": {
      "application/vnd.jupyter.widget-view+json": {
       "model_id": "c114033db40f4d2e99b375c20062697c",
       "version_major": 2,
       "version_minor": 0
      },
      "text/plain": [
       "  0%|          | 0/4 [00:00<?, ?it/s]"
      ]
     },
     "metadata": {},
     "output_type": "display_data"
    },
    {
     "data": {
      "application/vnd.jupyter.widget-view+json": {
       "model_id": "32e9cbccc1bd469ebbb59d4ca881db82",
       "version_major": 2,
       "version_minor": 0
      },
      "text/plain": [
       "  0%|          | 0/4 [00:00<?, ?it/s]"
      ]
     },
     "metadata": {},
     "output_type": "display_data"
    },
    {
     "data": {
      "application/vnd.jupyter.widget-view+json": {
       "model_id": "488fe83cf718437d8bcc3d45aa43e291",
       "version_major": 2,
       "version_minor": 0
      },
      "text/plain": [
       "  0%|          | 0/4 [00:00<?, ?it/s]"
      ]
     },
     "metadata": {},
     "output_type": "display_data"
    },
    {
     "data": {
      "application/vnd.jupyter.widget-view+json": {
       "model_id": "7d38b48f2fe843a1b55d46412db7af1f",
       "version_major": 2,
       "version_minor": 0
      },
      "text/plain": [
       "  0%|          | 0/4 [00:00<?, ?it/s]"
      ]
     },
     "metadata": {},
     "output_type": "display_data"
    },
    {
     "data": {
      "application/vnd.jupyter.widget-view+json": {
       "model_id": "79f20614eb5e48848999321f750d7099",
       "version_major": 2,
       "version_minor": 0
      },
      "text/plain": [
       "  0%|          | 0/4 [00:00<?, ?it/s]"
      ]
     },
     "metadata": {},
     "output_type": "display_data"
    },
    {
     "data": {
      "application/vnd.jupyter.widget-view+json": {
       "model_id": "594e49af153047c3a2979f05762cf7f4",
       "version_major": 2,
       "version_minor": 0
      },
      "text/plain": [
       "  0%|          | 0/4 [00:00<?, ?it/s]"
      ]
     },
     "metadata": {},
     "output_type": "display_data"
    },
    {
     "data": {
      "application/vnd.jupyter.widget-view+json": {
       "model_id": "d1e0c9fcf8e748a7b52268bc9502cbb6",
       "version_major": 2,
       "version_minor": 0
      },
      "text/plain": [
       "  0%|          | 0/4 [00:00<?, ?it/s]"
      ]
     },
     "metadata": {},
     "output_type": "display_data"
    },
    {
     "data": {
      "application/vnd.jupyter.widget-view+json": {
       "model_id": "80f8bf7f9d25436a8f1fee86cd0fc5a4",
       "version_major": 2,
       "version_minor": 0
      },
      "text/plain": [
       "  0%|          | 0/4 [00:00<?, ?it/s]"
      ]
     },
     "metadata": {},
     "output_type": "display_data"
    },
    {
     "data": {
      "application/vnd.jupyter.widget-view+json": {
       "model_id": "226d8c7f61e945b0931e2d7d8d439aaf",
       "version_major": 2,
       "version_minor": 0
      },
      "text/plain": [
       "  0%|          | 0/4 [00:00<?, ?it/s]"
      ]
     },
     "metadata": {},
     "output_type": "display_data"
    },
    {
     "data": {
      "application/vnd.jupyter.widget-view+json": {
       "model_id": "9d58bbb71f2b497a8c76592177fdc33e",
       "version_major": 2,
       "version_minor": 0
      },
      "text/plain": [
       "  0%|          | 0/4 [00:00<?, ?it/s]"
      ]
     },
     "metadata": {},
     "output_type": "display_data"
    },
    {
     "data": {
      "application/vnd.jupyter.widget-view+json": {
       "model_id": "0a6d1eab3221435a9ccd31618aa2c678",
       "version_major": 2,
       "version_minor": 0
      },
      "text/plain": [
       "  0%|          | 0/4 [00:00<?, ?it/s]"
      ]
     },
     "metadata": {},
     "output_type": "display_data"
    },
    {
     "data": {
      "application/vnd.jupyter.widget-view+json": {
       "model_id": "530a1d31685c4c0a96aa1fc7ef42b41c",
       "version_major": 2,
       "version_minor": 0
      },
      "text/plain": [
       "  0%|          | 0/4 [00:00<?, ?it/s]"
      ]
     },
     "metadata": {},
     "output_type": "display_data"
    },
    {
     "data": {
      "application/vnd.jupyter.widget-view+json": {
       "model_id": "7d09f6f4bf70485aa0d6430c6f76240a",
       "version_major": 2,
       "version_minor": 0
      },
      "text/plain": [
       "  0%|          | 0/4 [00:00<?, ?it/s]"
      ]
     },
     "metadata": {},
     "output_type": "display_data"
    },
    {
     "data": {
      "application/vnd.jupyter.widget-view+json": {
       "model_id": "c8b2e63bec814c8ba8495f84e980525e",
       "version_major": 2,
       "version_minor": 0
      },
      "text/plain": [
       "  0%|          | 0/4 [00:00<?, ?it/s]"
      ]
     },
     "metadata": {},
     "output_type": "display_data"
    },
    {
     "data": {
      "application/vnd.jupyter.widget-view+json": {
       "model_id": "0c7b8f6ae0c34f07b3adff4c202a164a",
       "version_major": 2,
       "version_minor": 0
      },
      "text/plain": [
       "  0%|          | 0/4 [00:00<?, ?it/s]"
      ]
     },
     "metadata": {},
     "output_type": "display_data"
    },
    {
     "data": {
      "application/vnd.jupyter.widget-view+json": {
       "model_id": "684ec73c28a14bba839971d45323dce5",
       "version_major": 2,
       "version_minor": 0
      },
      "text/plain": [
       "  0%|          | 0/4 [00:00<?, ?it/s]"
      ]
     },
     "metadata": {},
     "output_type": "display_data"
    },
    {
     "data": {
      "application/vnd.jupyter.widget-view+json": {
       "model_id": "f2163bfabc674502bd64da409233e271",
       "version_major": 2,
       "version_minor": 0
      },
      "text/plain": [
       "  0%|          | 0/4 [00:00<?, ?it/s]"
      ]
     },
     "metadata": {},
     "output_type": "display_data"
    },
    {
     "data": {
      "application/vnd.jupyter.widget-view+json": {
       "model_id": "e36b882da3254c83adeea2d9748eb934",
       "version_major": 2,
       "version_minor": 0
      },
      "text/plain": [
       "  0%|          | 0/4 [00:00<?, ?it/s]"
      ]
     },
     "metadata": {},
     "output_type": "display_data"
    },
    {
     "data": {
      "application/vnd.jupyter.widget-view+json": {
       "model_id": "92ce9c8fd1bd4b79b977fedf393a1440",
       "version_major": 2,
       "version_minor": 0
      },
      "text/plain": [
       "  0%|          | 0/4 [00:00<?, ?it/s]"
      ]
     },
     "metadata": {},
     "output_type": "display_data"
    },
    {
     "data": {
      "application/vnd.jupyter.widget-view+json": {
       "model_id": "6a7df189e40d44e3ac24d482746501e4",
       "version_major": 2,
       "version_minor": 0
      },
      "text/plain": [
       "  0%|          | 0/4 [00:00<?, ?it/s]"
      ]
     },
     "metadata": {},
     "output_type": "display_data"
    },
    {
     "data": {
      "application/vnd.jupyter.widget-view+json": {
       "model_id": "fe9e7a8734df460b834488139a404b96",
       "version_major": 2,
       "version_minor": 0
      },
      "text/plain": [
       "  0%|          | 0/4 [00:00<?, ?it/s]"
      ]
     },
     "metadata": {},
     "output_type": "display_data"
    },
    {
     "data": {
      "application/vnd.jupyter.widget-view+json": {
       "model_id": "f72cb2a236e14c35a14cd3b10d0469f1",
       "version_major": 2,
       "version_minor": 0
      },
      "text/plain": [
       "  0%|          | 0/4 [00:00<?, ?it/s]"
      ]
     },
     "metadata": {},
     "output_type": "display_data"
    },
    {
     "data": {
      "application/vnd.jupyter.widget-view+json": {
       "model_id": "ea29840eb33d46c8b6d257bd43313825",
       "version_major": 2,
       "version_minor": 0
      },
      "text/plain": [
       "  0%|          | 0/4 [00:00<?, ?it/s]"
      ]
     },
     "metadata": {},
     "output_type": "display_data"
    },
    {
     "data": {
      "application/vnd.jupyter.widget-view+json": {
       "model_id": "0e267990067843ee9321ad1efce7234f",
       "version_major": 2,
       "version_minor": 0
      },
      "text/plain": [
       "  0%|          | 0/4 [00:00<?, ?it/s]"
      ]
     },
     "metadata": {},
     "output_type": "display_data"
    },
    {
     "data": {
      "application/vnd.jupyter.widget-view+json": {
       "model_id": "89b2b19784a543e2aba21ca00e1676a8",
       "version_major": 2,
       "version_minor": 0
      },
      "text/plain": [
       "  0%|          | 0/4 [00:00<?, ?it/s]"
      ]
     },
     "metadata": {},
     "output_type": "display_data"
    },
    {
     "data": {
      "application/vnd.jupyter.widget-view+json": {
       "model_id": "ae0a9164bb924fc1babb426df90750ed",
       "version_major": 2,
       "version_minor": 0
      },
      "text/plain": [
       "  0%|          | 0/4 [00:00<?, ?it/s]"
      ]
     },
     "metadata": {},
     "output_type": "display_data"
    },
    {
     "data": {
      "application/vnd.jupyter.widget-view+json": {
       "model_id": "3f74e36365c847fc9963387b5b667d2a",
       "version_major": 2,
       "version_minor": 0
      },
      "text/plain": [
       "  0%|          | 0/4 [00:00<?, ?it/s]"
      ]
     },
     "metadata": {},
     "output_type": "display_data"
    },
    {
     "data": {
      "application/vnd.jupyter.widget-view+json": {
       "model_id": "82dd74b4967a434b8167cfd0ff5ba591",
       "version_major": 2,
       "version_minor": 0
      },
      "text/plain": [
       "  0%|          | 0/4 [00:00<?, ?it/s]"
      ]
     },
     "metadata": {},
     "output_type": "display_data"
    },
    {
     "data": {
      "application/vnd.jupyter.widget-view+json": {
       "model_id": "276a6eaaea4241c3882c66ef1bd2cd87",
       "version_major": 2,
       "version_minor": 0
      },
      "text/plain": [
       "  0%|          | 0/4 [00:00<?, ?it/s]"
      ]
     },
     "metadata": {},
     "output_type": "display_data"
    },
    {
     "data": {
      "application/vnd.jupyter.widget-view+json": {
       "model_id": "60e1bb00894a4b818ace55e38e568f28",
       "version_major": 2,
       "version_minor": 0
      },
      "text/plain": [
       "  0%|          | 0/4 [00:00<?, ?it/s]"
      ]
     },
     "metadata": {},
     "output_type": "display_data"
    },
    {
     "data": {
      "application/vnd.jupyter.widget-view+json": {
       "model_id": "36b1aaaa67914458bf92300e1e7cfdd7",
       "version_major": 2,
       "version_minor": 0
      },
      "text/plain": [
       "  0%|          | 0/4 [00:00<?, ?it/s]"
      ]
     },
     "metadata": {},
     "output_type": "display_data"
    },
    {
     "data": {
      "application/vnd.jupyter.widget-view+json": {
       "model_id": "dd04f639369e4527957cf7bfd1534354",
       "version_major": 2,
       "version_minor": 0
      },
      "text/plain": [
       "  0%|          | 0/4 [00:00<?, ?it/s]"
      ]
     },
     "metadata": {},
     "output_type": "display_data"
    },
    {
     "data": {
      "application/vnd.jupyter.widget-view+json": {
       "model_id": "70f314090c2f403690308c0c615f9174",
       "version_major": 2,
       "version_minor": 0
      },
      "text/plain": [
       "  0%|          | 0/4 [00:00<?, ?it/s]"
      ]
     },
     "metadata": {},
     "output_type": "display_data"
    },
    {
     "data": {
      "application/vnd.jupyter.widget-view+json": {
       "model_id": "7b5b1e3d1d2b4c5bba35bb02a2c598bb",
       "version_major": 2,
       "version_minor": 0
      },
      "text/plain": [
       "  0%|          | 0/4 [00:00<?, ?it/s]"
      ]
     },
     "metadata": {},
     "output_type": "display_data"
    },
    {
     "data": {
      "application/vnd.jupyter.widget-view+json": {
       "model_id": "029701a8234d4b40940d71357a201c77",
       "version_major": 2,
       "version_minor": 0
      },
      "text/plain": [
       "  0%|          | 0/4 [00:00<?, ?it/s]"
      ]
     },
     "metadata": {},
     "output_type": "display_data"
    },
    {
     "data": {
      "application/vnd.jupyter.widget-view+json": {
       "model_id": "a2b58c51f4844e2abab9b4ae2b0b8c3c",
       "version_major": 2,
       "version_minor": 0
      },
      "text/plain": [
       "  0%|          | 0/4 [00:00<?, ?it/s]"
      ]
     },
     "metadata": {},
     "output_type": "display_data"
    },
    {
     "data": {
      "application/vnd.jupyter.widget-view+json": {
       "model_id": "3e6805c74f3b4231a2550408b9bd9789",
       "version_major": 2,
       "version_minor": 0
      },
      "text/plain": [
       "  0%|          | 0/4 [00:00<?, ?it/s]"
      ]
     },
     "metadata": {},
     "output_type": "display_data"
    },
    {
     "data": {
      "application/vnd.jupyter.widget-view+json": {
       "model_id": "e3a626d2e9aa4b74934f7b02ac224239",
       "version_major": 2,
       "version_minor": 0
      },
      "text/plain": [
       "  0%|          | 0/4 [00:00<?, ?it/s]"
      ]
     },
     "metadata": {},
     "output_type": "display_data"
    },
    {
     "data": {
      "application/vnd.jupyter.widget-view+json": {
       "model_id": "4db9053261a94f7aa152b5c5b006a8df",
       "version_major": 2,
       "version_minor": 0
      },
      "text/plain": [
       "  0%|          | 0/4 [00:00<?, ?it/s]"
      ]
     },
     "metadata": {},
     "output_type": "display_data"
    },
    {
     "data": {
      "application/vnd.jupyter.widget-view+json": {
       "model_id": "f7a0e9f6a848425991fa986f775ca9eb",
       "version_major": 2,
       "version_minor": 0
      },
      "text/plain": [
       "  0%|          | 0/4 [00:00<?, ?it/s]"
      ]
     },
     "metadata": {},
     "output_type": "display_data"
    },
    {
     "data": {
      "application/vnd.jupyter.widget-view+json": {
       "model_id": "58e07eb77c4d4739a8e7df81de8d08ad",
       "version_major": 2,
       "version_minor": 0
      },
      "text/plain": [
       "  0%|          | 0/4 [00:00<?, ?it/s]"
      ]
     },
     "metadata": {},
     "output_type": "display_data"
    },
    {
     "data": {
      "application/vnd.jupyter.widget-view+json": {
       "model_id": "9e0b8988897e464094a69ee8eaa59428",
       "version_major": 2,
       "version_minor": 0
      },
      "text/plain": [
       "  0%|          | 0/4 [00:00<?, ?it/s]"
      ]
     },
     "metadata": {},
     "output_type": "display_data"
    },
    {
     "data": {
      "application/vnd.jupyter.widget-view+json": {
       "model_id": "29837e212989474da2147c265430fbd1",
       "version_major": 2,
       "version_minor": 0
      },
      "text/plain": [
       "  0%|          | 0/4 [00:00<?, ?it/s]"
      ]
     },
     "metadata": {},
     "output_type": "display_data"
    },
    {
     "data": {
      "application/vnd.jupyter.widget-view+json": {
       "model_id": "2f6b4ca986484346b20c610bc75f2978",
       "version_major": 2,
       "version_minor": 0
      },
      "text/plain": [
       "  0%|          | 0/4 [00:00<?, ?it/s]"
      ]
     },
     "metadata": {},
     "output_type": "display_data"
    },
    {
     "data": {
      "application/vnd.jupyter.widget-view+json": {
       "model_id": "f91e7f36aad54d6bbcb1f0399a384435",
       "version_major": 2,
       "version_minor": 0
      },
      "text/plain": [
       "  0%|          | 0/4 [00:00<?, ?it/s]"
      ]
     },
     "metadata": {},
     "output_type": "display_data"
    },
    {
     "data": {
      "application/vnd.jupyter.widget-view+json": {
       "model_id": "fe8633bb0f574c38a8047d99ced5067a",
       "version_major": 2,
       "version_minor": 0
      },
      "text/plain": [
       "  0%|          | 0/4 [00:00<?, ?it/s]"
      ]
     },
     "metadata": {},
     "output_type": "display_data"
    },
    {
     "data": {
      "application/vnd.jupyter.widget-view+json": {
       "model_id": "0038f3349b4c47209260c2fd62513a4c",
       "version_major": 2,
       "version_minor": 0
      },
      "text/plain": [
       "  0%|          | 0/4 [00:00<?, ?it/s]"
      ]
     },
     "metadata": {},
     "output_type": "display_data"
    },
    {
     "data": {
      "application/vnd.jupyter.widget-view+json": {
       "model_id": "4d7cac6d46704d1cba13e4a133e4a00c",
       "version_major": 2,
       "version_minor": 0
      },
      "text/plain": [
       "  0%|          | 0/4 [00:00<?, ?it/s]"
      ]
     },
     "metadata": {},
     "output_type": "display_data"
    },
    {
     "data": {
      "application/vnd.jupyter.widget-view+json": {
       "model_id": "0686e5765b4243d2b51106330b5b0c57",
       "version_major": 2,
       "version_minor": 0
      },
      "text/plain": [
       "  0%|          | 0/4 [00:00<?, ?it/s]"
      ]
     },
     "metadata": {},
     "output_type": "display_data"
    },
    {
     "data": {
      "application/vnd.jupyter.widget-view+json": {
       "model_id": "d25e1ac0ee0947ea8ca23eaa9afc234d",
       "version_major": 2,
       "version_minor": 0
      },
      "text/plain": [
       "  0%|          | 0/4 [00:00<?, ?it/s]"
      ]
     },
     "metadata": {},
     "output_type": "display_data"
    },
    {
     "data": {
      "application/vnd.jupyter.widget-view+json": {
       "model_id": "73e2b55e550a4a66a73b46bb78cdedcf",
       "version_major": 2,
       "version_minor": 0
      },
      "text/plain": [
       "  0%|          | 0/4 [00:00<?, ?it/s]"
      ]
     },
     "metadata": {},
     "output_type": "display_data"
    },
    {
     "data": {
      "application/vnd.jupyter.widget-view+json": {
       "model_id": "495adec25db046a0aff4fd467ea6b815",
       "version_major": 2,
       "version_minor": 0
      },
      "text/plain": [
       "  0%|          | 0/4 [00:00<?, ?it/s]"
      ]
     },
     "metadata": {},
     "output_type": "display_data"
    },
    {
     "data": {
      "application/vnd.jupyter.widget-view+json": {
       "model_id": "4f3feeb423ee4868afffeed25f31f2e0",
       "version_major": 2,
       "version_minor": 0
      },
      "text/plain": [
       "  0%|          | 0/4 [00:00<?, ?it/s]"
      ]
     },
     "metadata": {},
     "output_type": "display_data"
    },
    {
     "data": {
      "application/vnd.jupyter.widget-view+json": {
       "model_id": "794d6e68bd234a3ca3f72b5f38bd5a13",
       "version_major": 2,
       "version_minor": 0
      },
      "text/plain": [
       "  0%|          | 0/4 [00:00<?, ?it/s]"
      ]
     },
     "metadata": {},
     "output_type": "display_data"
    },
    {
     "data": {
      "application/vnd.jupyter.widget-view+json": {
       "model_id": "6c6865255a7a4314be59902e9e9e00f1",
       "version_major": 2,
       "version_minor": 0
      },
      "text/plain": [
       "  0%|          | 0/4 [00:00<?, ?it/s]"
      ]
     },
     "metadata": {},
     "output_type": "display_data"
    },
    {
     "data": {
      "application/vnd.jupyter.widget-view+json": {
       "model_id": "f9ba200ea7c242ae9ab251ae1730cd14",
       "version_major": 2,
       "version_minor": 0
      },
      "text/plain": [
       "  0%|          | 0/4 [00:00<?, ?it/s]"
      ]
     },
     "metadata": {},
     "output_type": "display_data"
    },
    {
     "data": {
      "application/vnd.jupyter.widget-view+json": {
       "model_id": "7c013c76f8a74a4a842e6b293eb1afe7",
       "version_major": 2,
       "version_minor": 0
      },
      "text/plain": [
       "  0%|          | 0/4 [00:00<?, ?it/s]"
      ]
     },
     "metadata": {},
     "output_type": "display_data"
    },
    {
     "data": {
      "application/vnd.jupyter.widget-view+json": {
       "model_id": "ee7e6bcfebc943c894a45adc4e30569c",
       "version_major": 2,
       "version_minor": 0
      },
      "text/plain": [
       "  0%|          | 0/4 [00:00<?, ?it/s]"
      ]
     },
     "metadata": {},
     "output_type": "display_data"
    },
    {
     "data": {
      "application/vnd.jupyter.widget-view+json": {
       "model_id": "1ed1aaaab7e140079d26bd7577d45fcd",
       "version_major": 2,
       "version_minor": 0
      },
      "text/plain": [
       "  0%|          | 0/4 [00:00<?, ?it/s]"
      ]
     },
     "metadata": {},
     "output_type": "display_data"
    },
    {
     "data": {
      "application/vnd.jupyter.widget-view+json": {
       "model_id": "bac8ace9ebd545fd8e97af8d3385d6af",
       "version_major": 2,
       "version_minor": 0
      },
      "text/plain": [
       "  0%|          | 0/4 [00:00<?, ?it/s]"
      ]
     },
     "metadata": {},
     "output_type": "display_data"
    },
    {
     "data": {
      "application/vnd.jupyter.widget-view+json": {
       "model_id": "5e21f276e4a74f5b987c1cee58af78eb",
       "version_major": 2,
       "version_minor": 0
      },
      "text/plain": [
       "  0%|          | 0/4 [00:00<?, ?it/s]"
      ]
     },
     "metadata": {},
     "output_type": "display_data"
    },
    {
     "data": {
      "application/vnd.jupyter.widget-view+json": {
       "model_id": "58b385fa90c043b699e14c7efdbfa2b2",
       "version_major": 2,
       "version_minor": 0
      },
      "text/plain": [
       "  0%|          | 0/4 [00:00<?, ?it/s]"
      ]
     },
     "metadata": {},
     "output_type": "display_data"
    },
    {
     "data": {
      "application/vnd.jupyter.widget-view+json": {
       "model_id": "e981173e20484832bfd7009c0ee9fbce",
       "version_major": 2,
       "version_minor": 0
      },
      "text/plain": [
       "  0%|          | 0/4 [00:00<?, ?it/s]"
      ]
     },
     "metadata": {},
     "output_type": "display_data"
    },
    {
     "data": {
      "application/vnd.jupyter.widget-view+json": {
       "model_id": "4128da8b9f3a4c16bb5356e227f643e2",
       "version_major": 2,
       "version_minor": 0
      },
      "text/plain": [
       "  0%|          | 0/4 [00:00<?, ?it/s]"
      ]
     },
     "metadata": {},
     "output_type": "display_data"
    },
    {
     "data": {
      "application/vnd.jupyter.widget-view+json": {
       "model_id": "c3e983a6fa244cc6a059a6da09387019",
       "version_major": 2,
       "version_minor": 0
      },
      "text/plain": [
       "  0%|          | 0/4 [00:00<?, ?it/s]"
      ]
     },
     "metadata": {},
     "output_type": "display_data"
    },
    {
     "data": {
      "application/vnd.jupyter.widget-view+json": {
       "model_id": "e66c97cfcc544f1b864b09a45571d42a",
       "version_major": 2,
       "version_minor": 0
      },
      "text/plain": [
       "  0%|          | 0/4 [00:00<?, ?it/s]"
      ]
     },
     "metadata": {},
     "output_type": "display_data"
    },
    {
     "data": {
      "application/vnd.jupyter.widget-view+json": {
       "model_id": "e2fee15bfc834b18920045514b34aaac",
       "version_major": 2,
       "version_minor": 0
      },
      "text/plain": [
       "  0%|          | 0/4 [00:00<?, ?it/s]"
      ]
     },
     "metadata": {},
     "output_type": "display_data"
    },
    {
     "data": {
      "application/vnd.jupyter.widget-view+json": {
       "model_id": "5c5561c20c81469b80e8708071a70f09",
       "version_major": 2,
       "version_minor": 0
      },
      "text/plain": [
       "  0%|          | 0/4 [00:00<?, ?it/s]"
      ]
     },
     "metadata": {},
     "output_type": "display_data"
    },
    {
     "data": {
      "application/vnd.jupyter.widget-view+json": {
       "model_id": "6772399d0d0c401d9f06706579de8570",
       "version_major": 2,
       "version_minor": 0
      },
      "text/plain": [
       "  0%|          | 0/4 [00:00<?, ?it/s]"
      ]
     },
     "metadata": {},
     "output_type": "display_data"
    },
    {
     "data": {
      "application/vnd.jupyter.widget-view+json": {
       "model_id": "3a51bd182bb84b5f9c8c137af9fe354d",
       "version_major": 2,
       "version_minor": 0
      },
      "text/plain": [
       "  0%|          | 0/4 [00:00<?, ?it/s]"
      ]
     },
     "metadata": {},
     "output_type": "display_data"
    },
    {
     "data": {
      "application/vnd.jupyter.widget-view+json": {
       "model_id": "08d273c2969b4a63b5ad237d63d3e35c",
       "version_major": 2,
       "version_minor": 0
      },
      "text/plain": [
       "  0%|          | 0/4 [00:00<?, ?it/s]"
      ]
     },
     "metadata": {},
     "output_type": "display_data"
    },
    {
     "data": {
      "application/vnd.jupyter.widget-view+json": {
       "model_id": "21f92c0fbb6c496dbe9619229c466b89",
       "version_major": 2,
       "version_minor": 0
      },
      "text/plain": [
       "  0%|          | 0/4 [00:00<?, ?it/s]"
      ]
     },
     "metadata": {},
     "output_type": "display_data"
    },
    {
     "data": {
      "application/vnd.jupyter.widget-view+json": {
       "model_id": "f68e599d86824a4fb8dabc0bcbd43cdb",
       "version_major": 2,
       "version_minor": 0
      },
      "text/plain": [
       "  0%|          | 0/4 [00:00<?, ?it/s]"
      ]
     },
     "metadata": {},
     "output_type": "display_data"
    },
    {
     "data": {
      "application/vnd.jupyter.widget-view+json": {
       "model_id": "ed725183fe7140ecaaacfabc5b585f9b",
       "version_major": 2,
       "version_minor": 0
      },
      "text/plain": [
       "  0%|          | 0/4 [00:00<?, ?it/s]"
      ]
     },
     "metadata": {},
     "output_type": "display_data"
    },
    {
     "data": {
      "application/vnd.jupyter.widget-view+json": {
       "model_id": "1c098631cda64271989d6fffb4e4ff05",
       "version_major": 2,
       "version_minor": 0
      },
      "text/plain": [
       "  0%|          | 0/4 [00:00<?, ?it/s]"
      ]
     },
     "metadata": {},
     "output_type": "display_data"
    },
    {
     "data": {
      "application/vnd.jupyter.widget-view+json": {
       "model_id": "c2cc0e70bc7544efa5c8adcba5ea15c0",
       "version_major": 2,
       "version_minor": 0
      },
      "text/plain": [
       "  0%|          | 0/4 [00:00<?, ?it/s]"
      ]
     },
     "metadata": {},
     "output_type": "display_data"
    },
    {
     "data": {
      "application/vnd.jupyter.widget-view+json": {
       "model_id": "9428a71e67ee4d90ba2a11822bd6363a",
       "version_major": 2,
       "version_minor": 0
      },
      "text/plain": [
       "  0%|          | 0/4 [00:00<?, ?it/s]"
      ]
     },
     "metadata": {},
     "output_type": "display_data"
    },
    {
     "data": {
      "application/vnd.jupyter.widget-view+json": {
       "model_id": "b158a24ad136459e8f62d0da628086cf",
       "version_major": 2,
       "version_minor": 0
      },
      "text/plain": [
       "  0%|          | 0/4 [00:00<?, ?it/s]"
      ]
     },
     "metadata": {},
     "output_type": "display_data"
    },
    {
     "data": {
      "application/vnd.jupyter.widget-view+json": {
       "model_id": "9d9cbff311a041d79d6fb68f3e76638d",
       "version_major": 2,
       "version_minor": 0
      },
      "text/plain": [
       "  0%|          | 0/4 [00:00<?, ?it/s]"
      ]
     },
     "metadata": {},
     "output_type": "display_data"
    },
    {
     "data": {
      "application/vnd.jupyter.widget-view+json": {
       "model_id": "04189466a7984e4aa0846c49f9df7a5c",
       "version_major": 2,
       "version_minor": 0
      },
      "text/plain": [
       "  0%|          | 0/4 [00:00<?, ?it/s]"
      ]
     },
     "metadata": {},
     "output_type": "display_data"
    },
    {
     "data": {
      "application/vnd.jupyter.widget-view+json": {
       "model_id": "b3d6a6cdd6814481a44c3dd5d2911192",
       "version_major": 2,
       "version_minor": 0
      },
      "text/plain": [
       "  0%|          | 0/4 [00:00<?, ?it/s]"
      ]
     },
     "metadata": {},
     "output_type": "display_data"
    },
    {
     "data": {
      "application/vnd.jupyter.widget-view+json": {
       "model_id": "ff3a49ec058441b1b899b6305e6bd18a",
       "version_major": 2,
       "version_minor": 0
      },
      "text/plain": [
       "  0%|          | 0/4 [00:00<?, ?it/s]"
      ]
     },
     "metadata": {},
     "output_type": "display_data"
    },
    {
     "data": {
      "application/vnd.jupyter.widget-view+json": {
       "model_id": "c047ca499b4d48fbb078bc6a8947c7a3",
       "version_major": 2,
       "version_minor": 0
      },
      "text/plain": [
       "  0%|          | 0/4 [00:00<?, ?it/s]"
      ]
     },
     "metadata": {},
     "output_type": "display_data"
    },
    {
     "data": {
      "application/vnd.jupyter.widget-view+json": {
       "model_id": "cb19c36107414768be16fa6e6014b176",
       "version_major": 2,
       "version_minor": 0
      },
      "text/plain": [
       "  0%|          | 0/4 [00:00<?, ?it/s]"
      ]
     },
     "metadata": {},
     "output_type": "display_data"
    },
    {
     "data": {
      "application/vnd.jupyter.widget-view+json": {
       "model_id": "3016538ced6c49079b6a9378650ab572",
       "version_major": 2,
       "version_minor": 0
      },
      "text/plain": [
       "  0%|          | 0/4 [00:00<?, ?it/s]"
      ]
     },
     "metadata": {},
     "output_type": "display_data"
    },
    {
     "data": {
      "application/vnd.jupyter.widget-view+json": {
       "model_id": "2e5a032bda814ab2a6c47e34a9cc65d6",
       "version_major": 2,
       "version_minor": 0
      },
      "text/plain": [
       "  0%|          | 0/4 [00:00<?, ?it/s]"
      ]
     },
     "metadata": {},
     "output_type": "display_data"
    },
    {
     "data": {
      "application/vnd.jupyter.widget-view+json": {
       "model_id": "155ae280c8514761bfc477a27a6c80ff",
       "version_major": 2,
       "version_minor": 0
      },
      "text/plain": [
       "  0%|          | 0/4 [00:00<?, ?it/s]"
      ]
     },
     "metadata": {},
     "output_type": "display_data"
    },
    {
     "data": {
      "application/vnd.jupyter.widget-view+json": {
       "model_id": "02f641690163497493700bcd2085ff22",
       "version_major": 2,
       "version_minor": 0
      },
      "text/plain": [
       "  0%|          | 0/4 [00:00<?, ?it/s]"
      ]
     },
     "metadata": {},
     "output_type": "display_data"
    },
    {
     "data": {
      "application/vnd.jupyter.widget-view+json": {
       "model_id": "261f2086ffff4afaa3d220e080cf1091",
       "version_major": 2,
       "version_minor": 0
      },
      "text/plain": [
       "  0%|          | 0/4 [00:00<?, ?it/s]"
      ]
     },
     "metadata": {},
     "output_type": "display_data"
    },
    {
     "data": {
      "application/vnd.jupyter.widget-view+json": {
       "model_id": "4852b666cb694cd08e73155893c05373",
       "version_major": 2,
       "version_minor": 0
      },
      "text/plain": [
       "  0%|          | 0/4 [00:00<?, ?it/s]"
      ]
     },
     "metadata": {},
     "output_type": "display_data"
    },
    {
     "data": {
      "application/vnd.jupyter.widget-view+json": {
       "model_id": "8216dc603a3c429795a0b5b8e3d35712",
       "version_major": 2,
       "version_minor": 0
      },
      "text/plain": [
       "  0%|          | 0/4 [00:00<?, ?it/s]"
      ]
     },
     "metadata": {},
     "output_type": "display_data"
    },
    {
     "data": {
      "application/vnd.jupyter.widget-view+json": {
       "model_id": "cba188addb8e42ad8980dc576f4a7679",
       "version_major": 2,
       "version_minor": 0
      },
      "text/plain": [
       "  0%|          | 0/4 [00:00<?, ?it/s]"
      ]
     },
     "metadata": {},
     "output_type": "display_data"
    },
    {
     "data": {
      "application/vnd.jupyter.widget-view+json": {
       "model_id": "023f8dd36d05415ba36f43e87c0db7e5",
       "version_major": 2,
       "version_minor": 0
      },
      "text/plain": [
       "  0%|          | 0/4 [00:00<?, ?it/s]"
      ]
     },
     "metadata": {},
     "output_type": "display_data"
    },
    {
     "data": {
      "application/vnd.jupyter.widget-view+json": {
       "model_id": "b46a3a9298d54a7e927851d74a65892f",
       "version_major": 2,
       "version_minor": 0
      },
      "text/plain": [
       "  0%|          | 0/4 [00:00<?, ?it/s]"
      ]
     },
     "metadata": {},
     "output_type": "display_data"
    },
    {
     "data": {
      "application/vnd.jupyter.widget-view+json": {
       "model_id": "ceb6fea4b7f845d18c26d8ca90115cb0",
       "version_major": 2,
       "version_minor": 0
      },
      "text/plain": [
       "  0%|          | 0/4 [00:00<?, ?it/s]"
      ]
     },
     "metadata": {},
     "output_type": "display_data"
    },
    {
     "data": {
      "application/vnd.jupyter.widget-view+json": {
       "model_id": "064456f18f0a4714a98df0fd9dd67963",
       "version_major": 2,
       "version_minor": 0
      },
      "text/plain": [
       "  0%|          | 0/4 [00:00<?, ?it/s]"
      ]
     },
     "metadata": {},
     "output_type": "display_data"
    },
    {
     "data": {
      "application/vnd.jupyter.widget-view+json": {
       "model_id": "8cf7ef36804f4ea9a57aaa836f38b79b",
       "version_major": 2,
       "version_minor": 0
      },
      "text/plain": [
       "  0%|          | 0/4 [00:00<?, ?it/s]"
      ]
     },
     "metadata": {},
     "output_type": "display_data"
    },
    {
     "data": {
      "application/vnd.jupyter.widget-view+json": {
       "model_id": "84dd36ceb4214bf5962d32deb8536ff8",
       "version_major": 2,
       "version_minor": 0
      },
      "text/plain": [
       "  0%|          | 0/4 [00:00<?, ?it/s]"
      ]
     },
     "metadata": {},
     "output_type": "display_data"
    },
    {
     "data": {
      "application/vnd.jupyter.widget-view+json": {
       "model_id": "19a9961f99df4ccd98676f48f9d4a0b0",
       "version_major": 2,
       "version_minor": 0
      },
      "text/plain": [
       "  0%|          | 0/4 [00:00<?, ?it/s]"
      ]
     },
     "metadata": {},
     "output_type": "display_data"
    },
    {
     "data": {
      "application/vnd.jupyter.widget-view+json": {
       "model_id": "97c73a6fa28d48e6b63be0ee04429861",
       "version_major": 2,
       "version_minor": 0
      },
      "text/plain": [
       "  0%|          | 0/4 [00:00<?, ?it/s]"
      ]
     },
     "metadata": {},
     "output_type": "display_data"
    },
    {
     "data": {
      "application/vnd.jupyter.widget-view+json": {
       "model_id": "a932bf7dc91246d1b9a5795ccdae3604",
       "version_major": 2,
       "version_minor": 0
      },
      "text/plain": [
       "  0%|          | 0/4 [00:00<?, ?it/s]"
      ]
     },
     "metadata": {},
     "output_type": "display_data"
    },
    {
     "data": {
      "application/vnd.jupyter.widget-view+json": {
       "model_id": "218cf84599cc429b980158e36b45dec0",
       "version_major": 2,
       "version_minor": 0
      },
      "text/plain": [
       "  0%|          | 0/4 [00:00<?, ?it/s]"
      ]
     },
     "metadata": {},
     "output_type": "display_data"
    },
    {
     "data": {
      "application/vnd.jupyter.widget-view+json": {
       "model_id": "039eec150b0d4b05a8c560c29118e33d",
       "version_major": 2,
       "version_minor": 0
      },
      "text/plain": [
       "  0%|          | 0/4 [00:00<?, ?it/s]"
      ]
     },
     "metadata": {},
     "output_type": "display_data"
    },
    {
     "data": {
      "application/vnd.jupyter.widget-view+json": {
       "model_id": "86e1a4c3ffce4b50aa70479db12e92b7",
       "version_major": 2,
       "version_minor": 0
      },
      "text/plain": [
       "  0%|          | 0/4 [00:00<?, ?it/s]"
      ]
     },
     "metadata": {},
     "output_type": "display_data"
    },
    {
     "data": {
      "application/vnd.jupyter.widget-view+json": {
       "model_id": "6f3868c292004cb8abf33dbdaf224eaa",
       "version_major": 2,
       "version_minor": 0
      },
      "text/plain": [
       "  0%|          | 0/4 [00:00<?, ?it/s]"
      ]
     },
     "metadata": {},
     "output_type": "display_data"
    },
    {
     "data": {
      "application/vnd.jupyter.widget-view+json": {
       "model_id": "ba61ab28c3b74d5e89eb8bb917ac3bc9",
       "version_major": 2,
       "version_minor": 0
      },
      "text/plain": [
       "  0%|          | 0/4 [00:00<?, ?it/s]"
      ]
     },
     "metadata": {},
     "output_type": "display_data"
    },
    {
     "data": {
      "application/vnd.jupyter.widget-view+json": {
       "model_id": "e2f366f943a84e17b9476c89f0017584",
       "version_major": 2,
       "version_minor": 0
      },
      "text/plain": [
       "  0%|          | 0/4 [00:00<?, ?it/s]"
      ]
     },
     "metadata": {},
     "output_type": "display_data"
    },
    {
     "data": {
      "application/vnd.jupyter.widget-view+json": {
       "model_id": "d79e369ff9ef480caf6ee2ca0ea8a08a",
       "version_major": 2,
       "version_minor": 0
      },
      "text/plain": [
       "  0%|          | 0/4 [00:00<?, ?it/s]"
      ]
     },
     "metadata": {},
     "output_type": "display_data"
    },
    {
     "data": {
      "application/vnd.jupyter.widget-view+json": {
       "model_id": "6d5e0fb8b3a7438590989c37f0dde1d0",
       "version_major": 2,
       "version_minor": 0
      },
      "text/plain": [
       "  0%|          | 0/4 [00:00<?, ?it/s]"
      ]
     },
     "metadata": {},
     "output_type": "display_data"
    },
    {
     "data": {
      "application/vnd.jupyter.widget-view+json": {
       "model_id": "0019b63ad2f94f198cf772d362a221cc",
       "version_major": 2,
       "version_minor": 0
      },
      "text/plain": [
       "  0%|          | 0/4 [00:00<?, ?it/s]"
      ]
     },
     "metadata": {},
     "output_type": "display_data"
    },
    {
     "data": {
      "application/vnd.jupyter.widget-view+json": {
       "model_id": "42399cff052145059619d4ee4b098227",
       "version_major": 2,
       "version_minor": 0
      },
      "text/plain": [
       "  0%|          | 0/4 [00:00<?, ?it/s]"
      ]
     },
     "metadata": {},
     "output_type": "display_data"
    },
    {
     "data": {
      "application/vnd.jupyter.widget-view+json": {
       "model_id": "cdf0d61f9fc84c52bad866579cbaa4e8",
       "version_major": 2,
       "version_minor": 0
      },
      "text/plain": [
       "  0%|          | 0/4 [00:00<?, ?it/s]"
      ]
     },
     "metadata": {},
     "output_type": "display_data"
    },
    {
     "data": {
      "application/vnd.jupyter.widget-view+json": {
       "model_id": "2ef178f418f941f7aed30a9779c5b531",
       "version_major": 2,
       "version_minor": 0
      },
      "text/plain": [
       "  0%|          | 0/4 [00:00<?, ?it/s]"
      ]
     },
     "metadata": {},
     "output_type": "display_data"
    },
    {
     "data": {
      "application/vnd.jupyter.widget-view+json": {
       "model_id": "f4bb3f8e7e2d4f8c81121d303683315b",
       "version_major": 2,
       "version_minor": 0
      },
      "text/plain": [
       "  0%|          | 0/4 [00:00<?, ?it/s]"
      ]
     },
     "metadata": {},
     "output_type": "display_data"
    },
    {
     "data": {
      "application/vnd.jupyter.widget-view+json": {
       "model_id": "0c8bd51ccd334f5486d19d92880ee14e",
       "version_major": 2,
       "version_minor": 0
      },
      "text/plain": [
       "  0%|          | 0/4 [00:00<?, ?it/s]"
      ]
     },
     "metadata": {},
     "output_type": "display_data"
    },
    {
     "data": {
      "application/vnd.jupyter.widget-view+json": {
       "model_id": "57a94c91f455466c8f2c578fee8ad7e5",
       "version_major": 2,
       "version_minor": 0
      },
      "text/plain": [
       "  0%|          | 0/4 [00:00<?, ?it/s]"
      ]
     },
     "metadata": {},
     "output_type": "display_data"
    },
    {
     "data": {
      "application/vnd.jupyter.widget-view+json": {
       "model_id": "b6d68da6bd054ecb8b3f0ab094d0b14c",
       "version_major": 2,
       "version_minor": 0
      },
      "text/plain": [
       "  0%|          | 0/4 [00:00<?, ?it/s]"
      ]
     },
     "metadata": {},
     "output_type": "display_data"
    },
    {
     "data": {
      "application/vnd.jupyter.widget-view+json": {
       "model_id": "6236d86a048c48599235803db92b0c1f",
       "version_major": 2,
       "version_minor": 0
      },
      "text/plain": [
       "  0%|          | 0/4 [00:00<?, ?it/s]"
      ]
     },
     "metadata": {},
     "output_type": "display_data"
    },
    {
     "data": {
      "application/vnd.jupyter.widget-view+json": {
       "model_id": "90c5a73aea024a84bcf48100d1d4bca9",
       "version_major": 2,
       "version_minor": 0
      },
      "text/plain": [
       "  0%|          | 0/4 [00:00<?, ?it/s]"
      ]
     },
     "metadata": {},
     "output_type": "display_data"
    },
    {
     "data": {
      "application/vnd.jupyter.widget-view+json": {
       "model_id": "13cd02581c1b45eab293ea516c8fbb76",
       "version_major": 2,
       "version_minor": 0
      },
      "text/plain": [
       "  0%|          | 0/4 [00:00<?, ?it/s]"
      ]
     },
     "metadata": {},
     "output_type": "display_data"
    },
    {
     "data": {
      "application/vnd.jupyter.widget-view+json": {
       "model_id": "6c5735a429564e77bcce0d18b20a9689",
       "version_major": 2,
       "version_minor": 0
      },
      "text/plain": [
       "  0%|          | 0/4 [00:00<?, ?it/s]"
      ]
     },
     "metadata": {},
     "output_type": "display_data"
    },
    {
     "data": {
      "application/vnd.jupyter.widget-view+json": {
       "model_id": "23fef07cf099474dbe60b4b93801d1ee",
       "version_major": 2,
       "version_minor": 0
      },
      "text/plain": [
       "  0%|          | 0/4 [00:00<?, ?it/s]"
      ]
     },
     "metadata": {},
     "output_type": "display_data"
    },
    {
     "data": {
      "application/vnd.jupyter.widget-view+json": {
       "model_id": "f19d0c90c44242ebb5d755723531f86f",
       "version_major": 2,
       "version_minor": 0
      },
      "text/plain": [
       "  0%|          | 0/4 [00:00<?, ?it/s]"
      ]
     },
     "metadata": {},
     "output_type": "display_data"
    },
    {
     "data": {
      "application/vnd.jupyter.widget-view+json": {
       "model_id": "1761c1236ea64e7ba47e55497a16922a",
       "version_major": 2,
       "version_minor": 0
      },
      "text/plain": [
       "  0%|          | 0/4 [00:00<?, ?it/s]"
      ]
     },
     "metadata": {},
     "output_type": "display_data"
    },
    {
     "data": {
      "application/vnd.jupyter.widget-view+json": {
       "model_id": "1777eb8f6ba74c979f3e1266bdd0a8ca",
       "version_major": 2,
       "version_minor": 0
      },
      "text/plain": [
       "  0%|          | 0/4 [00:00<?, ?it/s]"
      ]
     },
     "metadata": {},
     "output_type": "display_data"
    },
    {
     "data": {
      "application/vnd.jupyter.widget-view+json": {
       "model_id": "333e89c998f044a4b9d58355baf15ebb",
       "version_major": 2,
       "version_minor": 0
      },
      "text/plain": [
       "  0%|          | 0/4 [00:00<?, ?it/s]"
      ]
     },
     "metadata": {},
     "output_type": "display_data"
    },
    {
     "data": {
      "application/vnd.jupyter.widget-view+json": {
       "model_id": "159fe5a7704a4340ab0e4357e1ab04c4",
       "version_major": 2,
       "version_minor": 0
      },
      "text/plain": [
       "  0%|          | 0/4 [00:00<?, ?it/s]"
      ]
     },
     "metadata": {},
     "output_type": "display_data"
    },
    {
     "data": {
      "application/vnd.jupyter.widget-view+json": {
       "model_id": "e7e224ec5cae4a19b57a28ab7263a9eb",
       "version_major": 2,
       "version_minor": 0
      },
      "text/plain": [
       "  0%|          | 0/4 [00:00<?, ?it/s]"
      ]
     },
     "metadata": {},
     "output_type": "display_data"
    },
    {
     "data": {
      "application/vnd.jupyter.widget-view+json": {
       "model_id": "c71bc5b4aa4b4c8a96dd1e0393595bbc",
       "version_major": 2,
       "version_minor": 0
      },
      "text/plain": [
       "  0%|          | 0/4 [00:00<?, ?it/s]"
      ]
     },
     "metadata": {},
     "output_type": "display_data"
    },
    {
     "data": {
      "application/vnd.jupyter.widget-view+json": {
       "model_id": "36213bd13b4b4592845b17515885ac9b",
       "version_major": 2,
       "version_minor": 0
      },
      "text/plain": [
       "  0%|          | 0/4 [00:00<?, ?it/s]"
      ]
     },
     "metadata": {},
     "output_type": "display_data"
    },
    {
     "data": {
      "application/vnd.jupyter.widget-view+json": {
       "model_id": "4dc087ebc4904134b2c7596cb8a29aab",
       "version_major": 2,
       "version_minor": 0
      },
      "text/plain": [
       "  0%|          | 0/4 [00:00<?, ?it/s]"
      ]
     },
     "metadata": {},
     "output_type": "display_data"
    },
    {
     "data": {
      "application/vnd.jupyter.widget-view+json": {
       "model_id": "e2aefa920218426a93790f254210a945",
       "version_major": 2,
       "version_minor": 0
      },
      "text/plain": [
       "  0%|          | 0/4 [00:00<?, ?it/s]"
      ]
     },
     "metadata": {},
     "output_type": "display_data"
    },
    {
     "data": {
      "application/vnd.jupyter.widget-view+json": {
       "model_id": "ff52139cbdc54716ac9705b95a5b923e",
       "version_major": 2,
       "version_minor": 0
      },
      "text/plain": [
       "  0%|          | 0/4 [00:00<?, ?it/s]"
      ]
     },
     "metadata": {},
     "output_type": "display_data"
    },
    {
     "data": {
      "application/vnd.jupyter.widget-view+json": {
       "model_id": "b65795b51da84e09ae2e7254f2c96c69",
       "version_major": 2,
       "version_minor": 0
      },
      "text/plain": [
       "  0%|          | 0/4 [00:00<?, ?it/s]"
      ]
     },
     "metadata": {},
     "output_type": "display_data"
    },
    {
     "data": {
      "application/vnd.jupyter.widget-view+json": {
       "model_id": "aa86616bf020433ba373d3b76a0b5d24",
       "version_major": 2,
       "version_minor": 0
      },
      "text/plain": [
       "  0%|          | 0/4 [00:00<?, ?it/s]"
      ]
     },
     "metadata": {},
     "output_type": "display_data"
    },
    {
     "data": {
      "application/vnd.jupyter.widget-view+json": {
       "model_id": "6115c5835d8940dcb4220aa70288428d",
       "version_major": 2,
       "version_minor": 0
      },
      "text/plain": [
       "  0%|          | 0/4 [00:00<?, ?it/s]"
      ]
     },
     "metadata": {},
     "output_type": "display_data"
    },
    {
     "data": {
      "application/vnd.jupyter.widget-view+json": {
       "model_id": "3f8475f011de430eb82ea9d346010cf9",
       "version_major": 2,
       "version_minor": 0
      },
      "text/plain": [
       "  0%|          | 0/4 [00:00<?, ?it/s]"
      ]
     },
     "metadata": {},
     "output_type": "display_data"
    },
    {
     "data": {
      "application/vnd.jupyter.widget-view+json": {
       "model_id": "03ea264849e244bcaf12aa2de4bc6b41",
       "version_major": 2,
       "version_minor": 0
      },
      "text/plain": [
       "  0%|          | 0/4 [00:00<?, ?it/s]"
      ]
     },
     "metadata": {},
     "output_type": "display_data"
    },
    {
     "data": {
      "application/vnd.jupyter.widget-view+json": {
       "model_id": "7608f68a50714ffe9f95b8f485e817fa",
       "version_major": 2,
       "version_minor": 0
      },
      "text/plain": [
       "  0%|          | 0/4 [00:00<?, ?it/s]"
      ]
     },
     "metadata": {},
     "output_type": "display_data"
    },
    {
     "data": {
      "application/vnd.jupyter.widget-view+json": {
       "model_id": "8169ce6d69064eb1b8bd6428322b7d54",
       "version_major": 2,
       "version_minor": 0
      },
      "text/plain": [
       "  0%|          | 0/4 [00:00<?, ?it/s]"
      ]
     },
     "metadata": {},
     "output_type": "display_data"
    },
    {
     "data": {
      "application/vnd.jupyter.widget-view+json": {
       "model_id": "e2ad5c48eed94bd2996a5e7a88da5540",
       "version_major": 2,
       "version_minor": 0
      },
      "text/plain": [
       "  0%|          | 0/4 [00:00<?, ?it/s]"
      ]
     },
     "metadata": {},
     "output_type": "display_data"
    },
    {
     "data": {
      "application/vnd.jupyter.widget-view+json": {
       "model_id": "56a46f942e0d442da53b7728bfb9be41",
       "version_major": 2,
       "version_minor": 0
      },
      "text/plain": [
       "  0%|          | 0/4 [00:00<?, ?it/s]"
      ]
     },
     "metadata": {},
     "output_type": "display_data"
    },
    {
     "data": {
      "application/vnd.jupyter.widget-view+json": {
       "model_id": "fa8a872ffd90463cb97f17464af1302a",
       "version_major": 2,
       "version_minor": 0
      },
      "text/plain": [
       "  0%|          | 0/4 [00:00<?, ?it/s]"
      ]
     },
     "metadata": {},
     "output_type": "display_data"
    },
    {
     "data": {
      "application/vnd.jupyter.widget-view+json": {
       "model_id": "154832df586b4e558f4af76fc1c2c5a9",
       "version_major": 2,
       "version_minor": 0
      },
      "text/plain": [
       "  0%|          | 0/4 [00:00<?, ?it/s]"
      ]
     },
     "metadata": {},
     "output_type": "display_data"
    },
    {
     "data": {
      "application/vnd.jupyter.widget-view+json": {
       "model_id": "62d877ece09b4249940a8421f59f82d3",
       "version_major": 2,
       "version_minor": 0
      },
      "text/plain": [
       "  0%|          | 0/4 [00:00<?, ?it/s]"
      ]
     },
     "metadata": {},
     "output_type": "display_data"
    },
    {
     "data": {
      "application/vnd.jupyter.widget-view+json": {
       "model_id": "7f0545490fb04e56ae8de1db9efe6ab9",
       "version_major": 2,
       "version_minor": 0
      },
      "text/plain": [
       "  0%|          | 0/4 [00:00<?, ?it/s]"
      ]
     },
     "metadata": {},
     "output_type": "display_data"
    },
    {
     "data": {
      "application/vnd.jupyter.widget-view+json": {
       "model_id": "3d9c1886c17c45e3ac17fbdb69a923c6",
       "version_major": 2,
       "version_minor": 0
      },
      "text/plain": [
       "  0%|          | 0/4 [00:00<?, ?it/s]"
      ]
     },
     "metadata": {},
     "output_type": "display_data"
    },
    {
     "data": {
      "application/vnd.jupyter.widget-view+json": {
       "model_id": "32c7e257430249989b7b2113ff33d85a",
       "version_major": 2,
       "version_minor": 0
      },
      "text/plain": [
       "  0%|          | 0/4 [00:00<?, ?it/s]"
      ]
     },
     "metadata": {},
     "output_type": "display_data"
    },
    {
     "data": {
      "application/vnd.jupyter.widget-view+json": {
       "model_id": "9d9e5ac862124652b34d002ad7ea25bf",
       "version_major": 2,
       "version_minor": 0
      },
      "text/plain": [
       "  0%|          | 0/4 [00:00<?, ?it/s]"
      ]
     },
     "metadata": {},
     "output_type": "display_data"
    },
    {
     "data": {
      "application/vnd.jupyter.widget-view+json": {
       "model_id": "c7b530b2d78242cebf535396ccea907e",
       "version_major": 2,
       "version_minor": 0
      },
      "text/plain": [
       "  0%|          | 0/4 [00:00<?, ?it/s]"
      ]
     },
     "metadata": {},
     "output_type": "display_data"
    },
    {
     "data": {
      "application/vnd.jupyter.widget-view+json": {
       "model_id": "d474027ae4ab4586a80a14308b2f78cf",
       "version_major": 2,
       "version_minor": 0
      },
      "text/plain": [
       "  0%|          | 0/4 [00:00<?, ?it/s]"
      ]
     },
     "metadata": {},
     "output_type": "display_data"
    },
    {
     "data": {
      "application/vnd.jupyter.widget-view+json": {
       "model_id": "34ef97c15f80455eab22ff4e4e2d600e",
       "version_major": 2,
       "version_minor": 0
      },
      "text/plain": [
       "  0%|          | 0/4 [00:00<?, ?it/s]"
      ]
     },
     "metadata": {},
     "output_type": "display_data"
    },
    {
     "data": {
      "application/vnd.jupyter.widget-view+json": {
       "model_id": "30a130af6e4749cc8cdd7ecd5b87a116",
       "version_major": 2,
       "version_minor": 0
      },
      "text/plain": [
       "  0%|          | 0/4 [00:00<?, ?it/s]"
      ]
     },
     "metadata": {},
     "output_type": "display_data"
    },
    {
     "data": {
      "application/vnd.jupyter.widget-view+json": {
       "model_id": "47b0cfe798424c04b77f7f9802bee709",
       "version_major": 2,
       "version_minor": 0
      },
      "text/plain": [
       "  0%|          | 0/4 [00:00<?, ?it/s]"
      ]
     },
     "metadata": {},
     "output_type": "display_data"
    },
    {
     "data": {
      "application/vnd.jupyter.widget-view+json": {
       "model_id": "335501c3935242afa90dd4bf78e3a621",
       "version_major": 2,
       "version_minor": 0
      },
      "text/plain": [
       "  0%|          | 0/4 [00:00<?, ?it/s]"
      ]
     },
     "metadata": {},
     "output_type": "display_data"
    },
    {
     "data": {
      "application/vnd.jupyter.widget-view+json": {
       "model_id": "25a1cf6072aa47b5b9b36b3f75c8f55c",
       "version_major": 2,
       "version_minor": 0
      },
      "text/plain": [
       "  0%|          | 0/4 [00:00<?, ?it/s]"
      ]
     },
     "metadata": {},
     "output_type": "display_data"
    },
    {
     "data": {
      "application/vnd.jupyter.widget-view+json": {
       "model_id": "fe01ca0353444ac9a0b64391ee569a63",
       "version_major": 2,
       "version_minor": 0
      },
      "text/plain": [
       "  0%|          | 0/4 [00:00<?, ?it/s]"
      ]
     },
     "metadata": {},
     "output_type": "display_data"
    },
    {
     "data": {
      "application/vnd.jupyter.widget-view+json": {
       "model_id": "3eb71229a0cb4f0faa5213ce60ca5581",
       "version_major": 2,
       "version_minor": 0
      },
      "text/plain": [
       "  0%|          | 0/4 [00:00<?, ?it/s]"
      ]
     },
     "metadata": {},
     "output_type": "display_data"
    },
    {
     "data": {
      "application/vnd.jupyter.widget-view+json": {
       "model_id": "53d2f8d7189246ea953b1f8a5b696fbc",
       "version_major": 2,
       "version_minor": 0
      },
      "text/plain": [
       "  0%|          | 0/4 [00:00<?, ?it/s]"
      ]
     },
     "metadata": {},
     "output_type": "display_data"
    },
    {
     "data": {
      "application/vnd.jupyter.widget-view+json": {
       "model_id": "6a65c7b0ee79429b83d6d2b48626c920",
       "version_major": 2,
       "version_minor": 0
      },
      "text/plain": [
       "  0%|          | 0/4 [00:00<?, ?it/s]"
      ]
     },
     "metadata": {},
     "output_type": "display_data"
    },
    {
     "data": {
      "application/vnd.jupyter.widget-view+json": {
       "model_id": "abadc531d90e47ed921e76be95bbc637",
       "version_major": 2,
       "version_minor": 0
      },
      "text/plain": [
       "  0%|          | 0/4 [00:00<?, ?it/s]"
      ]
     },
     "metadata": {},
     "output_type": "display_data"
    },
    {
     "data": {
      "application/vnd.jupyter.widget-view+json": {
       "model_id": "9b04c4b5d61f4185bec468f589a2ec24",
       "version_major": 2,
       "version_minor": 0
      },
      "text/plain": [
       "  0%|          | 0/4 [00:00<?, ?it/s]"
      ]
     },
     "metadata": {},
     "output_type": "display_data"
    },
    {
     "data": {
      "application/vnd.jupyter.widget-view+json": {
       "model_id": "f4576810ba1e426d83b1e3dd120f7f55",
       "version_major": 2,
       "version_minor": 0
      },
      "text/plain": [
       "  0%|          | 0/4 [00:00<?, ?it/s]"
      ]
     },
     "metadata": {},
     "output_type": "display_data"
    },
    {
     "data": {
      "application/vnd.jupyter.widget-view+json": {
       "model_id": "e35d410304d842e58bff688a5975e05a",
       "version_major": 2,
       "version_minor": 0
      },
      "text/plain": [
       "  0%|          | 0/4 [00:00<?, ?it/s]"
      ]
     },
     "metadata": {},
     "output_type": "display_data"
    },
    {
     "data": {
      "application/vnd.jupyter.widget-view+json": {
       "model_id": "7f5ab14b267a47d3bb077eff839715eb",
       "version_major": 2,
       "version_minor": 0
      },
      "text/plain": [
       "  0%|          | 0/4 [00:00<?, ?it/s]"
      ]
     },
     "metadata": {},
     "output_type": "display_data"
    },
    {
     "data": {
      "application/vnd.jupyter.widget-view+json": {
       "model_id": "e16db10f3296466cb1d16441c6565964",
       "version_major": 2,
       "version_minor": 0
      },
      "text/plain": [
       "  0%|          | 0/4 [00:00<?, ?it/s]"
      ]
     },
     "metadata": {},
     "output_type": "display_data"
    },
    {
     "data": {
      "application/vnd.jupyter.widget-view+json": {
       "model_id": "3904c0eff2574f8d9295e10834733161",
       "version_major": 2,
       "version_minor": 0
      },
      "text/plain": [
       "  0%|          | 0/4 [00:00<?, ?it/s]"
      ]
     },
     "metadata": {},
     "output_type": "display_data"
    },
    {
     "data": {
      "application/vnd.jupyter.widget-view+json": {
       "model_id": "18c9a5b422aa4e2f8cf19fa986d3280d",
       "version_major": 2,
       "version_minor": 0
      },
      "text/plain": [
       "  0%|          | 0/4 [00:00<?, ?it/s]"
      ]
     },
     "metadata": {},
     "output_type": "display_data"
    },
    {
     "data": {
      "application/vnd.jupyter.widget-view+json": {
       "model_id": "7b2d19838a264a08be581a314865f6d8",
       "version_major": 2,
       "version_minor": 0
      },
      "text/plain": [
       "  0%|          | 0/4 [00:00<?, ?it/s]"
      ]
     },
     "metadata": {},
     "output_type": "display_data"
    },
    {
     "data": {
      "application/vnd.jupyter.widget-view+json": {
       "model_id": "5fc56bd8bee24ccc9fa3c4bb81b5aa17",
       "version_major": 2,
       "version_minor": 0
      },
      "text/plain": [
       "  0%|          | 0/4 [00:00<?, ?it/s]"
      ]
     },
     "metadata": {},
     "output_type": "display_data"
    },
    {
     "data": {
      "application/vnd.jupyter.widget-view+json": {
       "model_id": "a99a5a389ee647cd9a37ff2fac47df89",
       "version_major": 2,
       "version_minor": 0
      },
      "text/plain": [
       "  0%|          | 0/4 [00:00<?, ?it/s]"
      ]
     },
     "metadata": {},
     "output_type": "display_data"
    },
    {
     "data": {
      "application/vnd.jupyter.widget-view+json": {
       "model_id": "251208ab90604e398550fb3aa09d0e3d",
       "version_major": 2,
       "version_minor": 0
      },
      "text/plain": [
       "  0%|          | 0/4 [00:00<?, ?it/s]"
      ]
     },
     "metadata": {},
     "output_type": "display_data"
    },
    {
     "data": {
      "application/vnd.jupyter.widget-view+json": {
       "model_id": "f1516916771d41299dfd0187b355259d",
       "version_major": 2,
       "version_minor": 0
      },
      "text/plain": [
       "  0%|          | 0/4 [00:00<?, ?it/s]"
      ]
     },
     "metadata": {},
     "output_type": "display_data"
    },
    {
     "data": {
      "application/vnd.jupyter.widget-view+json": {
       "model_id": "ccfd36ea6c8c4286a2e8d016a35abd11",
       "version_major": 2,
       "version_minor": 0
      },
      "text/plain": [
       "  0%|          | 0/4 [00:00<?, ?it/s]"
      ]
     },
     "metadata": {},
     "output_type": "display_data"
    },
    {
     "data": {
      "application/vnd.jupyter.widget-view+json": {
       "model_id": "9d00e1da1b3a4e8681cbc444407b8131",
       "version_major": 2,
       "version_minor": 0
      },
      "text/plain": [
       "  0%|          | 0/4 [00:00<?, ?it/s]"
      ]
     },
     "metadata": {},
     "output_type": "display_data"
    },
    {
     "data": {
      "application/vnd.jupyter.widget-view+json": {
       "model_id": "8c7efc0f1ccb4143903b455116f62add",
       "version_major": 2,
       "version_minor": 0
      },
      "text/plain": [
       "  0%|          | 0/4 [00:00<?, ?it/s]"
      ]
     },
     "metadata": {},
     "output_type": "display_data"
    },
    {
     "data": {
      "application/vnd.jupyter.widget-view+json": {
       "model_id": "ad35ab1252dc45c8b2de53f6158f5fbc",
       "version_major": 2,
       "version_minor": 0
      },
      "text/plain": [
       "  0%|          | 0/4 [00:00<?, ?it/s]"
      ]
     },
     "metadata": {},
     "output_type": "display_data"
    },
    {
     "data": {
      "application/vnd.jupyter.widget-view+json": {
       "model_id": "9bb8379ae010414da051701b5f579013",
       "version_major": 2,
       "version_minor": 0
      },
      "text/plain": [
       "  0%|          | 0/4 [00:00<?, ?it/s]"
      ]
     },
     "metadata": {},
     "output_type": "display_data"
    },
    {
     "data": {
      "application/vnd.jupyter.widget-view+json": {
       "model_id": "2119669682d64a6e8b987ec4d96a0355",
       "version_major": 2,
       "version_minor": 0
      },
      "text/plain": [
       "  0%|          | 0/4 [00:00<?, ?it/s]"
      ]
     },
     "metadata": {},
     "output_type": "display_data"
    },
    {
     "data": {
      "application/vnd.jupyter.widget-view+json": {
       "model_id": "31e300834b9d4a6cb7fcaf65623d6a1f",
       "version_major": 2,
       "version_minor": 0
      },
      "text/plain": [
       "  0%|          | 0/4 [00:00<?, ?it/s]"
      ]
     },
     "metadata": {},
     "output_type": "display_data"
    },
    {
     "data": {
      "application/vnd.jupyter.widget-view+json": {
       "model_id": "e38fa898534d4b9e82d57c26f94df8a4",
       "version_major": 2,
       "version_minor": 0
      },
      "text/plain": [
       "  0%|          | 0/4 [00:00<?, ?it/s]"
      ]
     },
     "metadata": {},
     "output_type": "display_data"
    },
    {
     "data": {
      "application/vnd.jupyter.widget-view+json": {
       "model_id": "6d2eae51095c4ec09735d0b70607fdb9",
       "version_major": 2,
       "version_minor": 0
      },
      "text/plain": [
       "  0%|          | 0/4 [00:00<?, ?it/s]"
      ]
     },
     "metadata": {},
     "output_type": "display_data"
    },
    {
     "data": {
      "application/vnd.jupyter.widget-view+json": {
       "model_id": "6af9ae4d7cfc414f81d58cf7ff70bf33",
       "version_major": 2,
       "version_minor": 0
      },
      "text/plain": [
       "  0%|          | 0/4 [00:00<?, ?it/s]"
      ]
     },
     "metadata": {},
     "output_type": "display_data"
    },
    {
     "data": {
      "application/vnd.jupyter.widget-view+json": {
       "model_id": "7160c342952f4fefbb8dabef5d9ee4ea",
       "version_major": 2,
       "version_minor": 0
      },
      "text/plain": [
       "  0%|          | 0/4 [00:00<?, ?it/s]"
      ]
     },
     "metadata": {},
     "output_type": "display_data"
    },
    {
     "data": {
      "application/vnd.jupyter.widget-view+json": {
       "model_id": "8820fda1911d4e67bdc17efc522fcdbd",
       "version_major": 2,
       "version_minor": 0
      },
      "text/plain": [
       "  0%|          | 0/4 [00:00<?, ?it/s]"
      ]
     },
     "metadata": {},
     "output_type": "display_data"
    },
    {
     "data": {
      "application/vnd.jupyter.widget-view+json": {
       "model_id": "0d2eb7eed4cf4151ba964560aec11148",
       "version_major": 2,
       "version_minor": 0
      },
      "text/plain": [
       "  0%|          | 0/4 [00:00<?, ?it/s]"
      ]
     },
     "metadata": {},
     "output_type": "display_data"
    },
    {
     "data": {
      "application/vnd.jupyter.widget-view+json": {
       "model_id": "6bc0425aaf2143febf90aa3ccec18b03",
       "version_major": 2,
       "version_minor": 0
      },
      "text/plain": [
       "  0%|          | 0/4 [00:00<?, ?it/s]"
      ]
     },
     "metadata": {},
     "output_type": "display_data"
    },
    {
     "data": {
      "application/vnd.jupyter.widget-view+json": {
       "model_id": "1b1d3cd4a5684fc08f50f7a5412f9a59",
       "version_major": 2,
       "version_minor": 0
      },
      "text/plain": [
       "  0%|          | 0/4 [00:00<?, ?it/s]"
      ]
     },
     "metadata": {},
     "output_type": "display_data"
    },
    {
     "data": {
      "application/vnd.jupyter.widget-view+json": {
       "model_id": "aed38e04332048179f440f3a74bcd75b",
       "version_major": 2,
       "version_minor": 0
      },
      "text/plain": [
       "  0%|          | 0/4 [00:00<?, ?it/s]"
      ]
     },
     "metadata": {},
     "output_type": "display_data"
    },
    {
     "data": {
      "application/vnd.jupyter.widget-view+json": {
       "model_id": "bd14b7e16e3e47f7853083aa95e01adf",
       "version_major": 2,
       "version_minor": 0
      },
      "text/plain": [
       "  0%|          | 0/4 [00:00<?, ?it/s]"
      ]
     },
     "metadata": {},
     "output_type": "display_data"
    },
    {
     "data": {
      "application/vnd.jupyter.widget-view+json": {
       "model_id": "53ac15b308674e7ca312d0128753180c",
       "version_major": 2,
       "version_minor": 0
      },
      "text/plain": [
       "  0%|          | 0/4 [00:00<?, ?it/s]"
      ]
     },
     "metadata": {},
     "output_type": "display_data"
    },
    {
     "data": {
      "application/vnd.jupyter.widget-view+json": {
       "model_id": "35f5fb94e89f42f3a281390adae5c57c",
       "version_major": 2,
       "version_minor": 0
      },
      "text/plain": [
       "  0%|          | 0/4 [00:00<?, ?it/s]"
      ]
     },
     "metadata": {},
     "output_type": "display_data"
    },
    {
     "data": {
      "application/vnd.jupyter.widget-view+json": {
       "model_id": "f99bfc9e59424d68953bd62b2b7304f3",
       "version_major": 2,
       "version_minor": 0
      },
      "text/plain": [
       "  0%|          | 0/4 [00:00<?, ?it/s]"
      ]
     },
     "metadata": {},
     "output_type": "display_data"
    },
    {
     "data": {
      "application/vnd.jupyter.widget-view+json": {
       "model_id": "7b10492d30814e9a82971a6c93cd85c5",
       "version_major": 2,
       "version_minor": 0
      },
      "text/plain": [
       "  0%|          | 0/4 [00:00<?, ?it/s]"
      ]
     },
     "metadata": {},
     "output_type": "display_data"
    },
    {
     "data": {
      "application/vnd.jupyter.widget-view+json": {
       "model_id": "d0058a072e8845e4b933588aed3daf03",
       "version_major": 2,
       "version_minor": 0
      },
      "text/plain": [
       "  0%|          | 0/4 [00:00<?, ?it/s]"
      ]
     },
     "metadata": {},
     "output_type": "display_data"
    },
    {
     "data": {
      "application/vnd.jupyter.widget-view+json": {
       "model_id": "3653eed319614f1b9521f90a3604abcc",
       "version_major": 2,
       "version_minor": 0
      },
      "text/plain": [
       "  0%|          | 0/4 [00:00<?, ?it/s]"
      ]
     },
     "metadata": {},
     "output_type": "display_data"
    },
    {
     "data": {
      "application/vnd.jupyter.widget-view+json": {
       "model_id": "6354f5d9e2ea4947bd9ecba213a7931c",
       "version_major": 2,
       "version_minor": 0
      },
      "text/plain": [
       "  0%|          | 0/4 [00:00<?, ?it/s]"
      ]
     },
     "metadata": {},
     "output_type": "display_data"
    },
    {
     "data": {
      "application/vnd.jupyter.widget-view+json": {
       "model_id": "d471e24b5f8343ada4bc168cbb8c8e9d",
       "version_major": 2,
       "version_minor": 0
      },
      "text/plain": [
       "  0%|          | 0/4 [00:00<?, ?it/s]"
      ]
     },
     "metadata": {},
     "output_type": "display_data"
    },
    {
     "data": {
      "application/vnd.jupyter.widget-view+json": {
       "model_id": "3498e726e2574e6b9bed81454efbc14c",
       "version_major": 2,
       "version_minor": 0
      },
      "text/plain": [
       "  0%|          | 0/4 [00:00<?, ?it/s]"
      ]
     },
     "metadata": {},
     "output_type": "display_data"
    },
    {
     "data": {
      "application/vnd.jupyter.widget-view+json": {
       "model_id": "2ac7248253de49e0a6a2a5cc1309990c",
       "version_major": 2,
       "version_minor": 0
      },
      "text/plain": [
       "  0%|          | 0/4 [00:00<?, ?it/s]"
      ]
     },
     "metadata": {},
     "output_type": "display_data"
    },
    {
     "data": {
      "application/vnd.jupyter.widget-view+json": {
       "model_id": "bc6d55b53c0c4940a12c0e289de77075",
       "version_major": 2,
       "version_minor": 0
      },
      "text/plain": [
       "  0%|          | 0/4 [00:00<?, ?it/s]"
      ]
     },
     "metadata": {},
     "output_type": "display_data"
    },
    {
     "data": {
      "application/vnd.jupyter.widget-view+json": {
       "model_id": "6b136ffa3b3e4af99165370363c68e48",
       "version_major": 2,
       "version_minor": 0
      },
      "text/plain": [
       "  0%|          | 0/4 [00:00<?, ?it/s]"
      ]
     },
     "metadata": {},
     "output_type": "display_data"
    },
    {
     "data": {
      "application/vnd.jupyter.widget-view+json": {
       "model_id": "72f9ad26c70f430cae63c2442bb2dfc5",
       "version_major": 2,
       "version_minor": 0
      },
      "text/plain": [
       "  0%|          | 0/4 [00:00<?, ?it/s]"
      ]
     },
     "metadata": {},
     "output_type": "display_data"
    },
    {
     "data": {
      "application/vnd.jupyter.widget-view+json": {
       "model_id": "461a70c857ec4107a54899e66ff796d8",
       "version_major": 2,
       "version_minor": 0
      },
      "text/plain": [
       "  0%|          | 0/4 [00:00<?, ?it/s]"
      ]
     },
     "metadata": {},
     "output_type": "display_data"
    },
    {
     "data": {
      "application/vnd.jupyter.widget-view+json": {
       "model_id": "fb5267292aae4f53a860186e1153b137",
       "version_major": 2,
       "version_minor": 0
      },
      "text/plain": [
       "  0%|          | 0/4 [00:00<?, ?it/s]"
      ]
     },
     "metadata": {},
     "output_type": "display_data"
    },
    {
     "data": {
      "application/vnd.jupyter.widget-view+json": {
       "model_id": "4ced7ccac64042059753d1a57bad1351",
       "version_major": 2,
       "version_minor": 0
      },
      "text/plain": [
       "  0%|          | 0/4 [00:00<?, ?it/s]"
      ]
     },
     "metadata": {},
     "output_type": "display_data"
    },
    {
     "data": {
      "application/vnd.jupyter.widget-view+json": {
       "model_id": "a32651872ffb4ce38df81aaae1f41267",
       "version_major": 2,
       "version_minor": 0
      },
      "text/plain": [
       "  0%|          | 0/4 [00:00<?, ?it/s]"
      ]
     },
     "metadata": {},
     "output_type": "display_data"
    },
    {
     "data": {
      "application/vnd.jupyter.widget-view+json": {
       "model_id": "2b5180ea298b4865b485228c7669c0a6",
       "version_major": 2,
       "version_minor": 0
      },
      "text/plain": [
       "  0%|          | 0/4 [00:00<?, ?it/s]"
      ]
     },
     "metadata": {},
     "output_type": "display_data"
    },
    {
     "data": {
      "application/vnd.jupyter.widget-view+json": {
       "model_id": "ac44c21e5e4b46bea1f6a99652eafad3",
       "version_major": 2,
       "version_minor": 0
      },
      "text/plain": [
       "  0%|          | 0/4 [00:00<?, ?it/s]"
      ]
     },
     "metadata": {},
     "output_type": "display_data"
    },
    {
     "data": {
      "application/vnd.jupyter.widget-view+json": {
       "model_id": "d84ef8593a04480c98ffb80f7bd4ff8b",
       "version_major": 2,
       "version_minor": 0
      },
      "text/plain": [
       "  0%|          | 0/4 [00:00<?, ?it/s]"
      ]
     },
     "metadata": {},
     "output_type": "display_data"
    },
    {
     "data": {
      "application/vnd.jupyter.widget-view+json": {
       "model_id": "8d5a7105cbec45f5814cdb46ace21889",
       "version_major": 2,
       "version_minor": 0
      },
      "text/plain": [
       "  0%|          | 0/4 [00:00<?, ?it/s]"
      ]
     },
     "metadata": {},
     "output_type": "display_data"
    },
    {
     "data": {
      "application/vnd.jupyter.widget-view+json": {
       "model_id": "37a82b6db34b48cb81440f326c1931fd",
       "version_major": 2,
       "version_minor": 0
      },
      "text/plain": [
       "  0%|          | 0/4 [00:00<?, ?it/s]"
      ]
     },
     "metadata": {},
     "output_type": "display_data"
    },
    {
     "data": {
      "application/vnd.jupyter.widget-view+json": {
       "model_id": "7890762e8f1240b1930065ccfb50d78e",
       "version_major": 2,
       "version_minor": 0
      },
      "text/plain": [
       "  0%|          | 0/4 [00:00<?, ?it/s]"
      ]
     },
     "metadata": {},
     "output_type": "display_data"
    },
    {
     "data": {
      "application/vnd.jupyter.widget-view+json": {
       "model_id": "3b0764250a084361b34b65b70d823bb8",
       "version_major": 2,
       "version_minor": 0
      },
      "text/plain": [
       "  0%|          | 0/4 [00:00<?, ?it/s]"
      ]
     },
     "metadata": {},
     "output_type": "display_data"
    },
    {
     "data": {
      "application/vnd.jupyter.widget-view+json": {
       "model_id": "258a71bb5f674df5934a8d2d46e50a80",
       "version_major": 2,
       "version_minor": 0
      },
      "text/plain": [
       "  0%|          | 0/4 [00:00<?, ?it/s]"
      ]
     },
     "metadata": {},
     "output_type": "display_data"
    },
    {
     "data": {
      "application/vnd.jupyter.widget-view+json": {
       "model_id": "284ab0731efc4c82af0e3a86ba0586b3",
       "version_major": 2,
       "version_minor": 0
      },
      "text/plain": [
       "  0%|          | 0/4 [00:00<?, ?it/s]"
      ]
     },
     "metadata": {},
     "output_type": "display_data"
    },
    {
     "data": {
      "application/vnd.jupyter.widget-view+json": {
       "model_id": "3ccaca714e2e48fa85bb2f1bdb9186b7",
       "version_major": 2,
       "version_minor": 0
      },
      "text/plain": [
       "  0%|          | 0/4 [00:00<?, ?it/s]"
      ]
     },
     "metadata": {},
     "output_type": "display_data"
    },
    {
     "data": {
      "application/vnd.jupyter.widget-view+json": {
       "model_id": "6f043c7bb9de4eefa63bb8150bda9524",
       "version_major": 2,
       "version_minor": 0
      },
      "text/plain": [
       "  0%|          | 0/4 [00:00<?, ?it/s]"
      ]
     },
     "metadata": {},
     "output_type": "display_data"
    },
    {
     "data": {
      "application/vnd.jupyter.widget-view+json": {
       "model_id": "d5ef9ac741844499a4636c47517786e8",
       "version_major": 2,
       "version_minor": 0
      },
      "text/plain": [
       "  0%|          | 0/4 [00:00<?, ?it/s]"
      ]
     },
     "metadata": {},
     "output_type": "display_data"
    },
    {
     "data": {
      "application/vnd.jupyter.widget-view+json": {
       "model_id": "31e2214331a04e9ea343a8d72667d2dd",
       "version_major": 2,
       "version_minor": 0
      },
      "text/plain": [
       "  0%|          | 0/4 [00:00<?, ?it/s]"
      ]
     },
     "metadata": {},
     "output_type": "display_data"
    },
    {
     "data": {
      "application/vnd.jupyter.widget-view+json": {
       "model_id": "003e7e2d64e04734addf9d7bfc212d3a",
       "version_major": 2,
       "version_minor": 0
      },
      "text/plain": [
       "  0%|          | 0/4 [00:00<?, ?it/s]"
      ]
     },
     "metadata": {},
     "output_type": "display_data"
    },
    {
     "data": {
      "application/vnd.jupyter.widget-view+json": {
       "model_id": "b01ad3aea9ac447f85efac40aa9f6d43",
       "version_major": 2,
       "version_minor": 0
      },
      "text/plain": [
       "  0%|          | 0/4 [00:00<?, ?it/s]"
      ]
     },
     "metadata": {},
     "output_type": "display_data"
    },
    {
     "data": {
      "application/vnd.jupyter.widget-view+json": {
       "model_id": "455dc84917a447a4a1499abb2ab30365",
       "version_major": 2,
       "version_minor": 0
      },
      "text/plain": [
       "  0%|          | 0/4 [00:00<?, ?it/s]"
      ]
     },
     "metadata": {},
     "output_type": "display_data"
    },
    {
     "data": {
      "application/vnd.jupyter.widget-view+json": {
       "model_id": "a36ca803a2814a968b5b174ba3b31e3a",
       "version_major": 2,
       "version_minor": 0
      },
      "text/plain": [
       "  0%|          | 0/4 [00:00<?, ?it/s]"
      ]
     },
     "metadata": {},
     "output_type": "display_data"
    },
    {
     "data": {
      "application/vnd.jupyter.widget-view+json": {
       "model_id": "886cb0e61ebd457f89f0a411c213abeb",
       "version_major": 2,
       "version_minor": 0
      },
      "text/plain": [
       "  0%|          | 0/4 [00:00<?, ?it/s]"
      ]
     },
     "metadata": {},
     "output_type": "display_data"
    },
    {
     "data": {
      "application/vnd.jupyter.widget-view+json": {
       "model_id": "65449e3ad54747a283e65b0b154065a4",
       "version_major": 2,
       "version_minor": 0
      },
      "text/plain": [
       "  0%|          | 0/4 [00:00<?, ?it/s]"
      ]
     },
     "metadata": {},
     "output_type": "display_data"
    },
    {
     "data": {
      "application/vnd.jupyter.widget-view+json": {
       "model_id": "77c1c8df39cd49d7896ceb46da4a3e25",
       "version_major": 2,
       "version_minor": 0
      },
      "text/plain": [
       "  0%|          | 0/4 [00:00<?, ?it/s]"
      ]
     },
     "metadata": {},
     "output_type": "display_data"
    },
    {
     "data": {
      "application/vnd.jupyter.widget-view+json": {
       "model_id": "1b21287daec042c4b593063d42df8742",
       "version_major": 2,
       "version_minor": 0
      },
      "text/plain": [
       "  0%|          | 0/4 [00:00<?, ?it/s]"
      ]
     },
     "metadata": {},
     "output_type": "display_data"
    },
    {
     "data": {
      "application/vnd.jupyter.widget-view+json": {
       "model_id": "eb837ec6265c4d1bb7ad5e568df1b62a",
       "version_major": 2,
       "version_minor": 0
      },
      "text/plain": [
       "  0%|          | 0/4 [00:00<?, ?it/s]"
      ]
     },
     "metadata": {},
     "output_type": "display_data"
    },
    {
     "data": {
      "application/vnd.jupyter.widget-view+json": {
       "model_id": "3f05e410be304144811a0447b6cf262c",
       "version_major": 2,
       "version_minor": 0
      },
      "text/plain": [
       "  0%|          | 0/4 [00:00<?, ?it/s]"
      ]
     },
     "metadata": {},
     "output_type": "display_data"
    },
    {
     "data": {
      "application/vnd.jupyter.widget-view+json": {
       "model_id": "e9234dc79d264075b7399717f3a27193",
       "version_major": 2,
       "version_minor": 0
      },
      "text/plain": [
       "  0%|          | 0/4 [00:00<?, ?it/s]"
      ]
     },
     "metadata": {},
     "output_type": "display_data"
    },
    {
     "data": {
      "application/vnd.jupyter.widget-view+json": {
       "model_id": "6d0cfa54cf91402f92abc481edb8405d",
       "version_major": 2,
       "version_minor": 0
      },
      "text/plain": [
       "  0%|          | 0/4 [00:00<?, ?it/s]"
      ]
     },
     "metadata": {},
     "output_type": "display_data"
    },
    {
     "data": {
      "application/vnd.jupyter.widget-view+json": {
       "model_id": "314e27f1c6394812912ce364a2463b69",
       "version_major": 2,
       "version_minor": 0
      },
      "text/plain": [
       "  0%|          | 0/4 [00:00<?, ?it/s]"
      ]
     },
     "metadata": {},
     "output_type": "display_data"
    },
    {
     "data": {
      "application/vnd.jupyter.widget-view+json": {
       "model_id": "5c22c25e1c444cce91d06df7f0b8a862",
       "version_major": 2,
       "version_minor": 0
      },
      "text/plain": [
       "  0%|          | 0/4 [00:00<?, ?it/s]"
      ]
     },
     "metadata": {},
     "output_type": "display_data"
    },
    {
     "data": {
      "application/vnd.jupyter.widget-view+json": {
       "model_id": "0f01a6b2a08845439049bed6a59fbc1b",
       "version_major": 2,
       "version_minor": 0
      },
      "text/plain": [
       "  0%|          | 0/4 [00:00<?, ?it/s]"
      ]
     },
     "metadata": {},
     "output_type": "display_data"
    },
    {
     "data": {
      "application/vnd.jupyter.widget-view+json": {
       "model_id": "c9aa9d21f9f54ba292417af48a0d85ac",
       "version_major": 2,
       "version_minor": 0
      },
      "text/plain": [
       "  0%|          | 0/4 [00:00<?, ?it/s]"
      ]
     },
     "metadata": {},
     "output_type": "display_data"
    },
    {
     "data": {
      "application/vnd.jupyter.widget-view+json": {
       "model_id": "dedb388d5114448b861261c627cb63ff",
       "version_major": 2,
       "version_minor": 0
      },
      "text/plain": [
       "  0%|          | 0/4 [00:00<?, ?it/s]"
      ]
     },
     "metadata": {},
     "output_type": "display_data"
    },
    {
     "data": {
      "application/vnd.jupyter.widget-view+json": {
       "model_id": "fc79d57361f54f56947d6cc5d85fcfb4",
       "version_major": 2,
       "version_minor": 0
      },
      "text/plain": [
       "  0%|          | 0/4 [00:00<?, ?it/s]"
      ]
     },
     "metadata": {},
     "output_type": "display_data"
    },
    {
     "data": {
      "application/vnd.jupyter.widget-view+json": {
       "model_id": "f7e8baf9b8dd4c70be98b87a51116e91",
       "version_major": 2,
       "version_minor": 0
      },
      "text/plain": [
       "  0%|          | 0/4 [00:00<?, ?it/s]"
      ]
     },
     "metadata": {},
     "output_type": "display_data"
    },
    {
     "data": {
      "application/vnd.jupyter.widget-view+json": {
       "model_id": "90fa452b473c495089755af7fec281c5",
       "version_major": 2,
       "version_minor": 0
      },
      "text/plain": [
       "  0%|          | 0/4 [00:00<?, ?it/s]"
      ]
     },
     "metadata": {},
     "output_type": "display_data"
    },
    {
     "data": {
      "application/vnd.jupyter.widget-view+json": {
       "model_id": "b27b829214fc46d884bd26de7c4fed45",
       "version_major": 2,
       "version_minor": 0
      },
      "text/plain": [
       "  0%|          | 0/4 [00:00<?, ?it/s]"
      ]
     },
     "metadata": {},
     "output_type": "display_data"
    },
    {
     "data": {
      "application/vnd.jupyter.widget-view+json": {
       "model_id": "e1cbe1149d264e40afe4c9f95444fdf7",
       "version_major": 2,
       "version_minor": 0
      },
      "text/plain": [
       "  0%|          | 0/4 [00:00<?, ?it/s]"
      ]
     },
     "metadata": {},
     "output_type": "display_data"
    },
    {
     "data": {
      "application/vnd.jupyter.widget-view+json": {
       "model_id": "df02408b7f4c43889a244421f1686bf2",
       "version_major": 2,
       "version_minor": 0
      },
      "text/plain": [
       "  0%|          | 0/4 [00:00<?, ?it/s]"
      ]
     },
     "metadata": {},
     "output_type": "display_data"
    },
    {
     "data": {
      "application/vnd.jupyter.widget-view+json": {
       "model_id": "3a2ab25d529b4f158c628656105b5515",
       "version_major": 2,
       "version_minor": 0
      },
      "text/plain": [
       "  0%|          | 0/4 [00:00<?, ?it/s]"
      ]
     },
     "metadata": {},
     "output_type": "display_data"
    },
    {
     "data": {
      "application/vnd.jupyter.widget-view+json": {
       "model_id": "c0f24d4f43a945c7895437d3998ebde5",
       "version_major": 2,
       "version_minor": 0
      },
      "text/plain": [
       "  0%|          | 0/4 [00:00<?, ?it/s]"
      ]
     },
     "metadata": {},
     "output_type": "display_data"
    },
    {
     "data": {
      "application/vnd.jupyter.widget-view+json": {
       "model_id": "0453b2bae9d94fa68e9d3e7b43dd4b81",
       "version_major": 2,
       "version_minor": 0
      },
      "text/plain": [
       "  0%|          | 0/4 [00:00<?, ?it/s]"
      ]
     },
     "metadata": {},
     "output_type": "display_data"
    },
    {
     "data": {
      "application/vnd.jupyter.widget-view+json": {
       "model_id": "e280b15492c54520a6b49c1f47f1ad2b",
       "version_major": 2,
       "version_minor": 0
      },
      "text/plain": [
       "  0%|          | 0/4 [00:00<?, ?it/s]"
      ]
     },
     "metadata": {},
     "output_type": "display_data"
    },
    {
     "data": {
      "application/vnd.jupyter.widget-view+json": {
       "model_id": "89baddfc43654a7cb22076be5b42123f",
       "version_major": 2,
       "version_minor": 0
      },
      "text/plain": [
       "  0%|          | 0/4 [00:00<?, ?it/s]"
      ]
     },
     "metadata": {},
     "output_type": "display_data"
    },
    {
     "data": {
      "application/vnd.jupyter.widget-view+json": {
       "model_id": "b8abe8b3edeb4211a5efcf29e45fe466",
       "version_major": 2,
       "version_minor": 0
      },
      "text/plain": [
       "  0%|          | 0/4 [00:00<?, ?it/s]"
      ]
     },
     "metadata": {},
     "output_type": "display_data"
    },
    {
     "data": {
      "application/vnd.jupyter.widget-view+json": {
       "model_id": "5f5eeda272444b98bfde30b61cd3a1f1",
       "version_major": 2,
       "version_minor": 0
      },
      "text/plain": [
       "  0%|          | 0/4 [00:00<?, ?it/s]"
      ]
     },
     "metadata": {},
     "output_type": "display_data"
    },
    {
     "data": {
      "application/vnd.jupyter.widget-view+json": {
       "model_id": "4c947d4dece24d3aa13089e5193c1993",
       "version_major": 2,
       "version_minor": 0
      },
      "text/plain": [
       "  0%|          | 0/4 [00:00<?, ?it/s]"
      ]
     },
     "metadata": {},
     "output_type": "display_data"
    },
    {
     "data": {
      "application/vnd.jupyter.widget-view+json": {
       "model_id": "fecb8f24ff5a45c68bf1a21b21abde1a",
       "version_major": 2,
       "version_minor": 0
      },
      "text/plain": [
       "  0%|          | 0/4 [00:00<?, ?it/s]"
      ]
     },
     "metadata": {},
     "output_type": "display_data"
    },
    {
     "data": {
      "application/vnd.jupyter.widget-view+json": {
       "model_id": "f189b23dfd1e4215941e32eb542cb356",
       "version_major": 2,
       "version_minor": 0
      },
      "text/plain": [
       "  0%|          | 0/4 [00:00<?, ?it/s]"
      ]
     },
     "metadata": {},
     "output_type": "display_data"
    },
    {
     "data": {
      "application/vnd.jupyter.widget-view+json": {
       "model_id": "53baf987ad554a3abc95676e27eb931a",
       "version_major": 2,
       "version_minor": 0
      },
      "text/plain": [
       "  0%|          | 0/4 [00:00<?, ?it/s]"
      ]
     },
     "metadata": {},
     "output_type": "display_data"
    },
    {
     "data": {
      "application/vnd.jupyter.widget-view+json": {
       "model_id": "b72d8b7ff5ed439dbb2f9863cdf40ea6",
       "version_major": 2,
       "version_minor": 0
      },
      "text/plain": [
       "  0%|          | 0/4 [00:00<?, ?it/s]"
      ]
     },
     "metadata": {},
     "output_type": "display_data"
    },
    {
     "data": {
      "application/vnd.jupyter.widget-view+json": {
       "model_id": "3bfee14e39d94b4f990a3c699c75b79b",
       "version_major": 2,
       "version_minor": 0
      },
      "text/plain": [
       "  0%|          | 0/4 [00:00<?, ?it/s]"
      ]
     },
     "metadata": {},
     "output_type": "display_data"
    },
    {
     "data": {
      "application/vnd.jupyter.widget-view+json": {
       "model_id": "b58f4fa39f8c4beaaf4fd79f52c0a299",
       "version_major": 2,
       "version_minor": 0
      },
      "text/plain": [
       "  0%|          | 0/4 [00:00<?, ?it/s]"
      ]
     },
     "metadata": {},
     "output_type": "display_data"
    },
    {
     "data": {
      "application/vnd.jupyter.widget-view+json": {
       "model_id": "86f0ebebe5664f8fa07e450c9b2190cf",
       "version_major": 2,
       "version_minor": 0
      },
      "text/plain": [
       "  0%|          | 0/4 [00:00<?, ?it/s]"
      ]
     },
     "metadata": {},
     "output_type": "display_data"
    },
    {
     "data": {
      "application/vnd.jupyter.widget-view+json": {
       "model_id": "16cfa317e471408bbe38d2e6b9cbb553",
       "version_major": 2,
       "version_minor": 0
      },
      "text/plain": [
       "  0%|          | 0/4 [00:00<?, ?it/s]"
      ]
     },
     "metadata": {},
     "output_type": "display_data"
    },
    {
     "data": {
      "application/vnd.jupyter.widget-view+json": {
       "model_id": "bc14955a300f430d96264b7820e1c88c",
       "version_major": 2,
       "version_minor": 0
      },
      "text/plain": [
       "  0%|          | 0/4 [00:00<?, ?it/s]"
      ]
     },
     "metadata": {},
     "output_type": "display_data"
    },
    {
     "data": {
      "application/vnd.jupyter.widget-view+json": {
       "model_id": "66fb0236751c4156ab00a05a35c58028",
       "version_major": 2,
       "version_minor": 0
      },
      "text/plain": [
       "  0%|          | 0/4 [00:00<?, ?it/s]"
      ]
     },
     "metadata": {},
     "output_type": "display_data"
    },
    {
     "data": {
      "application/vnd.jupyter.widget-view+json": {
       "model_id": "aa193934026f481580deae2cbee89123",
       "version_major": 2,
       "version_minor": 0
      },
      "text/plain": [
       "  0%|          | 0/4 [00:00<?, ?it/s]"
      ]
     },
     "metadata": {},
     "output_type": "display_data"
    },
    {
     "data": {
      "application/vnd.jupyter.widget-view+json": {
       "model_id": "d5f3cf5a89654a4cb70962850f89bc0a",
       "version_major": 2,
       "version_minor": 0
      },
      "text/plain": [
       "  0%|          | 0/4 [00:00<?, ?it/s]"
      ]
     },
     "metadata": {},
     "output_type": "display_data"
    },
    {
     "data": {
      "application/vnd.jupyter.widget-view+json": {
       "model_id": "47637a2dcbea45e1b9c8b6911df4734f",
       "version_major": 2,
       "version_minor": 0
      },
      "text/plain": [
       "  0%|          | 0/4 [00:00<?, ?it/s]"
      ]
     },
     "metadata": {},
     "output_type": "display_data"
    },
    {
     "data": {
      "application/vnd.jupyter.widget-view+json": {
       "model_id": "bb0ff131901d475abfd5cd131c3c8ac3",
       "version_major": 2,
       "version_minor": 0
      },
      "text/plain": [
       "  0%|          | 0/4 [00:00<?, ?it/s]"
      ]
     },
     "metadata": {},
     "output_type": "display_data"
    },
    {
     "data": {
      "application/vnd.jupyter.widget-view+json": {
       "model_id": "62eabab0bff04d3f9f4b181686f25c86",
       "version_major": 2,
       "version_minor": 0
      },
      "text/plain": [
       "  0%|          | 0/4 [00:00<?, ?it/s]"
      ]
     },
     "metadata": {},
     "output_type": "display_data"
    },
    {
     "data": {
      "application/vnd.jupyter.widget-view+json": {
       "model_id": "0f0e8b5bfc344f5a95a7459d6c5a4678",
       "version_major": 2,
       "version_minor": 0
      },
      "text/plain": [
       "  0%|          | 0/4 [00:00<?, ?it/s]"
      ]
     },
     "metadata": {},
     "output_type": "display_data"
    },
    {
     "data": {
      "application/vnd.jupyter.widget-view+json": {
       "model_id": "d37f5869745744dc9d80bb570b94e9ca",
       "version_major": 2,
       "version_minor": 0
      },
      "text/plain": [
       "  0%|          | 0/4 [00:00<?, ?it/s]"
      ]
     },
     "metadata": {},
     "output_type": "display_data"
    },
    {
     "data": {
      "application/vnd.jupyter.widget-view+json": {
       "model_id": "08dbe50e0660471987f89b57e3d825f1",
       "version_major": 2,
       "version_minor": 0
      },
      "text/plain": [
       "  0%|          | 0/4 [00:00<?, ?it/s]"
      ]
     },
     "metadata": {},
     "output_type": "display_data"
    },
    {
     "data": {
      "application/vnd.jupyter.widget-view+json": {
       "model_id": "5710060862db4e5a8a5e3d3912fcb75a",
       "version_major": 2,
       "version_minor": 0
      },
      "text/plain": [
       "  0%|          | 0/4 [00:00<?, ?it/s]"
      ]
     },
     "metadata": {},
     "output_type": "display_data"
    },
    {
     "data": {
      "application/vnd.jupyter.widget-view+json": {
       "model_id": "c4a0fb6276fd4477a3b79d862546c7a4",
       "version_major": 2,
       "version_minor": 0
      },
      "text/plain": [
       "  0%|          | 0/4 [00:00<?, ?it/s]"
      ]
     },
     "metadata": {},
     "output_type": "display_data"
    },
    {
     "data": {
      "application/vnd.jupyter.widget-view+json": {
       "model_id": "0d833f7c69ed4a6697af327d37fde08a",
       "version_major": 2,
       "version_minor": 0
      },
      "text/plain": [
       "  0%|          | 0/4 [00:00<?, ?it/s]"
      ]
     },
     "metadata": {},
     "output_type": "display_data"
    },
    {
     "data": {
      "application/vnd.jupyter.widget-view+json": {
       "model_id": "0e229489d88c4065a35f2a5ba643f64d",
       "version_major": 2,
       "version_minor": 0
      },
      "text/plain": [
       "  0%|          | 0/4 [00:00<?, ?it/s]"
      ]
     },
     "metadata": {},
     "output_type": "display_data"
    },
    {
     "data": {
      "application/vnd.jupyter.widget-view+json": {
       "model_id": "081c177e3ad141d29395437641c6f692",
       "version_major": 2,
       "version_minor": 0
      },
      "text/plain": [
       "  0%|          | 0/4 [00:00<?, ?it/s]"
      ]
     },
     "metadata": {},
     "output_type": "display_data"
    },
    {
     "data": {
      "application/vnd.jupyter.widget-view+json": {
       "model_id": "aab96025b7264a77852f32aa6c1b1dcf",
       "version_major": 2,
       "version_minor": 0
      },
      "text/plain": [
       "  0%|          | 0/4 [00:00<?, ?it/s]"
      ]
     },
     "metadata": {},
     "output_type": "display_data"
    },
    {
     "data": {
      "application/vnd.jupyter.widget-view+json": {
       "model_id": "8e26f53b979b43f78791341a3cc47cef",
       "version_major": 2,
       "version_minor": 0
      },
      "text/plain": [
       "  0%|          | 0/4 [00:00<?, ?it/s]"
      ]
     },
     "metadata": {},
     "output_type": "display_data"
    },
    {
     "data": {
      "application/vnd.jupyter.widget-view+json": {
       "model_id": "4187c783c2194667a5424928c0e36fc7",
       "version_major": 2,
       "version_minor": 0
      },
      "text/plain": [
       "  0%|          | 0/4 [00:00<?, ?it/s]"
      ]
     },
     "metadata": {},
     "output_type": "display_data"
    },
    {
     "data": {
      "application/vnd.jupyter.widget-view+json": {
       "model_id": "20f45b5560ea4d2aac96a420ff32592d",
       "version_major": 2,
       "version_minor": 0
      },
      "text/plain": [
       "  0%|          | 0/4 [00:00<?, ?it/s]"
      ]
     },
     "metadata": {},
     "output_type": "display_data"
    },
    {
     "data": {
      "application/vnd.jupyter.widget-view+json": {
       "model_id": "5224172c61af4f4caac1af6df23c6657",
       "version_major": 2,
       "version_minor": 0
      },
      "text/plain": [
       "  0%|          | 0/4 [00:00<?, ?it/s]"
      ]
     },
     "metadata": {},
     "output_type": "display_data"
    },
    {
     "data": {
      "application/vnd.jupyter.widget-view+json": {
       "model_id": "b68d8c4bc38c4c76a93a587000fe5b5f",
       "version_major": 2,
       "version_minor": 0
      },
      "text/plain": [
       "  0%|          | 0/4 [00:00<?, ?it/s]"
      ]
     },
     "metadata": {},
     "output_type": "display_data"
    },
    {
     "data": {
      "application/vnd.jupyter.widget-view+json": {
       "model_id": "a4c081bb2b3b48f59082f8abc7d1fbf5",
       "version_major": 2,
       "version_minor": 0
      },
      "text/plain": [
       "  0%|          | 0/4 [00:00<?, ?it/s]"
      ]
     },
     "metadata": {},
     "output_type": "display_data"
    },
    {
     "data": {
      "application/vnd.jupyter.widget-view+json": {
       "model_id": "c8b9400b76c747aeab7442bbcf5cf58b",
       "version_major": 2,
       "version_minor": 0
      },
      "text/plain": [
       "  0%|          | 0/4 [00:00<?, ?it/s]"
      ]
     },
     "metadata": {},
     "output_type": "display_data"
    },
    {
     "data": {
      "application/vnd.jupyter.widget-view+json": {
       "model_id": "8033524b9b014494abcdb4b9dbe30eaa",
       "version_major": 2,
       "version_minor": 0
      },
      "text/plain": [
       "  0%|          | 0/4 [00:00<?, ?it/s]"
      ]
     },
     "metadata": {},
     "output_type": "display_data"
    },
    {
     "data": {
      "application/vnd.jupyter.widget-view+json": {
       "model_id": "399e023f0b294050b5db322ebe042e73",
       "version_major": 2,
       "version_minor": 0
      },
      "text/plain": [
       "  0%|          | 0/4 [00:00<?, ?it/s]"
      ]
     },
     "metadata": {},
     "output_type": "display_data"
    },
    {
     "data": {
      "application/vnd.jupyter.widget-view+json": {
       "model_id": "3a6fb284d32248fd9f64bbbdb8aef974",
       "version_major": 2,
       "version_minor": 0
      },
      "text/plain": [
       "  0%|          | 0/4 [00:00<?, ?it/s]"
      ]
     },
     "metadata": {},
     "output_type": "display_data"
    },
    {
     "data": {
      "application/vnd.jupyter.widget-view+json": {
       "model_id": "fd932ecada9b466bbcdd789c890a42d9",
       "version_major": 2,
       "version_minor": 0
      },
      "text/plain": [
       "  0%|          | 0/4 [00:00<?, ?it/s]"
      ]
     },
     "metadata": {},
     "output_type": "display_data"
    },
    {
     "data": {
      "application/vnd.jupyter.widget-view+json": {
       "model_id": "15eb82d651c146fda7afca186d3d2a2e",
       "version_major": 2,
       "version_minor": 0
      },
      "text/plain": [
       "  0%|          | 0/4 [00:00<?, ?it/s]"
      ]
     },
     "metadata": {},
     "output_type": "display_data"
    },
    {
     "data": {
      "application/vnd.jupyter.widget-view+json": {
       "model_id": "0ed7ddfbee8044ef97ada26918fda24a",
       "version_major": 2,
       "version_minor": 0
      },
      "text/plain": [
       "  0%|          | 0/4 [00:00<?, ?it/s]"
      ]
     },
     "metadata": {},
     "output_type": "display_data"
    },
    {
     "data": {
      "application/vnd.jupyter.widget-view+json": {
       "model_id": "6748a4d3cbd84ec596b3e41608fe7fb2",
       "version_major": 2,
       "version_minor": 0
      },
      "text/plain": [
       "  0%|          | 0/4 [00:00<?, ?it/s]"
      ]
     },
     "metadata": {},
     "output_type": "display_data"
    },
    {
     "data": {
      "application/vnd.jupyter.widget-view+json": {
       "model_id": "caf94f042c8b410a95040a9aeeb420d7",
       "version_major": 2,
       "version_minor": 0
      },
      "text/plain": [
       "  0%|          | 0/4 [00:00<?, ?it/s]"
      ]
     },
     "metadata": {},
     "output_type": "display_data"
    },
    {
     "data": {
      "application/vnd.jupyter.widget-view+json": {
       "model_id": "0bbfa81762bf43d3b6dc2245fefcd135",
       "version_major": 2,
       "version_minor": 0
      },
      "text/plain": [
       "  0%|          | 0/4 [00:00<?, ?it/s]"
      ]
     },
     "metadata": {},
     "output_type": "display_data"
    },
    {
     "data": {
      "application/vnd.jupyter.widget-view+json": {
       "model_id": "3eaf9d4f78ab4dddac2cfa8095263a8c",
       "version_major": 2,
       "version_minor": 0
      },
      "text/plain": [
       "  0%|          | 0/4 [00:00<?, ?it/s]"
      ]
     },
     "metadata": {},
     "output_type": "display_data"
    },
    {
     "data": {
      "application/vnd.jupyter.widget-view+json": {
       "model_id": "28f04a98fee84df78da4782780287d92",
       "version_major": 2,
       "version_minor": 0
      },
      "text/plain": [
       "  0%|          | 0/4 [00:00<?, ?it/s]"
      ]
     },
     "metadata": {},
     "output_type": "display_data"
    },
    {
     "data": {
      "application/vnd.jupyter.widget-view+json": {
       "model_id": "35e1e26141ea40259e5dd90efd831997",
       "version_major": 2,
       "version_minor": 0
      },
      "text/plain": [
       "  0%|          | 0/4 [00:00<?, ?it/s]"
      ]
     },
     "metadata": {},
     "output_type": "display_data"
    },
    {
     "data": {
      "application/vnd.jupyter.widget-view+json": {
       "model_id": "976dd3712f774b22aa03e622e93c5d07",
       "version_major": 2,
       "version_minor": 0
      },
      "text/plain": [
       "  0%|          | 0/4 [00:00<?, ?it/s]"
      ]
     },
     "metadata": {},
     "output_type": "display_data"
    },
    {
     "data": {
      "application/vnd.jupyter.widget-view+json": {
       "model_id": "cfa41489917946329877fcd38d588b26",
       "version_major": 2,
       "version_minor": 0
      },
      "text/plain": [
       "  0%|          | 0/4 [00:00<?, ?it/s]"
      ]
     },
     "metadata": {},
     "output_type": "display_data"
    },
    {
     "data": {
      "application/vnd.jupyter.widget-view+json": {
       "model_id": "ce4b089d54d443758d9dcad868342e59",
       "version_major": 2,
       "version_minor": 0
      },
      "text/plain": [
       "  0%|          | 0/4 [00:00<?, ?it/s]"
      ]
     },
     "metadata": {},
     "output_type": "display_data"
    },
    {
     "data": {
      "application/vnd.jupyter.widget-view+json": {
       "model_id": "10dead7571ea464a969ae42617c8069d",
       "version_major": 2,
       "version_minor": 0
      },
      "text/plain": [
       "  0%|          | 0/4 [00:00<?, ?it/s]"
      ]
     },
     "metadata": {},
     "output_type": "display_data"
    },
    {
     "data": {
      "application/vnd.jupyter.widget-view+json": {
       "model_id": "b9aae42df4824d018c553d1f4f102d82",
       "version_major": 2,
       "version_minor": 0
      },
      "text/plain": [
       "  0%|          | 0/4 [00:00<?, ?it/s]"
      ]
     },
     "metadata": {},
     "output_type": "display_data"
    },
    {
     "data": {
      "application/vnd.jupyter.widget-view+json": {
       "model_id": "f8490e5060f7477490ac3628c1cc0fa8",
       "version_major": 2,
       "version_minor": 0
      },
      "text/plain": [
       "  0%|          | 0/4 [00:00<?, ?it/s]"
      ]
     },
     "metadata": {},
     "output_type": "display_data"
    },
    {
     "data": {
      "application/vnd.jupyter.widget-view+json": {
       "model_id": "3e09c8cbabe3404cb894c9b6bc76df55",
       "version_major": 2,
       "version_minor": 0
      },
      "text/plain": [
       "  0%|          | 0/4 [00:00<?, ?it/s]"
      ]
     },
     "metadata": {},
     "output_type": "display_data"
    },
    {
     "data": {
      "application/vnd.jupyter.widget-view+json": {
       "model_id": "2d82c451aa464a239645031815dd931e",
       "version_major": 2,
       "version_minor": 0
      },
      "text/plain": [
       "  0%|          | 0/4 [00:00<?, ?it/s]"
      ]
     },
     "metadata": {},
     "output_type": "display_data"
    },
    {
     "data": {
      "application/vnd.jupyter.widget-view+json": {
       "model_id": "ba554abc033f45ebb38125afa0d8df0d",
       "version_major": 2,
       "version_minor": 0
      },
      "text/plain": [
       "  0%|          | 0/4 [00:00<?, ?it/s]"
      ]
     },
     "metadata": {},
     "output_type": "display_data"
    },
    {
     "data": {
      "application/vnd.jupyter.widget-view+json": {
       "model_id": "68f54d0cb26d46e690052040e35c2108",
       "version_major": 2,
       "version_minor": 0
      },
      "text/plain": [
       "  0%|          | 0/4 [00:00<?, ?it/s]"
      ]
     },
     "metadata": {},
     "output_type": "display_data"
    },
    {
     "data": {
      "application/vnd.jupyter.widget-view+json": {
       "model_id": "75335fa5cf934438b6a2c5f934835f22",
       "version_major": 2,
       "version_minor": 0
      },
      "text/plain": [
       "  0%|          | 0/4 [00:00<?, ?it/s]"
      ]
     },
     "metadata": {},
     "output_type": "display_data"
    },
    {
     "data": {
      "application/vnd.jupyter.widget-view+json": {
       "model_id": "cd0de59ae2124a5cac92ba598f8eb238",
       "version_major": 2,
       "version_minor": 0
      },
      "text/plain": [
       "  0%|          | 0/4 [00:00<?, ?it/s]"
      ]
     },
     "metadata": {},
     "output_type": "display_data"
    },
    {
     "data": {
      "application/vnd.jupyter.widget-view+json": {
       "model_id": "556cd001d4144e179f92c503d29ae298",
       "version_major": 2,
       "version_minor": 0
      },
      "text/plain": [
       "  0%|          | 0/4 [00:00<?, ?it/s]"
      ]
     },
     "metadata": {},
     "output_type": "display_data"
    },
    {
     "data": {
      "application/vnd.jupyter.widget-view+json": {
       "model_id": "21fa237e8db846f59dee5115d4ca4de6",
       "version_major": 2,
       "version_minor": 0
      },
      "text/plain": [
       "  0%|          | 0/4 [00:00<?, ?it/s]"
      ]
     },
     "metadata": {},
     "output_type": "display_data"
    },
    {
     "data": {
      "application/vnd.jupyter.widget-view+json": {
       "model_id": "d18547f564c34a7bb310ff619fed72ec",
       "version_major": 2,
       "version_minor": 0
      },
      "text/plain": [
       "  0%|          | 0/4 [00:00<?, ?it/s]"
      ]
     },
     "metadata": {},
     "output_type": "display_data"
    },
    {
     "data": {
      "application/vnd.jupyter.widget-view+json": {
       "model_id": "5b4842c16cb14ee09b87ef15234ce26a",
       "version_major": 2,
       "version_minor": 0
      },
      "text/plain": [
       "  0%|          | 0/4 [00:00<?, ?it/s]"
      ]
     },
     "metadata": {},
     "output_type": "display_data"
    },
    {
     "data": {
      "application/vnd.jupyter.widget-view+json": {
       "model_id": "f440c35a9eeb4767b569996aee987f6d",
       "version_major": 2,
       "version_minor": 0
      },
      "text/plain": [
       "  0%|          | 0/4 [00:00<?, ?it/s]"
      ]
     },
     "metadata": {},
     "output_type": "display_data"
    },
    {
     "data": {
      "application/vnd.jupyter.widget-view+json": {
       "model_id": "d227706f05014aa492d5b210554e6b4a",
       "version_major": 2,
       "version_minor": 0
      },
      "text/plain": [
       "  0%|          | 0/4 [00:00<?, ?it/s]"
      ]
     },
     "metadata": {},
     "output_type": "display_data"
    },
    {
     "data": {
      "application/vnd.jupyter.widget-view+json": {
       "model_id": "3273be4c7ebc4d42aa03b808778705c9",
       "version_major": 2,
       "version_minor": 0
      },
      "text/plain": [
       "  0%|          | 0/4 [00:00<?, ?it/s]"
      ]
     },
     "metadata": {},
     "output_type": "display_data"
    },
    {
     "data": {
      "application/vnd.jupyter.widget-view+json": {
       "model_id": "3d2eba0002054ad0beb26a0cef63cdfc",
       "version_major": 2,
       "version_minor": 0
      },
      "text/plain": [
       "  0%|          | 0/4 [00:00<?, ?it/s]"
      ]
     },
     "metadata": {},
     "output_type": "display_data"
    },
    {
     "data": {
      "application/vnd.jupyter.widget-view+json": {
       "model_id": "af1f3bedf9204b93991ab01e696747e1",
       "version_major": 2,
       "version_minor": 0
      },
      "text/plain": [
       "  0%|          | 0/4 [00:00<?, ?it/s]"
      ]
     },
     "metadata": {},
     "output_type": "display_data"
    },
    {
     "data": {
      "application/vnd.jupyter.widget-view+json": {
       "model_id": "1b3f938c159245798e150fb0a24a43b7",
       "version_major": 2,
       "version_minor": 0
      },
      "text/plain": [
       "  0%|          | 0/4 [00:00<?, ?it/s]"
      ]
     },
     "metadata": {},
     "output_type": "display_data"
    },
    {
     "data": {
      "application/vnd.jupyter.widget-view+json": {
       "model_id": "052f7de410ba42ed921a1deacefebe39",
       "version_major": 2,
       "version_minor": 0
      },
      "text/plain": [
       "  0%|          | 0/4 [00:00<?, ?it/s]"
      ]
     },
     "metadata": {},
     "output_type": "display_data"
    },
    {
     "data": {
      "application/vnd.jupyter.widget-view+json": {
       "model_id": "79cc225a08d040e8825cc45f7f526e5c",
       "version_major": 2,
       "version_minor": 0
      },
      "text/plain": [
       "  0%|          | 0/4 [00:00<?, ?it/s]"
      ]
     },
     "metadata": {},
     "output_type": "display_data"
    },
    {
     "data": {
      "application/vnd.jupyter.widget-view+json": {
       "model_id": "7fc63b963b584676b1c3a9c791c0c9eb",
       "version_major": 2,
       "version_minor": 0
      },
      "text/plain": [
       "  0%|          | 0/4 [00:00<?, ?it/s]"
      ]
     },
     "metadata": {},
     "output_type": "display_data"
    },
    {
     "data": {
      "application/vnd.jupyter.widget-view+json": {
       "model_id": "101dcb5c847443d0b701983b7c8bc5cc",
       "version_major": 2,
       "version_minor": 0
      },
      "text/plain": [
       "  0%|          | 0/4 [00:00<?, ?it/s]"
      ]
     },
     "metadata": {},
     "output_type": "display_data"
    },
    {
     "data": {
      "application/vnd.jupyter.widget-view+json": {
       "model_id": "63186ab80a9a4e298a2fad71cd39c31a",
       "version_major": 2,
       "version_minor": 0
      },
      "text/plain": [
       "  0%|          | 0/4 [00:00<?, ?it/s]"
      ]
     },
     "metadata": {},
     "output_type": "display_data"
    },
    {
     "data": {
      "application/vnd.jupyter.widget-view+json": {
       "model_id": "cc19744c59be4acea93a17a2a96f70a4",
       "version_major": 2,
       "version_minor": 0
      },
      "text/plain": [
       "  0%|          | 0/4 [00:00<?, ?it/s]"
      ]
     },
     "metadata": {},
     "output_type": "display_data"
    },
    {
     "data": {
      "application/vnd.jupyter.widget-view+json": {
       "model_id": "7f02321fb69441129a8394924e8e75b3",
       "version_major": 2,
       "version_minor": 0
      },
      "text/plain": [
       "  0%|          | 0/4 [00:00<?, ?it/s]"
      ]
     },
     "metadata": {},
     "output_type": "display_data"
    },
    {
     "data": {
      "application/vnd.jupyter.widget-view+json": {
       "model_id": "840f0098aeaf420aad2944713dab580e",
       "version_major": 2,
       "version_minor": 0
      },
      "text/plain": [
       "  0%|          | 0/4 [00:00<?, ?it/s]"
      ]
     },
     "metadata": {},
     "output_type": "display_data"
    },
    {
     "data": {
      "application/vnd.jupyter.widget-view+json": {
       "model_id": "7f9e6925b3df4a7fa92f9b9b07ada82f",
       "version_major": 2,
       "version_minor": 0
      },
      "text/plain": [
       "  0%|          | 0/4 [00:00<?, ?it/s]"
      ]
     },
     "metadata": {},
     "output_type": "display_data"
    },
    {
     "data": {
      "application/vnd.jupyter.widget-view+json": {
       "model_id": "9d44d94967d7496babddc6585141d2d8",
       "version_major": 2,
       "version_minor": 0
      },
      "text/plain": [
       "  0%|          | 0/4 [00:00<?, ?it/s]"
      ]
     },
     "metadata": {},
     "output_type": "display_data"
    },
    {
     "data": {
      "application/vnd.jupyter.widget-view+json": {
       "model_id": "731abc380ba34d00a49ff97c3264a1b9",
       "version_major": 2,
       "version_minor": 0
      },
      "text/plain": [
       "  0%|          | 0/4 [00:00<?, ?it/s]"
      ]
     },
     "metadata": {},
     "output_type": "display_data"
    },
    {
     "data": {
      "application/vnd.jupyter.widget-view+json": {
       "model_id": "04e0477b2c4449228e442f68b64ddc9f",
       "version_major": 2,
       "version_minor": 0
      },
      "text/plain": [
       "  0%|          | 0/4 [00:00<?, ?it/s]"
      ]
     },
     "metadata": {},
     "output_type": "display_data"
    },
    {
     "data": {
      "application/vnd.jupyter.widget-view+json": {
       "model_id": "165572cfcbad4100a74012a009001cbf",
       "version_major": 2,
       "version_minor": 0
      },
      "text/plain": [
       "  0%|          | 0/4 [00:00<?, ?it/s]"
      ]
     },
     "metadata": {},
     "output_type": "display_data"
    },
    {
     "data": {
      "application/vnd.jupyter.widget-view+json": {
       "model_id": "72f65b0066854905925a463b05bc3c3a",
       "version_major": 2,
       "version_minor": 0
      },
      "text/plain": [
       "  0%|          | 0/4 [00:00<?, ?it/s]"
      ]
     },
     "metadata": {},
     "output_type": "display_data"
    },
    {
     "data": {
      "application/vnd.jupyter.widget-view+json": {
       "model_id": "8050b1edbeae4f0698d06c7ef7393764",
       "version_major": 2,
       "version_minor": 0
      },
      "text/plain": [
       "  0%|          | 0/4 [00:00<?, ?it/s]"
      ]
     },
     "metadata": {},
     "output_type": "display_data"
    },
    {
     "data": {
      "application/vnd.jupyter.widget-view+json": {
       "model_id": "0b44058651664244bb09349b1aa180cf",
       "version_major": 2,
       "version_minor": 0
      },
      "text/plain": [
       "  0%|          | 0/4 [00:00<?, ?it/s]"
      ]
     },
     "metadata": {},
     "output_type": "display_data"
    },
    {
     "data": {
      "application/vnd.jupyter.widget-view+json": {
       "model_id": "9651739523294717aa222b5ccdd40ad5",
       "version_major": 2,
       "version_minor": 0
      },
      "text/plain": [
       "  0%|          | 0/4 [00:00<?, ?it/s]"
      ]
     },
     "metadata": {},
     "output_type": "display_data"
    },
    {
     "data": {
      "application/vnd.jupyter.widget-view+json": {
       "model_id": "76ff6593a1b74dfaad1dbec072e04e60",
       "version_major": 2,
       "version_minor": 0
      },
      "text/plain": [
       "  0%|          | 0/4 [00:00<?, ?it/s]"
      ]
     },
     "metadata": {},
     "output_type": "display_data"
    },
    {
     "data": {
      "application/vnd.jupyter.widget-view+json": {
       "model_id": "1d73020c74f24e3d848be0279492783d",
       "version_major": 2,
       "version_minor": 0
      },
      "text/plain": [
       "  0%|          | 0/4 [00:00<?, ?it/s]"
      ]
     },
     "metadata": {},
     "output_type": "display_data"
    },
    {
     "data": {
      "application/vnd.jupyter.widget-view+json": {
       "model_id": "0c39b36469c546b8bfdc74fbd0a306ea",
       "version_major": 2,
       "version_minor": 0
      },
      "text/plain": [
       "  0%|          | 0/4 [00:00<?, ?it/s]"
      ]
     },
     "metadata": {},
     "output_type": "display_data"
    },
    {
     "data": {
      "application/vnd.jupyter.widget-view+json": {
       "model_id": "b352398039504871a6a03e863def7803",
       "version_major": 2,
       "version_minor": 0
      },
      "text/plain": [
       "  0%|          | 0/4 [00:00<?, ?it/s]"
      ]
     },
     "metadata": {},
     "output_type": "display_data"
    },
    {
     "data": {
      "application/vnd.jupyter.widget-view+json": {
       "model_id": "382b2205e74c4c85b5875472156633eb",
       "version_major": 2,
       "version_minor": 0
      },
      "text/plain": [
       "  0%|          | 0/4 [00:00<?, ?it/s]"
      ]
     },
     "metadata": {},
     "output_type": "display_data"
    },
    {
     "data": {
      "application/vnd.jupyter.widget-view+json": {
       "model_id": "69d8ae1fb24245ec9e7c14b6d6905015",
       "version_major": 2,
       "version_minor": 0
      },
      "text/plain": [
       "  0%|          | 0/4 [00:00<?, ?it/s]"
      ]
     },
     "metadata": {},
     "output_type": "display_data"
    },
    {
     "data": {
      "application/vnd.jupyter.widget-view+json": {
       "model_id": "07eb32ecf8504e77a5285b54de7746f6",
       "version_major": 2,
       "version_minor": 0
      },
      "text/plain": [
       "  0%|          | 0/4 [00:00<?, ?it/s]"
      ]
     },
     "metadata": {},
     "output_type": "display_data"
    },
    {
     "data": {
      "application/vnd.jupyter.widget-view+json": {
       "model_id": "0c50406c26174114875cebd409794a94",
       "version_major": 2,
       "version_minor": 0
      },
      "text/plain": [
       "  0%|          | 0/4 [00:00<?, ?it/s]"
      ]
     },
     "metadata": {},
     "output_type": "display_data"
    },
    {
     "data": {
      "application/vnd.jupyter.widget-view+json": {
       "model_id": "ff0d03ed87094348832657937a1123ff",
       "version_major": 2,
       "version_minor": 0
      },
      "text/plain": [
       "  0%|          | 0/4 [00:00<?, ?it/s]"
      ]
     },
     "metadata": {},
     "output_type": "display_data"
    },
    {
     "data": {
      "application/vnd.jupyter.widget-view+json": {
       "model_id": "27ad60acf59345f3a35aca57e3ae649a",
       "version_major": 2,
       "version_minor": 0
      },
      "text/plain": [
       "  0%|          | 0/4 [00:00<?, ?it/s]"
      ]
     },
     "metadata": {},
     "output_type": "display_data"
    },
    {
     "data": {
      "application/vnd.jupyter.widget-view+json": {
       "model_id": "d7378f2019a942c4a2ee69a2b5b6213c",
       "version_major": 2,
       "version_minor": 0
      },
      "text/plain": [
       "  0%|          | 0/4 [00:00<?, ?it/s]"
      ]
     },
     "metadata": {},
     "output_type": "display_data"
    },
    {
     "data": {
      "application/vnd.jupyter.widget-view+json": {
       "model_id": "74a6507d214d4cf380444547804f09bb",
       "version_major": 2,
       "version_minor": 0
      },
      "text/plain": [
       "  0%|          | 0/4 [00:00<?, ?it/s]"
      ]
     },
     "metadata": {},
     "output_type": "display_data"
    },
    {
     "data": {
      "application/vnd.jupyter.widget-view+json": {
       "model_id": "92c996a97107430fb2ef5e39acc814a0",
       "version_major": 2,
       "version_minor": 0
      },
      "text/plain": [
       "  0%|          | 0/4 [00:00<?, ?it/s]"
      ]
     },
     "metadata": {},
     "output_type": "display_data"
    },
    {
     "data": {
      "application/vnd.jupyter.widget-view+json": {
       "model_id": "4633dd946ee744aaba2427fad6a4403a",
       "version_major": 2,
       "version_minor": 0
      },
      "text/plain": [
       "  0%|          | 0/4 [00:00<?, ?it/s]"
      ]
     },
     "metadata": {},
     "output_type": "display_data"
    },
    {
     "data": {
      "application/vnd.jupyter.widget-view+json": {
       "model_id": "f24f00ed7969432e8bdbb14133020454",
       "version_major": 2,
       "version_minor": 0
      },
      "text/plain": [
       "  0%|          | 0/4 [00:00<?, ?it/s]"
      ]
     },
     "metadata": {},
     "output_type": "display_data"
    },
    {
     "data": {
      "application/vnd.jupyter.widget-view+json": {
       "model_id": "632fccbb24b64f4bac8628cd40cf9e3d",
       "version_major": 2,
       "version_minor": 0
      },
      "text/plain": [
       "  0%|          | 0/4 [00:00<?, ?it/s]"
      ]
     },
     "metadata": {},
     "output_type": "display_data"
    },
    {
     "data": {
      "application/vnd.jupyter.widget-view+json": {
       "model_id": "d278e39f90d94fadb5c54b8aeecc5153",
       "version_major": 2,
       "version_minor": 0
      },
      "text/plain": [
       "  0%|          | 0/4 [00:00<?, ?it/s]"
      ]
     },
     "metadata": {},
     "output_type": "display_data"
    },
    {
     "data": {
      "application/vnd.jupyter.widget-view+json": {
       "model_id": "05bedc60ce7647a7adbe02a4b72e20eb",
       "version_major": 2,
       "version_minor": 0
      },
      "text/plain": [
       "  0%|          | 0/4 [00:00<?, ?it/s]"
      ]
     },
     "metadata": {},
     "output_type": "display_data"
    },
    {
     "data": {
      "application/vnd.jupyter.widget-view+json": {
       "model_id": "d7c10d25e9e14cfba415d72bd0c75ac5",
       "version_major": 2,
       "version_minor": 0
      },
      "text/plain": [
       "  0%|          | 0/4 [00:00<?, ?it/s]"
      ]
     },
     "metadata": {},
     "output_type": "display_data"
    },
    {
     "data": {
      "application/vnd.jupyter.widget-view+json": {
       "model_id": "3de7771e7d1b49a7a1bee6c439fe3817",
       "version_major": 2,
       "version_minor": 0
      },
      "text/plain": [
       "  0%|          | 0/4 [00:00<?, ?it/s]"
      ]
     },
     "metadata": {},
     "output_type": "display_data"
    },
    {
     "data": {
      "application/vnd.jupyter.widget-view+json": {
       "model_id": "f0ebfd924d8245bfaf1dc31c5e9ef21a",
       "version_major": 2,
       "version_minor": 0
      },
      "text/plain": [
       "  0%|          | 0/4 [00:00<?, ?it/s]"
      ]
     },
     "metadata": {},
     "output_type": "display_data"
    },
    {
     "data": {
      "application/vnd.jupyter.widget-view+json": {
       "model_id": "96bded0952874439a0d9d9826e07024d",
       "version_major": 2,
       "version_minor": 0
      },
      "text/plain": [
       "  0%|          | 0/4 [00:00<?, ?it/s]"
      ]
     },
     "metadata": {},
     "output_type": "display_data"
    },
    {
     "data": {
      "application/vnd.jupyter.widget-view+json": {
       "model_id": "9163e56c676941ea8b84104b4b229c0c",
       "version_major": 2,
       "version_minor": 0
      },
      "text/plain": [
       "  0%|          | 0/4 [00:00<?, ?it/s]"
      ]
     },
     "metadata": {},
     "output_type": "display_data"
    },
    {
     "data": {
      "application/vnd.jupyter.widget-view+json": {
       "model_id": "a2657105d28945babff8352e4e883a53",
       "version_major": 2,
       "version_minor": 0
      },
      "text/plain": [
       "  0%|          | 0/4 [00:00<?, ?it/s]"
      ]
     },
     "metadata": {},
     "output_type": "display_data"
    },
    {
     "data": {
      "application/vnd.jupyter.widget-view+json": {
       "model_id": "1d50ef7e01a646af8e2601e2e47debb1",
       "version_major": 2,
       "version_minor": 0
      },
      "text/plain": [
       "  0%|          | 0/4 [00:00<?, ?it/s]"
      ]
     },
     "metadata": {},
     "output_type": "display_data"
    },
    {
     "data": {
      "application/vnd.jupyter.widget-view+json": {
       "model_id": "d8a9bd91b4f84de5b42c3a512912bd86",
       "version_major": 2,
       "version_minor": 0
      },
      "text/plain": [
       "  0%|          | 0/4 [00:00<?, ?it/s]"
      ]
     },
     "metadata": {},
     "output_type": "display_data"
    },
    {
     "data": {
      "application/vnd.jupyter.widget-view+json": {
       "model_id": "10fed07531014e19ad0efd82e5635bb2",
       "version_major": 2,
       "version_minor": 0
      },
      "text/plain": [
       "  0%|          | 0/4 [00:00<?, ?it/s]"
      ]
     },
     "metadata": {},
     "output_type": "display_data"
    },
    {
     "data": {
      "application/vnd.jupyter.widget-view+json": {
       "model_id": "7e1c71440cd04268926e05a49bdf88d5",
       "version_major": 2,
       "version_minor": 0
      },
      "text/plain": [
       "  0%|          | 0/4 [00:00<?, ?it/s]"
      ]
     },
     "metadata": {},
     "output_type": "display_data"
    },
    {
     "data": {
      "application/vnd.jupyter.widget-view+json": {
       "model_id": "ce2686f63faa4a89ab48da9ff5db687c",
       "version_major": 2,
       "version_minor": 0
      },
      "text/plain": [
       "  0%|          | 0/4 [00:00<?, ?it/s]"
      ]
     },
     "metadata": {},
     "output_type": "display_data"
    },
    {
     "data": {
      "application/vnd.jupyter.widget-view+json": {
       "model_id": "fe50ec4e4e564c0c90343c7c20ce49f2",
       "version_major": 2,
       "version_minor": 0
      },
      "text/plain": [
       "  0%|          | 0/4 [00:00<?, ?it/s]"
      ]
     },
     "metadata": {},
     "output_type": "display_data"
    },
    {
     "data": {
      "application/vnd.jupyter.widget-view+json": {
       "model_id": "93f01ecf49a54c01967f0e1101756bbf",
       "version_major": 2,
       "version_minor": 0
      },
      "text/plain": [
       "  0%|          | 0/4 [00:00<?, ?it/s]"
      ]
     },
     "metadata": {},
     "output_type": "display_data"
    },
    {
     "data": {
      "application/vnd.jupyter.widget-view+json": {
       "model_id": "6a8a2fb4ccd1451889d1cacb62fd42f9",
       "version_major": 2,
       "version_minor": 0
      },
      "text/plain": [
       "  0%|          | 0/4 [00:00<?, ?it/s]"
      ]
     },
     "metadata": {},
     "output_type": "display_data"
    },
    {
     "data": {
      "application/vnd.jupyter.widget-view+json": {
       "model_id": "f1c7b18682d8447885fc2e638843da03",
       "version_major": 2,
       "version_minor": 0
      },
      "text/plain": [
       "  0%|          | 0/4 [00:00<?, ?it/s]"
      ]
     },
     "metadata": {},
     "output_type": "display_data"
    },
    {
     "data": {
      "application/vnd.jupyter.widget-view+json": {
       "model_id": "20b0c6f0127e43db8491323acbae7e8c",
       "version_major": 2,
       "version_minor": 0
      },
      "text/plain": [
       "  0%|          | 0/4 [00:00<?, ?it/s]"
      ]
     },
     "metadata": {},
     "output_type": "display_data"
    },
    {
     "data": {
      "application/vnd.jupyter.widget-view+json": {
       "model_id": "dc4cbc004d034901bfa74ccdc7b00fd5",
       "version_major": 2,
       "version_minor": 0
      },
      "text/plain": [
       "  0%|          | 0/4 [00:00<?, ?it/s]"
      ]
     },
     "metadata": {},
     "output_type": "display_data"
    },
    {
     "data": {
      "application/vnd.jupyter.widget-view+json": {
       "model_id": "d3ca7ece3b084c5684292e936e4d94f9",
       "version_major": 2,
       "version_minor": 0
      },
      "text/plain": [
       "  0%|          | 0/4 [00:00<?, ?it/s]"
      ]
     },
     "metadata": {},
     "output_type": "display_data"
    },
    {
     "data": {
      "application/vnd.jupyter.widget-view+json": {
       "model_id": "e921d50da5234ac78e7d22d80bc1f256",
       "version_major": 2,
       "version_minor": 0
      },
      "text/plain": [
       "  0%|          | 0/4 [00:00<?, ?it/s]"
      ]
     },
     "metadata": {},
     "output_type": "display_data"
    },
    {
     "data": {
      "application/vnd.jupyter.widget-view+json": {
       "model_id": "e911b80010e44f89b9de93c7498b0dd3",
       "version_major": 2,
       "version_minor": 0
      },
      "text/plain": [
       "  0%|          | 0/4 [00:00<?, ?it/s]"
      ]
     },
     "metadata": {},
     "output_type": "display_data"
    },
    {
     "data": {
      "application/vnd.jupyter.widget-view+json": {
       "model_id": "e9c129aa76ad4384916fb0595e402c18",
       "version_major": 2,
       "version_minor": 0
      },
      "text/plain": [
       "  0%|          | 0/4 [00:00<?, ?it/s]"
      ]
     },
     "metadata": {},
     "output_type": "display_data"
    },
    {
     "data": {
      "application/vnd.jupyter.widget-view+json": {
       "model_id": "877bf2b222a240dca6e90af16c77d922",
       "version_major": 2,
       "version_minor": 0
      },
      "text/plain": [
       "  0%|          | 0/4 [00:00<?, ?it/s]"
      ]
     },
     "metadata": {},
     "output_type": "display_data"
    },
    {
     "data": {
      "application/vnd.jupyter.widget-view+json": {
       "model_id": "216530c0313042558c9e42df5dbfaf51",
       "version_major": 2,
       "version_minor": 0
      },
      "text/plain": [
       "  0%|          | 0/4 [00:00<?, ?it/s]"
      ]
     },
     "metadata": {},
     "output_type": "display_data"
    },
    {
     "data": {
      "application/vnd.jupyter.widget-view+json": {
       "model_id": "b58e142f9c444b88a2b0bfc6c8ac7b9f",
       "version_major": 2,
       "version_minor": 0
      },
      "text/plain": [
       "  0%|          | 0/4 [00:00<?, ?it/s]"
      ]
     },
     "metadata": {},
     "output_type": "display_data"
    },
    {
     "data": {
      "application/vnd.jupyter.widget-view+json": {
       "model_id": "f0ed3cb5c93740ccb7cfc5c65fbf37b3",
       "version_major": 2,
       "version_minor": 0
      },
      "text/plain": [
       "  0%|          | 0/4 [00:00<?, ?it/s]"
      ]
     },
     "metadata": {},
     "output_type": "display_data"
    },
    {
     "data": {
      "application/vnd.jupyter.widget-view+json": {
       "model_id": "37afd85eaf284367ade60c00524763e2",
       "version_major": 2,
       "version_minor": 0
      },
      "text/plain": [
       "  0%|          | 0/4 [00:00<?, ?it/s]"
      ]
     },
     "metadata": {},
     "output_type": "display_data"
    },
    {
     "data": {
      "application/vnd.jupyter.widget-view+json": {
       "model_id": "2d3418fe1c3f48c985c2f109a000ddfb",
       "version_major": 2,
       "version_minor": 0
      },
      "text/plain": [
       "  0%|          | 0/4 [00:00<?, ?it/s]"
      ]
     },
     "metadata": {},
     "output_type": "display_data"
    },
    {
     "data": {
      "application/vnd.jupyter.widget-view+json": {
       "model_id": "d09112ec94384d1b9354a2f40bdb4f06",
       "version_major": 2,
       "version_minor": 0
      },
      "text/plain": [
       "  0%|          | 0/4 [00:00<?, ?it/s]"
      ]
     },
     "metadata": {},
     "output_type": "display_data"
    },
    {
     "data": {
      "application/vnd.jupyter.widget-view+json": {
       "model_id": "d74be1672c1f4bb5b974eb22bd5cbc28",
       "version_major": 2,
       "version_minor": 0
      },
      "text/plain": [
       "  0%|          | 0/4 [00:00<?, ?it/s]"
      ]
     },
     "metadata": {},
     "output_type": "display_data"
    },
    {
     "data": {
      "application/vnd.jupyter.widget-view+json": {
       "model_id": "a414738f49d34a7593d27ce906e7af1e",
       "version_major": 2,
       "version_minor": 0
      },
      "text/plain": [
       "  0%|          | 0/4 [00:00<?, ?it/s]"
      ]
     },
     "metadata": {},
     "output_type": "display_data"
    },
    {
     "data": {
      "application/vnd.jupyter.widget-view+json": {
       "model_id": "62a21bb9376c4ee3b27233c622a93fae",
       "version_major": 2,
       "version_minor": 0
      },
      "text/plain": [
       "  0%|          | 0/4 [00:00<?, ?it/s]"
      ]
     },
     "metadata": {},
     "output_type": "display_data"
    },
    {
     "data": {
      "application/vnd.jupyter.widget-view+json": {
       "model_id": "8db2d5fa35be4a30b2112618a41fd5ea",
       "version_major": 2,
       "version_minor": 0
      },
      "text/plain": [
       "  0%|          | 0/4 [00:00<?, ?it/s]"
      ]
     },
     "metadata": {},
     "output_type": "display_data"
    },
    {
     "data": {
      "application/vnd.jupyter.widget-view+json": {
       "model_id": "30e83a55eeeb4d2a870f1bf32e57e6f9",
       "version_major": 2,
       "version_minor": 0
      },
      "text/plain": [
       "  0%|          | 0/4 [00:00<?, ?it/s]"
      ]
     },
     "metadata": {},
     "output_type": "display_data"
    },
    {
     "data": {
      "application/vnd.jupyter.widget-view+json": {
       "model_id": "e5d30c71e1f04cda91a6e5e88fc5fbad",
       "version_major": 2,
       "version_minor": 0
      },
      "text/plain": [
       "  0%|          | 0/4 [00:00<?, ?it/s]"
      ]
     },
     "metadata": {},
     "output_type": "display_data"
    },
    {
     "data": {
      "application/vnd.jupyter.widget-view+json": {
       "model_id": "67b99c3b95664780a788f0c27e71cdc4",
       "version_major": 2,
       "version_minor": 0
      },
      "text/plain": [
       "  0%|          | 0/4 [00:00<?, ?it/s]"
      ]
     },
     "metadata": {},
     "output_type": "display_data"
    },
    {
     "data": {
      "application/vnd.jupyter.widget-view+json": {
       "model_id": "07227544db3245969eee28c9b7290527",
       "version_major": 2,
       "version_minor": 0
      },
      "text/plain": [
       "  0%|          | 0/4 [00:00<?, ?it/s]"
      ]
     },
     "metadata": {},
     "output_type": "display_data"
    },
    {
     "data": {
      "application/vnd.jupyter.widget-view+json": {
       "model_id": "d85ab16318804575aa715641def7c356",
       "version_major": 2,
       "version_minor": 0
      },
      "text/plain": [
       "  0%|          | 0/4 [00:00<?, ?it/s]"
      ]
     },
     "metadata": {},
     "output_type": "display_data"
    },
    {
     "data": {
      "application/vnd.jupyter.widget-view+json": {
       "model_id": "c75247fed4e94f8980f31c51e092bf19",
       "version_major": 2,
       "version_minor": 0
      },
      "text/plain": [
       "  0%|          | 0/4 [00:00<?, ?it/s]"
      ]
     },
     "metadata": {},
     "output_type": "display_data"
    },
    {
     "data": {
      "application/vnd.jupyter.widget-view+json": {
       "model_id": "1e5afc66ed9e40cfae13725cbfcd7255",
       "version_major": 2,
       "version_minor": 0
      },
      "text/plain": [
       "  0%|          | 0/4 [00:00<?, ?it/s]"
      ]
     },
     "metadata": {},
     "output_type": "display_data"
    },
    {
     "data": {
      "application/vnd.jupyter.widget-view+json": {
       "model_id": "dfc3fa7359b84f34b3606845ccbabfd8",
       "version_major": 2,
       "version_minor": 0
      },
      "text/plain": [
       "  0%|          | 0/4 [00:00<?, ?it/s]"
      ]
     },
     "metadata": {},
     "output_type": "display_data"
    },
    {
     "data": {
      "application/vnd.jupyter.widget-view+json": {
       "model_id": "52b44b7fb10c46c68e86c2b63bbda8cf",
       "version_major": 2,
       "version_minor": 0
      },
      "text/plain": [
       "  0%|          | 0/4 [00:00<?, ?it/s]"
      ]
     },
     "metadata": {},
     "output_type": "display_data"
    },
    {
     "data": {
      "application/vnd.jupyter.widget-view+json": {
       "model_id": "c039fd95aa034e91abc11703c739f1d2",
       "version_major": 2,
       "version_minor": 0
      },
      "text/plain": [
       "  0%|          | 0/4 [00:00<?, ?it/s]"
      ]
     },
     "metadata": {},
     "output_type": "display_data"
    },
    {
     "data": {
      "application/vnd.jupyter.widget-view+json": {
       "model_id": "fe14fd658a6e4c47a6efe0800ffe335b",
       "version_major": 2,
       "version_minor": 0
      },
      "text/plain": [
       "  0%|          | 0/4 [00:00<?, ?it/s]"
      ]
     },
     "metadata": {},
     "output_type": "display_data"
    },
    {
     "data": {
      "application/vnd.jupyter.widget-view+json": {
       "model_id": "ae835830c9af4a3684333bdd496067f2",
       "version_major": 2,
       "version_minor": 0
      },
      "text/plain": [
       "  0%|          | 0/4 [00:00<?, ?it/s]"
      ]
     },
     "metadata": {},
     "output_type": "display_data"
    },
    {
     "data": {
      "application/vnd.jupyter.widget-view+json": {
       "model_id": "e788c4033038469291eac25b5856ff9d",
       "version_major": 2,
       "version_minor": 0
      },
      "text/plain": [
       "  0%|          | 0/4 [00:00<?, ?it/s]"
      ]
     },
     "metadata": {},
     "output_type": "display_data"
    },
    {
     "data": {
      "application/vnd.jupyter.widget-view+json": {
       "model_id": "3c5d3698dba54a1da1e9e8763bab412f",
       "version_major": 2,
       "version_minor": 0
      },
      "text/plain": [
       "  0%|          | 0/4 [00:00<?, ?it/s]"
      ]
     },
     "metadata": {},
     "output_type": "display_data"
    },
    {
     "data": {
      "application/vnd.jupyter.widget-view+json": {
       "model_id": "fcdba88b992045e2bc7dd40f3c4be966",
       "version_major": 2,
       "version_minor": 0
      },
      "text/plain": [
       "  0%|          | 0/4 [00:00<?, ?it/s]"
      ]
     },
     "metadata": {},
     "output_type": "display_data"
    },
    {
     "data": {
      "application/vnd.jupyter.widget-view+json": {
       "model_id": "069ee82ffc8345eeae4d736ebaa7208f",
       "version_major": 2,
       "version_minor": 0
      },
      "text/plain": [
       "  0%|          | 0/4 [00:00<?, ?it/s]"
      ]
     },
     "metadata": {},
     "output_type": "display_data"
    },
    {
     "data": {
      "application/vnd.jupyter.widget-view+json": {
       "model_id": "ca4d9f431ddc4382a85609337f0fa3a1",
       "version_major": 2,
       "version_minor": 0
      },
      "text/plain": [
       "  0%|          | 0/4 [00:00<?, ?it/s]"
      ]
     },
     "metadata": {},
     "output_type": "display_data"
    },
    {
     "data": {
      "application/vnd.jupyter.widget-view+json": {
       "model_id": "52f7f1b662a84fb88f8cf59616d6be3b",
       "version_major": 2,
       "version_minor": 0
      },
      "text/plain": [
       "  0%|          | 0/4 [00:00<?, ?it/s]"
      ]
     },
     "metadata": {},
     "output_type": "display_data"
    },
    {
     "data": {
      "application/vnd.jupyter.widget-view+json": {
       "model_id": "4e7e4c9acbef4dd0b381f7b769161eaa",
       "version_major": 2,
       "version_minor": 0
      },
      "text/plain": [
       "  0%|          | 0/4 [00:00<?, ?it/s]"
      ]
     },
     "metadata": {},
     "output_type": "display_data"
    },
    {
     "data": {
      "application/vnd.jupyter.widget-view+json": {
       "model_id": "5d8aef2c36ea4a59a2e802d99eca4375",
       "version_major": 2,
       "version_minor": 0
      },
      "text/plain": [
       "  0%|          | 0/4 [00:00<?, ?it/s]"
      ]
     },
     "metadata": {},
     "output_type": "display_data"
    },
    {
     "data": {
      "application/vnd.jupyter.widget-view+json": {
       "model_id": "a54bd046472f48dd9f511b45ffc30eff",
       "version_major": 2,
       "version_minor": 0
      },
      "text/plain": [
       "  0%|          | 0/4 [00:00<?, ?it/s]"
      ]
     },
     "metadata": {},
     "output_type": "display_data"
    },
    {
     "data": {
      "application/vnd.jupyter.widget-view+json": {
       "model_id": "1b527a0baed046899762c460c5f76b26",
       "version_major": 2,
       "version_minor": 0
      },
      "text/plain": [
       "  0%|          | 0/4 [00:00<?, ?it/s]"
      ]
     },
     "metadata": {},
     "output_type": "display_data"
    },
    {
     "data": {
      "application/vnd.jupyter.widget-view+json": {
       "model_id": "bcccd666945c439f92acc17e8fc1f786",
       "version_major": 2,
       "version_minor": 0
      },
      "text/plain": [
       "  0%|          | 0/4 [00:00<?, ?it/s]"
      ]
     },
     "metadata": {},
     "output_type": "display_data"
    },
    {
     "data": {
      "application/vnd.jupyter.widget-view+json": {
       "model_id": "dd88b7f064774ca3a0bf113d160346b8",
       "version_major": 2,
       "version_minor": 0
      },
      "text/plain": [
       "  0%|          | 0/4 [00:00<?, ?it/s]"
      ]
     },
     "metadata": {},
     "output_type": "display_data"
    },
    {
     "data": {
      "application/vnd.jupyter.widget-view+json": {
       "model_id": "8cdd4421fd684c78b1b3a966342de17f",
       "version_major": 2,
       "version_minor": 0
      },
      "text/plain": [
       "  0%|          | 0/4 [00:00<?, ?it/s]"
      ]
     },
     "metadata": {},
     "output_type": "display_data"
    },
    {
     "data": {
      "application/vnd.jupyter.widget-view+json": {
       "model_id": "3eb109b008924b9b94eb9d11e569b408",
       "version_major": 2,
       "version_minor": 0
      },
      "text/plain": [
       "  0%|          | 0/4 [00:00<?, ?it/s]"
      ]
     },
     "metadata": {},
     "output_type": "display_data"
    },
    {
     "data": {
      "application/vnd.jupyter.widget-view+json": {
       "model_id": "e14e835c8d4f4fab89a9f768fa90c7cf",
       "version_major": 2,
       "version_minor": 0
      },
      "text/plain": [
       "  0%|          | 0/4 [00:00<?, ?it/s]"
      ]
     },
     "metadata": {},
     "output_type": "display_data"
    },
    {
     "data": {
      "application/vnd.jupyter.widget-view+json": {
       "model_id": "5727b4d88eae4d89a555d9e29ee0d06b",
       "version_major": 2,
       "version_minor": 0
      },
      "text/plain": [
       "  0%|          | 0/4 [00:00<?, ?it/s]"
      ]
     },
     "metadata": {},
     "output_type": "display_data"
    },
    {
     "data": {
      "application/vnd.jupyter.widget-view+json": {
       "model_id": "18070dc6cfdd4adc9d13f2f639d8cef1",
       "version_major": 2,
       "version_minor": 0
      },
      "text/plain": [
       "  0%|          | 0/4 [00:00<?, ?it/s]"
      ]
     },
     "metadata": {},
     "output_type": "display_data"
    },
    {
     "data": {
      "application/vnd.jupyter.widget-view+json": {
       "model_id": "d7a43794f4664357906e63084667158c",
       "version_major": 2,
       "version_minor": 0
      },
      "text/plain": [
       "  0%|          | 0/4 [00:00<?, ?it/s]"
      ]
     },
     "metadata": {},
     "output_type": "display_data"
    },
    {
     "data": {
      "application/vnd.jupyter.widget-view+json": {
       "model_id": "74c35d870774499b80164dfd5fa30ab0",
       "version_major": 2,
       "version_minor": 0
      },
      "text/plain": [
       "  0%|          | 0/4 [00:00<?, ?it/s]"
      ]
     },
     "metadata": {},
     "output_type": "display_data"
    },
    {
     "data": {
      "application/vnd.jupyter.widget-view+json": {
       "model_id": "445975f2afc94f07b02dd9fceff483fa",
       "version_major": 2,
       "version_minor": 0
      },
      "text/plain": [
       "  0%|          | 0/4 [00:00<?, ?it/s]"
      ]
     },
     "metadata": {},
     "output_type": "display_data"
    },
    {
     "data": {
      "application/vnd.jupyter.widget-view+json": {
       "model_id": "b66b8bdf599546b09e3ea9042c4ff373",
       "version_major": 2,
       "version_minor": 0
      },
      "text/plain": [
       "  0%|          | 0/4 [00:00<?, ?it/s]"
      ]
     },
     "metadata": {},
     "output_type": "display_data"
    },
    {
     "data": {
      "application/vnd.jupyter.widget-view+json": {
       "model_id": "bef172d4281b44cc8380084786ff3f63",
       "version_major": 2,
       "version_minor": 0
      },
      "text/plain": [
       "  0%|          | 0/4 [00:00<?, ?it/s]"
      ]
     },
     "metadata": {},
     "output_type": "display_data"
    },
    {
     "data": {
      "application/vnd.jupyter.widget-view+json": {
       "model_id": "a49544be04344a8c9ecddad049c92c2a",
       "version_major": 2,
       "version_minor": 0
      },
      "text/plain": [
       "  0%|          | 0/4 [00:00<?, ?it/s]"
      ]
     },
     "metadata": {},
     "output_type": "display_data"
    },
    {
     "data": {
      "application/vnd.jupyter.widget-view+json": {
       "model_id": "c97d640f786245b3b9f7c9ab1d7034bf",
       "version_major": 2,
       "version_minor": 0
      },
      "text/plain": [
       "  0%|          | 0/4 [00:00<?, ?it/s]"
      ]
     },
     "metadata": {},
     "output_type": "display_data"
    },
    {
     "data": {
      "application/vnd.jupyter.widget-view+json": {
       "model_id": "3dda1e9538df4a4c8e3342430fe7385a",
       "version_major": 2,
       "version_minor": 0
      },
      "text/plain": [
       "  0%|          | 0/4 [00:00<?, ?it/s]"
      ]
     },
     "metadata": {},
     "output_type": "display_data"
    },
    {
     "data": {
      "application/vnd.jupyter.widget-view+json": {
       "model_id": "c77ecbd4050446b8882d01314b076e0e",
       "version_major": 2,
       "version_minor": 0
      },
      "text/plain": [
       "  0%|          | 0/4 [00:00<?, ?it/s]"
      ]
     },
     "metadata": {},
     "output_type": "display_data"
    },
    {
     "data": {
      "application/vnd.jupyter.widget-view+json": {
       "model_id": "b74778358446408bb05a4c04f06a6e13",
       "version_major": 2,
       "version_minor": 0
      },
      "text/plain": [
       "  0%|          | 0/4 [00:00<?, ?it/s]"
      ]
     },
     "metadata": {},
     "output_type": "display_data"
    },
    {
     "data": {
      "application/vnd.jupyter.widget-view+json": {
       "model_id": "97bdb600c656407c8b31deb9c361d1d9",
       "version_major": 2,
       "version_minor": 0
      },
      "text/plain": [
       "  0%|          | 0/4 [00:00<?, ?it/s]"
      ]
     },
     "metadata": {},
     "output_type": "display_data"
    },
    {
     "data": {
      "application/vnd.jupyter.widget-view+json": {
       "model_id": "eeab9b72e5394a1a82b62d449661f870",
       "version_major": 2,
       "version_minor": 0
      },
      "text/plain": [
       "  0%|          | 0/4 [00:00<?, ?it/s]"
      ]
     },
     "metadata": {},
     "output_type": "display_data"
    },
    {
     "data": {
      "application/vnd.jupyter.widget-view+json": {
       "model_id": "bc5d956f6333441e94e9135ef8855383",
       "version_major": 2,
       "version_minor": 0
      },
      "text/plain": [
       "  0%|          | 0/4 [00:00<?, ?it/s]"
      ]
     },
     "metadata": {},
     "output_type": "display_data"
    },
    {
     "data": {
      "application/vnd.jupyter.widget-view+json": {
       "model_id": "a14ba72b2e3141c0ad6cd57cd75292d1",
       "version_major": 2,
       "version_minor": 0
      },
      "text/plain": [
       "  0%|          | 0/4 [00:00<?, ?it/s]"
      ]
     },
     "metadata": {},
     "output_type": "display_data"
    },
    {
     "data": {
      "application/vnd.jupyter.widget-view+json": {
       "model_id": "c99031a8ebcf48d8b0ca084d822dab82",
       "version_major": 2,
       "version_minor": 0
      },
      "text/plain": [
       "  0%|          | 0/4 [00:00<?, ?it/s]"
      ]
     },
     "metadata": {},
     "output_type": "display_data"
    },
    {
     "data": {
      "application/vnd.jupyter.widget-view+json": {
       "model_id": "8244b707b3b4462982494d63b3a7a145",
       "version_major": 2,
       "version_minor": 0
      },
      "text/plain": [
       "  0%|          | 0/4 [00:00<?, ?it/s]"
      ]
     },
     "metadata": {},
     "output_type": "display_data"
    },
    {
     "data": {
      "application/vnd.jupyter.widget-view+json": {
       "model_id": "b9294736a145474b829b6e98fdc06197",
       "version_major": 2,
       "version_minor": 0
      },
      "text/plain": [
       "  0%|          | 0/4 [00:00<?, ?it/s]"
      ]
     },
     "metadata": {},
     "output_type": "display_data"
    },
    {
     "data": {
      "application/vnd.jupyter.widget-view+json": {
       "model_id": "fde7761eab214db49e9691d719c57c84",
       "version_major": 2,
       "version_minor": 0
      },
      "text/plain": [
       "  0%|          | 0/4 [00:00<?, ?it/s]"
      ]
     },
     "metadata": {},
     "output_type": "display_data"
    },
    {
     "data": {
      "application/vnd.jupyter.widget-view+json": {
       "model_id": "df887b001b6b4a59b38e59536b46bd82",
       "version_major": 2,
       "version_minor": 0
      },
      "text/plain": [
       "  0%|          | 0/4 [00:00<?, ?it/s]"
      ]
     },
     "metadata": {},
     "output_type": "display_data"
    },
    {
     "data": {
      "application/vnd.jupyter.widget-view+json": {
       "model_id": "7f868c4e470c442284874ad2c57109df",
       "version_major": 2,
       "version_minor": 0
      },
      "text/plain": [
       "  0%|          | 0/4 [00:00<?, ?it/s]"
      ]
     },
     "metadata": {},
     "output_type": "display_data"
    },
    {
     "data": {
      "application/vnd.jupyter.widget-view+json": {
       "model_id": "739b5bd5f648443baa138aad0f874d49",
       "version_major": 2,
       "version_minor": 0
      },
      "text/plain": [
       "  0%|          | 0/4 [00:00<?, ?it/s]"
      ]
     },
     "metadata": {},
     "output_type": "display_data"
    },
    {
     "data": {
      "application/vnd.jupyter.widget-view+json": {
       "model_id": "b7054f6eb50b4eaaa096da7c634667bd",
       "version_major": 2,
       "version_minor": 0
      },
      "text/plain": [
       "  0%|          | 0/4 [00:00<?, ?it/s]"
      ]
     },
     "metadata": {},
     "output_type": "display_data"
    },
    {
     "data": {
      "application/vnd.jupyter.widget-view+json": {
       "model_id": "b7207de95e3b4f05bc3ad294d99582fb",
       "version_major": 2,
       "version_minor": 0
      },
      "text/plain": [
       "  0%|          | 0/4 [00:00<?, ?it/s]"
      ]
     },
     "metadata": {},
     "output_type": "display_data"
    },
    {
     "data": {
      "application/vnd.jupyter.widget-view+json": {
       "model_id": "3178c9072a3144509da0021a9ebe8320",
       "version_major": 2,
       "version_minor": 0
      },
      "text/plain": [
       "  0%|          | 0/4 [00:00<?, ?it/s]"
      ]
     },
     "metadata": {},
     "output_type": "display_data"
    },
    {
     "data": {
      "application/vnd.jupyter.widget-view+json": {
       "model_id": "2c211e2ec79a4c5b87299336776f134d",
       "version_major": 2,
       "version_minor": 0
      },
      "text/plain": [
       "  0%|          | 0/4 [00:00<?, ?it/s]"
      ]
     },
     "metadata": {},
     "output_type": "display_data"
    },
    {
     "data": {
      "application/vnd.jupyter.widget-view+json": {
       "model_id": "7d74e2294196488fb4d60b78ec48aa85",
       "version_major": 2,
       "version_minor": 0
      },
      "text/plain": [
       "  0%|          | 0/4 [00:00<?, ?it/s]"
      ]
     },
     "metadata": {},
     "output_type": "display_data"
    },
    {
     "data": {
      "application/vnd.jupyter.widget-view+json": {
       "model_id": "e83f7f2c4940426298b5704ee38c517f",
       "version_major": 2,
       "version_minor": 0
      },
      "text/plain": [
       "  0%|          | 0/4 [00:00<?, ?it/s]"
      ]
     },
     "metadata": {},
     "output_type": "display_data"
    },
    {
     "data": {
      "application/vnd.jupyter.widget-view+json": {
       "model_id": "48e4ec17287640db942d1015564ab3b1",
       "version_major": 2,
       "version_minor": 0
      },
      "text/plain": [
       "  0%|          | 0/4 [00:00<?, ?it/s]"
      ]
     },
     "metadata": {},
     "output_type": "display_data"
    },
    {
     "data": {
      "application/vnd.jupyter.widget-view+json": {
       "model_id": "f39a2531bdad4da088282a6d05c4b00c",
       "version_major": 2,
       "version_minor": 0
      },
      "text/plain": [
       "  0%|          | 0/4 [00:00<?, ?it/s]"
      ]
     },
     "metadata": {},
     "output_type": "display_data"
    },
    {
     "data": {
      "application/vnd.jupyter.widget-view+json": {
       "model_id": "b362e467176f40ccbaba30c8215664eb",
       "version_major": 2,
       "version_minor": 0
      },
      "text/plain": [
       "  0%|          | 0/4 [00:00<?, ?it/s]"
      ]
     },
     "metadata": {},
     "output_type": "display_data"
    },
    {
     "data": {
      "application/vnd.jupyter.widget-view+json": {
       "model_id": "ede100f20293432b834b3cfc7fac3847",
       "version_major": 2,
       "version_minor": 0
      },
      "text/plain": [
       "  0%|          | 0/4 [00:00<?, ?it/s]"
      ]
     },
     "metadata": {},
     "output_type": "display_data"
    },
    {
     "data": {
      "application/vnd.jupyter.widget-view+json": {
       "model_id": "95818c2fa7434f0e8376f35094a6fd3a",
       "version_major": 2,
       "version_minor": 0
      },
      "text/plain": [
       "  0%|          | 0/4 [00:00<?, ?it/s]"
      ]
     },
     "metadata": {},
     "output_type": "display_data"
    },
    {
     "data": {
      "application/vnd.jupyter.widget-view+json": {
       "model_id": "ab9df8702b1b4e738f4c236baa6a2d78",
       "version_major": 2,
       "version_minor": 0
      },
      "text/plain": [
       "  0%|          | 0/4 [00:00<?, ?it/s]"
      ]
     },
     "metadata": {},
     "output_type": "display_data"
    },
    {
     "data": {
      "application/vnd.jupyter.widget-view+json": {
       "model_id": "40a67c74de84447f9db97f5acbd1ea44",
       "version_major": 2,
       "version_minor": 0
      },
      "text/plain": [
       "  0%|          | 0/4 [00:00<?, ?it/s]"
      ]
     },
     "metadata": {},
     "output_type": "display_data"
    },
    {
     "data": {
      "application/vnd.jupyter.widget-view+json": {
       "model_id": "3e26e7706ec04d128c52d8643e531f77",
       "version_major": 2,
       "version_minor": 0
      },
      "text/plain": [
       "  0%|          | 0/4 [00:00<?, ?it/s]"
      ]
     },
     "metadata": {},
     "output_type": "display_data"
    },
    {
     "data": {
      "application/vnd.jupyter.widget-view+json": {
       "model_id": "45d16576e8af42b282ad7810acf4b43b",
       "version_major": 2,
       "version_minor": 0
      },
      "text/plain": [
       "  0%|          | 0/4 [00:00<?, ?it/s]"
      ]
     },
     "metadata": {},
     "output_type": "display_data"
    },
    {
     "data": {
      "application/vnd.jupyter.widget-view+json": {
       "model_id": "76097c9b29a84dcbbdfd3cc1052ec608",
       "version_major": 2,
       "version_minor": 0
      },
      "text/plain": [
       "  0%|          | 0/4 [00:00<?, ?it/s]"
      ]
     },
     "metadata": {},
     "output_type": "display_data"
    },
    {
     "data": {
      "application/vnd.jupyter.widget-view+json": {
       "model_id": "cbddb91bc9d04e8e9a60f1fde5e03c5c",
       "version_major": 2,
       "version_minor": 0
      },
      "text/plain": [
       "  0%|          | 0/4 [00:00<?, ?it/s]"
      ]
     },
     "metadata": {},
     "output_type": "display_data"
    },
    {
     "data": {
      "application/vnd.jupyter.widget-view+json": {
       "model_id": "d01ed30efb144e3eab18386a37aeed65",
       "version_major": 2,
       "version_minor": 0
      },
      "text/plain": [
       "  0%|          | 0/4 [00:00<?, ?it/s]"
      ]
     },
     "metadata": {},
     "output_type": "display_data"
    },
    {
     "data": {
      "application/vnd.jupyter.widget-view+json": {
       "model_id": "9860a65407f74bcf8d81dd1e591c2444",
       "version_major": 2,
       "version_minor": 0
      },
      "text/plain": [
       "  0%|          | 0/4 [00:00<?, ?it/s]"
      ]
     },
     "metadata": {},
     "output_type": "display_data"
    },
    {
     "data": {
      "application/vnd.jupyter.widget-view+json": {
       "model_id": "6ec87e287fac43aa996125330ed4d47f",
       "version_major": 2,
       "version_minor": 0
      },
      "text/plain": [
       "  0%|          | 0/4 [00:00<?, ?it/s]"
      ]
     },
     "metadata": {},
     "output_type": "display_data"
    },
    {
     "data": {
      "application/vnd.jupyter.widget-view+json": {
       "model_id": "ddba30f50fe3400bb5c305770bcc02ac",
       "version_major": 2,
       "version_minor": 0
      },
      "text/plain": [
       "  0%|          | 0/4 [00:00<?, ?it/s]"
      ]
     },
     "metadata": {},
     "output_type": "display_data"
    },
    {
     "data": {
      "application/vnd.jupyter.widget-view+json": {
       "model_id": "adf759edb9654f888726369c17bd4164",
       "version_major": 2,
       "version_minor": 0
      },
      "text/plain": [
       "  0%|          | 0/4 [00:00<?, ?it/s]"
      ]
     },
     "metadata": {},
     "output_type": "display_data"
    },
    {
     "data": {
      "application/vnd.jupyter.widget-view+json": {
       "model_id": "023b342bd0c24945ba590ab254dc3985",
       "version_major": 2,
       "version_minor": 0
      },
      "text/plain": [
       "  0%|          | 0/4 [00:00<?, ?it/s]"
      ]
     },
     "metadata": {},
     "output_type": "display_data"
    },
    {
     "data": {
      "application/vnd.jupyter.widget-view+json": {
       "model_id": "62c25b999c6842f3b2d7d908e7be3477",
       "version_major": 2,
       "version_minor": 0
      },
      "text/plain": [
       "  0%|          | 0/4 [00:00<?, ?it/s]"
      ]
     },
     "metadata": {},
     "output_type": "display_data"
    },
    {
     "data": {
      "application/vnd.jupyter.widget-view+json": {
       "model_id": "adc6279b4a184bd1b0984436192d81d8",
       "version_major": 2,
       "version_minor": 0
      },
      "text/plain": [
       "  0%|          | 0/4 [00:00<?, ?it/s]"
      ]
     },
     "metadata": {},
     "output_type": "display_data"
    },
    {
     "data": {
      "application/vnd.jupyter.widget-view+json": {
       "model_id": "3967f59fa5c3467da26e2f78143f535e",
       "version_major": 2,
       "version_minor": 0
      },
      "text/plain": [
       "  0%|          | 0/4 [00:00<?, ?it/s]"
      ]
     },
     "metadata": {},
     "output_type": "display_data"
    },
    {
     "data": {
      "application/vnd.jupyter.widget-view+json": {
       "model_id": "bc97b1e20ac14d7bb361b6423a63de1a",
       "version_major": 2,
       "version_minor": 0
      },
      "text/plain": [
       "  0%|          | 0/4 [00:00<?, ?it/s]"
      ]
     },
     "metadata": {},
     "output_type": "display_data"
    },
    {
     "data": {
      "application/vnd.jupyter.widget-view+json": {
       "model_id": "fd29260285bb4a029bdec4691bbdaace",
       "version_major": 2,
       "version_minor": 0
      },
      "text/plain": [
       "  0%|          | 0/4 [00:00<?, ?it/s]"
      ]
     },
     "metadata": {},
     "output_type": "display_data"
    },
    {
     "data": {
      "application/vnd.jupyter.widget-view+json": {
       "model_id": "e3568377af2345da94441d19ac90c09e",
       "version_major": 2,
       "version_minor": 0
      },
      "text/plain": [
       "  0%|          | 0/4 [00:00<?, ?it/s]"
      ]
     },
     "metadata": {},
     "output_type": "display_data"
    },
    {
     "data": {
      "application/vnd.jupyter.widget-view+json": {
       "model_id": "61854ca9d104480491a900f9e05bf78d",
       "version_major": 2,
       "version_minor": 0
      },
      "text/plain": [
       "  0%|          | 0/4 [00:00<?, ?it/s]"
      ]
     },
     "metadata": {},
     "output_type": "display_data"
    },
    {
     "data": {
      "application/vnd.jupyter.widget-view+json": {
       "model_id": "e4908b6cfc1d4ee3a1c848a40b8c5af2",
       "version_major": 2,
       "version_minor": 0
      },
      "text/plain": [
       "  0%|          | 0/4 [00:00<?, ?it/s]"
      ]
     },
     "metadata": {},
     "output_type": "display_data"
    },
    {
     "data": {
      "application/vnd.jupyter.widget-view+json": {
       "model_id": "cc1ea54424774da49b5a3deb7d8d5966",
       "version_major": 2,
       "version_minor": 0
      },
      "text/plain": [
       "  0%|          | 0/4 [00:00<?, ?it/s]"
      ]
     },
     "metadata": {},
     "output_type": "display_data"
    },
    {
     "data": {
      "application/vnd.jupyter.widget-view+json": {
       "model_id": "6481a4462e7840b5be559f19f915d25f",
       "version_major": 2,
       "version_minor": 0
      },
      "text/plain": [
       "  0%|          | 0/4 [00:00<?, ?it/s]"
      ]
     },
     "metadata": {},
     "output_type": "display_data"
    },
    {
     "data": {
      "application/vnd.jupyter.widget-view+json": {
       "model_id": "7c2c5f76a04d4b0aafea879c85fcc71e",
       "version_major": 2,
       "version_minor": 0
      },
      "text/plain": [
       "  0%|          | 0/4 [00:00<?, ?it/s]"
      ]
     },
     "metadata": {},
     "output_type": "display_data"
    },
    {
     "data": {
      "application/vnd.jupyter.widget-view+json": {
       "model_id": "519f5acbb0bf4611bc7514776a0ed9fc",
       "version_major": 2,
       "version_minor": 0
      },
      "text/plain": [
       "  0%|          | 0/4 [00:00<?, ?it/s]"
      ]
     },
     "metadata": {},
     "output_type": "display_data"
    },
    {
     "data": {
      "application/vnd.jupyter.widget-view+json": {
       "model_id": "3c7b5d0c803540b48c0e9f2957448c73",
       "version_major": 2,
       "version_minor": 0
      },
      "text/plain": [
       "  0%|          | 0/4 [00:00<?, ?it/s]"
      ]
     },
     "metadata": {},
     "output_type": "display_data"
    },
    {
     "data": {
      "application/vnd.jupyter.widget-view+json": {
       "model_id": "2a4dcd913ad046268e7d9a5e53b026fe",
       "version_major": 2,
       "version_minor": 0
      },
      "text/plain": [
       "  0%|          | 0/4 [00:00<?, ?it/s]"
      ]
     },
     "metadata": {},
     "output_type": "display_data"
    },
    {
     "data": {
      "application/vnd.jupyter.widget-view+json": {
       "model_id": "99a03940bf4a4018882d1879a254cfef",
       "version_major": 2,
       "version_minor": 0
      },
      "text/plain": [
       "  0%|          | 0/4 [00:00<?, ?it/s]"
      ]
     },
     "metadata": {},
     "output_type": "display_data"
    },
    {
     "data": {
      "application/vnd.jupyter.widget-view+json": {
       "model_id": "7403699bac634862aed6543a9da52b67",
       "version_major": 2,
       "version_minor": 0
      },
      "text/plain": [
       "  0%|          | 0/4 [00:00<?, ?it/s]"
      ]
     },
     "metadata": {},
     "output_type": "display_data"
    },
    {
     "data": {
      "application/vnd.jupyter.widget-view+json": {
       "model_id": "864cd20d8f354ed489f719b84907c305",
       "version_major": 2,
       "version_minor": 0
      },
      "text/plain": [
       "  0%|          | 0/4 [00:00<?, ?it/s]"
      ]
     },
     "metadata": {},
     "output_type": "display_data"
    },
    {
     "data": {
      "application/vnd.jupyter.widget-view+json": {
       "model_id": "d903482aaa57400eb8350144eeb2a1aa",
       "version_major": 2,
       "version_minor": 0
      },
      "text/plain": [
       "  0%|          | 0/4 [00:00<?, ?it/s]"
      ]
     },
     "metadata": {},
     "output_type": "display_data"
    },
    {
     "data": {
      "application/vnd.jupyter.widget-view+json": {
       "model_id": "0b5bf77927c64085b8124ef587078da4",
       "version_major": 2,
       "version_minor": 0
      },
      "text/plain": [
       "  0%|          | 0/4 [00:00<?, ?it/s]"
      ]
     },
     "metadata": {},
     "output_type": "display_data"
    },
    {
     "data": {
      "application/vnd.jupyter.widget-view+json": {
       "model_id": "106538a970454cd08922b00fa626daaa",
       "version_major": 2,
       "version_minor": 0
      },
      "text/plain": [
       "  0%|          | 0/4 [00:00<?, ?it/s]"
      ]
     },
     "metadata": {},
     "output_type": "display_data"
    },
    {
     "data": {
      "application/vnd.jupyter.widget-view+json": {
       "model_id": "0013509bb0f1456d83a0c4ba9d1b1357",
       "version_major": 2,
       "version_minor": 0
      },
      "text/plain": [
       "  0%|          | 0/4 [00:00<?, ?it/s]"
      ]
     },
     "metadata": {},
     "output_type": "display_data"
    },
    {
     "data": {
      "application/vnd.jupyter.widget-view+json": {
       "model_id": "82dd9f3cf7974034bc5324d57e5667a3",
       "version_major": 2,
       "version_minor": 0
      },
      "text/plain": [
       "  0%|          | 0/4 [00:00<?, ?it/s]"
      ]
     },
     "metadata": {},
     "output_type": "display_data"
    },
    {
     "data": {
      "application/vnd.jupyter.widget-view+json": {
       "model_id": "7c608b9bdabf493eb4fbb1ddaad3e70f",
       "version_major": 2,
       "version_minor": 0
      },
      "text/plain": [
       "  0%|          | 0/4 [00:00<?, ?it/s]"
      ]
     },
     "metadata": {},
     "output_type": "display_data"
    },
    {
     "data": {
      "application/vnd.jupyter.widget-view+json": {
       "model_id": "0e84f1ab9f3246b99131410b6076835b",
       "version_major": 2,
       "version_minor": 0
      },
      "text/plain": [
       "  0%|          | 0/4 [00:00<?, ?it/s]"
      ]
     },
     "metadata": {},
     "output_type": "display_data"
    },
    {
     "data": {
      "application/vnd.jupyter.widget-view+json": {
       "model_id": "90e5f05a57cc41c7b01f4a5f7e01c4a7",
       "version_major": 2,
       "version_minor": 0
      },
      "text/plain": [
       "  0%|          | 0/4 [00:00<?, ?it/s]"
      ]
     },
     "metadata": {},
     "output_type": "display_data"
    },
    {
     "data": {
      "application/vnd.jupyter.widget-view+json": {
       "model_id": "63a5ae0c40df46dbb243f5dedd96ea4f",
       "version_major": 2,
       "version_minor": 0
      },
      "text/plain": [
       "  0%|          | 0/4 [00:00<?, ?it/s]"
      ]
     },
     "metadata": {},
     "output_type": "display_data"
    },
    {
     "data": {
      "application/vnd.jupyter.widget-view+json": {
       "model_id": "70c108742f374da8848b93478fb8c443",
       "version_major": 2,
       "version_minor": 0
      },
      "text/plain": [
       "  0%|          | 0/4 [00:00<?, ?it/s]"
      ]
     },
     "metadata": {},
     "output_type": "display_data"
    },
    {
     "data": {
      "application/vnd.jupyter.widget-view+json": {
       "model_id": "0d68b184b1a444288f04fb0e10ce0e74",
       "version_major": 2,
       "version_minor": 0
      },
      "text/plain": [
       "  0%|          | 0/4 [00:00<?, ?it/s]"
      ]
     },
     "metadata": {},
     "output_type": "display_data"
    },
    {
     "data": {
      "application/vnd.jupyter.widget-view+json": {
       "model_id": "b6ef57d55fd844bda7c7e360b510e498",
       "version_major": 2,
       "version_minor": 0
      },
      "text/plain": [
       "  0%|          | 0/4 [00:00<?, ?it/s]"
      ]
     },
     "metadata": {},
     "output_type": "display_data"
    },
    {
     "data": {
      "application/vnd.jupyter.widget-view+json": {
       "model_id": "9dc097bd193f4a3b963c05fe0abb5398",
       "version_major": 2,
       "version_minor": 0
      },
      "text/plain": [
       "  0%|          | 0/4 [00:00<?, ?it/s]"
      ]
     },
     "metadata": {},
     "output_type": "display_data"
    },
    {
     "data": {
      "application/vnd.jupyter.widget-view+json": {
       "model_id": "6cbad924cd094720b23e017c76deff24",
       "version_major": 2,
       "version_minor": 0
      },
      "text/plain": [
       "  0%|          | 0/4 [00:00<?, ?it/s]"
      ]
     },
     "metadata": {},
     "output_type": "display_data"
    },
    {
     "data": {
      "application/vnd.jupyter.widget-view+json": {
       "model_id": "7181f6f52c9d4f16bb29470adfc8bbb3",
       "version_major": 2,
       "version_minor": 0
      },
      "text/plain": [
       "  0%|          | 0/4 [00:00<?, ?it/s]"
      ]
     },
     "metadata": {},
     "output_type": "display_data"
    },
    {
     "data": {
      "application/vnd.jupyter.widget-view+json": {
       "model_id": "84980efb3ec54ae1b32809347d5df395",
       "version_major": 2,
       "version_minor": 0
      },
      "text/plain": [
       "  0%|          | 0/4 [00:00<?, ?it/s]"
      ]
     },
     "metadata": {},
     "output_type": "display_data"
    },
    {
     "data": {
      "application/vnd.jupyter.widget-view+json": {
       "model_id": "18f09900710049dfa8a4c6ab3bc74e2a",
       "version_major": 2,
       "version_minor": 0
      },
      "text/plain": [
       "  0%|          | 0/4 [00:00<?, ?it/s]"
      ]
     },
     "metadata": {},
     "output_type": "display_data"
    },
    {
     "data": {
      "application/vnd.jupyter.widget-view+json": {
       "model_id": "0ec0b4649abd4c6cbc89e1d9d11e5e09",
       "version_major": 2,
       "version_minor": 0
      },
      "text/plain": [
       "  0%|          | 0/4 [00:00<?, ?it/s]"
      ]
     },
     "metadata": {},
     "output_type": "display_data"
    },
    {
     "data": {
      "application/vnd.jupyter.widget-view+json": {
       "model_id": "39443e847b3043e5b3f03a31ccf94b1c",
       "version_major": 2,
       "version_minor": 0
      },
      "text/plain": [
       "  0%|          | 0/4 [00:00<?, ?it/s]"
      ]
     },
     "metadata": {},
     "output_type": "display_data"
    },
    {
     "data": {
      "application/vnd.jupyter.widget-view+json": {
       "model_id": "f9e43100852d453cb2f901e155c72d88",
       "version_major": 2,
       "version_minor": 0
      },
      "text/plain": [
       "  0%|          | 0/4 [00:00<?, ?it/s]"
      ]
     },
     "metadata": {},
     "output_type": "display_data"
    },
    {
     "data": {
      "application/vnd.jupyter.widget-view+json": {
       "model_id": "04a50de93c8346f88a46738713c46f79",
       "version_major": 2,
       "version_minor": 0
      },
      "text/plain": [
       "  0%|          | 0/4 [00:00<?, ?it/s]"
      ]
     },
     "metadata": {},
     "output_type": "display_data"
    },
    {
     "data": {
      "application/vnd.jupyter.widget-view+json": {
       "model_id": "c3b0ba390230476bb7da764b1421898d",
       "version_major": 2,
       "version_minor": 0
      },
      "text/plain": [
       "  0%|          | 0/4 [00:00<?, ?it/s]"
      ]
     },
     "metadata": {},
     "output_type": "display_data"
    },
    {
     "data": {
      "application/vnd.jupyter.widget-view+json": {
       "model_id": "e6e4e29ef13c4cf6b3c45a67b2069c44",
       "version_major": 2,
       "version_minor": 0
      },
      "text/plain": [
       "  0%|          | 0/4 [00:00<?, ?it/s]"
      ]
     },
     "metadata": {},
     "output_type": "display_data"
    },
    {
     "data": {
      "application/vnd.jupyter.widget-view+json": {
       "model_id": "f4c188d213da49cc9017da6421969f15",
       "version_major": 2,
       "version_minor": 0
      },
      "text/plain": [
       "  0%|          | 0/4 [00:00<?, ?it/s]"
      ]
     },
     "metadata": {},
     "output_type": "display_data"
    },
    {
     "data": {
      "application/vnd.jupyter.widget-view+json": {
       "model_id": "4de7c7ab5af0402da926abe25ad7d51f",
       "version_major": 2,
       "version_minor": 0
      },
      "text/plain": [
       "  0%|          | 0/4 [00:00<?, ?it/s]"
      ]
     },
     "metadata": {},
     "output_type": "display_data"
    },
    {
     "data": {
      "application/vnd.jupyter.widget-view+json": {
       "model_id": "81688b83d33149c4bd88aba353c11ed5",
       "version_major": 2,
       "version_minor": 0
      },
      "text/plain": [
       "  0%|          | 0/4 [00:00<?, ?it/s]"
      ]
     },
     "metadata": {},
     "output_type": "display_data"
    },
    {
     "data": {
      "application/vnd.jupyter.widget-view+json": {
       "model_id": "cf50eb23ec78449d959054d500f36195",
       "version_major": 2,
       "version_minor": 0
      },
      "text/plain": [
       "  0%|          | 0/4 [00:00<?, ?it/s]"
      ]
     },
     "metadata": {},
     "output_type": "display_data"
    },
    {
     "data": {
      "application/vnd.jupyter.widget-view+json": {
       "model_id": "de6b308608b94b328435a37bb2dad811",
       "version_major": 2,
       "version_minor": 0
      },
      "text/plain": [
       "  0%|          | 0/4 [00:00<?, ?it/s]"
      ]
     },
     "metadata": {},
     "output_type": "display_data"
    },
    {
     "data": {
      "application/vnd.jupyter.widget-view+json": {
       "model_id": "2bcd939876514ee89580b09b0d173c5a",
       "version_major": 2,
       "version_minor": 0
      },
      "text/plain": [
       "  0%|          | 0/4 [00:00<?, ?it/s]"
      ]
     },
     "metadata": {},
     "output_type": "display_data"
    },
    {
     "data": {
      "application/vnd.jupyter.widget-view+json": {
       "model_id": "449888481c244202a3abf49916f2c8fa",
       "version_major": 2,
       "version_minor": 0
      },
      "text/plain": [
       "  0%|          | 0/4 [00:00<?, ?it/s]"
      ]
     },
     "metadata": {},
     "output_type": "display_data"
    },
    {
     "data": {
      "application/vnd.jupyter.widget-view+json": {
       "model_id": "429e1f15dce44b96b0119561cb335f01",
       "version_major": 2,
       "version_minor": 0
      },
      "text/plain": [
       "  0%|          | 0/4 [00:00<?, ?it/s]"
      ]
     },
     "metadata": {},
     "output_type": "display_data"
    },
    {
     "data": {
      "application/vnd.jupyter.widget-view+json": {
       "model_id": "7356208b20c5480f8229b07822c0fd5b",
       "version_major": 2,
       "version_minor": 0
      },
      "text/plain": [
       "  0%|          | 0/4 [00:00<?, ?it/s]"
      ]
     },
     "metadata": {},
     "output_type": "display_data"
    },
    {
     "data": {
      "application/vnd.jupyter.widget-view+json": {
       "model_id": "1b7e0fc8121b4eed88c23384c003ad71",
       "version_major": 2,
       "version_minor": 0
      },
      "text/plain": [
       "  0%|          | 0/4 [00:00<?, ?it/s]"
      ]
     },
     "metadata": {},
     "output_type": "display_data"
    },
    {
     "data": {
      "application/vnd.jupyter.widget-view+json": {
       "model_id": "0bad5feab43d40d9893bc68793323e6b",
       "version_major": 2,
       "version_minor": 0
      },
      "text/plain": [
       "  0%|          | 0/4 [00:00<?, ?it/s]"
      ]
     },
     "metadata": {},
     "output_type": "display_data"
    },
    {
     "data": {
      "application/vnd.jupyter.widget-view+json": {
       "model_id": "244ac4d14edd4ff0920b173a31db1c52",
       "version_major": 2,
       "version_minor": 0
      },
      "text/plain": [
       "  0%|          | 0/4 [00:00<?, ?it/s]"
      ]
     },
     "metadata": {},
     "output_type": "display_data"
    },
    {
     "data": {
      "application/vnd.jupyter.widget-view+json": {
       "model_id": "0ae3597d3d06435da16a276c2d4a5e35",
       "version_major": 2,
       "version_minor": 0
      },
      "text/plain": [
       "  0%|          | 0/4 [00:00<?, ?it/s]"
      ]
     },
     "metadata": {},
     "output_type": "display_data"
    },
    {
     "data": {
      "application/vnd.jupyter.widget-view+json": {
       "model_id": "c024d776164744cfb49c3957ebc4954d",
       "version_major": 2,
       "version_minor": 0
      },
      "text/plain": [
       "  0%|          | 0/4 [00:00<?, ?it/s]"
      ]
     },
     "metadata": {},
     "output_type": "display_data"
    },
    {
     "data": {
      "application/vnd.jupyter.widget-view+json": {
       "model_id": "e28eb70409da409a8d0ce6433265992f",
       "version_major": 2,
       "version_minor": 0
      },
      "text/plain": [
       "  0%|          | 0/4 [00:00<?, ?it/s]"
      ]
     },
     "metadata": {},
     "output_type": "display_data"
    },
    {
     "data": {
      "application/vnd.jupyter.widget-view+json": {
       "model_id": "b79466c63404402fa52c390729f384a3",
       "version_major": 2,
       "version_minor": 0
      },
      "text/plain": [
       "  0%|          | 0/4 [00:00<?, ?it/s]"
      ]
     },
     "metadata": {},
     "output_type": "display_data"
    },
    {
     "data": {
      "application/vnd.jupyter.widget-view+json": {
       "model_id": "5dcadfb2fe884505889c24d796171c62",
       "version_major": 2,
       "version_minor": 0
      },
      "text/plain": [
       "  0%|          | 0/4 [00:00<?, ?it/s]"
      ]
     },
     "metadata": {},
     "output_type": "display_data"
    },
    {
     "data": {
      "application/vnd.jupyter.widget-view+json": {
       "model_id": "8c5c374237574833a55befcda49019a5",
       "version_major": 2,
       "version_minor": 0
      },
      "text/plain": [
       "  0%|          | 0/4 [00:00<?, ?it/s]"
      ]
     },
     "metadata": {},
     "output_type": "display_data"
    },
    {
     "data": {
      "application/vnd.jupyter.widget-view+json": {
       "model_id": "fab131c579554c3b91c54f05287a527b",
       "version_major": 2,
       "version_minor": 0
      },
      "text/plain": [
       "  0%|          | 0/4 [00:00<?, ?it/s]"
      ]
     },
     "metadata": {},
     "output_type": "display_data"
    },
    {
     "data": {
      "application/vnd.jupyter.widget-view+json": {
       "model_id": "2bf8e14190d549bfa7ce62c06e1243b3",
       "version_major": 2,
       "version_minor": 0
      },
      "text/plain": [
       "  0%|          | 0/4 [00:00<?, ?it/s]"
      ]
     },
     "metadata": {},
     "output_type": "display_data"
    },
    {
     "data": {
      "application/vnd.jupyter.widget-view+json": {
       "model_id": "11dd09c3c9c048d3871071223d20ce9e",
       "version_major": 2,
       "version_minor": 0
      },
      "text/plain": [
       "  0%|          | 0/4 [00:00<?, ?it/s]"
      ]
     },
     "metadata": {},
     "output_type": "display_data"
    },
    {
     "data": {
      "application/vnd.jupyter.widget-view+json": {
       "model_id": "61625dc4af5c4fdaae631e4a69a06ad1",
       "version_major": 2,
       "version_minor": 0
      },
      "text/plain": [
       "  0%|          | 0/4 [00:00<?, ?it/s]"
      ]
     },
     "metadata": {},
     "output_type": "display_data"
    },
    {
     "data": {
      "application/vnd.jupyter.widget-view+json": {
       "model_id": "4f9665d0c34545dbad901b5f20aa3763",
       "version_major": 2,
       "version_minor": 0
      },
      "text/plain": [
       "  0%|          | 0/4 [00:00<?, ?it/s]"
      ]
     },
     "metadata": {},
     "output_type": "display_data"
    },
    {
     "data": {
      "application/vnd.jupyter.widget-view+json": {
       "model_id": "56c23d5c0bcb494b8b7d41d73da4cd46",
       "version_major": 2,
       "version_minor": 0
      },
      "text/plain": [
       "  0%|          | 0/4 [00:00<?, ?it/s]"
      ]
     },
     "metadata": {},
     "output_type": "display_data"
    },
    {
     "data": {
      "application/vnd.jupyter.widget-view+json": {
       "model_id": "ac7de3f5b8ff4149964868b0f0d629c9",
       "version_major": 2,
       "version_minor": 0
      },
      "text/plain": [
       "  0%|          | 0/4 [00:00<?, ?it/s]"
      ]
     },
     "metadata": {},
     "output_type": "display_data"
    },
    {
     "data": {
      "application/vnd.jupyter.widget-view+json": {
       "model_id": "3faa4b698dba456890f6c3108bc9d8ca",
       "version_major": 2,
       "version_minor": 0
      },
      "text/plain": [
       "  0%|          | 0/4 [00:00<?, ?it/s]"
      ]
     },
     "metadata": {},
     "output_type": "display_data"
    },
    {
     "data": {
      "application/vnd.jupyter.widget-view+json": {
       "model_id": "aa6c7796f8064b75913f20d23be6d0a7",
       "version_major": 2,
       "version_minor": 0
      },
      "text/plain": [
       "  0%|          | 0/4 [00:00<?, ?it/s]"
      ]
     },
     "metadata": {},
     "output_type": "display_data"
    },
    {
     "data": {
      "application/vnd.jupyter.widget-view+json": {
       "model_id": "24372f89c3b741c6a6c7cf806c45eaa7",
       "version_major": 2,
       "version_minor": 0
      },
      "text/plain": [
       "  0%|          | 0/4 [00:00<?, ?it/s]"
      ]
     },
     "metadata": {},
     "output_type": "display_data"
    },
    {
     "data": {
      "application/vnd.jupyter.widget-view+json": {
       "model_id": "ccaf6b86da9541c4b5ddc6c63062caf0",
       "version_major": 2,
       "version_minor": 0
      },
      "text/plain": [
       "  0%|          | 0/4 [00:00<?, ?it/s]"
      ]
     },
     "metadata": {},
     "output_type": "display_data"
    },
    {
     "data": {
      "application/vnd.jupyter.widget-view+json": {
       "model_id": "a99a25ce9df74ea38846fbfe8a9e3ecf",
       "version_major": 2,
       "version_minor": 0
      },
      "text/plain": [
       "  0%|          | 0/4 [00:00<?, ?it/s]"
      ]
     },
     "metadata": {},
     "output_type": "display_data"
    },
    {
     "data": {
      "application/vnd.jupyter.widget-view+json": {
       "model_id": "51cb5359d05448a38e5fc79a5625b748",
       "version_major": 2,
       "version_minor": 0
      },
      "text/plain": [
       "  0%|          | 0/4 [00:00<?, ?it/s]"
      ]
     },
     "metadata": {},
     "output_type": "display_data"
    },
    {
     "data": {
      "application/vnd.jupyter.widget-view+json": {
       "model_id": "0878a9e68ef84f7d8fcb9cbe07d708d7",
       "version_major": 2,
       "version_minor": 0
      },
      "text/plain": [
       "  0%|          | 0/4 [00:00<?, ?it/s]"
      ]
     },
     "metadata": {},
     "output_type": "display_data"
    },
    {
     "data": {
      "application/vnd.jupyter.widget-view+json": {
       "model_id": "ee0b96ceb04443c0bcd6e76cb054e3a9",
       "version_major": 2,
       "version_minor": 0
      },
      "text/plain": [
       "  0%|          | 0/4 [00:00<?, ?it/s]"
      ]
     },
     "metadata": {},
     "output_type": "display_data"
    },
    {
     "data": {
      "application/vnd.jupyter.widget-view+json": {
       "model_id": "94696c6dda354d8ca5e7f2790303a1a4",
       "version_major": 2,
       "version_minor": 0
      },
      "text/plain": [
       "  0%|          | 0/4 [00:00<?, ?it/s]"
      ]
     },
     "metadata": {},
     "output_type": "display_data"
    },
    {
     "data": {
      "application/vnd.jupyter.widget-view+json": {
       "model_id": "8932923bc61a4ac5befddec978c6993d",
       "version_major": 2,
       "version_minor": 0
      },
      "text/plain": [
       "  0%|          | 0/4 [00:00<?, ?it/s]"
      ]
     },
     "metadata": {},
     "output_type": "display_data"
    },
    {
     "data": {
      "application/vnd.jupyter.widget-view+json": {
       "model_id": "e9fe2bd7746f41c5a58c9b03182dd8df",
       "version_major": 2,
       "version_minor": 0
      },
      "text/plain": [
       "  0%|          | 0/4 [00:00<?, ?it/s]"
      ]
     },
     "metadata": {},
     "output_type": "display_data"
    },
    {
     "data": {
      "application/vnd.jupyter.widget-view+json": {
       "model_id": "11990910fa394705b0b0bdcce48467b2",
       "version_major": 2,
       "version_minor": 0
      },
      "text/plain": [
       "  0%|          | 0/4 [00:00<?, ?it/s]"
      ]
     },
     "metadata": {},
     "output_type": "display_data"
    },
    {
     "data": {
      "application/vnd.jupyter.widget-view+json": {
       "model_id": "66dbe9a21b414adbb4c8f5c2741f90b6",
       "version_major": 2,
       "version_minor": 0
      },
      "text/plain": [
       "  0%|          | 0/4 [00:00<?, ?it/s]"
      ]
     },
     "metadata": {},
     "output_type": "display_data"
    },
    {
     "data": {
      "application/vnd.jupyter.widget-view+json": {
       "model_id": "54c18de76b6e4dddbeda0e23fe3a3827",
       "version_major": 2,
       "version_minor": 0
      },
      "text/plain": [
       "  0%|          | 0/4 [00:00<?, ?it/s]"
      ]
     },
     "metadata": {},
     "output_type": "display_data"
    },
    {
     "data": {
      "application/vnd.jupyter.widget-view+json": {
       "model_id": "474f09b56f744785be484fd896064e1c",
       "version_major": 2,
       "version_minor": 0
      },
      "text/plain": [
       "  0%|          | 0/4 [00:00<?, ?it/s]"
      ]
     },
     "metadata": {},
     "output_type": "display_data"
    },
    {
     "data": {
      "application/vnd.jupyter.widget-view+json": {
       "model_id": "fc1b9fc35a164790a6295586b5a1fa1a",
       "version_major": 2,
       "version_minor": 0
      },
      "text/plain": [
       "  0%|          | 0/4 [00:00<?, ?it/s]"
      ]
     },
     "metadata": {},
     "output_type": "display_data"
    },
    {
     "data": {
      "application/vnd.jupyter.widget-view+json": {
       "model_id": "a5e758f40cc5496283282af9d6820856",
       "version_major": 2,
       "version_minor": 0
      },
      "text/plain": [
       "  0%|          | 0/4 [00:00<?, ?it/s]"
      ]
     },
     "metadata": {},
     "output_type": "display_data"
    },
    {
     "data": {
      "application/vnd.jupyter.widget-view+json": {
       "model_id": "21b11b71166447fd895a96f9cdb0baa6",
       "version_major": 2,
       "version_minor": 0
      },
      "text/plain": [
       "  0%|          | 0/4 [00:00<?, ?it/s]"
      ]
     },
     "metadata": {},
     "output_type": "display_data"
    },
    {
     "data": {
      "application/vnd.jupyter.widget-view+json": {
       "model_id": "58a8be73687c4f4781c2558c31fd630c",
       "version_major": 2,
       "version_minor": 0
      },
      "text/plain": [
       "  0%|          | 0/4 [00:00<?, ?it/s]"
      ]
     },
     "metadata": {},
     "output_type": "display_data"
    },
    {
     "data": {
      "application/vnd.jupyter.widget-view+json": {
       "model_id": "64d0d48ef22d438393c39bfacaade213",
       "version_major": 2,
       "version_minor": 0
      },
      "text/plain": [
       "  0%|          | 0/4 [00:00<?, ?it/s]"
      ]
     },
     "metadata": {},
     "output_type": "display_data"
    },
    {
     "data": {
      "application/vnd.jupyter.widget-view+json": {
       "model_id": "eb801bab610c42a7be91347417cc2a5d",
       "version_major": 2,
       "version_minor": 0
      },
      "text/plain": [
       "  0%|          | 0/4 [00:00<?, ?it/s]"
      ]
     },
     "metadata": {},
     "output_type": "display_data"
    },
    {
     "data": {
      "application/vnd.jupyter.widget-view+json": {
       "model_id": "6bc72f29d64a4543a89e4d2a3533eccc",
       "version_major": 2,
       "version_minor": 0
      },
      "text/plain": [
       "  0%|          | 0/4 [00:00<?, ?it/s]"
      ]
     },
     "metadata": {},
     "output_type": "display_data"
    },
    {
     "data": {
      "application/vnd.jupyter.widget-view+json": {
       "model_id": "9a279f29776e4cfabfdc49e879c3dc94",
       "version_major": 2,
       "version_minor": 0
      },
      "text/plain": [
       "  0%|          | 0/4 [00:00<?, ?it/s]"
      ]
     },
     "metadata": {},
     "output_type": "display_data"
    },
    {
     "data": {
      "application/vnd.jupyter.widget-view+json": {
       "model_id": "2fc06490e062424b932b3344adee96b2",
       "version_major": 2,
       "version_minor": 0
      },
      "text/plain": [
       "  0%|          | 0/4 [00:00<?, ?it/s]"
      ]
     },
     "metadata": {},
     "output_type": "display_data"
    },
    {
     "data": {
      "application/vnd.jupyter.widget-view+json": {
       "model_id": "d8a845b9c1de4ec0b0b11e91f32962fa",
       "version_major": 2,
       "version_minor": 0
      },
      "text/plain": [
       "  0%|          | 0/4 [00:00<?, ?it/s]"
      ]
     },
     "metadata": {},
     "output_type": "display_data"
    },
    {
     "data": {
      "application/vnd.jupyter.widget-view+json": {
       "model_id": "4da15bf6612a41038058cf8b8329bf25",
       "version_major": 2,
       "version_minor": 0
      },
      "text/plain": [
       "  0%|          | 0/4 [00:00<?, ?it/s]"
      ]
     },
     "metadata": {},
     "output_type": "display_data"
    },
    {
     "data": {
      "application/vnd.jupyter.widget-view+json": {
       "model_id": "b49963269ef54291989bd8366fb2386f",
       "version_major": 2,
       "version_minor": 0
      },
      "text/plain": [
       "  0%|          | 0/4 [00:00<?, ?it/s]"
      ]
     },
     "metadata": {},
     "output_type": "display_data"
    },
    {
     "data": {
      "application/vnd.jupyter.widget-view+json": {
       "model_id": "973f3505a3a344c7a0d0b6ed7acf3e29",
       "version_major": 2,
       "version_minor": 0
      },
      "text/plain": [
       "  0%|          | 0/4 [00:00<?, ?it/s]"
      ]
     },
     "metadata": {},
     "output_type": "display_data"
    },
    {
     "data": {
      "application/vnd.jupyter.widget-view+json": {
       "model_id": "0756ac2375f240aa924023071b31ea9b",
       "version_major": 2,
       "version_minor": 0
      },
      "text/plain": [
       "  0%|          | 0/4 [00:00<?, ?it/s]"
      ]
     },
     "metadata": {},
     "output_type": "display_data"
    },
    {
     "data": {
      "application/vnd.jupyter.widget-view+json": {
       "model_id": "e7b2653e53fe45ec88eb55b4d0dda54f",
       "version_major": 2,
       "version_minor": 0
      },
      "text/plain": [
       "  0%|          | 0/4 [00:00<?, ?it/s]"
      ]
     },
     "metadata": {},
     "output_type": "display_data"
    },
    {
     "data": {
      "application/vnd.jupyter.widget-view+json": {
       "model_id": "e7e6190621ed45f9869804fb433e9c87",
       "version_major": 2,
       "version_minor": 0
      },
      "text/plain": [
       "  0%|          | 0/4 [00:00<?, ?it/s]"
      ]
     },
     "metadata": {},
     "output_type": "display_data"
    },
    {
     "data": {
      "application/vnd.jupyter.widget-view+json": {
       "model_id": "72994d9a04eb458f970ba22e2b1b81be",
       "version_major": 2,
       "version_minor": 0
      },
      "text/plain": [
       "  0%|          | 0/4 [00:00<?, ?it/s]"
      ]
     },
     "metadata": {},
     "output_type": "display_data"
    },
    {
     "data": {
      "application/vnd.jupyter.widget-view+json": {
       "model_id": "c476e708436c4f07bcdedb70dd2e14b3",
       "version_major": 2,
       "version_minor": 0
      },
      "text/plain": [
       "  0%|          | 0/4 [00:00<?, ?it/s]"
      ]
     },
     "metadata": {},
     "output_type": "display_data"
    },
    {
     "data": {
      "application/vnd.jupyter.widget-view+json": {
       "model_id": "bab34a741f134f29bc09abf8f74811f6",
       "version_major": 2,
       "version_minor": 0
      },
      "text/plain": [
       "  0%|          | 0/4 [00:00<?, ?it/s]"
      ]
     },
     "metadata": {},
     "output_type": "display_data"
    },
    {
     "data": {
      "application/vnd.jupyter.widget-view+json": {
       "model_id": "169964f1886a4290b4ad1b818b89033f",
       "version_major": 2,
       "version_minor": 0
      },
      "text/plain": [
       "  0%|          | 0/4 [00:00<?, ?it/s]"
      ]
     },
     "metadata": {},
     "output_type": "display_data"
    },
    {
     "data": {
      "application/vnd.jupyter.widget-view+json": {
       "model_id": "4b7e61dc6d0f4b40a9c9ef7f0492e1c3",
       "version_major": 2,
       "version_minor": 0
      },
      "text/plain": [
       "  0%|          | 0/4 [00:00<?, ?it/s]"
      ]
     },
     "metadata": {},
     "output_type": "display_data"
    },
    {
     "data": {
      "application/vnd.jupyter.widget-view+json": {
       "model_id": "500240a3f62940d1b66c8991bcfa32ae",
       "version_major": 2,
       "version_minor": 0
      },
      "text/plain": [
       "  0%|          | 0/4 [00:00<?, ?it/s]"
      ]
     },
     "metadata": {},
     "output_type": "display_data"
    },
    {
     "data": {
      "application/vnd.jupyter.widget-view+json": {
       "model_id": "489931278619497ba64a690567001ca4",
       "version_major": 2,
       "version_minor": 0
      },
      "text/plain": [
       "  0%|          | 0/4 [00:00<?, ?it/s]"
      ]
     },
     "metadata": {},
     "output_type": "display_data"
    },
    {
     "data": {
      "application/vnd.jupyter.widget-view+json": {
       "model_id": "14b63a03aa194a37a24be992ff08b843",
       "version_major": 2,
       "version_minor": 0
      },
      "text/plain": [
       "  0%|          | 0/4 [00:00<?, ?it/s]"
      ]
     },
     "metadata": {},
     "output_type": "display_data"
    },
    {
     "data": {
      "application/vnd.jupyter.widget-view+json": {
       "model_id": "3a13a50ed825423a9144eefd6f4cf877",
       "version_major": 2,
       "version_minor": 0
      },
      "text/plain": [
       "  0%|          | 0/4 [00:00<?, ?it/s]"
      ]
     },
     "metadata": {},
     "output_type": "display_data"
    },
    {
     "data": {
      "application/vnd.jupyter.widget-view+json": {
       "model_id": "1de56796bc9346ec95b61c0ab5f87040",
       "version_major": 2,
       "version_minor": 0
      },
      "text/plain": [
       "  0%|          | 0/4 [00:00<?, ?it/s]"
      ]
     },
     "metadata": {},
     "output_type": "display_data"
    },
    {
     "data": {
      "application/vnd.jupyter.widget-view+json": {
       "model_id": "d3144a03dd6048b287c08a8c6ef98de0",
       "version_major": 2,
       "version_minor": 0
      },
      "text/plain": [
       "  0%|          | 0/4 [00:00<?, ?it/s]"
      ]
     },
     "metadata": {},
     "output_type": "display_data"
    },
    {
     "data": {
      "application/vnd.jupyter.widget-view+json": {
       "model_id": "e1d89033f2e241f8bf651c82ded8ac22",
       "version_major": 2,
       "version_minor": 0
      },
      "text/plain": [
       "  0%|          | 0/4 [00:00<?, ?it/s]"
      ]
     },
     "metadata": {},
     "output_type": "display_data"
    },
    {
     "data": {
      "application/vnd.jupyter.widget-view+json": {
       "model_id": "50f8f7856d6148ff97104a6c5109863b",
       "version_major": 2,
       "version_minor": 0
      },
      "text/plain": [
       "  0%|          | 0/4 [00:00<?, ?it/s]"
      ]
     },
     "metadata": {},
     "output_type": "display_data"
    },
    {
     "data": {
      "application/vnd.jupyter.widget-view+json": {
       "model_id": "40ff20b6f31e416da92b83c8009eee93",
       "version_major": 2,
       "version_minor": 0
      },
      "text/plain": [
       "  0%|          | 0/4 [00:00<?, ?it/s]"
      ]
     },
     "metadata": {},
     "output_type": "display_data"
    },
    {
     "data": {
      "application/vnd.jupyter.widget-view+json": {
       "model_id": "90cb3dde1bbe48208417c3166fa41744",
       "version_major": 2,
       "version_minor": 0
      },
      "text/plain": [
       "  0%|          | 0/4 [00:00<?, ?it/s]"
      ]
     },
     "metadata": {},
     "output_type": "display_data"
    },
    {
     "data": {
      "application/vnd.jupyter.widget-view+json": {
       "model_id": "a7d3bee2d0cf4cb2b164414dfaa88514",
       "version_major": 2,
       "version_minor": 0
      },
      "text/plain": [
       "  0%|          | 0/4 [00:00<?, ?it/s]"
      ]
     },
     "metadata": {},
     "output_type": "display_data"
    },
    {
     "data": {
      "application/vnd.jupyter.widget-view+json": {
       "model_id": "3b4235b57b3f43aea5ae9915db7d766d",
       "version_major": 2,
       "version_minor": 0
      },
      "text/plain": [
       "  0%|          | 0/4 [00:00<?, ?it/s]"
      ]
     },
     "metadata": {},
     "output_type": "display_data"
    },
    {
     "data": {
      "application/vnd.jupyter.widget-view+json": {
       "model_id": "cd44f58f9b214083a3478733ee585ec2",
       "version_major": 2,
       "version_minor": 0
      },
      "text/plain": [
       "  0%|          | 0/4 [00:00<?, ?it/s]"
      ]
     },
     "metadata": {},
     "output_type": "display_data"
    },
    {
     "data": {
      "application/vnd.jupyter.widget-view+json": {
       "model_id": "608cb95fab7a41eca5d91b8786b8a597",
       "version_major": 2,
       "version_minor": 0
      },
      "text/plain": [
       "  0%|          | 0/4 [00:00<?, ?it/s]"
      ]
     },
     "metadata": {},
     "output_type": "display_data"
    },
    {
     "data": {
      "application/vnd.jupyter.widget-view+json": {
       "model_id": "6857150e52d94f0ca1890e09a955ed26",
       "version_major": 2,
       "version_minor": 0
      },
      "text/plain": [
       "  0%|          | 0/4 [00:00<?, ?it/s]"
      ]
     },
     "metadata": {},
     "output_type": "display_data"
    },
    {
     "data": {
      "application/vnd.jupyter.widget-view+json": {
       "model_id": "f64d4246f96846708925f8d5c8fdc00d",
       "version_major": 2,
       "version_minor": 0
      },
      "text/plain": [
       "  0%|          | 0/4 [00:00<?, ?it/s]"
      ]
     },
     "metadata": {},
     "output_type": "display_data"
    },
    {
     "data": {
      "application/vnd.jupyter.widget-view+json": {
       "model_id": "30c53151ccec48f4b56a95f4b551d981",
       "version_major": 2,
       "version_minor": 0
      },
      "text/plain": [
       "  0%|          | 0/4 [00:00<?, ?it/s]"
      ]
     },
     "metadata": {},
     "output_type": "display_data"
    },
    {
     "data": {
      "application/vnd.jupyter.widget-view+json": {
       "model_id": "8ee5ff2953ce49f39cf6f7fb90212069",
       "version_major": 2,
       "version_minor": 0
      },
      "text/plain": [
       "  0%|          | 0/4 [00:00<?, ?it/s]"
      ]
     },
     "metadata": {},
     "output_type": "display_data"
    },
    {
     "data": {
      "application/vnd.jupyter.widget-view+json": {
       "model_id": "b1b7aa0a00134ed4b7d075c9aa99c798",
       "version_major": 2,
       "version_minor": 0
      },
      "text/plain": [
       "  0%|          | 0/4 [00:00<?, ?it/s]"
      ]
     },
     "metadata": {},
     "output_type": "display_data"
    },
    {
     "data": {
      "application/vnd.jupyter.widget-view+json": {
       "model_id": "70c3c51ac9ea42a790a45949bd33e51a",
       "version_major": 2,
       "version_minor": 0
      },
      "text/plain": [
       "  0%|          | 0/4 [00:00<?, ?it/s]"
      ]
     },
     "metadata": {},
     "output_type": "display_data"
    },
    {
     "data": {
      "application/vnd.jupyter.widget-view+json": {
       "model_id": "b232c2cf58434ce792606877ced532a8",
       "version_major": 2,
       "version_minor": 0
      },
      "text/plain": [
       "  0%|          | 0/4 [00:00<?, ?it/s]"
      ]
     },
     "metadata": {},
     "output_type": "display_data"
    },
    {
     "data": {
      "application/vnd.jupyter.widget-view+json": {
       "model_id": "c4cc9086ff3243d9a4cce7f1d0e2e768",
       "version_major": 2,
       "version_minor": 0
      },
      "text/plain": [
       "  0%|          | 0/4 [00:00<?, ?it/s]"
      ]
     },
     "metadata": {},
     "output_type": "display_data"
    },
    {
     "data": {
      "application/vnd.jupyter.widget-view+json": {
       "model_id": "a07a7801aaab430f9dc2b71e81548239",
       "version_major": 2,
       "version_minor": 0
      },
      "text/plain": [
       "  0%|          | 0/4 [00:00<?, ?it/s]"
      ]
     },
     "metadata": {},
     "output_type": "display_data"
    },
    {
     "data": {
      "application/vnd.jupyter.widget-view+json": {
       "model_id": "4a57c263bab44ea58b8c6f2e06f4e7f5",
       "version_major": 2,
       "version_minor": 0
      },
      "text/plain": [
       "  0%|          | 0/4 [00:00<?, ?it/s]"
      ]
     },
     "metadata": {},
     "output_type": "display_data"
    },
    {
     "data": {
      "application/vnd.jupyter.widget-view+json": {
       "model_id": "d236a3ede14d43ac89581ef97b787fa6",
       "version_major": 2,
       "version_minor": 0
      },
      "text/plain": [
       "  0%|          | 0/4 [00:00<?, ?it/s]"
      ]
     },
     "metadata": {},
     "output_type": "display_data"
    },
    {
     "data": {
      "application/vnd.jupyter.widget-view+json": {
       "model_id": "283c4dc68bbd44b8abbac124cfc2cc37",
       "version_major": 2,
       "version_minor": 0
      },
      "text/plain": [
       "  0%|          | 0/4 [00:00<?, ?it/s]"
      ]
     },
     "metadata": {},
     "output_type": "display_data"
    },
    {
     "data": {
      "application/vnd.jupyter.widget-view+json": {
       "model_id": "63cce3aded5c490a86733f15b07a9ac7",
       "version_major": 2,
       "version_minor": 0
      },
      "text/plain": [
       "  0%|          | 0/4 [00:00<?, ?it/s]"
      ]
     },
     "metadata": {},
     "output_type": "display_data"
    },
    {
     "data": {
      "application/vnd.jupyter.widget-view+json": {
       "model_id": "7b3684aff0c740548212d11a226fa7d2",
       "version_major": 2,
       "version_minor": 0
      },
      "text/plain": [
       "  0%|          | 0/4 [00:00<?, ?it/s]"
      ]
     },
     "metadata": {},
     "output_type": "display_data"
    },
    {
     "data": {
      "application/vnd.jupyter.widget-view+json": {
       "model_id": "b8c22b69d50f48edb7610962dcf156b7",
       "version_major": 2,
       "version_minor": 0
      },
      "text/plain": [
       "  0%|          | 0/4 [00:00<?, ?it/s]"
      ]
     },
     "metadata": {},
     "output_type": "display_data"
    },
    {
     "data": {
      "application/vnd.jupyter.widget-view+json": {
       "model_id": "539db9c337e844f58cde9cb0964def76",
       "version_major": 2,
       "version_minor": 0
      },
      "text/plain": [
       "  0%|          | 0/4 [00:00<?, ?it/s]"
      ]
     },
     "metadata": {},
     "output_type": "display_data"
    },
    {
     "data": {
      "application/vnd.jupyter.widget-view+json": {
       "model_id": "879f6adcf5b94cb89875003b2e363c9f",
       "version_major": 2,
       "version_minor": 0
      },
      "text/plain": [
       "  0%|          | 0/4 [00:00<?, ?it/s]"
      ]
     },
     "metadata": {},
     "output_type": "display_data"
    },
    {
     "data": {
      "application/vnd.jupyter.widget-view+json": {
       "model_id": "39da811c0bb5450bb52503f85a2be251",
       "version_major": 2,
       "version_minor": 0
      },
      "text/plain": [
       "  0%|          | 0/4 [00:00<?, ?it/s]"
      ]
     },
     "metadata": {},
     "output_type": "display_data"
    },
    {
     "data": {
      "application/vnd.jupyter.widget-view+json": {
       "model_id": "3f028bce174e4647830bd46b26be7b2e",
       "version_major": 2,
       "version_minor": 0
      },
      "text/plain": [
       "  0%|          | 0/4 [00:00<?, ?it/s]"
      ]
     },
     "metadata": {},
     "output_type": "display_data"
    },
    {
     "data": {
      "application/vnd.jupyter.widget-view+json": {
       "model_id": "f1e6edfaa4d844d483ffa8aecea79c5f",
       "version_major": 2,
       "version_minor": 0
      },
      "text/plain": [
       "  0%|          | 0/4 [00:00<?, ?it/s]"
      ]
     },
     "metadata": {},
     "output_type": "display_data"
    },
    {
     "data": {
      "application/vnd.jupyter.widget-view+json": {
       "model_id": "bc984f4083e147f796f1bc04a31ae0b8",
       "version_major": 2,
       "version_minor": 0
      },
      "text/plain": [
       "  0%|          | 0/4 [00:00<?, ?it/s]"
      ]
     },
     "metadata": {},
     "output_type": "display_data"
    },
    {
     "data": {
      "application/vnd.jupyter.widget-view+json": {
       "model_id": "98244fd92d3044daba0b709100590e29",
       "version_major": 2,
       "version_minor": 0
      },
      "text/plain": [
       "  0%|          | 0/4 [00:00<?, ?it/s]"
      ]
     },
     "metadata": {},
     "output_type": "display_data"
    },
    {
     "data": {
      "application/vnd.jupyter.widget-view+json": {
       "model_id": "2ea3cfc19dba4860829c895b9e4d7d2e",
       "version_major": 2,
       "version_minor": 0
      },
      "text/plain": [
       "  0%|          | 0/4 [00:00<?, ?it/s]"
      ]
     },
     "metadata": {},
     "output_type": "display_data"
    },
    {
     "data": {
      "application/vnd.jupyter.widget-view+json": {
       "model_id": "ce3179e99c804abb960f90f95f9dfda5",
       "version_major": 2,
       "version_minor": 0
      },
      "text/plain": [
       "  0%|          | 0/4 [00:00<?, ?it/s]"
      ]
     },
     "metadata": {},
     "output_type": "display_data"
    },
    {
     "data": {
      "application/vnd.jupyter.widget-view+json": {
       "model_id": "bcd0e0d0ce1e4392bf3e74a59575a93c",
       "version_major": 2,
       "version_minor": 0
      },
      "text/plain": [
       "  0%|          | 0/4 [00:00<?, ?it/s]"
      ]
     },
     "metadata": {},
     "output_type": "display_data"
    },
    {
     "data": {
      "application/vnd.jupyter.widget-view+json": {
       "model_id": "ea88e0397f444890b8347fbf9873fdeb",
       "version_major": 2,
       "version_minor": 0
      },
      "text/plain": [
       "  0%|          | 0/4 [00:00<?, ?it/s]"
      ]
     },
     "metadata": {},
     "output_type": "display_data"
    },
    {
     "data": {
      "application/vnd.jupyter.widget-view+json": {
       "model_id": "4bf75bd9b6f84ee98e7abb414485609e",
       "version_major": 2,
       "version_minor": 0
      },
      "text/plain": [
       "  0%|          | 0/4 [00:00<?, ?it/s]"
      ]
     },
     "metadata": {},
     "output_type": "display_data"
    },
    {
     "data": {
      "application/vnd.jupyter.widget-view+json": {
       "model_id": "253df14dc80f4825a4994c5fd0eb9f9f",
       "version_major": 2,
       "version_minor": 0
      },
      "text/plain": [
       "  0%|          | 0/4 [00:00<?, ?it/s]"
      ]
     },
     "metadata": {},
     "output_type": "display_data"
    },
    {
     "data": {
      "application/vnd.jupyter.widget-view+json": {
       "model_id": "eb60856363654224835a2c3a4bd63f46",
       "version_major": 2,
       "version_minor": 0
      },
      "text/plain": [
       "  0%|          | 0/4 [00:00<?, ?it/s]"
      ]
     },
     "metadata": {},
     "output_type": "display_data"
    },
    {
     "data": {
      "application/vnd.jupyter.widget-view+json": {
       "model_id": "112209f1a89344ec87ad893055e37a68",
       "version_major": 2,
       "version_minor": 0
      },
      "text/plain": [
       "  0%|          | 0/4 [00:00<?, ?it/s]"
      ]
     },
     "metadata": {},
     "output_type": "display_data"
    },
    {
     "data": {
      "application/vnd.jupyter.widget-view+json": {
       "model_id": "e5a36acd80fe4f2ea71afba6b6ee343d",
       "version_major": 2,
       "version_minor": 0
      },
      "text/plain": [
       "  0%|          | 0/4 [00:00<?, ?it/s]"
      ]
     },
     "metadata": {},
     "output_type": "display_data"
    },
    {
     "data": {
      "application/vnd.jupyter.widget-view+json": {
       "model_id": "c1497cc7e5a04972a946d461a04eba94",
       "version_major": 2,
       "version_minor": 0
      },
      "text/plain": [
       "  0%|          | 0/4 [00:00<?, ?it/s]"
      ]
     },
     "metadata": {},
     "output_type": "display_data"
    },
    {
     "data": {
      "application/vnd.jupyter.widget-view+json": {
       "model_id": "ec5a8c62534a4adeb44ff6e474740ac9",
       "version_major": 2,
       "version_minor": 0
      },
      "text/plain": [
       "  0%|          | 0/4 [00:00<?, ?it/s]"
      ]
     },
     "metadata": {},
     "output_type": "display_data"
    },
    {
     "data": {
      "application/vnd.jupyter.widget-view+json": {
       "model_id": "300f2662e04343fe992d4ed68f14951a",
       "version_major": 2,
       "version_minor": 0
      },
      "text/plain": [
       "  0%|          | 0/4 [00:00<?, ?it/s]"
      ]
     },
     "metadata": {},
     "output_type": "display_data"
    },
    {
     "data": {
      "application/vnd.jupyter.widget-view+json": {
       "model_id": "193a7dcc260244378af16f2e975fd11b",
       "version_major": 2,
       "version_minor": 0
      },
      "text/plain": [
       "  0%|          | 0/4 [00:00<?, ?it/s]"
      ]
     },
     "metadata": {},
     "output_type": "display_data"
    },
    {
     "data": {
      "application/vnd.jupyter.widget-view+json": {
       "model_id": "b326159637f84e429780b1b40773f136",
       "version_major": 2,
       "version_minor": 0
      },
      "text/plain": [
       "  0%|          | 0/4 [00:00<?, ?it/s]"
      ]
     },
     "metadata": {},
     "output_type": "display_data"
    },
    {
     "data": {
      "application/vnd.jupyter.widget-view+json": {
       "model_id": "ed56f79dca8548a2a1ede22fd68f1c99",
       "version_major": 2,
       "version_minor": 0
      },
      "text/plain": [
       "  0%|          | 0/4 [00:00<?, ?it/s]"
      ]
     },
     "metadata": {},
     "output_type": "display_data"
    },
    {
     "data": {
      "application/vnd.jupyter.widget-view+json": {
       "model_id": "4dd28c7ca0be4277bfa5bd5ca241437c",
       "version_major": 2,
       "version_minor": 0
      },
      "text/plain": [
       "  0%|          | 0/4 [00:00<?, ?it/s]"
      ]
     },
     "metadata": {},
     "output_type": "display_data"
    },
    {
     "data": {
      "application/vnd.jupyter.widget-view+json": {
       "model_id": "74cb92bd965d4cc794ad3580fe1fefae",
       "version_major": 2,
       "version_minor": 0
      },
      "text/plain": [
       "  0%|          | 0/4 [00:00<?, ?it/s]"
      ]
     },
     "metadata": {},
     "output_type": "display_data"
    },
    {
     "data": {
      "application/vnd.jupyter.widget-view+json": {
       "model_id": "2962a723d1314edba9ec38d34133aaab",
       "version_major": 2,
       "version_minor": 0
      },
      "text/plain": [
       "  0%|          | 0/4 [00:00<?, ?it/s]"
      ]
     },
     "metadata": {},
     "output_type": "display_data"
    },
    {
     "data": {
      "application/vnd.jupyter.widget-view+json": {
       "model_id": "df4e1be785d147ef811c273d6efd19d5",
       "version_major": 2,
       "version_minor": 0
      },
      "text/plain": [
       "  0%|          | 0/4 [00:00<?, ?it/s]"
      ]
     },
     "metadata": {},
     "output_type": "display_data"
    },
    {
     "data": {
      "application/vnd.jupyter.widget-view+json": {
       "model_id": "611050bb8db840db912348e39d637a42",
       "version_major": 2,
       "version_minor": 0
      },
      "text/plain": [
       "  0%|          | 0/4 [00:00<?, ?it/s]"
      ]
     },
     "metadata": {},
     "output_type": "display_data"
    },
    {
     "data": {
      "application/vnd.jupyter.widget-view+json": {
       "model_id": "e4573c2af9df4a9d89523aa67001595a",
       "version_major": 2,
       "version_minor": 0
      },
      "text/plain": [
       "  0%|          | 0/4 [00:00<?, ?it/s]"
      ]
     },
     "metadata": {},
     "output_type": "display_data"
    },
    {
     "data": {
      "application/vnd.jupyter.widget-view+json": {
       "model_id": "8be5393e40a54d49a9bda949a6fae425",
       "version_major": 2,
       "version_minor": 0
      },
      "text/plain": [
       "  0%|          | 0/4 [00:00<?, ?it/s]"
      ]
     },
     "metadata": {},
     "output_type": "display_data"
    },
    {
     "data": {
      "application/vnd.jupyter.widget-view+json": {
       "model_id": "596d3717e21741dd9485f6ac6aca0fbf",
       "version_major": 2,
       "version_minor": 0
      },
      "text/plain": [
       "  0%|          | 0/4 [00:00<?, ?it/s]"
      ]
     },
     "metadata": {},
     "output_type": "display_data"
    },
    {
     "data": {
      "application/vnd.jupyter.widget-view+json": {
       "model_id": "d6c666aba9c341f88728063d2eefdc45",
       "version_major": 2,
       "version_minor": 0
      },
      "text/plain": [
       "  0%|          | 0/4 [00:00<?, ?it/s]"
      ]
     },
     "metadata": {},
     "output_type": "display_data"
    },
    {
     "data": {
      "application/vnd.jupyter.widget-view+json": {
       "model_id": "3a7021cf5d894e01beb4b38eeee0b6ae",
       "version_major": 2,
       "version_minor": 0
      },
      "text/plain": [
       "  0%|          | 0/4 [00:00<?, ?it/s]"
      ]
     },
     "metadata": {},
     "output_type": "display_data"
    },
    {
     "data": {
      "application/vnd.jupyter.widget-view+json": {
       "model_id": "ad8f20c53e174919a24ffeaced614703",
       "version_major": 2,
       "version_minor": 0
      },
      "text/plain": [
       "  0%|          | 0/4 [00:00<?, ?it/s]"
      ]
     },
     "metadata": {},
     "output_type": "display_data"
    },
    {
     "data": {
      "application/vnd.jupyter.widget-view+json": {
       "model_id": "d47b481619254f2eacb9d9ed5133980f",
       "version_major": 2,
       "version_minor": 0
      },
      "text/plain": [
       "  0%|          | 0/4 [00:00<?, ?it/s]"
      ]
     },
     "metadata": {},
     "output_type": "display_data"
    },
    {
     "data": {
      "application/vnd.jupyter.widget-view+json": {
       "model_id": "6624a491cc1f457496210f1348832f2b",
       "version_major": 2,
       "version_minor": 0
      },
      "text/plain": [
       "  0%|          | 0/4 [00:00<?, ?it/s]"
      ]
     },
     "metadata": {},
     "output_type": "display_data"
    },
    {
     "data": {
      "application/vnd.jupyter.widget-view+json": {
       "model_id": "4d5a5478cb8642ccb08ac144eee1f020",
       "version_major": 2,
       "version_minor": 0
      },
      "text/plain": [
       "  0%|          | 0/4 [00:00<?, ?it/s]"
      ]
     },
     "metadata": {},
     "output_type": "display_data"
    },
    {
     "data": {
      "application/vnd.jupyter.widget-view+json": {
       "model_id": "e786d3fa9ae649e69b6fdf0e473b3f65",
       "version_major": 2,
       "version_minor": 0
      },
      "text/plain": [
       "  0%|          | 0/4 [00:00<?, ?it/s]"
      ]
     },
     "metadata": {},
     "output_type": "display_data"
    },
    {
     "data": {
      "application/vnd.jupyter.widget-view+json": {
       "model_id": "4b40133dd80c468ea4e0e745a84f4048",
       "version_major": 2,
       "version_minor": 0
      },
      "text/plain": [
       "  0%|          | 0/4 [00:00<?, ?it/s]"
      ]
     },
     "metadata": {},
     "output_type": "display_data"
    },
    {
     "data": {
      "application/vnd.jupyter.widget-view+json": {
       "model_id": "b860bd36a5584d98a55ff640b293e6ae",
       "version_major": 2,
       "version_minor": 0
      },
      "text/plain": [
       "  0%|          | 0/4 [00:00<?, ?it/s]"
      ]
     },
     "metadata": {},
     "output_type": "display_data"
    },
    {
     "data": {
      "application/vnd.jupyter.widget-view+json": {
       "model_id": "134cffcbfcb74f88a421d0c6d96f4a29",
       "version_major": 2,
       "version_minor": 0
      },
      "text/plain": [
       "  0%|          | 0/4 [00:00<?, ?it/s]"
      ]
     },
     "metadata": {},
     "output_type": "display_data"
    },
    {
     "data": {
      "application/vnd.jupyter.widget-view+json": {
       "model_id": "43077a9a8a634f03a33012c75bda9f53",
       "version_major": 2,
       "version_minor": 0
      },
      "text/plain": [
       "  0%|          | 0/4 [00:00<?, ?it/s]"
      ]
     },
     "metadata": {},
     "output_type": "display_data"
    },
    {
     "data": {
      "application/vnd.jupyter.widget-view+json": {
       "model_id": "c334418a09ba4100b1bad974a2062272",
       "version_major": 2,
       "version_minor": 0
      },
      "text/plain": [
       "  0%|          | 0/4 [00:00<?, ?it/s]"
      ]
     },
     "metadata": {},
     "output_type": "display_data"
    },
    {
     "data": {
      "application/vnd.jupyter.widget-view+json": {
       "model_id": "5bb27fc665144929a5cf317a135f6fa9",
       "version_major": 2,
       "version_minor": 0
      },
      "text/plain": [
       "  0%|          | 0/4 [00:00<?, ?it/s]"
      ]
     },
     "metadata": {},
     "output_type": "display_data"
    },
    {
     "data": {
      "application/vnd.jupyter.widget-view+json": {
       "model_id": "6f0fc1236723458f994adec1b3423ec5",
       "version_major": 2,
       "version_minor": 0
      },
      "text/plain": [
       "  0%|          | 0/4 [00:00<?, ?it/s]"
      ]
     },
     "metadata": {},
     "output_type": "display_data"
    },
    {
     "data": {
      "application/vnd.jupyter.widget-view+json": {
       "model_id": "09cb9475a0754609a2fd51e732f726bf",
       "version_major": 2,
       "version_minor": 0
      },
      "text/plain": [
       "  0%|          | 0/4 [00:00<?, ?it/s]"
      ]
     },
     "metadata": {},
     "output_type": "display_data"
    },
    {
     "data": {
      "application/vnd.jupyter.widget-view+json": {
       "model_id": "83094c7309104ed9a7cf50631c439686",
       "version_major": 2,
       "version_minor": 0
      },
      "text/plain": [
       "  0%|          | 0/4 [00:00<?, ?it/s]"
      ]
     },
     "metadata": {},
     "output_type": "display_data"
    },
    {
     "data": {
      "application/vnd.jupyter.widget-view+json": {
       "model_id": "98e4eb46bb63409d9c4cb081617199e9",
       "version_major": 2,
       "version_minor": 0
      },
      "text/plain": [
       "  0%|          | 0/4 [00:00<?, ?it/s]"
      ]
     },
     "metadata": {},
     "output_type": "display_data"
    },
    {
     "data": {
      "application/vnd.jupyter.widget-view+json": {
       "model_id": "3f6baa2cfd77463baf5774db74e7211d",
       "version_major": 2,
       "version_minor": 0
      },
      "text/plain": [
       "  0%|          | 0/4 [00:00<?, ?it/s]"
      ]
     },
     "metadata": {},
     "output_type": "display_data"
    },
    {
     "data": {
      "application/vnd.jupyter.widget-view+json": {
       "model_id": "7b6f0d635d034338899a7ccd3c7ef4ce",
       "version_major": 2,
       "version_minor": 0
      },
      "text/plain": [
       "  0%|          | 0/4 [00:00<?, ?it/s]"
      ]
     },
     "metadata": {},
     "output_type": "display_data"
    },
    {
     "data": {
      "application/vnd.jupyter.widget-view+json": {
       "model_id": "7416810106d74ea5ab78476e9158612f",
       "version_major": 2,
       "version_minor": 0
      },
      "text/plain": [
       "  0%|          | 0/4 [00:00<?, ?it/s]"
      ]
     },
     "metadata": {},
     "output_type": "display_data"
    },
    {
     "data": {
      "application/vnd.jupyter.widget-view+json": {
       "model_id": "20f25d04e95d46b58c09b1c27996fd1f",
       "version_major": 2,
       "version_minor": 0
      },
      "text/plain": [
       "  0%|          | 0/4 [00:00<?, ?it/s]"
      ]
     },
     "metadata": {},
     "output_type": "display_data"
    },
    {
     "data": {
      "application/vnd.jupyter.widget-view+json": {
       "model_id": "0bc551d578854d3782f6c17375c331bd",
       "version_major": 2,
       "version_minor": 0
      },
      "text/plain": [
       "  0%|          | 0/4 [00:00<?, ?it/s]"
      ]
     },
     "metadata": {},
     "output_type": "display_data"
    },
    {
     "data": {
      "application/vnd.jupyter.widget-view+json": {
       "model_id": "fe5661f3f7594776b53564c740f38eb3",
       "version_major": 2,
       "version_minor": 0
      },
      "text/plain": [
       "  0%|          | 0/4 [00:00<?, ?it/s]"
      ]
     },
     "metadata": {},
     "output_type": "display_data"
    },
    {
     "data": {
      "application/vnd.jupyter.widget-view+json": {
       "model_id": "f24615e5f27546cdadd997da942171ea",
       "version_major": 2,
       "version_minor": 0
      },
      "text/plain": [
       "  0%|          | 0/4 [00:00<?, ?it/s]"
      ]
     },
     "metadata": {},
     "output_type": "display_data"
    },
    {
     "data": {
      "application/vnd.jupyter.widget-view+json": {
       "model_id": "d46ecd85a76d4791a7175e577837bccc",
       "version_major": 2,
       "version_minor": 0
      },
      "text/plain": [
       "  0%|          | 0/4 [00:00<?, ?it/s]"
      ]
     },
     "metadata": {},
     "output_type": "display_data"
    },
    {
     "data": {
      "application/vnd.jupyter.widget-view+json": {
       "model_id": "24c8964c3c0a44f582b2bbe0c26ffa48",
       "version_major": 2,
       "version_minor": 0
      },
      "text/plain": [
       "  0%|          | 0/4 [00:00<?, ?it/s]"
      ]
     },
     "metadata": {},
     "output_type": "display_data"
    },
    {
     "data": {
      "application/vnd.jupyter.widget-view+json": {
       "model_id": "b94d187fad954df6afec967edbd8ab2a",
       "version_major": 2,
       "version_minor": 0
      },
      "text/plain": [
       "  0%|          | 0/4 [00:00<?, ?it/s]"
      ]
     },
     "metadata": {},
     "output_type": "display_data"
    },
    {
     "data": {
      "application/vnd.jupyter.widget-view+json": {
       "model_id": "40da9022ad2b4bfcbfaa85c40736e863",
       "version_major": 2,
       "version_minor": 0
      },
      "text/plain": [
       "  0%|          | 0/4 [00:00<?, ?it/s]"
      ]
     },
     "metadata": {},
     "output_type": "display_data"
    },
    {
     "data": {
      "application/vnd.jupyter.widget-view+json": {
       "model_id": "6e640acc5fbb4506873464ca3b6e57e2",
       "version_major": 2,
       "version_minor": 0
      },
      "text/plain": [
       "  0%|          | 0/4 [00:00<?, ?it/s]"
      ]
     },
     "metadata": {},
     "output_type": "display_data"
    },
    {
     "data": {
      "application/vnd.jupyter.widget-view+json": {
       "model_id": "7db7ef2085284c599ad1ab7351847133",
       "version_major": 2,
       "version_minor": 0
      },
      "text/plain": [
       "  0%|          | 0/4 [00:00<?, ?it/s]"
      ]
     },
     "metadata": {},
     "output_type": "display_data"
    },
    {
     "data": {
      "application/vnd.jupyter.widget-view+json": {
       "model_id": "f1822866f8a4477089a48adcbe709bb6",
       "version_major": 2,
       "version_minor": 0
      },
      "text/plain": [
       "  0%|          | 0/4 [00:00<?, ?it/s]"
      ]
     },
     "metadata": {},
     "output_type": "display_data"
    },
    {
     "data": {
      "application/vnd.jupyter.widget-view+json": {
       "model_id": "639eb17e2f064e6383b626353222c677",
       "version_major": 2,
       "version_minor": 0
      },
      "text/plain": [
       "  0%|          | 0/4 [00:00<?, ?it/s]"
      ]
     },
     "metadata": {},
     "output_type": "display_data"
    },
    {
     "data": {
      "application/vnd.jupyter.widget-view+json": {
       "model_id": "e1e57199d1cf44ca942b9b79585f0600",
       "version_major": 2,
       "version_minor": 0
      },
      "text/plain": [
       "  0%|          | 0/4 [00:00<?, ?it/s]"
      ]
     },
     "metadata": {},
     "output_type": "display_data"
    },
    {
     "data": {
      "application/vnd.jupyter.widget-view+json": {
       "model_id": "e7c02f7a190542e79b28fcff8983acfc",
       "version_major": 2,
       "version_minor": 0
      },
      "text/plain": [
       "  0%|          | 0/4 [00:00<?, ?it/s]"
      ]
     },
     "metadata": {},
     "output_type": "display_data"
    },
    {
     "data": {
      "application/vnd.jupyter.widget-view+json": {
       "model_id": "8067761c367d4ee4be291bffab649b6a",
       "version_major": 2,
       "version_minor": 0
      },
      "text/plain": [
       "  0%|          | 0/4 [00:00<?, ?it/s]"
      ]
     },
     "metadata": {},
     "output_type": "display_data"
    },
    {
     "data": {
      "application/vnd.jupyter.widget-view+json": {
       "model_id": "be60b0bab1d04835b82c8875262e9376",
       "version_major": 2,
       "version_minor": 0
      },
      "text/plain": [
       "  0%|          | 0/4 [00:00<?, ?it/s]"
      ]
     },
     "metadata": {},
     "output_type": "display_data"
    },
    {
     "data": {
      "application/vnd.jupyter.widget-view+json": {
       "model_id": "531be80074644f0395b494e97fe86625",
       "version_major": 2,
       "version_minor": 0
      },
      "text/plain": [
       "  0%|          | 0/4 [00:00<?, ?it/s]"
      ]
     },
     "metadata": {},
     "output_type": "display_data"
    },
    {
     "data": {
      "application/vnd.jupyter.widget-view+json": {
       "model_id": "6978ded7865e46839e450b90343eaaa5",
       "version_major": 2,
       "version_minor": 0
      },
      "text/plain": [
       "  0%|          | 0/4 [00:00<?, ?it/s]"
      ]
     },
     "metadata": {},
     "output_type": "display_data"
    },
    {
     "data": {
      "application/vnd.jupyter.widget-view+json": {
       "model_id": "210d2a74b6e54f0b8c87c997ae51d531",
       "version_major": 2,
       "version_minor": 0
      },
      "text/plain": [
       "  0%|          | 0/4 [00:00<?, ?it/s]"
      ]
     },
     "metadata": {},
     "output_type": "display_data"
    },
    {
     "data": {
      "application/vnd.jupyter.widget-view+json": {
       "model_id": "08a9f1dc69a0421cadc79fcbcbee5fb5",
       "version_major": 2,
       "version_minor": 0
      },
      "text/plain": [
       "  0%|          | 0/4 [00:00<?, ?it/s]"
      ]
     },
     "metadata": {},
     "output_type": "display_data"
    },
    {
     "data": {
      "application/vnd.jupyter.widget-view+json": {
       "model_id": "69661ea60fad44b7a35cdf6bc8304b32",
       "version_major": 2,
       "version_minor": 0
      },
      "text/plain": [
       "  0%|          | 0/4 [00:00<?, ?it/s]"
      ]
     },
     "metadata": {},
     "output_type": "display_data"
    },
    {
     "data": {
      "application/vnd.jupyter.widget-view+json": {
       "model_id": "0bdd34c1e24e4eafab28a9f7c4ee671f",
       "version_major": 2,
       "version_minor": 0
      },
      "text/plain": [
       "  0%|          | 0/4 [00:00<?, ?it/s]"
      ]
     },
     "metadata": {},
     "output_type": "display_data"
    },
    {
     "data": {
      "application/vnd.jupyter.widget-view+json": {
       "model_id": "118acdd131b64bc182ab64652cca8020",
       "version_major": 2,
       "version_minor": 0
      },
      "text/plain": [
       "  0%|          | 0/4 [00:00<?, ?it/s]"
      ]
     },
     "metadata": {},
     "output_type": "display_data"
    },
    {
     "data": {
      "application/vnd.jupyter.widget-view+json": {
       "model_id": "04b2ef2703ef42faae0776ac32ca6891",
       "version_major": 2,
       "version_minor": 0
      },
      "text/plain": [
       "  0%|          | 0/4 [00:00<?, ?it/s]"
      ]
     },
     "metadata": {},
     "output_type": "display_data"
    },
    {
     "data": {
      "application/vnd.jupyter.widget-view+json": {
       "model_id": "85319f6794554425aaedc73cd2539ff8",
       "version_major": 2,
       "version_minor": 0
      },
      "text/plain": [
       "  0%|          | 0/4 [00:00<?, ?it/s]"
      ]
     },
     "metadata": {},
     "output_type": "display_data"
    },
    {
     "data": {
      "application/vnd.jupyter.widget-view+json": {
       "model_id": "377018cae89f4a66951f352ecd1167b7",
       "version_major": 2,
       "version_minor": 0
      },
      "text/plain": [
       "  0%|          | 0/4 [00:00<?, ?it/s]"
      ]
     },
     "metadata": {},
     "output_type": "display_data"
    },
    {
     "data": {
      "application/vnd.jupyter.widget-view+json": {
       "model_id": "f3af09de28da48ebb821d0f42dc85704",
       "version_major": 2,
       "version_minor": 0
      },
      "text/plain": [
       "  0%|          | 0/4 [00:00<?, ?it/s]"
      ]
     },
     "metadata": {},
     "output_type": "display_data"
    },
    {
     "data": {
      "application/vnd.jupyter.widget-view+json": {
       "model_id": "2a730b18436847608eed75f0173191ef",
       "version_major": 2,
       "version_minor": 0
      },
      "text/plain": [
       "  0%|          | 0/4 [00:00<?, ?it/s]"
      ]
     },
     "metadata": {},
     "output_type": "display_data"
    },
    {
     "data": {
      "application/vnd.jupyter.widget-view+json": {
       "model_id": "823998fa02144f8995d1f3c6c2be7940",
       "version_major": 2,
       "version_minor": 0
      },
      "text/plain": [
       "  0%|          | 0/4 [00:00<?, ?it/s]"
      ]
     },
     "metadata": {},
     "output_type": "display_data"
    },
    {
     "data": {
      "application/vnd.jupyter.widget-view+json": {
       "model_id": "e5828352a2f24fd8969714d3cb637076",
       "version_major": 2,
       "version_minor": 0
      },
      "text/plain": [
       "  0%|          | 0/4 [00:00<?, ?it/s]"
      ]
     },
     "metadata": {},
     "output_type": "display_data"
    },
    {
     "data": {
      "application/vnd.jupyter.widget-view+json": {
       "model_id": "9097f06dc7a64cd0ba337fbf8f549615",
       "version_major": 2,
       "version_minor": 0
      },
      "text/plain": [
       "  0%|          | 0/4 [00:00<?, ?it/s]"
      ]
     },
     "metadata": {},
     "output_type": "display_data"
    },
    {
     "data": {
      "application/vnd.jupyter.widget-view+json": {
       "model_id": "08017cc8a0dd403a896f49a7c9ad4fef",
       "version_major": 2,
       "version_minor": 0
      },
      "text/plain": [
       "  0%|          | 0/4 [00:00<?, ?it/s]"
      ]
     },
     "metadata": {},
     "output_type": "display_data"
    },
    {
     "data": {
      "application/vnd.jupyter.widget-view+json": {
       "model_id": "9ae28d7f09f340fe925fe4985227b37f",
       "version_major": 2,
       "version_minor": 0
      },
      "text/plain": [
       "  0%|          | 0/4 [00:00<?, ?it/s]"
      ]
     },
     "metadata": {},
     "output_type": "display_data"
    },
    {
     "data": {
      "application/vnd.jupyter.widget-view+json": {
       "model_id": "9b12b8910e514ba89bebd98ad9e76671",
       "version_major": 2,
       "version_minor": 0
      },
      "text/plain": [
       "  0%|          | 0/4 [00:00<?, ?it/s]"
      ]
     },
     "metadata": {},
     "output_type": "display_data"
    },
    {
     "data": {
      "application/vnd.jupyter.widget-view+json": {
       "model_id": "fdcf21fa8d104da7bd83b0a900dac0a8",
       "version_major": 2,
       "version_minor": 0
      },
      "text/plain": [
       "  0%|          | 0/4 [00:00<?, ?it/s]"
      ]
     },
     "metadata": {},
     "output_type": "display_data"
    },
    {
     "data": {
      "application/vnd.jupyter.widget-view+json": {
       "model_id": "4b715a53bf304e4ab86bc74386f69b9f",
       "version_major": 2,
       "version_minor": 0
      },
      "text/plain": [
       "  0%|          | 0/4 [00:00<?, ?it/s]"
      ]
     },
     "metadata": {},
     "output_type": "display_data"
    },
    {
     "data": {
      "application/vnd.jupyter.widget-view+json": {
       "model_id": "1eb186bc2ac647dfa771df594e5f0433",
       "version_major": 2,
       "version_minor": 0
      },
      "text/plain": [
       "  0%|          | 0/4 [00:00<?, ?it/s]"
      ]
     },
     "metadata": {},
     "output_type": "display_data"
    },
    {
     "data": {
      "application/vnd.jupyter.widget-view+json": {
       "model_id": "be9b81e69765477caf6023f60daa3b8b",
       "version_major": 2,
       "version_minor": 0
      },
      "text/plain": [
       "  0%|          | 0/4 [00:00<?, ?it/s]"
      ]
     },
     "metadata": {},
     "output_type": "display_data"
    },
    {
     "data": {
      "application/vnd.jupyter.widget-view+json": {
       "model_id": "4b6513819da64216881517876ccf55db",
       "version_major": 2,
       "version_minor": 0
      },
      "text/plain": [
       "  0%|          | 0/4 [00:00<?, ?it/s]"
      ]
     },
     "metadata": {},
     "output_type": "display_data"
    },
    {
     "data": {
      "application/vnd.jupyter.widget-view+json": {
       "model_id": "7669796ab62f4b58a19dd7b5a6d094fe",
       "version_major": 2,
       "version_minor": 0
      },
      "text/plain": [
       "  0%|          | 0/4 [00:00<?, ?it/s]"
      ]
     },
     "metadata": {},
     "output_type": "display_data"
    },
    {
     "data": {
      "application/vnd.jupyter.widget-view+json": {
       "model_id": "299f84567ab9477488e0b022ec922ae9",
       "version_major": 2,
       "version_minor": 0
      },
      "text/plain": [
       "  0%|          | 0/4 [00:00<?, ?it/s]"
      ]
     },
     "metadata": {},
     "output_type": "display_data"
    },
    {
     "data": {
      "application/vnd.jupyter.widget-view+json": {
       "model_id": "70eecf13160f4c15944f420a20da2561",
       "version_major": 2,
       "version_minor": 0
      },
      "text/plain": [
       "  0%|          | 0/4 [00:00<?, ?it/s]"
      ]
     },
     "metadata": {},
     "output_type": "display_data"
    },
    {
     "data": {
      "application/vnd.jupyter.widget-view+json": {
       "model_id": "dc1b8a0c0a774d96b1fcfa1d40c5e5dd",
       "version_major": 2,
       "version_minor": 0
      },
      "text/plain": [
       "  0%|          | 0/4 [00:00<?, ?it/s]"
      ]
     },
     "metadata": {},
     "output_type": "display_data"
    },
    {
     "data": {
      "application/vnd.jupyter.widget-view+json": {
       "model_id": "10eeb9cbcf134c328f16db8ee5135602",
       "version_major": 2,
       "version_minor": 0
      },
      "text/plain": [
       "  0%|          | 0/4 [00:00<?, ?it/s]"
      ]
     },
     "metadata": {},
     "output_type": "display_data"
    },
    {
     "data": {
      "application/vnd.jupyter.widget-view+json": {
       "model_id": "7c15b6eb23f641208d55d36cad7c957c",
       "version_major": 2,
       "version_minor": 0
      },
      "text/plain": [
       "  0%|          | 0/4 [00:00<?, ?it/s]"
      ]
     },
     "metadata": {},
     "output_type": "display_data"
    },
    {
     "data": {
      "application/vnd.jupyter.widget-view+json": {
       "model_id": "cbcd8cc7f1114084b29623e568dc0a29",
       "version_major": 2,
       "version_minor": 0
      },
      "text/plain": [
       "  0%|          | 0/4 [00:00<?, ?it/s]"
      ]
     },
     "metadata": {},
     "output_type": "display_data"
    },
    {
     "data": {
      "application/vnd.jupyter.widget-view+json": {
       "model_id": "14bf76f4dcd54d93a52bad76919e0b94",
       "version_major": 2,
       "version_minor": 0
      },
      "text/plain": [
       "  0%|          | 0/4 [00:00<?, ?it/s]"
      ]
     },
     "metadata": {},
     "output_type": "display_data"
    },
    {
     "data": {
      "application/vnd.jupyter.widget-view+json": {
       "model_id": "4ff0ff4273f04045b9e7d861e10dba5a",
       "version_major": 2,
       "version_minor": 0
      },
      "text/plain": [
       "  0%|          | 0/4 [00:00<?, ?it/s]"
      ]
     },
     "metadata": {},
     "output_type": "display_data"
    },
    {
     "data": {
      "application/vnd.jupyter.widget-view+json": {
       "model_id": "6d0295757daf4652a2264371cf16e565",
       "version_major": 2,
       "version_minor": 0
      },
      "text/plain": [
       "  0%|          | 0/4 [00:00<?, ?it/s]"
      ]
     },
     "metadata": {},
     "output_type": "display_data"
    },
    {
     "data": {
      "application/vnd.jupyter.widget-view+json": {
       "model_id": "f9a86feff711459a860e9e1bb6159edc",
       "version_major": 2,
       "version_minor": 0
      },
      "text/plain": [
       "  0%|          | 0/4 [00:00<?, ?it/s]"
      ]
     },
     "metadata": {},
     "output_type": "display_data"
    },
    {
     "data": {
      "application/vnd.jupyter.widget-view+json": {
       "model_id": "c1434265599c47cd9583997618e55587",
       "version_major": 2,
       "version_minor": 0
      },
      "text/plain": [
       "  0%|          | 0/4 [00:00<?, ?it/s]"
      ]
     },
     "metadata": {},
     "output_type": "display_data"
    },
    {
     "data": {
      "application/vnd.jupyter.widget-view+json": {
       "model_id": "ca95729831bd47cb8201773228ff2083",
       "version_major": 2,
       "version_minor": 0
      },
      "text/plain": [
       "  0%|          | 0/4 [00:00<?, ?it/s]"
      ]
     },
     "metadata": {},
     "output_type": "display_data"
    },
    {
     "data": {
      "application/vnd.jupyter.widget-view+json": {
       "model_id": "60e4f35f867e4e8db282c01bf455fb8f",
       "version_major": 2,
       "version_minor": 0
      },
      "text/plain": [
       "  0%|          | 0/4 [00:00<?, ?it/s]"
      ]
     },
     "metadata": {},
     "output_type": "display_data"
    },
    {
     "data": {
      "application/vnd.jupyter.widget-view+json": {
       "model_id": "b361cc7f44fc4ebf9fd8e97dead3a492",
       "version_major": 2,
       "version_minor": 0
      },
      "text/plain": [
       "  0%|          | 0/4 [00:00<?, ?it/s]"
      ]
     },
     "metadata": {},
     "output_type": "display_data"
    },
    {
     "data": {
      "application/vnd.jupyter.widget-view+json": {
       "model_id": "a447eaae92684638b2fc2cfee167da4a",
       "version_major": 2,
       "version_minor": 0
      },
      "text/plain": [
       "  0%|          | 0/4 [00:00<?, ?it/s]"
      ]
     },
     "metadata": {},
     "output_type": "display_data"
    },
    {
     "data": {
      "application/vnd.jupyter.widget-view+json": {
       "model_id": "dbb54926541d4682ad908c5d873a5465",
       "version_major": 2,
       "version_minor": 0
      },
      "text/plain": [
       "  0%|          | 0/4 [00:00<?, ?it/s]"
      ]
     },
     "metadata": {},
     "output_type": "display_data"
    },
    {
     "data": {
      "application/vnd.jupyter.widget-view+json": {
       "model_id": "b8cca220e3854e4ba741301126070fcf",
       "version_major": 2,
       "version_minor": 0
      },
      "text/plain": [
       "  0%|          | 0/4 [00:00<?, ?it/s]"
      ]
     },
     "metadata": {},
     "output_type": "display_data"
    },
    {
     "data": {
      "application/vnd.jupyter.widget-view+json": {
       "model_id": "a01a6df96bac43eb9b9113140f12a8c0",
       "version_major": 2,
       "version_minor": 0
      },
      "text/plain": [
       "  0%|          | 0/4 [00:00<?, ?it/s]"
      ]
     },
     "metadata": {},
     "output_type": "display_data"
    },
    {
     "data": {
      "application/vnd.jupyter.widget-view+json": {
       "model_id": "aaee470eac4640219346d5bb44d7dde1",
       "version_major": 2,
       "version_minor": 0
      },
      "text/plain": [
       "  0%|          | 0/4 [00:00<?, ?it/s]"
      ]
     },
     "metadata": {},
     "output_type": "display_data"
    },
    {
     "data": {
      "application/vnd.jupyter.widget-view+json": {
       "model_id": "0fb8abe050b24e1bbdec542781943b13",
       "version_major": 2,
       "version_minor": 0
      },
      "text/plain": [
       "  0%|          | 0/4 [00:00<?, ?it/s]"
      ]
     },
     "metadata": {},
     "output_type": "display_data"
    },
    {
     "data": {
      "application/vnd.jupyter.widget-view+json": {
       "model_id": "69c678804f154f66b4550b1cae0a5a5a",
       "version_major": 2,
       "version_minor": 0
      },
      "text/plain": [
       "  0%|          | 0/4 [00:00<?, ?it/s]"
      ]
     },
     "metadata": {},
     "output_type": "display_data"
    },
    {
     "data": {
      "application/vnd.jupyter.widget-view+json": {
       "model_id": "d93468b851c74e6e9130f4047253c765",
       "version_major": 2,
       "version_minor": 0
      },
      "text/plain": [
       "  0%|          | 0/4 [00:00<?, ?it/s]"
      ]
     },
     "metadata": {},
     "output_type": "display_data"
    },
    {
     "data": {
      "application/vnd.jupyter.widget-view+json": {
       "model_id": "d9b05934de504c5f8b1271d481605ba1",
       "version_major": 2,
       "version_minor": 0
      },
      "text/plain": [
       "  0%|          | 0/4 [00:00<?, ?it/s]"
      ]
     },
     "metadata": {},
     "output_type": "display_data"
    },
    {
     "data": {
      "application/vnd.jupyter.widget-view+json": {
       "model_id": "0aa9d87104e541de97631389d70b1bdb",
       "version_major": 2,
       "version_minor": 0
      },
      "text/plain": [
       "  0%|          | 0/4 [00:00<?, ?it/s]"
      ]
     },
     "metadata": {},
     "output_type": "display_data"
    },
    {
     "data": {
      "application/vnd.jupyter.widget-view+json": {
       "model_id": "9d6924fb278541c6b980fa744c2d3f5c",
       "version_major": 2,
       "version_minor": 0
      },
      "text/plain": [
       "  0%|          | 0/4 [00:00<?, ?it/s]"
      ]
     },
     "metadata": {},
     "output_type": "display_data"
    },
    {
     "data": {
      "application/vnd.jupyter.widget-view+json": {
       "model_id": "35ad614d815f40028ca24586382a0e0c",
       "version_major": 2,
       "version_minor": 0
      },
      "text/plain": [
       "  0%|          | 0/4 [00:00<?, ?it/s]"
      ]
     },
     "metadata": {},
     "output_type": "display_data"
    },
    {
     "data": {
      "application/vnd.jupyter.widget-view+json": {
       "model_id": "63540d6cce4a4851982b8635316a5196",
       "version_major": 2,
       "version_minor": 0
      },
      "text/plain": [
       "  0%|          | 0/4 [00:00<?, ?it/s]"
      ]
     },
     "metadata": {},
     "output_type": "display_data"
    },
    {
     "data": {
      "application/vnd.jupyter.widget-view+json": {
       "model_id": "24002eaf3d3948459d15c80c77afd157",
       "version_major": 2,
       "version_minor": 0
      },
      "text/plain": [
       "  0%|          | 0/4 [00:00<?, ?it/s]"
      ]
     },
     "metadata": {},
     "output_type": "display_data"
    },
    {
     "data": {
      "application/vnd.jupyter.widget-view+json": {
       "model_id": "120d81fbe67f478fb780578ea8407ad8",
       "version_major": 2,
       "version_minor": 0
      },
      "text/plain": [
       "  0%|          | 0/4 [00:00<?, ?it/s]"
      ]
     },
     "metadata": {},
     "output_type": "display_data"
    },
    {
     "data": {
      "application/vnd.jupyter.widget-view+json": {
       "model_id": "932554d5884d433ca80cea2d34a11613",
       "version_major": 2,
       "version_minor": 0
      },
      "text/plain": [
       "  0%|          | 0/4 [00:00<?, ?it/s]"
      ]
     },
     "metadata": {},
     "output_type": "display_data"
    },
    {
     "data": {
      "application/vnd.jupyter.widget-view+json": {
       "model_id": "280e181e43354db69225b7c684b1a90e",
       "version_major": 2,
       "version_minor": 0
      },
      "text/plain": [
       "  0%|          | 0/4 [00:00<?, ?it/s]"
      ]
     },
     "metadata": {},
     "output_type": "display_data"
    },
    {
     "data": {
      "application/vnd.jupyter.widget-view+json": {
       "model_id": "17a736847b0f449d9aecbfeab61d52a6",
       "version_major": 2,
       "version_minor": 0
      },
      "text/plain": [
       "  0%|          | 0/4 [00:00<?, ?it/s]"
      ]
     },
     "metadata": {},
     "output_type": "display_data"
    },
    {
     "data": {
      "application/vnd.jupyter.widget-view+json": {
       "model_id": "efe75f4b53c640bdbf45e641225adf30",
       "version_major": 2,
       "version_minor": 0
      },
      "text/plain": [
       "  0%|          | 0/4 [00:00<?, ?it/s]"
      ]
     },
     "metadata": {},
     "output_type": "display_data"
    },
    {
     "data": {
      "application/vnd.jupyter.widget-view+json": {
       "model_id": "1dff074504134fd2b6dbd954bc2f6154",
       "version_major": 2,
       "version_minor": 0
      },
      "text/plain": [
       "  0%|          | 0/4 [00:00<?, ?it/s]"
      ]
     },
     "metadata": {},
     "output_type": "display_data"
    },
    {
     "data": {
      "application/vnd.jupyter.widget-view+json": {
       "model_id": "c57bad0f560048619d77b8f8a34bb91c",
       "version_major": 2,
       "version_minor": 0
      },
      "text/plain": [
       "  0%|          | 0/4 [00:00<?, ?it/s]"
      ]
     },
     "metadata": {},
     "output_type": "display_data"
    },
    {
     "data": {
      "application/vnd.jupyter.widget-view+json": {
       "model_id": "9d7f8fdd912d4802a67372ec463879c6",
       "version_major": 2,
       "version_minor": 0
      },
      "text/plain": [
       "  0%|          | 0/4 [00:00<?, ?it/s]"
      ]
     },
     "metadata": {},
     "output_type": "display_data"
    },
    {
     "data": {
      "application/vnd.jupyter.widget-view+json": {
       "model_id": "baf57b8cc4c5492eb6ca5d87ffeb4e40",
       "version_major": 2,
       "version_minor": 0
      },
      "text/plain": [
       "  0%|          | 0/4 [00:00<?, ?it/s]"
      ]
     },
     "metadata": {},
     "output_type": "display_data"
    },
    {
     "data": {
      "application/vnd.jupyter.widget-view+json": {
       "model_id": "53ab210240c842e8bea20f978797fb17",
       "version_major": 2,
       "version_minor": 0
      },
      "text/plain": [
       "  0%|          | 0/4 [00:00<?, ?it/s]"
      ]
     },
     "metadata": {},
     "output_type": "display_data"
    },
    {
     "data": {
      "application/vnd.jupyter.widget-view+json": {
       "model_id": "cd3cd247ef5d41d3a6a12e3da2b44036",
       "version_major": 2,
       "version_minor": 0
      },
      "text/plain": [
       "  0%|          | 0/4 [00:00<?, ?it/s]"
      ]
     },
     "metadata": {},
     "output_type": "display_data"
    },
    {
     "data": {
      "application/vnd.jupyter.widget-view+json": {
       "model_id": "44ccf3ab7b6840309ba6b3608f94e402",
       "version_major": 2,
       "version_minor": 0
      },
      "text/plain": [
       "  0%|          | 0/4 [00:00<?, ?it/s]"
      ]
     },
     "metadata": {},
     "output_type": "display_data"
    },
    {
     "data": {
      "application/vnd.jupyter.widget-view+json": {
       "model_id": "4f82ab8a2f524218bc791dcf0062466f",
       "version_major": 2,
       "version_minor": 0
      },
      "text/plain": [
       "  0%|          | 0/4 [00:00<?, ?it/s]"
      ]
     },
     "metadata": {},
     "output_type": "display_data"
    },
    {
     "data": {
      "application/vnd.jupyter.widget-view+json": {
       "model_id": "8944219cf4e54b658ecb49fd128082b6",
       "version_major": 2,
       "version_minor": 0
      },
      "text/plain": [
       "  0%|          | 0/4 [00:00<?, ?it/s]"
      ]
     },
     "metadata": {},
     "output_type": "display_data"
    },
    {
     "data": {
      "application/vnd.jupyter.widget-view+json": {
       "model_id": "6e3b59a62b094461a84a173a6ea80d2e",
       "version_major": 2,
       "version_minor": 0
      },
      "text/plain": [
       "  0%|          | 0/4 [00:00<?, ?it/s]"
      ]
     },
     "metadata": {},
     "output_type": "display_data"
    },
    {
     "data": {
      "application/vnd.jupyter.widget-view+json": {
       "model_id": "c6b51272f549412cba288b512257ac31",
       "version_major": 2,
       "version_minor": 0
      },
      "text/plain": [
       "  0%|          | 0/4 [00:00<?, ?it/s]"
      ]
     },
     "metadata": {},
     "output_type": "display_data"
    },
    {
     "data": {
      "application/vnd.jupyter.widget-view+json": {
       "model_id": "f199b4c8b05043e0b951caa73608be5c",
       "version_major": 2,
       "version_minor": 0
      },
      "text/plain": [
       "  0%|          | 0/4 [00:00<?, ?it/s]"
      ]
     },
     "metadata": {},
     "output_type": "display_data"
    },
    {
     "data": {
      "application/vnd.jupyter.widget-view+json": {
       "model_id": "af3c9b894978423db52fd8dfbcb4ea2f",
       "version_major": 2,
       "version_minor": 0
      },
      "text/plain": [
       "  0%|          | 0/4 [00:00<?, ?it/s]"
      ]
     },
     "metadata": {},
     "output_type": "display_data"
    },
    {
     "data": {
      "application/vnd.jupyter.widget-view+json": {
       "model_id": "fe9a1260c0ca4e58862d58e9e0189948",
       "version_major": 2,
       "version_minor": 0
      },
      "text/plain": [
       "  0%|          | 0/4 [00:00<?, ?it/s]"
      ]
     },
     "metadata": {},
     "output_type": "display_data"
    },
    {
     "data": {
      "application/vnd.jupyter.widget-view+json": {
       "model_id": "ea219433e9864b0c87a3ce7f9b60f31c",
       "version_major": 2,
       "version_minor": 0
      },
      "text/plain": [
       "  0%|          | 0/4 [00:00<?, ?it/s]"
      ]
     },
     "metadata": {},
     "output_type": "display_data"
    },
    {
     "data": {
      "application/vnd.jupyter.widget-view+json": {
       "model_id": "fb79fd1bd1f048ee91252f6695cd2c51",
       "version_major": 2,
       "version_minor": 0
      },
      "text/plain": [
       "  0%|          | 0/4 [00:00<?, ?it/s]"
      ]
     },
     "metadata": {},
     "output_type": "display_data"
    },
    {
     "data": {
      "application/vnd.jupyter.widget-view+json": {
       "model_id": "59681ed6244c489d9462bd03bdbd1e59",
       "version_major": 2,
       "version_minor": 0
      },
      "text/plain": [
       "  0%|          | 0/4 [00:00<?, ?it/s]"
      ]
     },
     "metadata": {},
     "output_type": "display_data"
    },
    {
     "data": {
      "application/vnd.jupyter.widget-view+json": {
       "model_id": "8d2040ca285044e9a45eb9db32dc8f5e",
       "version_major": 2,
       "version_minor": 0
      },
      "text/plain": [
       "  0%|          | 0/4 [00:00<?, ?it/s]"
      ]
     },
     "metadata": {},
     "output_type": "display_data"
    },
    {
     "data": {
      "application/vnd.jupyter.widget-view+json": {
       "model_id": "a457d1dfc04f4c669a546bcd3a28410c",
       "version_major": 2,
       "version_minor": 0
      },
      "text/plain": [
       "  0%|          | 0/4 [00:00<?, ?it/s]"
      ]
     },
     "metadata": {},
     "output_type": "display_data"
    },
    {
     "data": {
      "application/vnd.jupyter.widget-view+json": {
       "model_id": "67347a12cdda4cf89d5135eb22b61853",
       "version_major": 2,
       "version_minor": 0
      },
      "text/plain": [
       "  0%|          | 0/4 [00:00<?, ?it/s]"
      ]
     },
     "metadata": {},
     "output_type": "display_data"
    },
    {
     "data": {
      "application/vnd.jupyter.widget-view+json": {
       "model_id": "a91bcf993c8041deb424614a3eae659f",
       "version_major": 2,
       "version_minor": 0
      },
      "text/plain": [
       "  0%|          | 0/4 [00:00<?, ?it/s]"
      ]
     },
     "metadata": {},
     "output_type": "display_data"
    },
    {
     "data": {
      "application/vnd.jupyter.widget-view+json": {
       "model_id": "86dfd2f7abff4ea3b0079664a027a800",
       "version_major": 2,
       "version_minor": 0
      },
      "text/plain": [
       "  0%|          | 0/4 [00:00<?, ?it/s]"
      ]
     },
     "metadata": {},
     "output_type": "display_data"
    },
    {
     "data": {
      "application/vnd.jupyter.widget-view+json": {
       "model_id": "55ab508c078b4e0f8bc188f2a06a1be9",
       "version_major": 2,
       "version_minor": 0
      },
      "text/plain": [
       "  0%|          | 0/4 [00:00<?, ?it/s]"
      ]
     },
     "metadata": {},
     "output_type": "display_data"
    },
    {
     "data": {
      "application/vnd.jupyter.widget-view+json": {
       "model_id": "34953acef1e142dcba8d952cecc033e0",
       "version_major": 2,
       "version_minor": 0
      },
      "text/plain": [
       "  0%|          | 0/4 [00:00<?, ?it/s]"
      ]
     },
     "metadata": {},
     "output_type": "display_data"
    },
    {
     "data": {
      "application/vnd.jupyter.widget-view+json": {
       "model_id": "754d857f57d84a1abf0e00d191b70c14",
       "version_major": 2,
       "version_minor": 0
      },
      "text/plain": [
       "  0%|          | 0/4 [00:00<?, ?it/s]"
      ]
     },
     "metadata": {},
     "output_type": "display_data"
    },
    {
     "data": {
      "application/vnd.jupyter.widget-view+json": {
       "model_id": "33c7008ea3ae4e0cb0f2ce806766c0b7",
       "version_major": 2,
       "version_minor": 0
      },
      "text/plain": [
       "  0%|          | 0/4 [00:00<?, ?it/s]"
      ]
     },
     "metadata": {},
     "output_type": "display_data"
    },
    {
     "data": {
      "application/vnd.jupyter.widget-view+json": {
       "model_id": "bf257c38f5bc48af8a3ea1bbb6e5df60",
       "version_major": 2,
       "version_minor": 0
      },
      "text/plain": [
       "  0%|          | 0/4 [00:00<?, ?it/s]"
      ]
     },
     "metadata": {},
     "output_type": "display_data"
    },
    {
     "data": {
      "application/vnd.jupyter.widget-view+json": {
       "model_id": "6811a83c51464481b0cd7329f2752e5b",
       "version_major": 2,
       "version_minor": 0
      },
      "text/plain": [
       "  0%|          | 0/4 [00:00<?, ?it/s]"
      ]
     },
     "metadata": {},
     "output_type": "display_data"
    },
    {
     "data": {
      "application/vnd.jupyter.widget-view+json": {
       "model_id": "2c38443ba0d446e2b34376c23320d57d",
       "version_major": 2,
       "version_minor": 0
      },
      "text/plain": [
       "  0%|          | 0/4 [00:00<?, ?it/s]"
      ]
     },
     "metadata": {},
     "output_type": "display_data"
    },
    {
     "data": {
      "application/vnd.jupyter.widget-view+json": {
       "model_id": "61507e1cadf746a3893ad5f76d2a5cbe",
       "version_major": 2,
       "version_minor": 0
      },
      "text/plain": [
       "  0%|          | 0/4 [00:00<?, ?it/s]"
      ]
     },
     "metadata": {},
     "output_type": "display_data"
    },
    {
     "data": {
      "application/vnd.jupyter.widget-view+json": {
       "model_id": "c2ce8b067cd44786ad2e55b8b5951f1a",
       "version_major": 2,
       "version_minor": 0
      },
      "text/plain": [
       "  0%|          | 0/4 [00:00<?, ?it/s]"
      ]
     },
     "metadata": {},
     "output_type": "display_data"
    },
    {
     "data": {
      "application/vnd.jupyter.widget-view+json": {
       "model_id": "984c22dc825b4f4a9efe68210fb737d2",
       "version_major": 2,
       "version_minor": 0
      },
      "text/plain": [
       "  0%|          | 0/4 [00:00<?, ?it/s]"
      ]
     },
     "metadata": {},
     "output_type": "display_data"
    },
    {
     "data": {
      "application/vnd.jupyter.widget-view+json": {
       "model_id": "6595167911fe4917b1a784a13d122029",
       "version_major": 2,
       "version_minor": 0
      },
      "text/plain": [
       "  0%|          | 0/4 [00:00<?, ?it/s]"
      ]
     },
     "metadata": {},
     "output_type": "display_data"
    },
    {
     "data": {
      "application/vnd.jupyter.widget-view+json": {
       "model_id": "7067f40d009a4846a5759ad2d17eaef9",
       "version_major": 2,
       "version_minor": 0
      },
      "text/plain": [
       "  0%|          | 0/4 [00:00<?, ?it/s]"
      ]
     },
     "metadata": {},
     "output_type": "display_data"
    },
    {
     "data": {
      "application/vnd.jupyter.widget-view+json": {
       "model_id": "ed8517588c824ebcbd19fffce540d315",
       "version_major": 2,
       "version_minor": 0
      },
      "text/plain": [
       "  0%|          | 0/4 [00:00<?, ?it/s]"
      ]
     },
     "metadata": {},
     "output_type": "display_data"
    },
    {
     "data": {
      "application/vnd.jupyter.widget-view+json": {
       "model_id": "b9978458cd114442a46ee70c81c8c07e",
       "version_major": 2,
       "version_minor": 0
      },
      "text/plain": [
       "  0%|          | 0/4 [00:00<?, ?it/s]"
      ]
     },
     "metadata": {},
     "output_type": "display_data"
    },
    {
     "data": {
      "application/vnd.jupyter.widget-view+json": {
       "model_id": "e5a28d01ffb0497f9ff999487f196bfb",
       "version_major": 2,
       "version_minor": 0
      },
      "text/plain": [
       "  0%|          | 0/4 [00:00<?, ?it/s]"
      ]
     },
     "metadata": {},
     "output_type": "display_data"
    },
    {
     "data": {
      "application/vnd.jupyter.widget-view+json": {
       "model_id": "1c711bef4d3745c8b6e526ec34cac7fe",
       "version_major": 2,
       "version_minor": 0
      },
      "text/plain": [
       "  0%|          | 0/4 [00:00<?, ?it/s]"
      ]
     },
     "metadata": {},
     "output_type": "display_data"
    },
    {
     "data": {
      "application/vnd.jupyter.widget-view+json": {
       "model_id": "2fc8ea82af914c5d8ea5b6c56df53797",
       "version_major": 2,
       "version_minor": 0
      },
      "text/plain": [
       "  0%|          | 0/4 [00:00<?, ?it/s]"
      ]
     },
     "metadata": {},
     "output_type": "display_data"
    },
    {
     "data": {
      "application/vnd.jupyter.widget-view+json": {
       "model_id": "de5e8721fa3d4eb8bec3bb26e407fcad",
       "version_major": 2,
       "version_minor": 0
      },
      "text/plain": [
       "  0%|          | 0/4 [00:00<?, ?it/s]"
      ]
     },
     "metadata": {},
     "output_type": "display_data"
    },
    {
     "data": {
      "application/vnd.jupyter.widget-view+json": {
       "model_id": "ce77eec77a0c41b1a87a06080f1c2b17",
       "version_major": 2,
       "version_minor": 0
      },
      "text/plain": [
       "  0%|          | 0/4 [00:00<?, ?it/s]"
      ]
     },
     "metadata": {},
     "output_type": "display_data"
    },
    {
     "data": {
      "application/vnd.jupyter.widget-view+json": {
       "model_id": "eb9f553f88924f2fb7389ce865af0c21",
       "version_major": 2,
       "version_minor": 0
      },
      "text/plain": [
       "  0%|          | 0/4 [00:00<?, ?it/s]"
      ]
     },
     "metadata": {},
     "output_type": "display_data"
    },
    {
     "data": {
      "application/vnd.jupyter.widget-view+json": {
       "model_id": "93e53f1bcd4342d48cb6874c48f46668",
       "version_major": 2,
       "version_minor": 0
      },
      "text/plain": [
       "  0%|          | 0/4 [00:00<?, ?it/s]"
      ]
     },
     "metadata": {},
     "output_type": "display_data"
    },
    {
     "data": {
      "application/vnd.jupyter.widget-view+json": {
       "model_id": "bc914ca4de6a471aaba4fa1067a8d59c",
       "version_major": 2,
       "version_minor": 0
      },
      "text/plain": [
       "  0%|          | 0/4 [00:00<?, ?it/s]"
      ]
     },
     "metadata": {},
     "output_type": "display_data"
    },
    {
     "data": {
      "application/vnd.jupyter.widget-view+json": {
       "model_id": "cd278f8d1f45463bb24254e89941507b",
       "version_major": 2,
       "version_minor": 0
      },
      "text/plain": [
       "  0%|          | 0/4 [00:00<?, ?it/s]"
      ]
     },
     "metadata": {},
     "output_type": "display_data"
    },
    {
     "data": {
      "application/vnd.jupyter.widget-view+json": {
       "model_id": "c484d19dac2142d79339b77e9feddcba",
       "version_major": 2,
       "version_minor": 0
      },
      "text/plain": [
       "  0%|          | 0/4 [00:00<?, ?it/s]"
      ]
     },
     "metadata": {},
     "output_type": "display_data"
    },
    {
     "data": {
      "application/vnd.jupyter.widget-view+json": {
       "model_id": "7184b6cc42164635b34c2a5215f36bf6",
       "version_major": 2,
       "version_minor": 0
      },
      "text/plain": [
       "  0%|          | 0/4 [00:00<?, ?it/s]"
      ]
     },
     "metadata": {},
     "output_type": "display_data"
    },
    {
     "data": {
      "application/vnd.jupyter.widget-view+json": {
       "model_id": "c5f5c498631e47f095a6aa155dfd5067",
       "version_major": 2,
       "version_minor": 0
      },
      "text/plain": [
       "  0%|          | 0/4 [00:00<?, ?it/s]"
      ]
     },
     "metadata": {},
     "output_type": "display_data"
    },
    {
     "data": {
      "application/vnd.jupyter.widget-view+json": {
       "model_id": "98e65c6a97f444fb913894869de7c58a",
       "version_major": 2,
       "version_minor": 0
      },
      "text/plain": [
       "  0%|          | 0/4 [00:00<?, ?it/s]"
      ]
     },
     "metadata": {},
     "output_type": "display_data"
    },
    {
     "data": {
      "application/vnd.jupyter.widget-view+json": {
       "model_id": "b4edea7445674565893848b489b949f2",
       "version_major": 2,
       "version_minor": 0
      },
      "text/plain": [
       "  0%|          | 0/4 [00:00<?, ?it/s]"
      ]
     },
     "metadata": {},
     "output_type": "display_data"
    },
    {
     "data": {
      "application/vnd.jupyter.widget-view+json": {
       "model_id": "7274b708899247ecb5536a810cac36d5",
       "version_major": 2,
       "version_minor": 0
      },
      "text/plain": [
       "  0%|          | 0/4 [00:00<?, ?it/s]"
      ]
     },
     "metadata": {},
     "output_type": "display_data"
    },
    {
     "data": {
      "application/vnd.jupyter.widget-view+json": {
       "model_id": "a373c3c8af754cd3a014cb4dd66f6a5f",
       "version_major": 2,
       "version_minor": 0
      },
      "text/plain": [
       "  0%|          | 0/4 [00:00<?, ?it/s]"
      ]
     },
     "metadata": {},
     "output_type": "display_data"
    },
    {
     "data": {
      "application/vnd.jupyter.widget-view+json": {
       "model_id": "55862d592c094229a44580a17f182b9f",
       "version_major": 2,
       "version_minor": 0
      },
      "text/plain": [
       "  0%|          | 0/4 [00:00<?, ?it/s]"
      ]
     },
     "metadata": {},
     "output_type": "display_data"
    },
    {
     "data": {
      "application/vnd.jupyter.widget-view+json": {
       "model_id": "f52cc32595584773ab4fbc38d641a716",
       "version_major": 2,
       "version_minor": 0
      },
      "text/plain": [
       "  0%|          | 0/4 [00:00<?, ?it/s]"
      ]
     },
     "metadata": {},
     "output_type": "display_data"
    },
    {
     "data": {
      "application/vnd.jupyter.widget-view+json": {
       "model_id": "9741ecb60384427e841350d50c55948c",
       "version_major": 2,
       "version_minor": 0
      },
      "text/plain": [
       "  0%|          | 0/4 [00:00<?, ?it/s]"
      ]
     },
     "metadata": {},
     "output_type": "display_data"
    },
    {
     "data": {
      "application/vnd.jupyter.widget-view+json": {
       "model_id": "ea2170aec9324d90b5382552d3f57a0b",
       "version_major": 2,
       "version_minor": 0
      },
      "text/plain": [
       "  0%|          | 0/4 [00:00<?, ?it/s]"
      ]
     },
     "metadata": {},
     "output_type": "display_data"
    },
    {
     "data": {
      "application/vnd.jupyter.widget-view+json": {
       "model_id": "7f1c29c3d65d4b48a054cdbd06bf41f4",
       "version_major": 2,
       "version_minor": 0
      },
      "text/plain": [
       "  0%|          | 0/4 [00:00<?, ?it/s]"
      ]
     },
     "metadata": {},
     "output_type": "display_data"
    },
    {
     "data": {
      "application/vnd.jupyter.widget-view+json": {
       "model_id": "5f6bfca515044a5d947685f079a85305",
       "version_major": 2,
       "version_minor": 0
      },
      "text/plain": [
       "  0%|          | 0/4 [00:00<?, ?it/s]"
      ]
     },
     "metadata": {},
     "output_type": "display_data"
    },
    {
     "data": {
      "application/vnd.jupyter.widget-view+json": {
       "model_id": "cbde4720c837402397f5b6d39f8222be",
       "version_major": 2,
       "version_minor": 0
      },
      "text/plain": [
       "  0%|          | 0/4 [00:00<?, ?it/s]"
      ]
     },
     "metadata": {},
     "output_type": "display_data"
    },
    {
     "data": {
      "application/vnd.jupyter.widget-view+json": {
       "model_id": "a5af1b6825904feaa6a6c638887e79fc",
       "version_major": 2,
       "version_minor": 0
      },
      "text/plain": [
       "  0%|          | 0/4 [00:00<?, ?it/s]"
      ]
     },
     "metadata": {},
     "output_type": "display_data"
    },
    {
     "data": {
      "application/vnd.jupyter.widget-view+json": {
       "model_id": "86c46d03699b48f6b0f3e33940461f73",
       "version_major": 2,
       "version_minor": 0
      },
      "text/plain": [
       "  0%|          | 0/4 [00:00<?, ?it/s]"
      ]
     },
     "metadata": {},
     "output_type": "display_data"
    },
    {
     "data": {
      "application/vnd.jupyter.widget-view+json": {
       "model_id": "e2c5f81cd802496585140d66742995a1",
       "version_major": 2,
       "version_minor": 0
      },
      "text/plain": [
       "  0%|          | 0/4 [00:00<?, ?it/s]"
      ]
     },
     "metadata": {},
     "output_type": "display_data"
    },
    {
     "data": {
      "application/vnd.jupyter.widget-view+json": {
       "model_id": "135c98256a904eb2a5f0d7904791fdb2",
       "version_major": 2,
       "version_minor": 0
      },
      "text/plain": [
       "  0%|          | 0/4 [00:00<?, ?it/s]"
      ]
     },
     "metadata": {},
     "output_type": "display_data"
    },
    {
     "data": {
      "application/vnd.jupyter.widget-view+json": {
       "model_id": "038b53372f394f1cb550a9466529bf3f",
       "version_major": 2,
       "version_minor": 0
      },
      "text/plain": [
       "  0%|          | 0/4 [00:00<?, ?it/s]"
      ]
     },
     "metadata": {},
     "output_type": "display_data"
    },
    {
     "data": {
      "application/vnd.jupyter.widget-view+json": {
       "model_id": "35e593ba92be4bf1a33d6bc6d4803212",
       "version_major": 2,
       "version_minor": 0
      },
      "text/plain": [
       "  0%|          | 0/4 [00:00<?, ?it/s]"
      ]
     },
     "metadata": {},
     "output_type": "display_data"
    },
    {
     "data": {
      "application/vnd.jupyter.widget-view+json": {
       "model_id": "ea95704beb204c2c96543fcf0178a056",
       "version_major": 2,
       "version_minor": 0
      },
      "text/plain": [
       "  0%|          | 0/4 [00:00<?, ?it/s]"
      ]
     },
     "metadata": {},
     "output_type": "display_data"
    },
    {
     "data": {
      "application/vnd.jupyter.widget-view+json": {
       "model_id": "15e4c925b24743cf8748c527e24bcf86",
       "version_major": 2,
       "version_minor": 0
      },
      "text/plain": [
       "  0%|          | 0/4 [00:00<?, ?it/s]"
      ]
     },
     "metadata": {},
     "output_type": "display_data"
    },
    {
     "data": {
      "application/vnd.jupyter.widget-view+json": {
       "model_id": "abc2aa9acaac48109489fcdae81e4623",
       "version_major": 2,
       "version_minor": 0
      },
      "text/plain": [
       "  0%|          | 0/4 [00:00<?, ?it/s]"
      ]
     },
     "metadata": {},
     "output_type": "display_data"
    },
    {
     "data": {
      "application/vnd.jupyter.widget-view+json": {
       "model_id": "e9cdbfe65ab6479cb4c20c8b92aace94",
       "version_major": 2,
       "version_minor": 0
      },
      "text/plain": [
       "  0%|          | 0/4 [00:00<?, ?it/s]"
      ]
     },
     "metadata": {},
     "output_type": "display_data"
    },
    {
     "data": {
      "application/vnd.jupyter.widget-view+json": {
       "model_id": "04af1283787643d79d146b996b63c78c",
       "version_major": 2,
       "version_minor": 0
      },
      "text/plain": [
       "  0%|          | 0/4 [00:00<?, ?it/s]"
      ]
     },
     "metadata": {},
     "output_type": "display_data"
    },
    {
     "data": {
      "application/vnd.jupyter.widget-view+json": {
       "model_id": "a3b1e399df534570882f8147aabf1737",
       "version_major": 2,
       "version_minor": 0
      },
      "text/plain": [
       "  0%|          | 0/4 [00:00<?, ?it/s]"
      ]
     },
     "metadata": {},
     "output_type": "display_data"
    },
    {
     "data": {
      "application/vnd.jupyter.widget-view+json": {
       "model_id": "c2b4dcd3d38f49c8a7494043d24308fd",
       "version_major": 2,
       "version_minor": 0
      },
      "text/plain": [
       "  0%|          | 0/4 [00:00<?, ?it/s]"
      ]
     },
     "metadata": {},
     "output_type": "display_data"
    },
    {
     "data": {
      "application/vnd.jupyter.widget-view+json": {
       "model_id": "b91af09c3a7844b99e07ceb9505a8b25",
       "version_major": 2,
       "version_minor": 0
      },
      "text/plain": [
       "  0%|          | 0/4 [00:00<?, ?it/s]"
      ]
     },
     "metadata": {},
     "output_type": "display_data"
    },
    {
     "data": {
      "application/vnd.jupyter.widget-view+json": {
       "model_id": "02e60f1cedb84ecaa97a53ebaed59fd9",
       "version_major": 2,
       "version_minor": 0
      },
      "text/plain": [
       "  0%|          | 0/4 [00:00<?, ?it/s]"
      ]
     },
     "metadata": {},
     "output_type": "display_data"
    },
    {
     "data": {
      "application/vnd.jupyter.widget-view+json": {
       "model_id": "cbf625576beb4626830ac3bb2810cfd3",
       "version_major": 2,
       "version_minor": 0
      },
      "text/plain": [
       "  0%|          | 0/4 [00:00<?, ?it/s]"
      ]
     },
     "metadata": {},
     "output_type": "display_data"
    },
    {
     "data": {
      "application/vnd.jupyter.widget-view+json": {
       "model_id": "3256169a2d8048f0adc656cc4de1ad07",
       "version_major": 2,
       "version_minor": 0
      },
      "text/plain": [
       "  0%|          | 0/4 [00:00<?, ?it/s]"
      ]
     },
     "metadata": {},
     "output_type": "display_data"
    },
    {
     "data": {
      "application/vnd.jupyter.widget-view+json": {
       "model_id": "805e4f2600bb497e8f0ca8ed270dd081",
       "version_major": 2,
       "version_minor": 0
      },
      "text/plain": [
       "  0%|          | 0/4 [00:00<?, ?it/s]"
      ]
     },
     "metadata": {},
     "output_type": "display_data"
    },
    {
     "data": {
      "application/vnd.jupyter.widget-view+json": {
       "model_id": "af9bfd7115544c6aab7c0cfca3012871",
       "version_major": 2,
       "version_minor": 0
      },
      "text/plain": [
       "  0%|          | 0/4 [00:00<?, ?it/s]"
      ]
     },
     "metadata": {},
     "output_type": "display_data"
    },
    {
     "data": {
      "application/vnd.jupyter.widget-view+json": {
       "model_id": "b9982f3297864cc8b14d08c7e97dd518",
       "version_major": 2,
       "version_minor": 0
      },
      "text/plain": [
       "  0%|          | 0/4 [00:00<?, ?it/s]"
      ]
     },
     "metadata": {},
     "output_type": "display_data"
    },
    {
     "data": {
      "application/vnd.jupyter.widget-view+json": {
       "model_id": "3948ade753344ee599e31bb9dd7890a8",
       "version_major": 2,
       "version_minor": 0
      },
      "text/plain": [
       "  0%|          | 0/4 [00:00<?, ?it/s]"
      ]
     },
     "metadata": {},
     "output_type": "display_data"
    },
    {
     "data": {
      "application/vnd.jupyter.widget-view+json": {
       "model_id": "9dd1c6c24c8b4e83847312d34d96f3f8",
       "version_major": 2,
       "version_minor": 0
      },
      "text/plain": [
       "  0%|          | 0/4 [00:00<?, ?it/s]"
      ]
     },
     "metadata": {},
     "output_type": "display_data"
    },
    {
     "data": {
      "application/vnd.jupyter.widget-view+json": {
       "model_id": "d64ee11964b644e6abfbb4ecb8328ac7",
       "version_major": 2,
       "version_minor": 0
      },
      "text/plain": [
       "  0%|          | 0/4 [00:00<?, ?it/s]"
      ]
     },
     "metadata": {},
     "output_type": "display_data"
    },
    {
     "data": {
      "application/vnd.jupyter.widget-view+json": {
       "model_id": "0efca0d0d51c4288a83c6c62cde133ac",
       "version_major": 2,
       "version_minor": 0
      },
      "text/plain": [
       "  0%|          | 0/4 [00:00<?, ?it/s]"
      ]
     },
     "metadata": {},
     "output_type": "display_data"
    },
    {
     "data": {
      "application/vnd.jupyter.widget-view+json": {
       "model_id": "b4282219057f403a96f4bafbd9a2a9a2",
       "version_major": 2,
       "version_minor": 0
      },
      "text/plain": [
       "  0%|          | 0/4 [00:00<?, ?it/s]"
      ]
     },
     "metadata": {},
     "output_type": "display_data"
    },
    {
     "data": {
      "application/vnd.jupyter.widget-view+json": {
       "model_id": "beea7bd651dc4c5fbd19f103d180d2be",
       "version_major": 2,
       "version_minor": 0
      },
      "text/plain": [
       "  0%|          | 0/4 [00:00<?, ?it/s]"
      ]
     },
     "metadata": {},
     "output_type": "display_data"
    },
    {
     "data": {
      "application/vnd.jupyter.widget-view+json": {
       "model_id": "6406ba56d28145b9b850e0ab9ccefa65",
       "version_major": 2,
       "version_minor": 0
      },
      "text/plain": [
       "  0%|          | 0/4 [00:00<?, ?it/s]"
      ]
     },
     "metadata": {},
     "output_type": "display_data"
    },
    {
     "data": {
      "application/vnd.jupyter.widget-view+json": {
       "model_id": "3fcbb23c16614763b6cfc8b8c6c5d96a",
       "version_major": 2,
       "version_minor": 0
      },
      "text/plain": [
       "  0%|          | 0/4 [00:00<?, ?it/s]"
      ]
     },
     "metadata": {},
     "output_type": "display_data"
    },
    {
     "data": {
      "application/vnd.jupyter.widget-view+json": {
       "model_id": "a01e6904b7734efab9d124cbb89ac80e",
       "version_major": 2,
       "version_minor": 0
      },
      "text/plain": [
       "  0%|          | 0/4 [00:00<?, ?it/s]"
      ]
     },
     "metadata": {},
     "output_type": "display_data"
    },
    {
     "data": {
      "application/vnd.jupyter.widget-view+json": {
       "model_id": "2734c92ef87742a0a412c538b96ec08e",
       "version_major": 2,
       "version_minor": 0
      },
      "text/plain": [
       "  0%|          | 0/4 [00:00<?, ?it/s]"
      ]
     },
     "metadata": {},
     "output_type": "display_data"
    },
    {
     "data": {
      "application/vnd.jupyter.widget-view+json": {
       "model_id": "26318ff20ee641dab1593de2c9dc1ba7",
       "version_major": 2,
       "version_minor": 0
      },
      "text/plain": [
       "  0%|          | 0/4 [00:00<?, ?it/s]"
      ]
     },
     "metadata": {},
     "output_type": "display_data"
    },
    {
     "data": {
      "application/vnd.jupyter.widget-view+json": {
       "model_id": "e2f56e3a1dea43c6a47069f0e9392c38",
       "version_major": 2,
       "version_minor": 0
      },
      "text/plain": [
       "  0%|          | 0/4 [00:00<?, ?it/s]"
      ]
     },
     "metadata": {},
     "output_type": "display_data"
    },
    {
     "data": {
      "application/vnd.jupyter.widget-view+json": {
       "model_id": "fca0721015704a738b9b395a94d6107d",
       "version_major": 2,
       "version_minor": 0
      },
      "text/plain": [
       "  0%|          | 0/4 [00:00<?, ?it/s]"
      ]
     },
     "metadata": {},
     "output_type": "display_data"
    },
    {
     "data": {
      "application/vnd.jupyter.widget-view+json": {
       "model_id": "785c8b47b754456cbaa19bdbaf772745",
       "version_major": 2,
       "version_minor": 0
      },
      "text/plain": [
       "  0%|          | 0/4 [00:00<?, ?it/s]"
      ]
     },
     "metadata": {},
     "output_type": "display_data"
    },
    {
     "data": {
      "application/vnd.jupyter.widget-view+json": {
       "model_id": "4adbd8ed9f2c423e876794ca2c36d338",
       "version_major": 2,
       "version_minor": 0
      },
      "text/plain": [
       "  0%|          | 0/4 [00:00<?, ?it/s]"
      ]
     },
     "metadata": {},
     "output_type": "display_data"
    },
    {
     "data": {
      "application/vnd.jupyter.widget-view+json": {
       "model_id": "5024959bed0043099e51276ddfc9536d",
       "version_major": 2,
       "version_minor": 0
      },
      "text/plain": [
       "  0%|          | 0/4 [00:00<?, ?it/s]"
      ]
     },
     "metadata": {},
     "output_type": "display_data"
    },
    {
     "data": {
      "application/vnd.jupyter.widget-view+json": {
       "model_id": "a9ff89e25a9d481db34b53f98b0ebe16",
       "version_major": 2,
       "version_minor": 0
      },
      "text/plain": [
       "  0%|          | 0/4 [00:00<?, ?it/s]"
      ]
     },
     "metadata": {},
     "output_type": "display_data"
    },
    {
     "data": {
      "application/vnd.jupyter.widget-view+json": {
       "model_id": "bad3e99657d343d7b1fb7be9eb9fafbf",
       "version_major": 2,
       "version_minor": 0
      },
      "text/plain": [
       "  0%|          | 0/4 [00:00<?, ?it/s]"
      ]
     },
     "metadata": {},
     "output_type": "display_data"
    },
    {
     "data": {
      "application/vnd.jupyter.widget-view+json": {
       "model_id": "0589701685fb4ad0aa08e386bc122327",
       "version_major": 2,
       "version_minor": 0
      },
      "text/plain": [
       "  0%|          | 0/4 [00:00<?, ?it/s]"
      ]
     },
     "metadata": {},
     "output_type": "display_data"
    },
    {
     "data": {
      "application/vnd.jupyter.widget-view+json": {
       "model_id": "fc2a48f469924bdb879321ba2a756868",
       "version_major": 2,
       "version_minor": 0
      },
      "text/plain": [
       "  0%|          | 0/4 [00:00<?, ?it/s]"
      ]
     },
     "metadata": {},
     "output_type": "display_data"
    },
    {
     "data": {
      "application/vnd.jupyter.widget-view+json": {
       "model_id": "849f156897524dcbbb1e594c745abe23",
       "version_major": 2,
       "version_minor": 0
      },
      "text/plain": [
       "  0%|          | 0/4 [00:00<?, ?it/s]"
      ]
     },
     "metadata": {},
     "output_type": "display_data"
    },
    {
     "data": {
      "application/vnd.jupyter.widget-view+json": {
       "model_id": "6341dfe2235d4a57bfee75de35c788f7",
       "version_major": 2,
       "version_minor": 0
      },
      "text/plain": [
       "  0%|          | 0/4 [00:00<?, ?it/s]"
      ]
     },
     "metadata": {},
     "output_type": "display_data"
    },
    {
     "data": {
      "application/vnd.jupyter.widget-view+json": {
       "model_id": "e9189ce61a844f139767a60de5b576c9",
       "version_major": 2,
       "version_minor": 0
      },
      "text/plain": [
       "  0%|          | 0/4 [00:00<?, ?it/s]"
      ]
     },
     "metadata": {},
     "output_type": "display_data"
    },
    {
     "data": {
      "application/vnd.jupyter.widget-view+json": {
       "model_id": "8d4a571c5174471d8b123b44597b2c4b",
       "version_major": 2,
       "version_minor": 0
      },
      "text/plain": [
       "  0%|          | 0/4 [00:00<?, ?it/s]"
      ]
     },
     "metadata": {},
     "output_type": "display_data"
    },
    {
     "data": {
      "application/vnd.jupyter.widget-view+json": {
       "model_id": "122bf45a4c9e40c59ef1373f678b9fff",
       "version_major": 2,
       "version_minor": 0
      },
      "text/plain": [
       "  0%|          | 0/4 [00:00<?, ?it/s]"
      ]
     },
     "metadata": {},
     "output_type": "display_data"
    },
    {
     "data": {
      "application/vnd.jupyter.widget-view+json": {
       "model_id": "8827c3f623e04074b5607ca300ee45f5",
       "version_major": 2,
       "version_minor": 0
      },
      "text/plain": [
       "  0%|          | 0/4 [00:00<?, ?it/s]"
      ]
     },
     "metadata": {},
     "output_type": "display_data"
    },
    {
     "data": {
      "application/vnd.jupyter.widget-view+json": {
       "model_id": "1443b2e65205400b92262c49b8a901a0",
       "version_major": 2,
       "version_minor": 0
      },
      "text/plain": [
       "  0%|          | 0/4 [00:00<?, ?it/s]"
      ]
     },
     "metadata": {},
     "output_type": "display_data"
    },
    {
     "data": {
      "application/vnd.jupyter.widget-view+json": {
       "model_id": "f6550f38e3994038be71ca40c95b3935",
       "version_major": 2,
       "version_minor": 0
      },
      "text/plain": [
       "  0%|          | 0/4 [00:00<?, ?it/s]"
      ]
     },
     "metadata": {},
     "output_type": "display_data"
    },
    {
     "data": {
      "application/vnd.jupyter.widget-view+json": {
       "model_id": "97d6d029f53e41d4a62f4de89d80b7cd",
       "version_major": 2,
       "version_minor": 0
      },
      "text/plain": [
       "  0%|          | 0/4 [00:00<?, ?it/s]"
      ]
     },
     "metadata": {},
     "output_type": "display_data"
    },
    {
     "data": {
      "application/vnd.jupyter.widget-view+json": {
       "model_id": "e7e23b77f1d34cfe88a462bebf34862d",
       "version_major": 2,
       "version_minor": 0
      },
      "text/plain": [
       "  0%|          | 0/4 [00:00<?, ?it/s]"
      ]
     },
     "metadata": {},
     "output_type": "display_data"
    },
    {
     "data": {
      "application/vnd.jupyter.widget-view+json": {
       "model_id": "f1ca4a7c732a4e01be7846ae0ee9d34d",
       "version_major": 2,
       "version_minor": 0
      },
      "text/plain": [
       "  0%|          | 0/4 [00:00<?, ?it/s]"
      ]
     },
     "metadata": {},
     "output_type": "display_data"
    },
    {
     "data": {
      "application/vnd.jupyter.widget-view+json": {
       "model_id": "af8cd86f0c3f4db6a99bd523853f533b",
       "version_major": 2,
       "version_minor": 0
      },
      "text/plain": [
       "  0%|          | 0/4 [00:00<?, ?it/s]"
      ]
     },
     "metadata": {},
     "output_type": "display_data"
    },
    {
     "data": {
      "application/vnd.jupyter.widget-view+json": {
       "model_id": "ce6723040b4a4d39b01af5a5f36328a6",
       "version_major": 2,
       "version_minor": 0
      },
      "text/plain": [
       "  0%|          | 0/4 [00:00<?, ?it/s]"
      ]
     },
     "metadata": {},
     "output_type": "display_data"
    },
    {
     "data": {
      "application/vnd.jupyter.widget-view+json": {
       "model_id": "87a0097c2b1840edb3757879812d21eb",
       "version_major": 2,
       "version_minor": 0
      },
      "text/plain": [
       "  0%|          | 0/4 [00:00<?, ?it/s]"
      ]
     },
     "metadata": {},
     "output_type": "display_data"
    },
    {
     "data": {
      "application/vnd.jupyter.widget-view+json": {
       "model_id": "d10d8cd262804e09b457ab3eade052a3",
       "version_major": 2,
       "version_minor": 0
      },
      "text/plain": [
       "  0%|          | 0/4 [00:00<?, ?it/s]"
      ]
     },
     "metadata": {},
     "output_type": "display_data"
    },
    {
     "data": {
      "application/vnd.jupyter.widget-view+json": {
       "model_id": "69177cd235a84a848bf5a4e7b462fac2",
       "version_major": 2,
       "version_minor": 0
      },
      "text/plain": [
       "  0%|          | 0/4 [00:00<?, ?it/s]"
      ]
     },
     "metadata": {},
     "output_type": "display_data"
    },
    {
     "data": {
      "application/vnd.jupyter.widget-view+json": {
       "model_id": "597d1890c2534b04bc45c5fd6eb86bc2",
       "version_major": 2,
       "version_minor": 0
      },
      "text/plain": [
       "  0%|          | 0/4 [00:00<?, ?it/s]"
      ]
     },
     "metadata": {},
     "output_type": "display_data"
    },
    {
     "data": {
      "application/vnd.jupyter.widget-view+json": {
       "model_id": "2f4ce6cc507440d7bc228b3898f98cff",
       "version_major": 2,
       "version_minor": 0
      },
      "text/plain": [
       "  0%|          | 0/4 [00:00<?, ?it/s]"
      ]
     },
     "metadata": {},
     "output_type": "display_data"
    },
    {
     "data": {
      "application/vnd.jupyter.widget-view+json": {
       "model_id": "1b44f2c0c2aa41d6947432f7ba479c3d",
       "version_major": 2,
       "version_minor": 0
      },
      "text/plain": [
       "  0%|          | 0/4 [00:00<?, ?it/s]"
      ]
     },
     "metadata": {},
     "output_type": "display_data"
    },
    {
     "data": {
      "application/vnd.jupyter.widget-view+json": {
       "model_id": "0811bfd4902f438283b6dd32a286bb9c",
       "version_major": 2,
       "version_minor": 0
      },
      "text/plain": [
       "  0%|          | 0/4 [00:00<?, ?it/s]"
      ]
     },
     "metadata": {},
     "output_type": "display_data"
    },
    {
     "data": {
      "application/vnd.jupyter.widget-view+json": {
       "model_id": "f45982b6a18e4650b2305535dcc23743",
       "version_major": 2,
       "version_minor": 0
      },
      "text/plain": [
       "  0%|          | 0/4 [00:00<?, ?it/s]"
      ]
     },
     "metadata": {},
     "output_type": "display_data"
    },
    {
     "data": {
      "application/vnd.jupyter.widget-view+json": {
       "model_id": "b69b6bf24d884fc9ae31afded0e52a5a",
       "version_major": 2,
       "version_minor": 0
      },
      "text/plain": [
       "  0%|          | 0/4 [00:00<?, ?it/s]"
      ]
     },
     "metadata": {},
     "output_type": "display_data"
    },
    {
     "data": {
      "application/vnd.jupyter.widget-view+json": {
       "model_id": "08db42dd976e46e4a6430bf2c39fbcc0",
       "version_major": 2,
       "version_minor": 0
      },
      "text/plain": [
       "  0%|          | 0/4 [00:00<?, ?it/s]"
      ]
     },
     "metadata": {},
     "output_type": "display_data"
    },
    {
     "data": {
      "application/vnd.jupyter.widget-view+json": {
       "model_id": "16323ed94e374cab85edac1ba4675211",
       "version_major": 2,
       "version_minor": 0
      },
      "text/plain": [
       "  0%|          | 0/4 [00:00<?, ?it/s]"
      ]
     },
     "metadata": {},
     "output_type": "display_data"
    },
    {
     "data": {
      "application/vnd.jupyter.widget-view+json": {
       "model_id": "601f1f8bedeb4d578e0b7f74aecbd416",
       "version_major": 2,
       "version_minor": 0
      },
      "text/plain": [
       "  0%|          | 0/4 [00:00<?, ?it/s]"
      ]
     },
     "metadata": {},
     "output_type": "display_data"
    },
    {
     "data": {
      "application/vnd.jupyter.widget-view+json": {
       "model_id": "c517f023bded42c9858125b45181089a",
       "version_major": 2,
       "version_minor": 0
      },
      "text/plain": [
       "  0%|          | 0/4 [00:00<?, ?it/s]"
      ]
     },
     "metadata": {},
     "output_type": "display_data"
    },
    {
     "data": {
      "application/vnd.jupyter.widget-view+json": {
       "model_id": "7ba7353f82d64842b16e655dc215089c",
       "version_major": 2,
       "version_minor": 0
      },
      "text/plain": [
       "  0%|          | 0/4 [00:00<?, ?it/s]"
      ]
     },
     "metadata": {},
     "output_type": "display_data"
    },
    {
     "data": {
      "application/vnd.jupyter.widget-view+json": {
       "model_id": "5cd246ac054241f58fc4e7dee7e6be53",
       "version_major": 2,
       "version_minor": 0
      },
      "text/plain": [
       "  0%|          | 0/4 [00:00<?, ?it/s]"
      ]
     },
     "metadata": {},
     "output_type": "display_data"
    },
    {
     "data": {
      "application/vnd.jupyter.widget-view+json": {
       "model_id": "921c6b7113464b82a2e6edccecf02242",
       "version_major": 2,
       "version_minor": 0
      },
      "text/plain": [
       "  0%|          | 0/4 [00:00<?, ?it/s]"
      ]
     },
     "metadata": {},
     "output_type": "display_data"
    },
    {
     "data": {
      "application/vnd.jupyter.widget-view+json": {
       "model_id": "24e55fb72d864fed92d7c3de71341215",
       "version_major": 2,
       "version_minor": 0
      },
      "text/plain": [
       "  0%|          | 0/4 [00:00<?, ?it/s]"
      ]
     },
     "metadata": {},
     "output_type": "display_data"
    },
    {
     "data": {
      "application/vnd.jupyter.widget-view+json": {
       "model_id": "bf5c1d5b5da04f83ac2d6e8ad161e7ad",
       "version_major": 2,
       "version_minor": 0
      },
      "text/plain": [
       "  0%|          | 0/4 [00:00<?, ?it/s]"
      ]
     },
     "metadata": {},
     "output_type": "display_data"
    },
    {
     "data": {
      "application/vnd.jupyter.widget-view+json": {
       "model_id": "dff91bf3c6e344b88fbaa558adbb638b",
       "version_major": 2,
       "version_minor": 0
      },
      "text/plain": [
       "  0%|          | 0/4 [00:00<?, ?it/s]"
      ]
     },
     "metadata": {},
     "output_type": "display_data"
    },
    {
     "data": {
      "application/vnd.jupyter.widget-view+json": {
       "model_id": "a9245c2d0c8845d6be7351b656a25735",
       "version_major": 2,
       "version_minor": 0
      },
      "text/plain": [
       "  0%|          | 0/4 [00:00<?, ?it/s]"
      ]
     },
     "metadata": {},
     "output_type": "display_data"
    },
    {
     "data": {
      "application/vnd.jupyter.widget-view+json": {
       "model_id": "42c4fb388a824cfcaf28537a34a85896",
       "version_major": 2,
       "version_minor": 0
      },
      "text/plain": [
       "  0%|          | 0/4 [00:00<?, ?it/s]"
      ]
     },
     "metadata": {},
     "output_type": "display_data"
    },
    {
     "data": {
      "application/vnd.jupyter.widget-view+json": {
       "model_id": "6f7d9806ca074296a71e76aa0086e8c6",
       "version_major": 2,
       "version_minor": 0
      },
      "text/plain": [
       "  0%|          | 0/4 [00:00<?, ?it/s]"
      ]
     },
     "metadata": {},
     "output_type": "display_data"
    },
    {
     "data": {
      "application/vnd.jupyter.widget-view+json": {
       "model_id": "1dc82a52ff9347e58a7af193d9ff6cb2",
       "version_major": 2,
       "version_minor": 0
      },
      "text/plain": [
       "  0%|          | 0/4 [00:00<?, ?it/s]"
      ]
     },
     "metadata": {},
     "output_type": "display_data"
    },
    {
     "data": {
      "application/vnd.jupyter.widget-view+json": {
       "model_id": "ba15a641e7a0446aafb766b04f4b1088",
       "version_major": 2,
       "version_minor": 0
      },
      "text/plain": [
       "  0%|          | 0/4 [00:00<?, ?it/s]"
      ]
     },
     "metadata": {},
     "output_type": "display_data"
    },
    {
     "data": {
      "application/vnd.jupyter.widget-view+json": {
       "model_id": "484c4555db20490e8e927b83ef60e667",
       "version_major": 2,
       "version_minor": 0
      },
      "text/plain": [
       "  0%|          | 0/4 [00:00<?, ?it/s]"
      ]
     },
     "metadata": {},
     "output_type": "display_data"
    },
    {
     "data": {
      "application/vnd.jupyter.widget-view+json": {
       "model_id": "0fb6f0a2a39840d9b7d970602aa0dbfb",
       "version_major": 2,
       "version_minor": 0
      },
      "text/plain": [
       "  0%|          | 0/4 [00:00<?, ?it/s]"
      ]
     },
     "metadata": {},
     "output_type": "display_data"
    },
    {
     "data": {
      "application/vnd.jupyter.widget-view+json": {
       "model_id": "47177dc39ae6442bbac38ed53776b852",
       "version_major": 2,
       "version_minor": 0
      },
      "text/plain": [
       "  0%|          | 0/4 [00:00<?, ?it/s]"
      ]
     },
     "metadata": {},
     "output_type": "display_data"
    },
    {
     "data": {
      "application/vnd.jupyter.widget-view+json": {
       "model_id": "b5b5a19ed1d14851b86047894aade1d8",
       "version_major": 2,
       "version_minor": 0
      },
      "text/plain": [
       "  0%|          | 0/4 [00:00<?, ?it/s]"
      ]
     },
     "metadata": {},
     "output_type": "display_data"
    },
    {
     "data": {
      "application/vnd.jupyter.widget-view+json": {
       "model_id": "2bbd1cc75ccd44ab9ba1fbadc10b8870",
       "version_major": 2,
       "version_minor": 0
      },
      "text/plain": [
       "  0%|          | 0/4 [00:00<?, ?it/s]"
      ]
     },
     "metadata": {},
     "output_type": "display_data"
    },
    {
     "data": {
      "application/vnd.jupyter.widget-view+json": {
       "model_id": "1faa7cfe5bf940709e2168dd221f7f98",
       "version_major": 2,
       "version_minor": 0
      },
      "text/plain": [
       "  0%|          | 0/4 [00:00<?, ?it/s]"
      ]
     },
     "metadata": {},
     "output_type": "display_data"
    },
    {
     "data": {
      "application/vnd.jupyter.widget-view+json": {
       "model_id": "718a0087a76a4d12b6d9efa194f0c28d",
       "version_major": 2,
       "version_minor": 0
      },
      "text/plain": [
       "  0%|          | 0/4 [00:00<?, ?it/s]"
      ]
     },
     "metadata": {},
     "output_type": "display_data"
    },
    {
     "data": {
      "application/vnd.jupyter.widget-view+json": {
       "model_id": "cd7f4d13da1641f196014bfa461bdeac",
       "version_major": 2,
       "version_minor": 0
      },
      "text/plain": [
       "  0%|          | 0/4 [00:00<?, ?it/s]"
      ]
     },
     "metadata": {},
     "output_type": "display_data"
    },
    {
     "data": {
      "application/vnd.jupyter.widget-view+json": {
       "model_id": "265d34486b6044168381155abfff52dc",
       "version_major": 2,
       "version_minor": 0
      },
      "text/plain": [
       "  0%|          | 0/4 [00:00<?, ?it/s]"
      ]
     },
     "metadata": {},
     "output_type": "display_data"
    },
    {
     "data": {
      "application/vnd.jupyter.widget-view+json": {
       "model_id": "2fc5913bbffa4ceda9487cedba747cde",
       "version_major": 2,
       "version_minor": 0
      },
      "text/plain": [
       "  0%|          | 0/4 [00:00<?, ?it/s]"
      ]
     },
     "metadata": {},
     "output_type": "display_data"
    },
    {
     "data": {
      "application/vnd.jupyter.widget-view+json": {
       "model_id": "720a285389f649c78459d3995e4b515e",
       "version_major": 2,
       "version_minor": 0
      },
      "text/plain": [
       "  0%|          | 0/4 [00:00<?, ?it/s]"
      ]
     },
     "metadata": {},
     "output_type": "display_data"
    },
    {
     "data": {
      "application/vnd.jupyter.widget-view+json": {
       "model_id": "6b5287a9c2d9442c9868c01d2b5cba54",
       "version_major": 2,
       "version_minor": 0
      },
      "text/plain": [
       "  0%|          | 0/4 [00:00<?, ?it/s]"
      ]
     },
     "metadata": {},
     "output_type": "display_data"
    },
    {
     "data": {
      "application/vnd.jupyter.widget-view+json": {
       "model_id": "2a41fee6dbed4dd691d487eabf4c3ff4",
       "version_major": 2,
       "version_minor": 0
      },
      "text/plain": [
       "  0%|          | 0/4 [00:00<?, ?it/s]"
      ]
     },
     "metadata": {},
     "output_type": "display_data"
    },
    {
     "data": {
      "application/vnd.jupyter.widget-view+json": {
       "model_id": "97461c4fe9964cd29f1247a2c93e23e9",
       "version_major": 2,
       "version_minor": 0
      },
      "text/plain": [
       "  0%|          | 0/4 [00:00<?, ?it/s]"
      ]
     },
     "metadata": {},
     "output_type": "display_data"
    },
    {
     "data": {
      "application/vnd.jupyter.widget-view+json": {
       "model_id": "8aafa297563a4f99b951514f2ebaec5f",
       "version_major": 2,
       "version_minor": 0
      },
      "text/plain": [
       "  0%|          | 0/4 [00:00<?, ?it/s]"
      ]
     },
     "metadata": {},
     "output_type": "display_data"
    },
    {
     "data": {
      "application/vnd.jupyter.widget-view+json": {
       "model_id": "98ba1f63e42c4a4d8de296ab3910a1f7",
       "version_major": 2,
       "version_minor": 0
      },
      "text/plain": [
       "  0%|          | 0/4 [00:00<?, ?it/s]"
      ]
     },
     "metadata": {},
     "output_type": "display_data"
    },
    {
     "data": {
      "application/vnd.jupyter.widget-view+json": {
       "model_id": "3db1129f6eb24e8aac886139b903ab80",
       "version_major": 2,
       "version_minor": 0
      },
      "text/plain": [
       "  0%|          | 0/4 [00:00<?, ?it/s]"
      ]
     },
     "metadata": {},
     "output_type": "display_data"
    },
    {
     "data": {
      "application/vnd.jupyter.widget-view+json": {
       "model_id": "44f3b0cba28847dbb163da007999b792",
       "version_major": 2,
       "version_minor": 0
      },
      "text/plain": [
       "  0%|          | 0/4 [00:00<?, ?it/s]"
      ]
     },
     "metadata": {},
     "output_type": "display_data"
    },
    {
     "data": {
      "application/vnd.jupyter.widget-view+json": {
       "model_id": "44593619b6e94c03932ae03b082cb352",
       "version_major": 2,
       "version_minor": 0
      },
      "text/plain": [
       "  0%|          | 0/4 [00:00<?, ?it/s]"
      ]
     },
     "metadata": {},
     "output_type": "display_data"
    },
    {
     "data": {
      "application/vnd.jupyter.widget-view+json": {
       "model_id": "6c36909bb024414eb978e82a9dd7b001",
       "version_major": 2,
       "version_minor": 0
      },
      "text/plain": [
       "  0%|          | 0/4 [00:00<?, ?it/s]"
      ]
     },
     "metadata": {},
     "output_type": "display_data"
    },
    {
     "data": {
      "application/vnd.jupyter.widget-view+json": {
       "model_id": "7210ee4ffa4d4a309c6fa2bbf82289b8",
       "version_major": 2,
       "version_minor": 0
      },
      "text/plain": [
       "  0%|          | 0/4 [00:00<?, ?it/s]"
      ]
     },
     "metadata": {},
     "output_type": "display_data"
    },
    {
     "data": {
      "application/vnd.jupyter.widget-view+json": {
       "model_id": "141da2a4413841aeb79ac2c81cf62648",
       "version_major": 2,
       "version_minor": 0
      },
      "text/plain": [
       "  0%|          | 0/4 [00:00<?, ?it/s]"
      ]
     },
     "metadata": {},
     "output_type": "display_data"
    },
    {
     "data": {
      "application/vnd.jupyter.widget-view+json": {
       "model_id": "c7c27a0bb20e402da2eade53d3d1acee",
       "version_major": 2,
       "version_minor": 0
      },
      "text/plain": [
       "  0%|          | 0/4 [00:00<?, ?it/s]"
      ]
     },
     "metadata": {},
     "output_type": "display_data"
    },
    {
     "data": {
      "application/vnd.jupyter.widget-view+json": {
       "model_id": "3d3f32bfd92c4b9bb3fa7cbb1c550a35",
       "version_major": 2,
       "version_minor": 0
      },
      "text/plain": [
       "  0%|          | 0/4 [00:00<?, ?it/s]"
      ]
     },
     "metadata": {},
     "output_type": "display_data"
    },
    {
     "data": {
      "application/vnd.jupyter.widget-view+json": {
       "model_id": "bd6d683c8aa740eeac26466540135b88",
       "version_major": 2,
       "version_minor": 0
      },
      "text/plain": [
       "  0%|          | 0/4 [00:00<?, ?it/s]"
      ]
     },
     "metadata": {},
     "output_type": "display_data"
    },
    {
     "data": {
      "application/vnd.jupyter.widget-view+json": {
       "model_id": "3cb76d5954b14de5b952ce05e4c7fe14",
       "version_major": 2,
       "version_minor": 0
      },
      "text/plain": [
       "  0%|          | 0/4 [00:00<?, ?it/s]"
      ]
     },
     "metadata": {},
     "output_type": "display_data"
    },
    {
     "data": {
      "application/vnd.jupyter.widget-view+json": {
       "model_id": "f7ecdf5d8fdc41449cb54a42a3962cd7",
       "version_major": 2,
       "version_minor": 0
      },
      "text/plain": [
       "  0%|          | 0/4 [00:00<?, ?it/s]"
      ]
     },
     "metadata": {},
     "output_type": "display_data"
    },
    {
     "data": {
      "application/vnd.jupyter.widget-view+json": {
       "model_id": "67b31ce070cc412ea5bcb80e9f8142dc",
       "version_major": 2,
       "version_minor": 0
      },
      "text/plain": [
       "  0%|          | 0/4 [00:00<?, ?it/s]"
      ]
     },
     "metadata": {},
     "output_type": "display_data"
    },
    {
     "data": {
      "application/vnd.jupyter.widget-view+json": {
       "model_id": "8883240b5a3446b7bccb345135117b50",
       "version_major": 2,
       "version_minor": 0
      },
      "text/plain": [
       "  0%|          | 0/4 [00:00<?, ?it/s]"
      ]
     },
     "metadata": {},
     "output_type": "display_data"
    },
    {
     "data": {
      "application/vnd.jupyter.widget-view+json": {
       "model_id": "6de4277f68ae4e3c989e2d15564ce5cc",
       "version_major": 2,
       "version_minor": 0
      },
      "text/plain": [
       "  0%|          | 0/4 [00:00<?, ?it/s]"
      ]
     },
     "metadata": {},
     "output_type": "display_data"
    },
    {
     "data": {
      "application/vnd.jupyter.widget-view+json": {
       "model_id": "a05b1abfff554de1908ed9dbf6b54d1b",
       "version_major": 2,
       "version_minor": 0
      },
      "text/plain": [
       "  0%|          | 0/4 [00:00<?, ?it/s]"
      ]
     },
     "metadata": {},
     "output_type": "display_data"
    },
    {
     "data": {
      "application/vnd.jupyter.widget-view+json": {
       "model_id": "dca5f580714644259e9d88f3fe958b36",
       "version_major": 2,
       "version_minor": 0
      },
      "text/plain": [
       "  0%|          | 0/4 [00:00<?, ?it/s]"
      ]
     },
     "metadata": {},
     "output_type": "display_data"
    },
    {
     "data": {
      "application/vnd.jupyter.widget-view+json": {
       "model_id": "40251fd2359b4449a248468190a0b684",
       "version_major": 2,
       "version_minor": 0
      },
      "text/plain": [
       "  0%|          | 0/4 [00:00<?, ?it/s]"
      ]
     },
     "metadata": {},
     "output_type": "display_data"
    },
    {
     "data": {
      "application/vnd.jupyter.widget-view+json": {
       "model_id": "97af5914e3e84a0183feea8a2bbfa3d8",
       "version_major": 2,
       "version_minor": 0
      },
      "text/plain": [
       "  0%|          | 0/4 [00:00<?, ?it/s]"
      ]
     },
     "metadata": {},
     "output_type": "display_data"
    },
    {
     "data": {
      "application/vnd.jupyter.widget-view+json": {
       "model_id": "47dcfa0417dd47ac93360cdbec68d84a",
       "version_major": 2,
       "version_minor": 0
      },
      "text/plain": [
       "  0%|          | 0/4 [00:00<?, ?it/s]"
      ]
     },
     "metadata": {},
     "output_type": "display_data"
    },
    {
     "data": {
      "application/vnd.jupyter.widget-view+json": {
       "model_id": "fdc0b32b3a2245668a8cbce8f712c46b",
       "version_major": 2,
       "version_minor": 0
      },
      "text/plain": [
       "  0%|          | 0/4 [00:00<?, ?it/s]"
      ]
     },
     "metadata": {},
     "output_type": "display_data"
    },
    {
     "data": {
      "application/vnd.jupyter.widget-view+json": {
       "model_id": "053599cc437c455e8eae20d78d02ab61",
       "version_major": 2,
       "version_minor": 0
      },
      "text/plain": [
       "  0%|          | 0/4 [00:00<?, ?it/s]"
      ]
     },
     "metadata": {},
     "output_type": "display_data"
    },
    {
     "data": {
      "application/vnd.jupyter.widget-view+json": {
       "model_id": "f1a4f398436f451b921b1fe0f3c30c31",
       "version_major": 2,
       "version_minor": 0
      },
      "text/plain": [
       "  0%|          | 0/4 [00:00<?, ?it/s]"
      ]
     },
     "metadata": {},
     "output_type": "display_data"
    },
    {
     "data": {
      "application/vnd.jupyter.widget-view+json": {
       "model_id": "a8ad56b64efa4235889e2b1fb5e08081",
       "version_major": 2,
       "version_minor": 0
      },
      "text/plain": [
       "  0%|          | 0/4 [00:00<?, ?it/s]"
      ]
     },
     "metadata": {},
     "output_type": "display_data"
    },
    {
     "data": {
      "application/vnd.jupyter.widget-view+json": {
       "model_id": "627c6ff39dc9403a856da3b6e74c5ad2",
       "version_major": 2,
       "version_minor": 0
      },
      "text/plain": [
       "  0%|          | 0/4 [00:00<?, ?it/s]"
      ]
     },
     "metadata": {},
     "output_type": "display_data"
    },
    {
     "data": {
      "application/vnd.jupyter.widget-view+json": {
       "model_id": "2d0a030a3a84440196e9fabf70971a46",
       "version_major": 2,
       "version_minor": 0
      },
      "text/plain": [
       "  0%|          | 0/4 [00:00<?, ?it/s]"
      ]
     },
     "metadata": {},
     "output_type": "display_data"
    },
    {
     "data": {
      "application/vnd.jupyter.widget-view+json": {
       "model_id": "13b37b5c699a44ed866836dc99bd635b",
       "version_major": 2,
       "version_minor": 0
      },
      "text/plain": [
       "  0%|          | 0/4 [00:00<?, ?it/s]"
      ]
     },
     "metadata": {},
     "output_type": "display_data"
    },
    {
     "data": {
      "application/vnd.jupyter.widget-view+json": {
       "model_id": "72fdd4c2c4a2406384b7eabc84d4f767",
       "version_major": 2,
       "version_minor": 0
      },
      "text/plain": [
       "  0%|          | 0/4 [00:00<?, ?it/s]"
      ]
     },
     "metadata": {},
     "output_type": "display_data"
    },
    {
     "data": {
      "application/vnd.jupyter.widget-view+json": {
       "model_id": "cf44764b825b420195bb59c71a64bed3",
       "version_major": 2,
       "version_minor": 0
      },
      "text/plain": [
       "  0%|          | 0/4 [00:00<?, ?it/s]"
      ]
     },
     "metadata": {},
     "output_type": "display_data"
    },
    {
     "data": {
      "application/vnd.jupyter.widget-view+json": {
       "model_id": "8a7c3a4521b44a4a8e46a6811b53a3ed",
       "version_major": 2,
       "version_minor": 0
      },
      "text/plain": [
       "  0%|          | 0/4 [00:00<?, ?it/s]"
      ]
     },
     "metadata": {},
     "output_type": "display_data"
    },
    {
     "data": {
      "application/vnd.jupyter.widget-view+json": {
       "model_id": "c07c6662219a425d90caac8e06b26701",
       "version_major": 2,
       "version_minor": 0
      },
      "text/plain": [
       "  0%|          | 0/4 [00:00<?, ?it/s]"
      ]
     },
     "metadata": {},
     "output_type": "display_data"
    },
    {
     "data": {
      "application/vnd.jupyter.widget-view+json": {
       "model_id": "327674cf1a4a4e5a9c068190ddf6dfa9",
       "version_major": 2,
       "version_minor": 0
      },
      "text/plain": [
       "  0%|          | 0/4 [00:00<?, ?it/s]"
      ]
     },
     "metadata": {},
     "output_type": "display_data"
    },
    {
     "data": {
      "application/vnd.jupyter.widget-view+json": {
       "model_id": "7b0719a2b0e846e38d0b7215b44e64c2",
       "version_major": 2,
       "version_minor": 0
      },
      "text/plain": [
       "  0%|          | 0/4 [00:00<?, ?it/s]"
      ]
     },
     "metadata": {},
     "output_type": "display_data"
    },
    {
     "data": {
      "application/vnd.jupyter.widget-view+json": {
       "model_id": "6fa90c319a5e4cea9084d8996d95af4f",
       "version_major": 2,
       "version_minor": 0
      },
      "text/plain": [
       "  0%|          | 0/4 [00:00<?, ?it/s]"
      ]
     },
     "metadata": {},
     "output_type": "display_data"
    },
    {
     "data": {
      "application/vnd.jupyter.widget-view+json": {
       "model_id": "9c1d2e36b561447a850e1aa571260c8e",
       "version_major": 2,
       "version_minor": 0
      },
      "text/plain": [
       "  0%|          | 0/4 [00:00<?, ?it/s]"
      ]
     },
     "metadata": {},
     "output_type": "display_data"
    },
    {
     "data": {
      "application/vnd.jupyter.widget-view+json": {
       "model_id": "75adf951f120419e9c435535122f62f2",
       "version_major": 2,
       "version_minor": 0
      },
      "text/plain": [
       "  0%|          | 0/4 [00:00<?, ?it/s]"
      ]
     },
     "metadata": {},
     "output_type": "display_data"
    },
    {
     "data": {
      "application/vnd.jupyter.widget-view+json": {
       "model_id": "a981109e12cf453883ccd9967902e4bc",
       "version_major": 2,
       "version_minor": 0
      },
      "text/plain": [
       "  0%|          | 0/4 [00:00<?, ?it/s]"
      ]
     },
     "metadata": {},
     "output_type": "display_data"
    },
    {
     "data": {
      "application/vnd.jupyter.widget-view+json": {
       "model_id": "64bda3ac14fb41d5bd527365fc7f75b2",
       "version_major": 2,
       "version_minor": 0
      },
      "text/plain": [
       "  0%|          | 0/4 [00:00<?, ?it/s]"
      ]
     },
     "metadata": {},
     "output_type": "display_data"
    },
    {
     "data": {
      "application/vnd.jupyter.widget-view+json": {
       "model_id": "3d79aca95a63481aa7e46e1056753968",
       "version_major": 2,
       "version_minor": 0
      },
      "text/plain": [
       "  0%|          | 0/4 [00:00<?, ?it/s]"
      ]
     },
     "metadata": {},
     "output_type": "display_data"
    },
    {
     "data": {
      "application/vnd.jupyter.widget-view+json": {
       "model_id": "73ccbf0022d74ccfa6f4548d4ba0de5f",
       "version_major": 2,
       "version_minor": 0
      },
      "text/plain": [
       "  0%|          | 0/4 [00:00<?, ?it/s]"
      ]
     },
     "metadata": {},
     "output_type": "display_data"
    },
    {
     "data": {
      "application/vnd.jupyter.widget-view+json": {
       "model_id": "6b88d5ac9f6242e9b8705c0d60c1e9e2",
       "version_major": 2,
       "version_minor": 0
      },
      "text/plain": [
       "  0%|          | 0/4 [00:00<?, ?it/s]"
      ]
     },
     "metadata": {},
     "output_type": "display_data"
    },
    {
     "data": {
      "application/vnd.jupyter.widget-view+json": {
       "model_id": "13ae365787b04ec78eb332c335f0498b",
       "version_major": 2,
       "version_minor": 0
      },
      "text/plain": [
       "  0%|          | 0/4 [00:00<?, ?it/s]"
      ]
     },
     "metadata": {},
     "output_type": "display_data"
    },
    {
     "data": {
      "application/vnd.jupyter.widget-view+json": {
       "model_id": "f228ffef35ad4a72bc2b8abbe01cfeb3",
       "version_major": 2,
       "version_minor": 0
      },
      "text/plain": [
       "  0%|          | 0/4 [00:00<?, ?it/s]"
      ]
     },
     "metadata": {},
     "output_type": "display_data"
    },
    {
     "data": {
      "application/vnd.jupyter.widget-view+json": {
       "model_id": "b8977f6c9b4946fd87478b95f7f38513",
       "version_major": 2,
       "version_minor": 0
      },
      "text/plain": [
       "  0%|          | 0/4 [00:00<?, ?it/s]"
      ]
     },
     "metadata": {},
     "output_type": "display_data"
    },
    {
     "data": {
      "application/vnd.jupyter.widget-view+json": {
       "model_id": "7371ebe775cd41acb1e31c0de2462e28",
       "version_major": 2,
       "version_minor": 0
      },
      "text/plain": [
       "  0%|          | 0/4 [00:00<?, ?it/s]"
      ]
     },
     "metadata": {},
     "output_type": "display_data"
    },
    {
     "data": {
      "application/vnd.jupyter.widget-view+json": {
       "model_id": "10f136cbeb5149aab35ad73996793e4a",
       "version_major": 2,
       "version_minor": 0
      },
      "text/plain": [
       "  0%|          | 0/4 [00:00<?, ?it/s]"
      ]
     },
     "metadata": {},
     "output_type": "display_data"
    },
    {
     "data": {
      "application/vnd.jupyter.widget-view+json": {
       "model_id": "c1506e5119e84a25a339dc75df142c3e",
       "version_major": 2,
       "version_minor": 0
      },
      "text/plain": [
       "  0%|          | 0/4 [00:00<?, ?it/s]"
      ]
     },
     "metadata": {},
     "output_type": "display_data"
    },
    {
     "data": {
      "application/vnd.jupyter.widget-view+json": {
       "model_id": "fbefeb929b9346fbb0ebf924d9a25216",
       "version_major": 2,
       "version_minor": 0
      },
      "text/plain": [
       "  0%|          | 0/4 [00:00<?, ?it/s]"
      ]
     },
     "metadata": {},
     "output_type": "display_data"
    },
    {
     "data": {
      "application/vnd.jupyter.widget-view+json": {
       "model_id": "a15971dd6a3941cb9998d0e6b3e56371",
       "version_major": 2,
       "version_minor": 0
      },
      "text/plain": [
       "  0%|          | 0/4 [00:00<?, ?it/s]"
      ]
     },
     "metadata": {},
     "output_type": "display_data"
    },
    {
     "data": {
      "application/vnd.jupyter.widget-view+json": {
       "model_id": "4d17963757fc494c9c508c0ae775ae53",
       "version_major": 2,
       "version_minor": 0
      },
      "text/plain": [
       "  0%|          | 0/4 [00:00<?, ?it/s]"
      ]
     },
     "metadata": {},
     "output_type": "display_data"
    },
    {
     "data": {
      "application/vnd.jupyter.widget-view+json": {
       "model_id": "db80b6785c0041d08c32850232bcf37f",
       "version_major": 2,
       "version_minor": 0
      },
      "text/plain": [
       "  0%|          | 0/4 [00:00<?, ?it/s]"
      ]
     },
     "metadata": {},
     "output_type": "display_data"
    },
    {
     "data": {
      "application/vnd.jupyter.widget-view+json": {
       "model_id": "42954b500ecf41c4a2d2404167d74ae4",
       "version_major": 2,
       "version_minor": 0
      },
      "text/plain": [
       "  0%|          | 0/4 [00:00<?, ?it/s]"
      ]
     },
     "metadata": {},
     "output_type": "display_data"
    },
    {
     "data": {
      "application/vnd.jupyter.widget-view+json": {
       "model_id": "aaf45b9bb27849a4a739d599ee3ae0c6",
       "version_major": 2,
       "version_minor": 0
      },
      "text/plain": [
       "  0%|          | 0/4 [00:00<?, ?it/s]"
      ]
     },
     "metadata": {},
     "output_type": "display_data"
    },
    {
     "data": {
      "application/vnd.jupyter.widget-view+json": {
       "model_id": "a304032956aa40dcab65da8544edebeb",
       "version_major": 2,
       "version_minor": 0
      },
      "text/plain": [
       "  0%|          | 0/4 [00:00<?, ?it/s]"
      ]
     },
     "metadata": {},
     "output_type": "display_data"
    },
    {
     "data": {
      "application/vnd.jupyter.widget-view+json": {
       "model_id": "c695433b8a3d49f68bbde6979f9e2aa2",
       "version_major": 2,
       "version_minor": 0
      },
      "text/plain": [
       "  0%|          | 0/4 [00:00<?, ?it/s]"
      ]
     },
     "metadata": {},
     "output_type": "display_data"
    },
    {
     "data": {
      "application/vnd.jupyter.widget-view+json": {
       "model_id": "950ad8db3d5842aba496b20baae4a955",
       "version_major": 2,
       "version_minor": 0
      },
      "text/plain": [
       "  0%|          | 0/4 [00:00<?, ?it/s]"
      ]
     },
     "metadata": {},
     "output_type": "display_data"
    },
    {
     "data": {
      "application/vnd.jupyter.widget-view+json": {
       "model_id": "b7d6f3be0cc349ae861af504ffb831aa",
       "version_major": 2,
       "version_minor": 0
      },
      "text/plain": [
       "  0%|          | 0/4 [00:00<?, ?it/s]"
      ]
     },
     "metadata": {},
     "output_type": "display_data"
    },
    {
     "data": {
      "application/vnd.jupyter.widget-view+json": {
       "model_id": "d3a814094a4444d88c584ee1f74c9b00",
       "version_major": 2,
       "version_minor": 0
      },
      "text/plain": [
       "  0%|          | 0/4 [00:00<?, ?it/s]"
      ]
     },
     "metadata": {},
     "output_type": "display_data"
    },
    {
     "data": {
      "application/vnd.jupyter.widget-view+json": {
       "model_id": "fe8e2430de3c4d38b3b74f532b258b84",
       "version_major": 2,
       "version_minor": 0
      },
      "text/plain": [
       "  0%|          | 0/4 [00:00<?, ?it/s]"
      ]
     },
     "metadata": {},
     "output_type": "display_data"
    },
    {
     "data": {
      "application/vnd.jupyter.widget-view+json": {
       "model_id": "4224e5fad188429fb071b629c1855630",
       "version_major": 2,
       "version_minor": 0
      },
      "text/plain": [
       "  0%|          | 0/4 [00:00<?, ?it/s]"
      ]
     },
     "metadata": {},
     "output_type": "display_data"
    },
    {
     "data": {
      "application/vnd.jupyter.widget-view+json": {
       "model_id": "be6e6758686d4311bdf6ec3c04bf7cda",
       "version_major": 2,
       "version_minor": 0
      },
      "text/plain": [
       "  0%|          | 0/4 [00:00<?, ?it/s]"
      ]
     },
     "metadata": {},
     "output_type": "display_data"
    },
    {
     "data": {
      "application/vnd.jupyter.widget-view+json": {
       "model_id": "01f96ef1dd4f404382ade6fe538fa9e0",
       "version_major": 2,
       "version_minor": 0
      },
      "text/plain": [
       "  0%|          | 0/4 [00:00<?, ?it/s]"
      ]
     },
     "metadata": {},
     "output_type": "display_data"
    },
    {
     "data": {
      "application/vnd.jupyter.widget-view+json": {
       "model_id": "4d8c6b7a7bea4cfcba2d6a0aaf174226",
       "version_major": 2,
       "version_minor": 0
      },
      "text/plain": [
       "  0%|          | 0/4 [00:00<?, ?it/s]"
      ]
     },
     "metadata": {},
     "output_type": "display_data"
    },
    {
     "data": {
      "application/vnd.jupyter.widget-view+json": {
       "model_id": "8db1f5574b674d7da06c532b8a4af456",
       "version_major": 2,
       "version_minor": 0
      },
      "text/plain": [
       "  0%|          | 0/4 [00:00<?, ?it/s]"
      ]
     },
     "metadata": {},
     "output_type": "display_data"
    },
    {
     "data": {
      "application/vnd.jupyter.widget-view+json": {
       "model_id": "0d7e967ca80748c5918a00f6e936037a",
       "version_major": 2,
       "version_minor": 0
      },
      "text/plain": [
       "  0%|          | 0/4 [00:00<?, ?it/s]"
      ]
     },
     "metadata": {},
     "output_type": "display_data"
    },
    {
     "data": {
      "application/vnd.jupyter.widget-view+json": {
       "model_id": "0219659b0ed44c2589d8fd6f3689b351",
       "version_major": 2,
       "version_minor": 0
      },
      "text/plain": [
       "  0%|          | 0/4 [00:00<?, ?it/s]"
      ]
     },
     "metadata": {},
     "output_type": "display_data"
    },
    {
     "data": {
      "application/vnd.jupyter.widget-view+json": {
       "model_id": "38fe07a77be34b14bb19816b47a4b01d",
       "version_major": 2,
       "version_minor": 0
      },
      "text/plain": [
       "  0%|          | 0/4 [00:00<?, ?it/s]"
      ]
     },
     "metadata": {},
     "output_type": "display_data"
    },
    {
     "data": {
      "application/vnd.jupyter.widget-view+json": {
       "model_id": "77bd0ae6315a4579a78564dc72bcfeea",
       "version_major": 2,
       "version_minor": 0
      },
      "text/plain": [
       "  0%|          | 0/4 [00:00<?, ?it/s]"
      ]
     },
     "metadata": {},
     "output_type": "display_data"
    },
    {
     "data": {
      "application/vnd.jupyter.widget-view+json": {
       "model_id": "185397e9882d4147974fa16e9f1fad8a",
       "version_major": 2,
       "version_minor": 0
      },
      "text/plain": [
       "  0%|          | 0/4 [00:00<?, ?it/s]"
      ]
     },
     "metadata": {},
     "output_type": "display_data"
    },
    {
     "data": {
      "application/vnd.jupyter.widget-view+json": {
       "model_id": "1fdf767f897448568f3fd9c8e0b6718a",
       "version_major": 2,
       "version_minor": 0
      },
      "text/plain": [
       "  0%|          | 0/4 [00:00<?, ?it/s]"
      ]
     },
     "metadata": {},
     "output_type": "display_data"
    },
    {
     "data": {
      "application/vnd.jupyter.widget-view+json": {
       "model_id": "fc500da576564e0cb2a5ab3c7da88b6e",
       "version_major": 2,
       "version_minor": 0
      },
      "text/plain": [
       "  0%|          | 0/4 [00:00<?, ?it/s]"
      ]
     },
     "metadata": {},
     "output_type": "display_data"
    },
    {
     "data": {
      "application/vnd.jupyter.widget-view+json": {
       "model_id": "00bb33de5176456a91e99d47721bacea",
       "version_major": 2,
       "version_minor": 0
      },
      "text/plain": [
       "  0%|          | 0/4 [00:00<?, ?it/s]"
      ]
     },
     "metadata": {},
     "output_type": "display_data"
    },
    {
     "data": {
      "application/vnd.jupyter.widget-view+json": {
       "model_id": "f43d6331030f45639753fa8651f52754",
       "version_major": 2,
       "version_minor": 0
      },
      "text/plain": [
       "  0%|          | 0/4 [00:00<?, ?it/s]"
      ]
     },
     "metadata": {},
     "output_type": "display_data"
    },
    {
     "data": {
      "application/vnd.jupyter.widget-view+json": {
       "model_id": "d64648311f554b919b442a27d75fcd1b",
       "version_major": 2,
       "version_minor": 0
      },
      "text/plain": [
       "  0%|          | 0/4 [00:00<?, ?it/s]"
      ]
     },
     "metadata": {},
     "output_type": "display_data"
    },
    {
     "data": {
      "application/vnd.jupyter.widget-view+json": {
       "model_id": "c6434044979f4b129d453a8d07ea4af5",
       "version_major": 2,
       "version_minor": 0
      },
      "text/plain": [
       "  0%|          | 0/4 [00:00<?, ?it/s]"
      ]
     },
     "metadata": {},
     "output_type": "display_data"
    },
    {
     "data": {
      "application/vnd.jupyter.widget-view+json": {
       "model_id": "005fa94fb377475ca0c59ecca91d94f8",
       "version_major": 2,
       "version_minor": 0
      },
      "text/plain": [
       "  0%|          | 0/4 [00:00<?, ?it/s]"
      ]
     },
     "metadata": {},
     "output_type": "display_data"
    },
    {
     "data": {
      "application/vnd.jupyter.widget-view+json": {
       "model_id": "9745ea99923f459691eb3d76f752358c",
       "version_major": 2,
       "version_minor": 0
      },
      "text/plain": [
       "  0%|          | 0/4 [00:00<?, ?it/s]"
      ]
     },
     "metadata": {},
     "output_type": "display_data"
    },
    {
     "data": {
      "application/vnd.jupyter.widget-view+json": {
       "model_id": "4b433ef0637445208585f78ad6effef8",
       "version_major": 2,
       "version_minor": 0
      },
      "text/plain": [
       "  0%|          | 0/4 [00:00<?, ?it/s]"
      ]
     },
     "metadata": {},
     "output_type": "display_data"
    },
    {
     "data": {
      "application/vnd.jupyter.widget-view+json": {
       "model_id": "eb1a6be871a3476f99474e6fc8edb2ef",
       "version_major": 2,
       "version_minor": 0
      },
      "text/plain": [
       "  0%|          | 0/4 [00:00<?, ?it/s]"
      ]
     },
     "metadata": {},
     "output_type": "display_data"
    },
    {
     "data": {
      "application/vnd.jupyter.widget-view+json": {
       "model_id": "9ac5cb3888b04865af10e5cdc8df19b4",
       "version_major": 2,
       "version_minor": 0
      },
      "text/plain": [
       "  0%|          | 0/4 [00:00<?, ?it/s]"
      ]
     },
     "metadata": {},
     "output_type": "display_data"
    },
    {
     "data": {
      "application/vnd.jupyter.widget-view+json": {
       "model_id": "ac68e8f2aab9482db46881a0a9bf6080",
       "version_major": 2,
       "version_minor": 0
      },
      "text/plain": [
       "  0%|          | 0/4 [00:00<?, ?it/s]"
      ]
     },
     "metadata": {},
     "output_type": "display_data"
    },
    {
     "data": {
      "application/vnd.jupyter.widget-view+json": {
       "model_id": "105bfcf9b2d94f07991fbdb88f428f9c",
       "version_major": 2,
       "version_minor": 0
      },
      "text/plain": [
       "  0%|          | 0/4 [00:00<?, ?it/s]"
      ]
     },
     "metadata": {},
     "output_type": "display_data"
    },
    {
     "data": {
      "application/vnd.jupyter.widget-view+json": {
       "model_id": "22efc9f0e13c400089b40006c5a1398d",
       "version_major": 2,
       "version_minor": 0
      },
      "text/plain": [
       "  0%|          | 0/4 [00:00<?, ?it/s]"
      ]
     },
     "metadata": {},
     "output_type": "display_data"
    },
    {
     "data": {
      "application/vnd.jupyter.widget-view+json": {
       "model_id": "1aa6dbb98df14534906a7a45db6f9453",
       "version_major": 2,
       "version_minor": 0
      },
      "text/plain": [
       "  0%|          | 0/4 [00:00<?, ?it/s]"
      ]
     },
     "metadata": {},
     "output_type": "display_data"
    },
    {
     "data": {
      "application/vnd.jupyter.widget-view+json": {
       "model_id": "51f8c691cb444436adaf88234406ce6a",
       "version_major": 2,
       "version_minor": 0
      },
      "text/plain": [
       "  0%|          | 0/4 [00:00<?, ?it/s]"
      ]
     },
     "metadata": {},
     "output_type": "display_data"
    },
    {
     "data": {
      "application/vnd.jupyter.widget-view+json": {
       "model_id": "1b12ed37408c4428a224cd340d39e269",
       "version_major": 2,
       "version_minor": 0
      },
      "text/plain": [
       "  0%|          | 0/4 [00:00<?, ?it/s]"
      ]
     },
     "metadata": {},
     "output_type": "display_data"
    },
    {
     "data": {
      "application/vnd.jupyter.widget-view+json": {
       "model_id": "5aa98dd3ff0e4baead80cbe4adabce16",
       "version_major": 2,
       "version_minor": 0
      },
      "text/plain": [
       "  0%|          | 0/4 [00:00<?, ?it/s]"
      ]
     },
     "metadata": {},
     "output_type": "display_data"
    },
    {
     "data": {
      "application/vnd.jupyter.widget-view+json": {
       "model_id": "3d790284524b4f7eae947a15e84001f3",
       "version_major": 2,
       "version_minor": 0
      },
      "text/plain": [
       "  0%|          | 0/4 [00:00<?, ?it/s]"
      ]
     },
     "metadata": {},
     "output_type": "display_data"
    },
    {
     "data": {
      "application/vnd.jupyter.widget-view+json": {
       "model_id": "f4a3c3e1a9104306b68223d686baa2bd",
       "version_major": 2,
       "version_minor": 0
      },
      "text/plain": [
       "  0%|          | 0/4 [00:00<?, ?it/s]"
      ]
     },
     "metadata": {},
     "output_type": "display_data"
    },
    {
     "data": {
      "application/vnd.jupyter.widget-view+json": {
       "model_id": "056d81bf00484bd5b7237bfc583b1fe5",
       "version_major": 2,
       "version_minor": 0
      },
      "text/plain": [
       "  0%|          | 0/4 [00:00<?, ?it/s]"
      ]
     },
     "metadata": {},
     "output_type": "display_data"
    },
    {
     "data": {
      "application/vnd.jupyter.widget-view+json": {
       "model_id": "8a4629d0f5b8495a9f897a82542db6a5",
       "version_major": 2,
       "version_minor": 0
      },
      "text/plain": [
       "  0%|          | 0/4 [00:00<?, ?it/s]"
      ]
     },
     "metadata": {},
     "output_type": "display_data"
    },
    {
     "data": {
      "application/vnd.jupyter.widget-view+json": {
       "model_id": "15e4f02288564dee9cfaf399b623fb47",
       "version_major": 2,
       "version_minor": 0
      },
      "text/plain": [
       "  0%|          | 0/4 [00:00<?, ?it/s]"
      ]
     },
     "metadata": {},
     "output_type": "display_data"
    },
    {
     "data": {
      "application/vnd.jupyter.widget-view+json": {
       "model_id": "3e575f14241542648a1f37270121128d",
       "version_major": 2,
       "version_minor": 0
      },
      "text/plain": [
       "  0%|          | 0/4 [00:00<?, ?it/s]"
      ]
     },
     "metadata": {},
     "output_type": "display_data"
    },
    {
     "data": {
      "application/vnd.jupyter.widget-view+json": {
       "model_id": "3202feced20242a091e0b40588fc037b",
       "version_major": 2,
       "version_minor": 0
      },
      "text/plain": [
       "  0%|          | 0/4 [00:00<?, ?it/s]"
      ]
     },
     "metadata": {},
     "output_type": "display_data"
    },
    {
     "data": {
      "application/vnd.jupyter.widget-view+json": {
       "model_id": "3b7869d6ca104d3380069fc7e5edc189",
       "version_major": 2,
       "version_minor": 0
      },
      "text/plain": [
       "  0%|          | 0/4 [00:00<?, ?it/s]"
      ]
     },
     "metadata": {},
     "output_type": "display_data"
    },
    {
     "data": {
      "application/vnd.jupyter.widget-view+json": {
       "model_id": "f081effd4b8a4f85a46b6b80f0da42c4",
       "version_major": 2,
       "version_minor": 0
      },
      "text/plain": [
       "  0%|          | 0/4 [00:00<?, ?it/s]"
      ]
     },
     "metadata": {},
     "output_type": "display_data"
    },
    {
     "data": {
      "application/vnd.jupyter.widget-view+json": {
       "model_id": "92b23d97b10547faa2be2c6062d56961",
       "version_major": 2,
       "version_minor": 0
      },
      "text/plain": [
       "  0%|          | 0/4 [00:00<?, ?it/s]"
      ]
     },
     "metadata": {},
     "output_type": "display_data"
    },
    {
     "data": {
      "application/vnd.jupyter.widget-view+json": {
       "model_id": "dfa8eac02a9d482abbdb45dd7fccec94",
       "version_major": 2,
       "version_minor": 0
      },
      "text/plain": [
       "  0%|          | 0/4 [00:00<?, ?it/s]"
      ]
     },
     "metadata": {},
     "output_type": "display_data"
    },
    {
     "data": {
      "application/vnd.jupyter.widget-view+json": {
       "model_id": "6613c111bb7140e3a7b87c54c53c7529",
       "version_major": 2,
       "version_minor": 0
      },
      "text/plain": [
       "  0%|          | 0/4 [00:00<?, ?it/s]"
      ]
     },
     "metadata": {},
     "output_type": "display_data"
    },
    {
     "data": {
      "application/vnd.jupyter.widget-view+json": {
       "model_id": "99af6dba47794c8188587d863a9e21fb",
       "version_major": 2,
       "version_minor": 0
      },
      "text/plain": [
       "  0%|          | 0/4 [00:00<?, ?it/s]"
      ]
     },
     "metadata": {},
     "output_type": "display_data"
    },
    {
     "data": {
      "application/vnd.jupyter.widget-view+json": {
       "model_id": "5fc78582593740bfa56b1482f1230896",
       "version_major": 2,
       "version_minor": 0
      },
      "text/plain": [
       "  0%|          | 0/4 [00:00<?, ?it/s]"
      ]
     },
     "metadata": {},
     "output_type": "display_data"
    },
    {
     "data": {
      "application/vnd.jupyter.widget-view+json": {
       "model_id": "33aa18875c94426f9a231d837a4adc61",
       "version_major": 2,
       "version_minor": 0
      },
      "text/plain": [
       "  0%|          | 0/4 [00:00<?, ?it/s]"
      ]
     },
     "metadata": {},
     "output_type": "display_data"
    },
    {
     "data": {
      "application/vnd.jupyter.widget-view+json": {
       "model_id": "b6abb7ef6de84437a1d01edbdd320962",
       "version_major": 2,
       "version_minor": 0
      },
      "text/plain": [
       "  0%|          | 0/4 [00:00<?, ?it/s]"
      ]
     },
     "metadata": {},
     "output_type": "display_data"
    },
    {
     "data": {
      "application/vnd.jupyter.widget-view+json": {
       "model_id": "e978f668741a41538c3a03eb4dba914f",
       "version_major": 2,
       "version_minor": 0
      },
      "text/plain": [
       "  0%|          | 0/4 [00:00<?, ?it/s]"
      ]
     },
     "metadata": {},
     "output_type": "display_data"
    },
    {
     "data": {
      "application/vnd.jupyter.widget-view+json": {
       "model_id": "86a5a4fb678b405dbe032b06b0283862",
       "version_major": 2,
       "version_minor": 0
      },
      "text/plain": [
       "  0%|          | 0/4 [00:00<?, ?it/s]"
      ]
     },
     "metadata": {},
     "output_type": "display_data"
    },
    {
     "data": {
      "application/vnd.jupyter.widget-view+json": {
       "model_id": "16956ca9356649daba6ba35717371f77",
       "version_major": 2,
       "version_minor": 0
      },
      "text/plain": [
       "  0%|          | 0/4 [00:00<?, ?it/s]"
      ]
     },
     "metadata": {},
     "output_type": "display_data"
    },
    {
     "data": {
      "application/vnd.jupyter.widget-view+json": {
       "model_id": "54fe198fac864737913e6bbd8994a59e",
       "version_major": 2,
       "version_minor": 0
      },
      "text/plain": [
       "  0%|          | 0/4 [00:00<?, ?it/s]"
      ]
     },
     "metadata": {},
     "output_type": "display_data"
    },
    {
     "data": {
      "application/vnd.jupyter.widget-view+json": {
       "model_id": "834ea0e058e64eabb9cf14ccda82441c",
       "version_major": 2,
       "version_minor": 0
      },
      "text/plain": [
       "  0%|          | 0/4 [00:00<?, ?it/s]"
      ]
     },
     "metadata": {},
     "output_type": "display_data"
    },
    {
     "data": {
      "application/vnd.jupyter.widget-view+json": {
       "model_id": "ad5265e2b56e4740bf0b006bbc3c1902",
       "version_major": 2,
       "version_minor": 0
      },
      "text/plain": [
       "  0%|          | 0/4 [00:00<?, ?it/s]"
      ]
     },
     "metadata": {},
     "output_type": "display_data"
    },
    {
     "data": {
      "application/vnd.jupyter.widget-view+json": {
       "model_id": "18ef12df34d84d3693872c3143eeb359",
       "version_major": 2,
       "version_minor": 0
      },
      "text/plain": [
       "  0%|          | 0/4 [00:00<?, ?it/s]"
      ]
     },
     "metadata": {},
     "output_type": "display_data"
    },
    {
     "data": {
      "application/vnd.jupyter.widget-view+json": {
       "model_id": "6fa71a7a7e964f36bdca9705fd559572",
       "version_major": 2,
       "version_minor": 0
      },
      "text/plain": [
       "  0%|          | 0/4 [00:00<?, ?it/s]"
      ]
     },
     "metadata": {},
     "output_type": "display_data"
    },
    {
     "data": {
      "application/vnd.jupyter.widget-view+json": {
       "model_id": "0b8caa2612754481bc59d04d534fb576",
       "version_major": 2,
       "version_minor": 0
      },
      "text/plain": [
       "  0%|          | 0/4 [00:00<?, ?it/s]"
      ]
     },
     "metadata": {},
     "output_type": "display_data"
    },
    {
     "data": {
      "application/vnd.jupyter.widget-view+json": {
       "model_id": "30c5608b235b4acf8fd83489d442844b",
       "version_major": 2,
       "version_minor": 0
      },
      "text/plain": [
       "  0%|          | 0/4 [00:00<?, ?it/s]"
      ]
     },
     "metadata": {},
     "output_type": "display_data"
    },
    {
     "data": {
      "application/vnd.jupyter.widget-view+json": {
       "model_id": "7a387ebb4b3345508cbd23ffbf3453c8",
       "version_major": 2,
       "version_minor": 0
      },
      "text/plain": [
       "  0%|          | 0/4 [00:00<?, ?it/s]"
      ]
     },
     "metadata": {},
     "output_type": "display_data"
    },
    {
     "data": {
      "application/vnd.jupyter.widget-view+json": {
       "model_id": "9d9c25a473394d44867b178b6baef5a4",
       "version_major": 2,
       "version_minor": 0
      },
      "text/plain": [
       "  0%|          | 0/4 [00:00<?, ?it/s]"
      ]
     },
     "metadata": {},
     "output_type": "display_data"
    },
    {
     "data": {
      "application/vnd.jupyter.widget-view+json": {
       "model_id": "4f935608980b4631bdfccebbd0c879c8",
       "version_major": 2,
       "version_minor": 0
      },
      "text/plain": [
       "  0%|          | 0/4 [00:00<?, ?it/s]"
      ]
     },
     "metadata": {},
     "output_type": "display_data"
    },
    {
     "data": {
      "application/vnd.jupyter.widget-view+json": {
       "model_id": "6f5504c3b2224bf5860b0f63f2181e8a",
       "version_major": 2,
       "version_minor": 0
      },
      "text/plain": [
       "  0%|          | 0/4 [00:00<?, ?it/s]"
      ]
     },
     "metadata": {},
     "output_type": "display_data"
    },
    {
     "data": {
      "application/vnd.jupyter.widget-view+json": {
       "model_id": "19457582e1cd4513abc0118242c18511",
       "version_major": 2,
       "version_minor": 0
      },
      "text/plain": [
       "  0%|          | 0/4 [00:00<?, ?it/s]"
      ]
     },
     "metadata": {},
     "output_type": "display_data"
    },
    {
     "data": {
      "application/vnd.jupyter.widget-view+json": {
       "model_id": "145ec8fbd6de463aac4cd6c063ac224a",
       "version_major": 2,
       "version_minor": 0
      },
      "text/plain": [
       "  0%|          | 0/4 [00:00<?, ?it/s]"
      ]
     },
     "metadata": {},
     "output_type": "display_data"
    },
    {
     "data": {
      "application/vnd.jupyter.widget-view+json": {
       "model_id": "fc87bce2129143d1bf73e32e086f890c",
       "version_major": 2,
       "version_minor": 0
      },
      "text/plain": [
       "  0%|          | 0/4 [00:00<?, ?it/s]"
      ]
     },
     "metadata": {},
     "output_type": "display_data"
    },
    {
     "data": {
      "application/vnd.jupyter.widget-view+json": {
       "model_id": "9b22d369dcc64fb4b3a359d92ec679fe",
       "version_major": 2,
       "version_minor": 0
      },
      "text/plain": [
       "  0%|          | 0/4 [00:00<?, ?it/s]"
      ]
     },
     "metadata": {},
     "output_type": "display_data"
    },
    {
     "data": {
      "application/vnd.jupyter.widget-view+json": {
       "model_id": "d15d37e8e08c41beb366493fb8ab8a12",
       "version_major": 2,
       "version_minor": 0
      },
      "text/plain": [
       "  0%|          | 0/4 [00:00<?, ?it/s]"
      ]
     },
     "metadata": {},
     "output_type": "display_data"
    },
    {
     "data": {
      "application/vnd.jupyter.widget-view+json": {
       "model_id": "d86129d0a4524f50816eb91318541c87",
       "version_major": 2,
       "version_minor": 0
      },
      "text/plain": [
       "  0%|          | 0/4 [00:00<?, ?it/s]"
      ]
     },
     "metadata": {},
     "output_type": "display_data"
    },
    {
     "data": {
      "application/vnd.jupyter.widget-view+json": {
       "model_id": "20271cd8cc4c44cd974f67ca712788ae",
       "version_major": 2,
       "version_minor": 0
      },
      "text/plain": [
       "  0%|          | 0/4 [00:00<?, ?it/s]"
      ]
     },
     "metadata": {},
     "output_type": "display_data"
    },
    {
     "data": {
      "application/vnd.jupyter.widget-view+json": {
       "model_id": "dab55b636395447f9bb0f7369460fd46",
       "version_major": 2,
       "version_minor": 0
      },
      "text/plain": [
       "  0%|          | 0/4 [00:00<?, ?it/s]"
      ]
     },
     "metadata": {},
     "output_type": "display_data"
    },
    {
     "data": {
      "application/vnd.jupyter.widget-view+json": {
       "model_id": "1b4b7eb840d6411482f9801187a65fc0",
       "version_major": 2,
       "version_minor": 0
      },
      "text/plain": [
       "  0%|          | 0/4 [00:00<?, ?it/s]"
      ]
     },
     "metadata": {},
     "output_type": "display_data"
    },
    {
     "data": {
      "application/vnd.jupyter.widget-view+json": {
       "model_id": "1439aa7924974ddd902f7ede2944f208",
       "version_major": 2,
       "version_minor": 0
      },
      "text/plain": [
       "  0%|          | 0/4 [00:00<?, ?it/s]"
      ]
     },
     "metadata": {},
     "output_type": "display_data"
    },
    {
     "data": {
      "application/vnd.jupyter.widget-view+json": {
       "model_id": "a5a482baa6104dcfbcfa70aae686f6dc",
       "version_major": 2,
       "version_minor": 0
      },
      "text/plain": [
       "  0%|          | 0/4 [00:00<?, ?it/s]"
      ]
     },
     "metadata": {},
     "output_type": "display_data"
    },
    {
     "data": {
      "application/vnd.jupyter.widget-view+json": {
       "model_id": "f61beeecf18f4be39eb6b541d8e258d4",
       "version_major": 2,
       "version_minor": 0
      },
      "text/plain": [
       "  0%|          | 0/4 [00:00<?, ?it/s]"
      ]
     },
     "metadata": {},
     "output_type": "display_data"
    },
    {
     "data": {
      "application/vnd.jupyter.widget-view+json": {
       "model_id": "b1a0675861e74afdb3dc5f1dc0c0f391",
       "version_major": 2,
       "version_minor": 0
      },
      "text/plain": [
       "  0%|          | 0/4 [00:00<?, ?it/s]"
      ]
     },
     "metadata": {},
     "output_type": "display_data"
    },
    {
     "data": {
      "application/vnd.jupyter.widget-view+json": {
       "model_id": "b3f2933df0134b2db189588c4eb49b54",
       "version_major": 2,
       "version_minor": 0
      },
      "text/plain": [
       "  0%|          | 0/4 [00:00<?, ?it/s]"
      ]
     },
     "metadata": {},
     "output_type": "display_data"
    },
    {
     "data": {
      "application/vnd.jupyter.widget-view+json": {
       "model_id": "bcf6796ba54b4357b9985f379218231e",
       "version_major": 2,
       "version_minor": 0
      },
      "text/plain": [
       "  0%|          | 0/4 [00:00<?, ?it/s]"
      ]
     },
     "metadata": {},
     "output_type": "display_data"
    },
    {
     "data": {
      "application/vnd.jupyter.widget-view+json": {
       "model_id": "5277821c54064fab89be6ee854a6a00c",
       "version_major": 2,
       "version_minor": 0
      },
      "text/plain": [
       "  0%|          | 0/4 [00:00<?, ?it/s]"
      ]
     },
     "metadata": {},
     "output_type": "display_data"
    },
    {
     "data": {
      "application/vnd.jupyter.widget-view+json": {
       "model_id": "7909e7c0ee0342febfe8fd18f3a11815",
       "version_major": 2,
       "version_minor": 0
      },
      "text/plain": [
       "  0%|          | 0/4 [00:00<?, ?it/s]"
      ]
     },
     "metadata": {},
     "output_type": "display_data"
    },
    {
     "data": {
      "application/vnd.jupyter.widget-view+json": {
       "model_id": "f286c152c240438da03a5f38af971a80",
       "version_major": 2,
       "version_minor": 0
      },
      "text/plain": [
       "  0%|          | 0/4 [00:00<?, ?it/s]"
      ]
     },
     "metadata": {},
     "output_type": "display_data"
    },
    {
     "data": {
      "application/vnd.jupyter.widget-view+json": {
       "model_id": "c2e9086436c24e928b082e3338f0b1d0",
       "version_major": 2,
       "version_minor": 0
      },
      "text/plain": [
       "  0%|          | 0/4 [00:00<?, ?it/s]"
      ]
     },
     "metadata": {},
     "output_type": "display_data"
    },
    {
     "data": {
      "application/vnd.jupyter.widget-view+json": {
       "model_id": "a9c6f8daa64d4902b5f80e0b0290e5ce",
       "version_major": 2,
       "version_minor": 0
      },
      "text/plain": [
       "  0%|          | 0/4 [00:00<?, ?it/s]"
      ]
     },
     "metadata": {},
     "output_type": "display_data"
    },
    {
     "data": {
      "application/vnd.jupyter.widget-view+json": {
       "model_id": "0dfcefb8653c4d0199b045aceb288ad9",
       "version_major": 2,
       "version_minor": 0
      },
      "text/plain": [
       "  0%|          | 0/4 [00:00<?, ?it/s]"
      ]
     },
     "metadata": {},
     "output_type": "display_data"
    },
    {
     "data": {
      "application/vnd.jupyter.widget-view+json": {
       "model_id": "4c4d747e48c045c190009b3b4b3ff7ec",
       "version_major": 2,
       "version_minor": 0
      },
      "text/plain": [
       "  0%|          | 0/4 [00:00<?, ?it/s]"
      ]
     },
     "metadata": {},
     "output_type": "display_data"
    },
    {
     "data": {
      "application/vnd.jupyter.widget-view+json": {
       "model_id": "620c5b839e1e4f3cb234b38d6bd180f8",
       "version_major": 2,
       "version_minor": 0
      },
      "text/plain": [
       "  0%|          | 0/4 [00:00<?, ?it/s]"
      ]
     },
     "metadata": {},
     "output_type": "display_data"
    },
    {
     "data": {
      "application/vnd.jupyter.widget-view+json": {
       "model_id": "3a81f53b9c2b403c9caf7a95aa07458a",
       "version_major": 2,
       "version_minor": 0
      },
      "text/plain": [
       "  0%|          | 0/4 [00:00<?, ?it/s]"
      ]
     },
     "metadata": {},
     "output_type": "display_data"
    },
    {
     "data": {
      "application/vnd.jupyter.widget-view+json": {
       "model_id": "3bd8f5d17e434ef7976712c4f67660c5",
       "version_major": 2,
       "version_minor": 0
      },
      "text/plain": [
       "  0%|          | 0/4 [00:00<?, ?it/s]"
      ]
     },
     "metadata": {},
     "output_type": "display_data"
    },
    {
     "data": {
      "application/vnd.jupyter.widget-view+json": {
       "model_id": "7fa12b3fa1754ab0b9709d38a38681f8",
       "version_major": 2,
       "version_minor": 0
      },
      "text/plain": [
       "  0%|          | 0/4 [00:00<?, ?it/s]"
      ]
     },
     "metadata": {},
     "output_type": "display_data"
    },
    {
     "data": {
      "application/vnd.jupyter.widget-view+json": {
       "model_id": "1febcba1acd74267be4ff06d614a5919",
       "version_major": 2,
       "version_minor": 0
      },
      "text/plain": [
       "  0%|          | 0/4 [00:00<?, ?it/s]"
      ]
     },
     "metadata": {},
     "output_type": "display_data"
    },
    {
     "data": {
      "application/vnd.jupyter.widget-view+json": {
       "model_id": "78528e0ec3a941e6bf83eddd674bd400",
       "version_major": 2,
       "version_minor": 0
      },
      "text/plain": [
       "  0%|          | 0/4 [00:00<?, ?it/s]"
      ]
     },
     "metadata": {},
     "output_type": "display_data"
    },
    {
     "data": {
      "application/vnd.jupyter.widget-view+json": {
       "model_id": "4440e7718aae4f929fa701a57bb10938",
       "version_major": 2,
       "version_minor": 0
      },
      "text/plain": [
       "  0%|          | 0/4 [00:00<?, ?it/s]"
      ]
     },
     "metadata": {},
     "output_type": "display_data"
    },
    {
     "data": {
      "application/vnd.jupyter.widget-view+json": {
       "model_id": "990591094c0344fbb45f60518e55d4e8",
       "version_major": 2,
       "version_minor": 0
      },
      "text/plain": [
       "  0%|          | 0/4 [00:00<?, ?it/s]"
      ]
     },
     "metadata": {},
     "output_type": "display_data"
    },
    {
     "data": {
      "application/vnd.jupyter.widget-view+json": {
       "model_id": "0116d129c0684ee29c07fa27f6e7dc9b",
       "version_major": 2,
       "version_minor": 0
      },
      "text/plain": [
       "  0%|          | 0/4 [00:00<?, ?it/s]"
      ]
     },
     "metadata": {},
     "output_type": "display_data"
    },
    {
     "data": {
      "application/vnd.jupyter.widget-view+json": {
       "model_id": "a43dbc438d9b471782ff454daceb5c54",
       "version_major": 2,
       "version_minor": 0
      },
      "text/plain": [
       "  0%|          | 0/4 [00:00<?, ?it/s]"
      ]
     },
     "metadata": {},
     "output_type": "display_data"
    },
    {
     "data": {
      "application/vnd.jupyter.widget-view+json": {
       "model_id": "1aa50a0b87944498be9d9b1d88c7c485",
       "version_major": 2,
       "version_minor": 0
      },
      "text/plain": [
       "  0%|          | 0/4 [00:00<?, ?it/s]"
      ]
     },
     "metadata": {},
     "output_type": "display_data"
    },
    {
     "data": {
      "application/vnd.jupyter.widget-view+json": {
       "model_id": "97822124cea94bb7a9a3963117a4df95",
       "version_major": 2,
       "version_minor": 0
      },
      "text/plain": [
       "  0%|          | 0/4 [00:00<?, ?it/s]"
      ]
     },
     "metadata": {},
     "output_type": "display_data"
    },
    {
     "data": {
      "application/vnd.jupyter.widget-view+json": {
       "model_id": "fe22630dae634cc9a4c201e6892614ee",
       "version_major": 2,
       "version_minor": 0
      },
      "text/plain": [
       "  0%|          | 0/4 [00:00<?, ?it/s]"
      ]
     },
     "metadata": {},
     "output_type": "display_data"
    },
    {
     "data": {
      "application/vnd.jupyter.widget-view+json": {
       "model_id": "00e05072d15a420c8f7fd652d2e7497a",
       "version_major": 2,
       "version_minor": 0
      },
      "text/plain": [
       "  0%|          | 0/4 [00:00<?, ?it/s]"
      ]
     },
     "metadata": {},
     "output_type": "display_data"
    },
    {
     "data": {
      "application/vnd.jupyter.widget-view+json": {
       "model_id": "e1305372472e48e5aa2c5d63ae21a097",
       "version_major": 2,
       "version_minor": 0
      },
      "text/plain": [
       "  0%|          | 0/4 [00:00<?, ?it/s]"
      ]
     },
     "metadata": {},
     "output_type": "display_data"
    },
    {
     "data": {
      "application/vnd.jupyter.widget-view+json": {
       "model_id": "9b5edd7aed7542a4a255707d63051743",
       "version_major": 2,
       "version_minor": 0
      },
      "text/plain": [
       "  0%|          | 0/4 [00:00<?, ?it/s]"
      ]
     },
     "metadata": {},
     "output_type": "display_data"
    },
    {
     "data": {
      "application/vnd.jupyter.widget-view+json": {
       "model_id": "0849b5d30a48401f8bb2cb6d68dc98cc",
       "version_major": 2,
       "version_minor": 0
      },
      "text/plain": [
       "  0%|          | 0/4 [00:00<?, ?it/s]"
      ]
     },
     "metadata": {},
     "output_type": "display_data"
    },
    {
     "data": {
      "application/vnd.jupyter.widget-view+json": {
       "model_id": "c6fece82a10b4d4fa1f779bd922110d4",
       "version_major": 2,
       "version_minor": 0
      },
      "text/plain": [
       "  0%|          | 0/4 [00:00<?, ?it/s]"
      ]
     },
     "metadata": {},
     "output_type": "display_data"
    },
    {
     "data": {
      "application/vnd.jupyter.widget-view+json": {
       "model_id": "deb2572603814cbdae5e1d5bbebe739b",
       "version_major": 2,
       "version_minor": 0
      },
      "text/plain": [
       "  0%|          | 0/4 [00:00<?, ?it/s]"
      ]
     },
     "metadata": {},
     "output_type": "display_data"
    },
    {
     "data": {
      "application/vnd.jupyter.widget-view+json": {
       "model_id": "3cfed57c80024dc193d40fb450dd8426",
       "version_major": 2,
       "version_minor": 0
      },
      "text/plain": [
       "  0%|          | 0/4 [00:00<?, ?it/s]"
      ]
     },
     "metadata": {},
     "output_type": "display_data"
    },
    {
     "data": {
      "application/vnd.jupyter.widget-view+json": {
       "model_id": "4fce2b87aba24d4caa17b5db5150a978",
       "version_major": 2,
       "version_minor": 0
      },
      "text/plain": [
       "  0%|          | 0/4 [00:00<?, ?it/s]"
      ]
     },
     "metadata": {},
     "output_type": "display_data"
    },
    {
     "data": {
      "application/vnd.jupyter.widget-view+json": {
       "model_id": "e5a829e55e4a48ca90437927ebb1c32b",
       "version_major": 2,
       "version_minor": 0
      },
      "text/plain": [
       "  0%|          | 0/4 [00:00<?, ?it/s]"
      ]
     },
     "metadata": {},
     "output_type": "display_data"
    },
    {
     "data": {
      "application/vnd.jupyter.widget-view+json": {
       "model_id": "ec1a202863c94a2490f19650b89849a8",
       "version_major": 2,
       "version_minor": 0
      },
      "text/plain": [
       "  0%|          | 0/4 [00:00<?, ?it/s]"
      ]
     },
     "metadata": {},
     "output_type": "display_data"
    },
    {
     "data": {
      "application/vnd.jupyter.widget-view+json": {
       "model_id": "e4c16f5607dd4538bf3a83163c739d29",
       "version_major": 2,
       "version_minor": 0
      },
      "text/plain": [
       "  0%|          | 0/4 [00:00<?, ?it/s]"
      ]
     },
     "metadata": {},
     "output_type": "display_data"
    },
    {
     "data": {
      "application/vnd.jupyter.widget-view+json": {
       "model_id": "241954894c474ecc97af20160b65c025",
       "version_major": 2,
       "version_minor": 0
      },
      "text/plain": [
       "  0%|          | 0/4 [00:00<?, ?it/s]"
      ]
     },
     "metadata": {},
     "output_type": "display_data"
    },
    {
     "data": {
      "application/vnd.jupyter.widget-view+json": {
       "model_id": "772fbda4e9d6423380cad870b07816b3",
       "version_major": 2,
       "version_minor": 0
      },
      "text/plain": [
       "  0%|          | 0/4 [00:00<?, ?it/s]"
      ]
     },
     "metadata": {},
     "output_type": "display_data"
    },
    {
     "data": {
      "application/vnd.jupyter.widget-view+json": {
       "model_id": "2b6a7d68bf574007972497e16dd8c674",
       "version_major": 2,
       "version_minor": 0
      },
      "text/plain": [
       "  0%|          | 0/4 [00:00<?, ?it/s]"
      ]
     },
     "metadata": {},
     "output_type": "display_data"
    },
    {
     "data": {
      "application/vnd.jupyter.widget-view+json": {
       "model_id": "d3c1b1492d1241d9bfa8b4002d23537c",
       "version_major": 2,
       "version_minor": 0
      },
      "text/plain": [
       "  0%|          | 0/4 [00:00<?, ?it/s]"
      ]
     },
     "metadata": {},
     "output_type": "display_data"
    },
    {
     "data": {
      "application/vnd.jupyter.widget-view+json": {
       "model_id": "e216e60dc8cc4b649b0815262b348326",
       "version_major": 2,
       "version_minor": 0
      },
      "text/plain": [
       "  0%|          | 0/4 [00:00<?, ?it/s]"
      ]
     },
     "metadata": {},
     "output_type": "display_data"
    },
    {
     "data": {
      "application/vnd.jupyter.widget-view+json": {
       "model_id": "f4d2e99c3ee74a598a8007cb0e802e2a",
       "version_major": 2,
       "version_minor": 0
      },
      "text/plain": [
       "  0%|          | 0/4 [00:00<?, ?it/s]"
      ]
     },
     "metadata": {},
     "output_type": "display_data"
    },
    {
     "data": {
      "application/vnd.jupyter.widget-view+json": {
       "model_id": "6aac77b49bc1430c81f772a7dddb8338",
       "version_major": 2,
       "version_minor": 0
      },
      "text/plain": [
       "  0%|          | 0/4 [00:00<?, ?it/s]"
      ]
     },
     "metadata": {},
     "output_type": "display_data"
    },
    {
     "data": {
      "application/vnd.jupyter.widget-view+json": {
       "model_id": "628aa0ab64cd48d799e8fc37f74ea99a",
       "version_major": 2,
       "version_minor": 0
      },
      "text/plain": [
       "  0%|          | 0/4 [00:00<?, ?it/s]"
      ]
     },
     "metadata": {},
     "output_type": "display_data"
    },
    {
     "data": {
      "application/vnd.jupyter.widget-view+json": {
       "model_id": "581dfa443d9546b9b3e6e0a3034af3f9",
       "version_major": 2,
       "version_minor": 0
      },
      "text/plain": [
       "  0%|          | 0/4 [00:00<?, ?it/s]"
      ]
     },
     "metadata": {},
     "output_type": "display_data"
    },
    {
     "data": {
      "application/vnd.jupyter.widget-view+json": {
       "model_id": "dc9e3db4d24a49aa924a27da159d23aa",
       "version_major": 2,
       "version_minor": 0
      },
      "text/plain": [
       "  0%|          | 0/4 [00:00<?, ?it/s]"
      ]
     },
     "metadata": {},
     "output_type": "display_data"
    },
    {
     "data": {
      "application/vnd.jupyter.widget-view+json": {
       "model_id": "c903e312197b44b8842e641dfbea627e",
       "version_major": 2,
       "version_minor": 0
      },
      "text/plain": [
       "  0%|          | 0/4 [00:00<?, ?it/s]"
      ]
     },
     "metadata": {},
     "output_type": "display_data"
    },
    {
     "data": {
      "application/vnd.jupyter.widget-view+json": {
       "model_id": "1d8aa209e8824f9a9727f11cfc7310ae",
       "version_major": 2,
       "version_minor": 0
      },
      "text/plain": [
       "  0%|          | 0/4 [00:00<?, ?it/s]"
      ]
     },
     "metadata": {},
     "output_type": "display_data"
    },
    {
     "data": {
      "application/vnd.jupyter.widget-view+json": {
       "model_id": "043fb114e7c24b3387468a0d0dedccc8",
       "version_major": 2,
       "version_minor": 0
      },
      "text/plain": [
       "  0%|          | 0/4 [00:00<?, ?it/s]"
      ]
     },
     "metadata": {},
     "output_type": "display_data"
    },
    {
     "data": {
      "application/vnd.jupyter.widget-view+json": {
       "model_id": "4f2f5a3c6db8459c948f7c5643ff3cf5",
       "version_major": 2,
       "version_minor": 0
      },
      "text/plain": [
       "  0%|          | 0/4 [00:00<?, ?it/s]"
      ]
     },
     "metadata": {},
     "output_type": "display_data"
    },
    {
     "data": {
      "application/vnd.jupyter.widget-view+json": {
       "model_id": "db3a68fcc3354c048d7161589b233f9f",
       "version_major": 2,
       "version_minor": 0
      },
      "text/plain": [
       "  0%|          | 0/4 [00:00<?, ?it/s]"
      ]
     },
     "metadata": {},
     "output_type": "display_data"
    },
    {
     "data": {
      "application/vnd.jupyter.widget-view+json": {
       "model_id": "b253dd7d0044438c965e3ff0ddd76725",
       "version_major": 2,
       "version_minor": 0
      },
      "text/plain": [
       "  0%|          | 0/4 [00:00<?, ?it/s]"
      ]
     },
     "metadata": {},
     "output_type": "display_data"
    },
    {
     "data": {
      "application/vnd.jupyter.widget-view+json": {
       "model_id": "f5b4b9f04ee349928bde55594ec5161b",
       "version_major": 2,
       "version_minor": 0
      },
      "text/plain": [
       "  0%|          | 0/4 [00:00<?, ?it/s]"
      ]
     },
     "metadata": {},
     "output_type": "display_data"
    },
    {
     "data": {
      "application/vnd.jupyter.widget-view+json": {
       "model_id": "fc2b8bff5a114152986ef2d47212f8ae",
       "version_major": 2,
       "version_minor": 0
      },
      "text/plain": [
       "  0%|          | 0/4 [00:00<?, ?it/s]"
      ]
     },
     "metadata": {},
     "output_type": "display_data"
    },
    {
     "data": {
      "application/vnd.jupyter.widget-view+json": {
       "model_id": "3a537bf51d2a42749cf54161b2d4d4dd",
       "version_major": 2,
       "version_minor": 0
      },
      "text/plain": [
       "  0%|          | 0/4 [00:00<?, ?it/s]"
      ]
     },
     "metadata": {},
     "output_type": "display_data"
    },
    {
     "data": {
      "application/vnd.jupyter.widget-view+json": {
       "model_id": "782217a066654f1395ae956b57a990d2",
       "version_major": 2,
       "version_minor": 0
      },
      "text/plain": [
       "  0%|          | 0/4 [00:00<?, ?it/s]"
      ]
     },
     "metadata": {},
     "output_type": "display_data"
    },
    {
     "data": {
      "application/vnd.jupyter.widget-view+json": {
       "model_id": "4d987d2f430b4e7a8c3506117a6b1a58",
       "version_major": 2,
       "version_minor": 0
      },
      "text/plain": [
       "  0%|          | 0/4 [00:00<?, ?it/s]"
      ]
     },
     "metadata": {},
     "output_type": "display_data"
    },
    {
     "data": {
      "application/vnd.jupyter.widget-view+json": {
       "model_id": "3ed90666d41c44bba556820cebdd82cb",
       "version_major": 2,
       "version_minor": 0
      },
      "text/plain": [
       "  0%|          | 0/4 [00:00<?, ?it/s]"
      ]
     },
     "metadata": {},
     "output_type": "display_data"
    },
    {
     "data": {
      "application/vnd.jupyter.widget-view+json": {
       "model_id": "5dfc53a3ce92497da68aaa0a596a2247",
       "version_major": 2,
       "version_minor": 0
      },
      "text/plain": [
       "  0%|          | 0/4 [00:00<?, ?it/s]"
      ]
     },
     "metadata": {},
     "output_type": "display_data"
    },
    {
     "data": {
      "application/vnd.jupyter.widget-view+json": {
       "model_id": "7bfce6d5941b480aa0c7233b58e907ae",
       "version_major": 2,
       "version_minor": 0
      },
      "text/plain": [
       "  0%|          | 0/4 [00:00<?, ?it/s]"
      ]
     },
     "metadata": {},
     "output_type": "display_data"
    },
    {
     "data": {
      "application/vnd.jupyter.widget-view+json": {
       "model_id": "60cd35da4be84f2b8f937862eca4746e",
       "version_major": 2,
       "version_minor": 0
      },
      "text/plain": [
       "  0%|          | 0/4 [00:00<?, ?it/s]"
      ]
     },
     "metadata": {},
     "output_type": "display_data"
    },
    {
     "data": {
      "application/vnd.jupyter.widget-view+json": {
       "model_id": "8e91d2a99d7e499390c8b65c4a716092",
       "version_major": 2,
       "version_minor": 0
      },
      "text/plain": [
       "  0%|          | 0/4 [00:00<?, ?it/s]"
      ]
     },
     "metadata": {},
     "output_type": "display_data"
    },
    {
     "data": {
      "application/vnd.jupyter.widget-view+json": {
       "model_id": "6fbc2a79ebdc463e8bef12fea048ea06",
       "version_major": 2,
       "version_minor": 0
      },
      "text/plain": [
       "  0%|          | 0/4 [00:00<?, ?it/s]"
      ]
     },
     "metadata": {},
     "output_type": "display_data"
    },
    {
     "data": {
      "application/vnd.jupyter.widget-view+json": {
       "model_id": "3f7b31b888094216b2525cb4de27de55",
       "version_major": 2,
       "version_minor": 0
      },
      "text/plain": [
       "  0%|          | 0/4 [00:00<?, ?it/s]"
      ]
     },
     "metadata": {},
     "output_type": "display_data"
    },
    {
     "data": {
      "application/vnd.jupyter.widget-view+json": {
       "model_id": "04588bfb57d347d5ac340e2337cdea22",
       "version_major": 2,
       "version_minor": 0
      },
      "text/plain": [
       "  0%|          | 0/4 [00:00<?, ?it/s]"
      ]
     },
     "metadata": {},
     "output_type": "display_data"
    },
    {
     "data": {
      "application/vnd.jupyter.widget-view+json": {
       "model_id": "debb855d1dea41fab37aa75134b63d18",
       "version_major": 2,
       "version_minor": 0
      },
      "text/plain": [
       "  0%|          | 0/4 [00:00<?, ?it/s]"
      ]
     },
     "metadata": {},
     "output_type": "display_data"
    },
    {
     "data": {
      "application/vnd.jupyter.widget-view+json": {
       "model_id": "52a35343029e4922a94cea8f5c908ef4",
       "version_major": 2,
       "version_minor": 0
      },
      "text/plain": [
       "  0%|          | 0/4 [00:00<?, ?it/s]"
      ]
     },
     "metadata": {},
     "output_type": "display_data"
    },
    {
     "data": {
      "application/vnd.jupyter.widget-view+json": {
       "model_id": "19165cc92810444b8be751534ca5afd9",
       "version_major": 2,
       "version_minor": 0
      },
      "text/plain": [
       "  0%|          | 0/4 [00:00<?, ?it/s]"
      ]
     },
     "metadata": {},
     "output_type": "display_data"
    },
    {
     "data": {
      "application/vnd.jupyter.widget-view+json": {
       "model_id": "d58cafdb8a2f40c68331ad088ce162ce",
       "version_major": 2,
       "version_minor": 0
      },
      "text/plain": [
       "  0%|          | 0/4 [00:00<?, ?it/s]"
      ]
     },
     "metadata": {},
     "output_type": "display_data"
    },
    {
     "data": {
      "application/vnd.jupyter.widget-view+json": {
       "model_id": "322d7c147d3245ea9e7ac50815565799",
       "version_major": 2,
       "version_minor": 0
      },
      "text/plain": [
       "  0%|          | 0/4 [00:00<?, ?it/s]"
      ]
     },
     "metadata": {},
     "output_type": "display_data"
    },
    {
     "data": {
      "application/vnd.jupyter.widget-view+json": {
       "model_id": "5ad91d2d5b504e4fb7bf44bb03593f70",
       "version_major": 2,
       "version_minor": 0
      },
      "text/plain": [
       "  0%|          | 0/4 [00:00<?, ?it/s]"
      ]
     },
     "metadata": {},
     "output_type": "display_data"
    },
    {
     "data": {
      "application/vnd.jupyter.widget-view+json": {
       "model_id": "f224009f1426424b8bbac8f83922c892",
       "version_major": 2,
       "version_minor": 0
      },
      "text/plain": [
       "  0%|          | 0/4 [00:00<?, ?it/s]"
      ]
     },
     "metadata": {},
     "output_type": "display_data"
    },
    {
     "data": {
      "application/vnd.jupyter.widget-view+json": {
       "model_id": "ef0814c08677411fb0a4be896a91a509",
       "version_major": 2,
       "version_minor": 0
      },
      "text/plain": [
       "  0%|          | 0/4 [00:00<?, ?it/s]"
      ]
     },
     "metadata": {},
     "output_type": "display_data"
    },
    {
     "data": {
      "application/vnd.jupyter.widget-view+json": {
       "model_id": "a59de94dcf034e669306307aa94d2859",
       "version_major": 2,
       "version_minor": 0
      },
      "text/plain": [
       "  0%|          | 0/4 [00:00<?, ?it/s]"
      ]
     },
     "metadata": {},
     "output_type": "display_data"
    },
    {
     "data": {
      "application/vnd.jupyter.widget-view+json": {
       "model_id": "7ef01bcce25d46b88a8f1e0e3fd7f615",
       "version_major": 2,
       "version_minor": 0
      },
      "text/plain": [
       "  0%|          | 0/4 [00:00<?, ?it/s]"
      ]
     },
     "metadata": {},
     "output_type": "display_data"
    },
    {
     "data": {
      "application/vnd.jupyter.widget-view+json": {
       "model_id": "2ea65c7d38a8457eaf9e93f0a82faedb",
       "version_major": 2,
       "version_minor": 0
      },
      "text/plain": [
       "  0%|          | 0/4 [00:00<?, ?it/s]"
      ]
     },
     "metadata": {},
     "output_type": "display_data"
    },
    {
     "data": {
      "application/vnd.jupyter.widget-view+json": {
       "model_id": "80f3ea59abb6412e8a900a8006b94bbb",
       "version_major": 2,
       "version_minor": 0
      },
      "text/plain": [
       "  0%|          | 0/4 [00:00<?, ?it/s]"
      ]
     },
     "metadata": {},
     "output_type": "display_data"
    },
    {
     "data": {
      "application/vnd.jupyter.widget-view+json": {
       "model_id": "21e2d22cb4f94f318be350c87b38b4dc",
       "version_major": 2,
       "version_minor": 0
      },
      "text/plain": [
       "  0%|          | 0/4 [00:00<?, ?it/s]"
      ]
     },
     "metadata": {},
     "output_type": "display_data"
    },
    {
     "data": {
      "application/vnd.jupyter.widget-view+json": {
       "model_id": "ca0dee2e98054661913442203161daa4",
       "version_major": 2,
       "version_minor": 0
      },
      "text/plain": [
       "  0%|          | 0/4 [00:00<?, ?it/s]"
      ]
     },
     "metadata": {},
     "output_type": "display_data"
    },
    {
     "data": {
      "application/vnd.jupyter.widget-view+json": {
       "model_id": "43523df0a1d64db88ccbf38a274ca9da",
       "version_major": 2,
       "version_minor": 0
      },
      "text/plain": [
       "  0%|          | 0/4 [00:00<?, ?it/s]"
      ]
     },
     "metadata": {},
     "output_type": "display_data"
    },
    {
     "data": {
      "application/vnd.jupyter.widget-view+json": {
       "model_id": "85cb4e389e8643109394e74f496f0549",
       "version_major": 2,
       "version_minor": 0
      },
      "text/plain": [
       "  0%|          | 0/4 [00:00<?, ?it/s]"
      ]
     },
     "metadata": {},
     "output_type": "display_data"
    },
    {
     "data": {
      "application/vnd.jupyter.widget-view+json": {
       "model_id": "b8dcda3cc15a4279b9412e684769a768",
       "version_major": 2,
       "version_minor": 0
      },
      "text/plain": [
       "  0%|          | 0/4 [00:00<?, ?it/s]"
      ]
     },
     "metadata": {},
     "output_type": "display_data"
    },
    {
     "data": {
      "application/vnd.jupyter.widget-view+json": {
       "model_id": "fde14929d291490db95153ca3ca17006",
       "version_major": 2,
       "version_minor": 0
      },
      "text/plain": [
       "  0%|          | 0/4 [00:00<?, ?it/s]"
      ]
     },
     "metadata": {},
     "output_type": "display_data"
    },
    {
     "data": {
      "application/vnd.jupyter.widget-view+json": {
       "model_id": "c04fa9a2a5ae47128f109dc4d8707f20",
       "version_major": 2,
       "version_minor": 0
      },
      "text/plain": [
       "  0%|          | 0/4 [00:00<?, ?it/s]"
      ]
     },
     "metadata": {},
     "output_type": "display_data"
    },
    {
     "data": {
      "application/vnd.jupyter.widget-view+json": {
       "model_id": "7cae0b706e644eacb3dc7ad7804b4d69",
       "version_major": 2,
       "version_minor": 0
      },
      "text/plain": [
       "  0%|          | 0/4 [00:00<?, ?it/s]"
      ]
     },
     "metadata": {},
     "output_type": "display_data"
    },
    {
     "data": {
      "application/vnd.jupyter.widget-view+json": {
       "model_id": "c432f0cd0e9b4cc3a1de507d41db6195",
       "version_major": 2,
       "version_minor": 0
      },
      "text/plain": [
       "  0%|          | 0/4 [00:00<?, ?it/s]"
      ]
     },
     "metadata": {},
     "output_type": "display_data"
    },
    {
     "data": {
      "application/vnd.jupyter.widget-view+json": {
       "model_id": "fb33e131b4aa4ae5b952a8c3b502c286",
       "version_major": 2,
       "version_minor": 0
      },
      "text/plain": [
       "  0%|          | 0/4 [00:00<?, ?it/s]"
      ]
     },
     "metadata": {},
     "output_type": "display_data"
    },
    {
     "data": {
      "application/vnd.jupyter.widget-view+json": {
       "model_id": "e8ef8bb11d3e4bfa969f90f36699b797",
       "version_major": 2,
       "version_minor": 0
      },
      "text/plain": [
       "  0%|          | 0/4 [00:00<?, ?it/s]"
      ]
     },
     "metadata": {},
     "output_type": "display_data"
    },
    {
     "data": {
      "application/vnd.jupyter.widget-view+json": {
       "model_id": "a4c4b2fb15594eb1be0da84e67537209",
       "version_major": 2,
       "version_minor": 0
      },
      "text/plain": [
       "  0%|          | 0/4 [00:00<?, ?it/s]"
      ]
     },
     "metadata": {},
     "output_type": "display_data"
    },
    {
     "data": {
      "application/vnd.jupyter.widget-view+json": {
       "model_id": "e9860c821bb246529e1bd7c626827b49",
       "version_major": 2,
       "version_minor": 0
      },
      "text/plain": [
       "  0%|          | 0/4 [00:00<?, ?it/s]"
      ]
     },
     "metadata": {},
     "output_type": "display_data"
    },
    {
     "data": {
      "application/vnd.jupyter.widget-view+json": {
       "model_id": "c14e6c0c5b0e4707b6c1ef5b591832a1",
       "version_major": 2,
       "version_minor": 0
      },
      "text/plain": [
       "  0%|          | 0/4 [00:00<?, ?it/s]"
      ]
     },
     "metadata": {},
     "output_type": "display_data"
    },
    {
     "data": {
      "application/vnd.jupyter.widget-view+json": {
       "model_id": "b5e225173ef34a73a28509e7f6ff2f29",
       "version_major": 2,
       "version_minor": 0
      },
      "text/plain": [
       "  0%|          | 0/4 [00:00<?, ?it/s]"
      ]
     },
     "metadata": {},
     "output_type": "display_data"
    },
    {
     "data": {
      "application/vnd.jupyter.widget-view+json": {
       "model_id": "5a84ba6c288042f4be19c9ec4c097e80",
       "version_major": 2,
       "version_minor": 0
      },
      "text/plain": [
       "  0%|          | 0/4 [00:00<?, ?it/s]"
      ]
     },
     "metadata": {},
     "output_type": "display_data"
    },
    {
     "data": {
      "application/vnd.jupyter.widget-view+json": {
       "model_id": "9e7ff2a2e68b452d8c5c0444cd2c9d16",
       "version_major": 2,
       "version_minor": 0
      },
      "text/plain": [
       "  0%|          | 0/4 [00:00<?, ?it/s]"
      ]
     },
     "metadata": {},
     "output_type": "display_data"
    },
    {
     "data": {
      "application/vnd.jupyter.widget-view+json": {
       "model_id": "0e982cd46ddf487ab1c9f461e6e35ca2",
       "version_major": 2,
       "version_minor": 0
      },
      "text/plain": [
       "  0%|          | 0/4 [00:00<?, ?it/s]"
      ]
     },
     "metadata": {},
     "output_type": "display_data"
    },
    {
     "data": {
      "application/vnd.jupyter.widget-view+json": {
       "model_id": "f30bba8a33d4459db3f364fa63efc91e",
       "version_major": 2,
       "version_minor": 0
      },
      "text/plain": [
       "  0%|          | 0/4 [00:00<?, ?it/s]"
      ]
     },
     "metadata": {},
     "output_type": "display_data"
    },
    {
     "data": {
      "application/vnd.jupyter.widget-view+json": {
       "model_id": "2fe92ac150f6417e803421e18b655942",
       "version_major": 2,
       "version_minor": 0
      },
      "text/plain": [
       "  0%|          | 0/4 [00:00<?, ?it/s]"
      ]
     },
     "metadata": {},
     "output_type": "display_data"
    },
    {
     "data": {
      "application/vnd.jupyter.widget-view+json": {
       "model_id": "e036f47e46ea4736a7fe4bda830e2b09",
       "version_major": 2,
       "version_minor": 0
      },
      "text/plain": [
       "  0%|          | 0/4 [00:00<?, ?it/s]"
      ]
     },
     "metadata": {},
     "output_type": "display_data"
    },
    {
     "data": {
      "application/vnd.jupyter.widget-view+json": {
       "model_id": "f72a29db3f394b3f8796779cb8b75b84",
       "version_major": 2,
       "version_minor": 0
      },
      "text/plain": [
       "  0%|          | 0/4 [00:00<?, ?it/s]"
      ]
     },
     "metadata": {},
     "output_type": "display_data"
    },
    {
     "data": {
      "application/vnd.jupyter.widget-view+json": {
       "model_id": "71cb312bf1c64766a023e911be325546",
       "version_major": 2,
       "version_minor": 0
      },
      "text/plain": [
       "  0%|          | 0/4 [00:00<?, ?it/s]"
      ]
     },
     "metadata": {},
     "output_type": "display_data"
    },
    {
     "data": {
      "application/vnd.jupyter.widget-view+json": {
       "model_id": "28edddacc5e94fb0870f598d8dfdfdec",
       "version_major": 2,
       "version_minor": 0
      },
      "text/plain": [
       "  0%|          | 0/4 [00:00<?, ?it/s]"
      ]
     },
     "metadata": {},
     "output_type": "display_data"
    },
    {
     "data": {
      "application/vnd.jupyter.widget-view+json": {
       "model_id": "756120e5507b4516a3aa0ad8e1e2647c",
       "version_major": 2,
       "version_minor": 0
      },
      "text/plain": [
       "  0%|          | 0/4 [00:00<?, ?it/s]"
      ]
     },
     "metadata": {},
     "output_type": "display_data"
    },
    {
     "data": {
      "application/vnd.jupyter.widget-view+json": {
       "model_id": "98690c91589c400aaa2439b654443c3b",
       "version_major": 2,
       "version_minor": 0
      },
      "text/plain": [
       "  0%|          | 0/4 [00:00<?, ?it/s]"
      ]
     },
     "metadata": {},
     "output_type": "display_data"
    },
    {
     "data": {
      "application/vnd.jupyter.widget-view+json": {
       "model_id": "1b766e57d5ad444090a01f101395094a",
       "version_major": 2,
       "version_minor": 0
      },
      "text/plain": [
       "  0%|          | 0/4 [00:00<?, ?it/s]"
      ]
     },
     "metadata": {},
     "output_type": "display_data"
    },
    {
     "data": {
      "application/vnd.jupyter.widget-view+json": {
       "model_id": "83ea69a6eeae44e9945f126873e145b0",
       "version_major": 2,
       "version_minor": 0
      },
      "text/plain": [
       "  0%|          | 0/4 [00:00<?, ?it/s]"
      ]
     },
     "metadata": {},
     "output_type": "display_data"
    },
    {
     "data": {
      "application/vnd.jupyter.widget-view+json": {
       "model_id": "06cc18bcbddd41f2817f5c8551ff1a63",
       "version_major": 2,
       "version_minor": 0
      },
      "text/plain": [
       "  0%|          | 0/4 [00:00<?, ?it/s]"
      ]
     },
     "metadata": {},
     "output_type": "display_data"
    },
    {
     "data": {
      "application/vnd.jupyter.widget-view+json": {
       "model_id": "e72107a10cd1484e84868473c87947bf",
       "version_major": 2,
       "version_minor": 0
      },
      "text/plain": [
       "  0%|          | 0/4 [00:00<?, ?it/s]"
      ]
     },
     "metadata": {},
     "output_type": "display_data"
    },
    {
     "data": {
      "application/vnd.jupyter.widget-view+json": {
       "model_id": "60da7bc4c0df4012904d9b37ed1bb4fe",
       "version_major": 2,
       "version_minor": 0
      },
      "text/plain": [
       "  0%|          | 0/4 [00:00<?, ?it/s]"
      ]
     },
     "metadata": {},
     "output_type": "display_data"
    },
    {
     "data": {
      "application/vnd.jupyter.widget-view+json": {
       "model_id": "2fee532e5e1b4bea9698f6406f7aae4d",
       "version_major": 2,
       "version_minor": 0
      },
      "text/plain": [
       "  0%|          | 0/4 [00:00<?, ?it/s]"
      ]
     },
     "metadata": {},
     "output_type": "display_data"
    },
    {
     "data": {
      "application/vnd.jupyter.widget-view+json": {
       "model_id": "d34df73041534840971d2b80a79a243e",
       "version_major": 2,
       "version_minor": 0
      },
      "text/plain": [
       "  0%|          | 0/4 [00:00<?, ?it/s]"
      ]
     },
     "metadata": {},
     "output_type": "display_data"
    },
    {
     "data": {
      "application/vnd.jupyter.widget-view+json": {
       "model_id": "baebb958252f4c019adbbc6e78e60188",
       "version_major": 2,
       "version_minor": 0
      },
      "text/plain": [
       "  0%|          | 0/4 [00:00<?, ?it/s]"
      ]
     },
     "metadata": {},
     "output_type": "display_data"
    },
    {
     "data": {
      "application/vnd.jupyter.widget-view+json": {
       "model_id": "e659f7acb7774514b6ffe379bbd3e5e7",
       "version_major": 2,
       "version_minor": 0
      },
      "text/plain": [
       "  0%|          | 0/4 [00:00<?, ?it/s]"
      ]
     },
     "metadata": {},
     "output_type": "display_data"
    },
    {
     "data": {
      "application/vnd.jupyter.widget-view+json": {
       "model_id": "80d93d94b1bb4388b68028657ed2f55b",
       "version_major": 2,
       "version_minor": 0
      },
      "text/plain": [
       "  0%|          | 0/4 [00:00<?, ?it/s]"
      ]
     },
     "metadata": {},
     "output_type": "display_data"
    },
    {
     "data": {
      "application/vnd.jupyter.widget-view+json": {
       "model_id": "066af1f4bb04439d8cf49ea5ec9c1303",
       "version_major": 2,
       "version_minor": 0
      },
      "text/plain": [
       "  0%|          | 0/4 [00:00<?, ?it/s]"
      ]
     },
     "metadata": {},
     "output_type": "display_data"
    },
    {
     "data": {
      "application/vnd.jupyter.widget-view+json": {
       "model_id": "bf1435f69d1a40d394eb8982f392e9fe",
       "version_major": 2,
       "version_minor": 0
      },
      "text/plain": [
       "  0%|          | 0/4 [00:00<?, ?it/s]"
      ]
     },
     "metadata": {},
     "output_type": "display_data"
    },
    {
     "data": {
      "application/vnd.jupyter.widget-view+json": {
       "model_id": "5a6841fdb0d24a499838a2f5e0f2bfd6",
       "version_major": 2,
       "version_minor": 0
      },
      "text/plain": [
       "  0%|          | 0/4 [00:00<?, ?it/s]"
      ]
     },
     "metadata": {},
     "output_type": "display_data"
    },
    {
     "data": {
      "application/vnd.jupyter.widget-view+json": {
       "model_id": "38d9d597495e4843bd1a758616caf4f9",
       "version_major": 2,
       "version_minor": 0
      },
      "text/plain": [
       "  0%|          | 0/4 [00:00<?, ?it/s]"
      ]
     },
     "metadata": {},
     "output_type": "display_data"
    },
    {
     "data": {
      "application/vnd.jupyter.widget-view+json": {
       "model_id": "f197fbe5fee648978a27136aab511e33",
       "version_major": 2,
       "version_minor": 0
      },
      "text/plain": [
       "  0%|          | 0/4 [00:00<?, ?it/s]"
      ]
     },
     "metadata": {},
     "output_type": "display_data"
    },
    {
     "data": {
      "application/vnd.jupyter.widget-view+json": {
       "model_id": "a76520968da64dbe94d7509e2069a352",
       "version_major": 2,
       "version_minor": 0
      },
      "text/plain": [
       "  0%|          | 0/4 [00:00<?, ?it/s]"
      ]
     },
     "metadata": {},
     "output_type": "display_data"
    },
    {
     "data": {
      "application/vnd.jupyter.widget-view+json": {
       "model_id": "6f70a0282963469d990e57e9d369834f",
       "version_major": 2,
       "version_minor": 0
      },
      "text/plain": [
       "  0%|          | 0/4 [00:00<?, ?it/s]"
      ]
     },
     "metadata": {},
     "output_type": "display_data"
    },
    {
     "data": {
      "application/vnd.jupyter.widget-view+json": {
       "model_id": "4238500d22c14be0917dbda3f8c399c2",
       "version_major": 2,
       "version_minor": 0
      },
      "text/plain": [
       "  0%|          | 0/4 [00:00<?, ?it/s]"
      ]
     },
     "metadata": {},
     "output_type": "display_data"
    },
    {
     "data": {
      "application/vnd.jupyter.widget-view+json": {
       "model_id": "9e22501f3fc54abca0fe4a7f1b64b755",
       "version_major": 2,
       "version_minor": 0
      },
      "text/plain": [
       "  0%|          | 0/4 [00:00<?, ?it/s]"
      ]
     },
     "metadata": {},
     "output_type": "display_data"
    },
    {
     "data": {
      "application/vnd.jupyter.widget-view+json": {
       "model_id": "7091842c8aff4a13a073945b62d16fd7",
       "version_major": 2,
       "version_minor": 0
      },
      "text/plain": [
       "  0%|          | 0/4 [00:00<?, ?it/s]"
      ]
     },
     "metadata": {},
     "output_type": "display_data"
    },
    {
     "data": {
      "application/vnd.jupyter.widget-view+json": {
       "model_id": "c28b29d85edd479ba074f30f7f5b08d5",
       "version_major": 2,
       "version_minor": 0
      },
      "text/plain": [
       "  0%|          | 0/4 [00:00<?, ?it/s]"
      ]
     },
     "metadata": {},
     "output_type": "display_data"
    },
    {
     "data": {
      "application/vnd.jupyter.widget-view+json": {
       "model_id": "8e1e4c7f6bb748aab6614845afeb1fc2",
       "version_major": 2,
       "version_minor": 0
      },
      "text/plain": [
       "  0%|          | 0/4 [00:00<?, ?it/s]"
      ]
     },
     "metadata": {},
     "output_type": "display_data"
    },
    {
     "data": {
      "application/vnd.jupyter.widget-view+json": {
       "model_id": "675db74580ba4d22ad5b8dde1cd14e2a",
       "version_major": 2,
       "version_minor": 0
      },
      "text/plain": [
       "  0%|          | 0/4 [00:00<?, ?it/s]"
      ]
     },
     "metadata": {},
     "output_type": "display_data"
    },
    {
     "data": {
      "application/vnd.jupyter.widget-view+json": {
       "model_id": "519053f5e3994df7aa9d2604ca1108d0",
       "version_major": 2,
       "version_minor": 0
      },
      "text/plain": [
       "  0%|          | 0/4 [00:00<?, ?it/s]"
      ]
     },
     "metadata": {},
     "output_type": "display_data"
    },
    {
     "data": {
      "application/vnd.jupyter.widget-view+json": {
       "model_id": "5aa045024a8e403db0dc30d1383754b6",
       "version_major": 2,
       "version_minor": 0
      },
      "text/plain": [
       "  0%|          | 0/4 [00:00<?, ?it/s]"
      ]
     },
     "metadata": {},
     "output_type": "display_data"
    },
    {
     "data": {
      "application/vnd.jupyter.widget-view+json": {
       "model_id": "ed82a58daab84570a0ec8246a11fafd4",
       "version_major": 2,
       "version_minor": 0
      },
      "text/plain": [
       "  0%|          | 0/4 [00:00<?, ?it/s]"
      ]
     },
     "metadata": {},
     "output_type": "display_data"
    },
    {
     "data": {
      "application/vnd.jupyter.widget-view+json": {
       "model_id": "28f248f6a296415fadd711a7950278fd",
       "version_major": 2,
       "version_minor": 0
      },
      "text/plain": [
       "  0%|          | 0/4 [00:00<?, ?it/s]"
      ]
     },
     "metadata": {},
     "output_type": "display_data"
    },
    {
     "data": {
      "application/vnd.jupyter.widget-view+json": {
       "model_id": "2b251143ad604f958dae9527e8e81895",
       "version_major": 2,
       "version_minor": 0
      },
      "text/plain": [
       "  0%|          | 0/4 [00:00<?, ?it/s]"
      ]
     },
     "metadata": {},
     "output_type": "display_data"
    },
    {
     "data": {
      "application/vnd.jupyter.widget-view+json": {
       "model_id": "d6597b54cfde43f290af7804c00ad50c",
       "version_major": 2,
       "version_minor": 0
      },
      "text/plain": [
       "  0%|          | 0/4 [00:00<?, ?it/s]"
      ]
     },
     "metadata": {},
     "output_type": "display_data"
    },
    {
     "data": {
      "application/vnd.jupyter.widget-view+json": {
       "model_id": "60674bfc50d049759e502368fa933c11",
       "version_major": 2,
       "version_minor": 0
      },
      "text/plain": [
       "  0%|          | 0/4 [00:00<?, ?it/s]"
      ]
     },
     "metadata": {},
     "output_type": "display_data"
    },
    {
     "data": {
      "application/vnd.jupyter.widget-view+json": {
       "model_id": "d9ac748cb78a4d9c8995752a99e8070c",
       "version_major": 2,
       "version_minor": 0
      },
      "text/plain": [
       "  0%|          | 0/4 [00:00<?, ?it/s]"
      ]
     },
     "metadata": {},
     "output_type": "display_data"
    },
    {
     "data": {
      "application/vnd.jupyter.widget-view+json": {
       "model_id": "ab4bdd2136b4415790a76fef33381a87",
       "version_major": 2,
       "version_minor": 0
      },
      "text/plain": [
       "  0%|          | 0/4 [00:00<?, ?it/s]"
      ]
     },
     "metadata": {},
     "output_type": "display_data"
    },
    {
     "data": {
      "application/vnd.jupyter.widget-view+json": {
       "model_id": "ba58711503cd4453b9863207b8c7f96b",
       "version_major": 2,
       "version_minor": 0
      },
      "text/plain": [
       "  0%|          | 0/4 [00:00<?, ?it/s]"
      ]
     },
     "metadata": {},
     "output_type": "display_data"
    },
    {
     "data": {
      "application/vnd.jupyter.widget-view+json": {
       "model_id": "efed60183b17485d8563d763ced8d342",
       "version_major": 2,
       "version_minor": 0
      },
      "text/plain": [
       "  0%|          | 0/4 [00:00<?, ?it/s]"
      ]
     },
     "metadata": {},
     "output_type": "display_data"
    },
    {
     "data": {
      "application/vnd.jupyter.widget-view+json": {
       "model_id": "8269eda42dbe4afc907e0ac91a7532db",
       "version_major": 2,
       "version_minor": 0
      },
      "text/plain": [
       "  0%|          | 0/4 [00:00<?, ?it/s]"
      ]
     },
     "metadata": {},
     "output_type": "display_data"
    },
    {
     "data": {
      "application/vnd.jupyter.widget-view+json": {
       "model_id": "0ee5b53495484342898583ed2ab4b954",
       "version_major": 2,
       "version_minor": 0
      },
      "text/plain": [
       "  0%|          | 0/4 [00:00<?, ?it/s]"
      ]
     },
     "metadata": {},
     "output_type": "display_data"
    },
    {
     "data": {
      "application/vnd.jupyter.widget-view+json": {
       "model_id": "36080c618cd349a3b62dd56dd1436e0d",
       "version_major": 2,
       "version_minor": 0
      },
      "text/plain": [
       "  0%|          | 0/4 [00:00<?, ?it/s]"
      ]
     },
     "metadata": {},
     "output_type": "display_data"
    },
    {
     "data": {
      "application/vnd.jupyter.widget-view+json": {
       "model_id": "4b17e94d1e714700bc6dc205073e7dba",
       "version_major": 2,
       "version_minor": 0
      },
      "text/plain": [
       "  0%|          | 0/4 [00:00<?, ?it/s]"
      ]
     },
     "metadata": {},
     "output_type": "display_data"
    },
    {
     "data": {
      "application/vnd.jupyter.widget-view+json": {
       "model_id": "1cc42d233ad54cc391e42b923da4f60e",
       "version_major": 2,
       "version_minor": 0
      },
      "text/plain": [
       "  0%|          | 0/4 [00:00<?, ?it/s]"
      ]
     },
     "metadata": {},
     "output_type": "display_data"
    },
    {
     "data": {
      "application/vnd.jupyter.widget-view+json": {
       "model_id": "ff990c918b0c4e60be047263d219045c",
       "version_major": 2,
       "version_minor": 0
      },
      "text/plain": [
       "  0%|          | 0/4 [00:00<?, ?it/s]"
      ]
     },
     "metadata": {},
     "output_type": "display_data"
    },
    {
     "data": {
      "application/vnd.jupyter.widget-view+json": {
       "model_id": "0ba9640926634eb7ae69988210d16f7b",
       "version_major": 2,
       "version_minor": 0
      },
      "text/plain": [
       "  0%|          | 0/4 [00:00<?, ?it/s]"
      ]
     },
     "metadata": {},
     "output_type": "display_data"
    },
    {
     "data": {
      "application/vnd.jupyter.widget-view+json": {
       "model_id": "b4897ef410db465a84e8c271c58a25ac",
       "version_major": 2,
       "version_minor": 0
      },
      "text/plain": [
       "  0%|          | 0/4 [00:00<?, ?it/s]"
      ]
     },
     "metadata": {},
     "output_type": "display_data"
    },
    {
     "data": {
      "application/vnd.jupyter.widget-view+json": {
       "model_id": "9838f6c74c4b4d6c85e114b1de9aa104",
       "version_major": 2,
       "version_minor": 0
      },
      "text/plain": [
       "  0%|          | 0/4 [00:00<?, ?it/s]"
      ]
     },
     "metadata": {},
     "output_type": "display_data"
    },
    {
     "data": {
      "application/vnd.jupyter.widget-view+json": {
       "model_id": "3855af8ee5dd4d4e91d9819f8fc787ee",
       "version_major": 2,
       "version_minor": 0
      },
      "text/plain": [
       "  0%|          | 0/4 [00:00<?, ?it/s]"
      ]
     },
     "metadata": {},
     "output_type": "display_data"
    },
    {
     "data": {
      "application/vnd.jupyter.widget-view+json": {
       "model_id": "851adf87a5e649a196c13b8196dd61f5",
       "version_major": 2,
       "version_minor": 0
      },
      "text/plain": [
       "  0%|          | 0/4 [00:00<?, ?it/s]"
      ]
     },
     "metadata": {},
     "output_type": "display_data"
    },
    {
     "data": {
      "application/vnd.jupyter.widget-view+json": {
       "model_id": "a124be563ae54fda88f458ab223d683e",
       "version_major": 2,
       "version_minor": 0
      },
      "text/plain": [
       "  0%|          | 0/4 [00:00<?, ?it/s]"
      ]
     },
     "metadata": {},
     "output_type": "display_data"
    },
    {
     "data": {
      "application/vnd.jupyter.widget-view+json": {
       "model_id": "4a8d91ca987049feb0cda1c61d9a47ab",
       "version_major": 2,
       "version_minor": 0
      },
      "text/plain": [
       "  0%|          | 0/4 [00:00<?, ?it/s]"
      ]
     },
     "metadata": {},
     "output_type": "display_data"
    },
    {
     "data": {
      "application/vnd.jupyter.widget-view+json": {
       "model_id": "36c8f239b6aa4ec9a7ac0f1031c44b29",
       "version_major": 2,
       "version_minor": 0
      },
      "text/plain": [
       "  0%|          | 0/4 [00:00<?, ?it/s]"
      ]
     },
     "metadata": {},
     "output_type": "display_data"
    },
    {
     "data": {
      "application/vnd.jupyter.widget-view+json": {
       "model_id": "409f73a3ca8542cb8154b968d80b0739",
       "version_major": 2,
       "version_minor": 0
      },
      "text/plain": [
       "  0%|          | 0/4 [00:00<?, ?it/s]"
      ]
     },
     "metadata": {},
     "output_type": "display_data"
    },
    {
     "data": {
      "application/vnd.jupyter.widget-view+json": {
       "model_id": "65c5d862c04a44d19e6fe3873dec8f5d",
       "version_major": 2,
       "version_minor": 0
      },
      "text/plain": [
       "  0%|          | 0/4 [00:00<?, ?it/s]"
      ]
     },
     "metadata": {},
     "output_type": "display_data"
    },
    {
     "data": {
      "application/vnd.jupyter.widget-view+json": {
       "model_id": "f1d5bf004b4b439a99d37c7ab59bf1af",
       "version_major": 2,
       "version_minor": 0
      },
      "text/plain": [
       "  0%|          | 0/4 [00:00<?, ?it/s]"
      ]
     },
     "metadata": {},
     "output_type": "display_data"
    },
    {
     "data": {
      "application/vnd.jupyter.widget-view+json": {
       "model_id": "913f274e2b3d4a1daf262f4830c63d66",
       "version_major": 2,
       "version_minor": 0
      },
      "text/plain": [
       "  0%|          | 0/4 [00:00<?, ?it/s]"
      ]
     },
     "metadata": {},
     "output_type": "display_data"
    },
    {
     "data": {
      "application/vnd.jupyter.widget-view+json": {
       "model_id": "4f59693ed33a4676bb8255fde9e2a645",
       "version_major": 2,
       "version_minor": 0
      },
      "text/plain": [
       "  0%|          | 0/4 [00:00<?, ?it/s]"
      ]
     },
     "metadata": {},
     "output_type": "display_data"
    },
    {
     "data": {
      "application/vnd.jupyter.widget-view+json": {
       "model_id": "cc12604251e448d7ad4cceaa0ab0abde",
       "version_major": 2,
       "version_minor": 0
      },
      "text/plain": [
       "  0%|          | 0/4 [00:00<?, ?it/s]"
      ]
     },
     "metadata": {},
     "output_type": "display_data"
    },
    {
     "data": {
      "application/vnd.jupyter.widget-view+json": {
       "model_id": "868901f82d084898ae57998935732e1f",
       "version_major": 2,
       "version_minor": 0
      },
      "text/plain": [
       "  0%|          | 0/4 [00:00<?, ?it/s]"
      ]
     },
     "metadata": {},
     "output_type": "display_data"
    },
    {
     "data": {
      "application/vnd.jupyter.widget-view+json": {
       "model_id": "972f1c2ede1e472398831ed2a6623885",
       "version_major": 2,
       "version_minor": 0
      },
      "text/plain": [
       "  0%|          | 0/4 [00:00<?, ?it/s]"
      ]
     },
     "metadata": {},
     "output_type": "display_data"
    },
    {
     "data": {
      "application/vnd.jupyter.widget-view+json": {
       "model_id": "0b7b7e4898cf49b391d0e5319af5d552",
       "version_major": 2,
       "version_minor": 0
      },
      "text/plain": [
       "  0%|          | 0/4 [00:00<?, ?it/s]"
      ]
     },
     "metadata": {},
     "output_type": "display_data"
    },
    {
     "data": {
      "application/vnd.jupyter.widget-view+json": {
       "model_id": "7d2573f4e4f941bbba4d06d5489d4c3a",
       "version_major": 2,
       "version_minor": 0
      },
      "text/plain": [
       "  0%|          | 0/4 [00:00<?, ?it/s]"
      ]
     },
     "metadata": {},
     "output_type": "display_data"
    },
    {
     "data": {
      "application/vnd.jupyter.widget-view+json": {
       "model_id": "1333a18038fd42448db1e3ce4d17f9ef",
       "version_major": 2,
       "version_minor": 0
      },
      "text/plain": [
       "  0%|          | 0/4 [00:00<?, ?it/s]"
      ]
     },
     "metadata": {},
     "output_type": "display_data"
    },
    {
     "data": {
      "application/vnd.jupyter.widget-view+json": {
       "model_id": "b83eee92422b4597ba4536a1ec036578",
       "version_major": 2,
       "version_minor": 0
      },
      "text/plain": [
       "  0%|          | 0/4 [00:00<?, ?it/s]"
      ]
     },
     "metadata": {},
     "output_type": "display_data"
    },
    {
     "data": {
      "application/vnd.jupyter.widget-view+json": {
       "model_id": "98ff47578d594c1e9e23e72fde920795",
       "version_major": 2,
       "version_minor": 0
      },
      "text/plain": [
       "  0%|          | 0/4 [00:00<?, ?it/s]"
      ]
     },
     "metadata": {},
     "output_type": "display_data"
    },
    {
     "data": {
      "application/vnd.jupyter.widget-view+json": {
       "model_id": "3c847c1db554466bbd7415b378c60274",
       "version_major": 2,
       "version_minor": 0
      },
      "text/plain": [
       "  0%|          | 0/4 [00:00<?, ?it/s]"
      ]
     },
     "metadata": {},
     "output_type": "display_data"
    },
    {
     "data": {
      "application/vnd.jupyter.widget-view+json": {
       "model_id": "bfe8739663b24eddb1dfa6984d3ee4a0",
       "version_major": 2,
       "version_minor": 0
      },
      "text/plain": [
       "  0%|          | 0/4 [00:00<?, ?it/s]"
      ]
     },
     "metadata": {},
     "output_type": "display_data"
    },
    {
     "data": {
      "application/vnd.jupyter.widget-view+json": {
       "model_id": "33f52d1a89af492fb484fea1f54f6aff",
       "version_major": 2,
       "version_minor": 0
      },
      "text/plain": [
       "  0%|          | 0/4 [00:00<?, ?it/s]"
      ]
     },
     "metadata": {},
     "output_type": "display_data"
    },
    {
     "data": {
      "application/vnd.jupyter.widget-view+json": {
       "model_id": "de95edecf88f47f59a183b4a98fe5204",
       "version_major": 2,
       "version_minor": 0
      },
      "text/plain": [
       "  0%|          | 0/4 [00:00<?, ?it/s]"
      ]
     },
     "metadata": {},
     "output_type": "display_data"
    },
    {
     "data": {
      "application/vnd.jupyter.widget-view+json": {
       "model_id": "c0852cb25ec34f029831056e7a9970c0",
       "version_major": 2,
       "version_minor": 0
      },
      "text/plain": [
       "  0%|          | 0/4 [00:00<?, ?it/s]"
      ]
     },
     "metadata": {},
     "output_type": "display_data"
    },
    {
     "data": {
      "application/vnd.jupyter.widget-view+json": {
       "model_id": "03b485d83c2d44e1a0f2272e653ada38",
       "version_major": 2,
       "version_minor": 0
      },
      "text/plain": [
       "  0%|          | 0/4 [00:00<?, ?it/s]"
      ]
     },
     "metadata": {},
     "output_type": "display_data"
    },
    {
     "data": {
      "application/vnd.jupyter.widget-view+json": {
       "model_id": "04a28a188ba04cfe90adfb26de2fafaf",
       "version_major": 2,
       "version_minor": 0
      },
      "text/plain": [
       "  0%|          | 0/4 [00:00<?, ?it/s]"
      ]
     },
     "metadata": {},
     "output_type": "display_data"
    },
    {
     "data": {
      "application/vnd.jupyter.widget-view+json": {
       "model_id": "a11ab2029ce84ec8836fa6f8851d8bb7",
       "version_major": 2,
       "version_minor": 0
      },
      "text/plain": [
       "  0%|          | 0/4 [00:00<?, ?it/s]"
      ]
     },
     "metadata": {},
     "output_type": "display_data"
    },
    {
     "data": {
      "application/vnd.jupyter.widget-view+json": {
       "model_id": "6328ccb40e234864a0bb34f7d6c97e60",
       "version_major": 2,
       "version_minor": 0
      },
      "text/plain": [
       "  0%|          | 0/4 [00:00<?, ?it/s]"
      ]
     },
     "metadata": {},
     "output_type": "display_data"
    },
    {
     "data": {
      "application/vnd.jupyter.widget-view+json": {
       "model_id": "5d4ebdeaf5e24072bb05ea93a058dfe2",
       "version_major": 2,
       "version_minor": 0
      },
      "text/plain": [
       "  0%|          | 0/4 [00:00<?, ?it/s]"
      ]
     },
     "metadata": {},
     "output_type": "display_data"
    },
    {
     "data": {
      "application/vnd.jupyter.widget-view+json": {
       "model_id": "3daf394525654df88e5165f099eb0d06",
       "version_major": 2,
       "version_minor": 0
      },
      "text/plain": [
       "  0%|          | 0/4 [00:00<?, ?it/s]"
      ]
     },
     "metadata": {},
     "output_type": "display_data"
    },
    {
     "data": {
      "application/vnd.jupyter.widget-view+json": {
       "model_id": "b9e3f3e15c2b4c67bcc278ede29bd4d7",
       "version_major": 2,
       "version_minor": 0
      },
      "text/plain": [
       "  0%|          | 0/4 [00:00<?, ?it/s]"
      ]
     },
     "metadata": {},
     "output_type": "display_data"
    },
    {
     "data": {
      "application/vnd.jupyter.widget-view+json": {
       "model_id": "b467dd38c095406595320a44db115064",
       "version_major": 2,
       "version_minor": 0
      },
      "text/plain": [
       "  0%|          | 0/4 [00:00<?, ?it/s]"
      ]
     },
     "metadata": {},
     "output_type": "display_data"
    },
    {
     "data": {
      "application/vnd.jupyter.widget-view+json": {
       "model_id": "a574aa65adf24e20b47b741dff5f3800",
       "version_major": 2,
       "version_minor": 0
      },
      "text/plain": [
       "  0%|          | 0/4 [00:00<?, ?it/s]"
      ]
     },
     "metadata": {},
     "output_type": "display_data"
    },
    {
     "data": {
      "application/vnd.jupyter.widget-view+json": {
       "model_id": "e1b9e0a3c0734a51b629d28ee39e2112",
       "version_major": 2,
       "version_minor": 0
      },
      "text/plain": [
       "  0%|          | 0/4 [00:00<?, ?it/s]"
      ]
     },
     "metadata": {},
     "output_type": "display_data"
    },
    {
     "data": {
      "application/vnd.jupyter.widget-view+json": {
       "model_id": "3bc1abb085744ef1904a619ad641baba",
       "version_major": 2,
       "version_minor": 0
      },
      "text/plain": [
       "  0%|          | 0/4 [00:00<?, ?it/s]"
      ]
     },
     "metadata": {},
     "output_type": "display_data"
    },
    {
     "data": {
      "application/vnd.jupyter.widget-view+json": {
       "model_id": "8acc8748fb5049bd879953d9f4654bda",
       "version_major": 2,
       "version_minor": 0
      },
      "text/plain": [
       "  0%|          | 0/4 [00:00<?, ?it/s]"
      ]
     },
     "metadata": {},
     "output_type": "display_data"
    },
    {
     "data": {
      "application/vnd.jupyter.widget-view+json": {
       "model_id": "30d0f8f109874a41a6a2c9d26315331f",
       "version_major": 2,
       "version_minor": 0
      },
      "text/plain": [
       "  0%|          | 0/4 [00:00<?, ?it/s]"
      ]
     },
     "metadata": {},
     "output_type": "display_data"
    },
    {
     "data": {
      "application/vnd.jupyter.widget-view+json": {
       "model_id": "6ac23673bbd74c7d88434d365ee8ab04",
       "version_major": 2,
       "version_minor": 0
      },
      "text/plain": [
       "  0%|          | 0/4 [00:00<?, ?it/s]"
      ]
     },
     "metadata": {},
     "output_type": "display_data"
    },
    {
     "data": {
      "application/vnd.jupyter.widget-view+json": {
       "model_id": "7fa5bf782ca4447ca8ad82908aaeaa05",
       "version_major": 2,
       "version_minor": 0
      },
      "text/plain": [
       "  0%|          | 0/4 [00:00<?, ?it/s]"
      ]
     },
     "metadata": {},
     "output_type": "display_data"
    },
    {
     "data": {
      "application/vnd.jupyter.widget-view+json": {
       "model_id": "ab0379adb0ae4bba882a724ead1c53e3",
       "version_major": 2,
       "version_minor": 0
      },
      "text/plain": [
       "  0%|          | 0/4 [00:00<?, ?it/s]"
      ]
     },
     "metadata": {},
     "output_type": "display_data"
    },
    {
     "data": {
      "application/vnd.jupyter.widget-view+json": {
       "model_id": "8594b838669449fa8fa294a24fe25c7a",
       "version_major": 2,
       "version_minor": 0
      },
      "text/plain": [
       "  0%|          | 0/4 [00:00<?, ?it/s]"
      ]
     },
     "metadata": {},
     "output_type": "display_data"
    },
    {
     "data": {
      "application/vnd.jupyter.widget-view+json": {
       "model_id": "5a25c0d400294c3e8dd55b4661713011",
       "version_major": 2,
       "version_minor": 0
      },
      "text/plain": [
       "  0%|          | 0/4 [00:00<?, ?it/s]"
      ]
     },
     "metadata": {},
     "output_type": "display_data"
    },
    {
     "data": {
      "application/vnd.jupyter.widget-view+json": {
       "model_id": "3b7f90e66dc14c2c966a3b15daf18547",
       "version_major": 2,
       "version_minor": 0
      },
      "text/plain": [
       "  0%|          | 0/4 [00:00<?, ?it/s]"
      ]
     },
     "metadata": {},
     "output_type": "display_data"
    },
    {
     "data": {
      "application/vnd.jupyter.widget-view+json": {
       "model_id": "f37259b6ceec42d893f3077d6f958024",
       "version_major": 2,
       "version_minor": 0
      },
      "text/plain": [
       "  0%|          | 0/4 [00:00<?, ?it/s]"
      ]
     },
     "metadata": {},
     "output_type": "display_data"
    },
    {
     "data": {
      "application/vnd.jupyter.widget-view+json": {
       "model_id": "4cfb0a96b49844d38a10da0eaa3ab610",
       "version_major": 2,
       "version_minor": 0
      },
      "text/plain": [
       "  0%|          | 0/4 [00:00<?, ?it/s]"
      ]
     },
     "metadata": {},
     "output_type": "display_data"
    },
    {
     "data": {
      "application/vnd.jupyter.widget-view+json": {
       "model_id": "de22f76dd09146a782daec0ab114060d",
       "version_major": 2,
       "version_minor": 0
      },
      "text/plain": [
       "  0%|          | 0/4 [00:00<?, ?it/s]"
      ]
     },
     "metadata": {},
     "output_type": "display_data"
    },
    {
     "data": {
      "application/vnd.jupyter.widget-view+json": {
       "model_id": "46abc86f025f4501bfad56bf4991b66f",
       "version_major": 2,
       "version_minor": 0
      },
      "text/plain": [
       "  0%|          | 0/4 [00:00<?, ?it/s]"
      ]
     },
     "metadata": {},
     "output_type": "display_data"
    },
    {
     "data": {
      "application/vnd.jupyter.widget-view+json": {
       "model_id": "2a194af2e7374ab5ae9ac8172155b9ca",
       "version_major": 2,
       "version_minor": 0
      },
      "text/plain": [
       "  0%|          | 0/4 [00:00<?, ?it/s]"
      ]
     },
     "metadata": {},
     "output_type": "display_data"
    },
    {
     "data": {
      "application/vnd.jupyter.widget-view+json": {
       "model_id": "aa143fba4a9c406db4ee3071ebc0189a",
       "version_major": 2,
       "version_minor": 0
      },
      "text/plain": [
       "  0%|          | 0/4 [00:00<?, ?it/s]"
      ]
     },
     "metadata": {},
     "output_type": "display_data"
    },
    {
     "data": {
      "application/vnd.jupyter.widget-view+json": {
       "model_id": "323c1e223e3849e788b662d6d8ceb9de",
       "version_major": 2,
       "version_minor": 0
      },
      "text/plain": [
       "  0%|          | 0/4 [00:00<?, ?it/s]"
      ]
     },
     "metadata": {},
     "output_type": "display_data"
    },
    {
     "data": {
      "application/vnd.jupyter.widget-view+json": {
       "model_id": "eec170fb5e3746dd9b965807e7ea1a5e",
       "version_major": 2,
       "version_minor": 0
      },
      "text/plain": [
       "  0%|          | 0/4 [00:00<?, ?it/s]"
      ]
     },
     "metadata": {},
     "output_type": "display_data"
    },
    {
     "data": {
      "application/vnd.jupyter.widget-view+json": {
       "model_id": "c25296cacbe74292a445d35d630ca91b",
       "version_major": 2,
       "version_minor": 0
      },
      "text/plain": [
       "  0%|          | 0/4 [00:00<?, ?it/s]"
      ]
     },
     "metadata": {},
     "output_type": "display_data"
    },
    {
     "data": {
      "application/vnd.jupyter.widget-view+json": {
       "model_id": "e081e54198c543608d49e5269e402d7d",
       "version_major": 2,
       "version_minor": 0
      },
      "text/plain": [
       "  0%|          | 0/4 [00:00<?, ?it/s]"
      ]
     },
     "metadata": {},
     "output_type": "display_data"
    },
    {
     "data": {
      "application/vnd.jupyter.widget-view+json": {
       "model_id": "e967dc40b8cf4e61aa310e32f9b2ab07",
       "version_major": 2,
       "version_minor": 0
      },
      "text/plain": [
       "  0%|          | 0/4 [00:00<?, ?it/s]"
      ]
     },
     "metadata": {},
     "output_type": "display_data"
    },
    {
     "data": {
      "application/vnd.jupyter.widget-view+json": {
       "model_id": "49791d78c2ef4d11871178fc401bd31d",
       "version_major": 2,
       "version_minor": 0
      },
      "text/plain": [
       "  0%|          | 0/4 [00:00<?, ?it/s]"
      ]
     },
     "metadata": {},
     "output_type": "display_data"
    },
    {
     "data": {
      "application/vnd.jupyter.widget-view+json": {
       "model_id": "faef2212829c4950a23683fdd8eb6345",
       "version_major": 2,
       "version_minor": 0
      },
      "text/plain": [
       "  0%|          | 0/4 [00:00<?, ?it/s]"
      ]
     },
     "metadata": {},
     "output_type": "display_data"
    },
    {
     "data": {
      "application/vnd.jupyter.widget-view+json": {
       "model_id": "5eefd66fdae7493b8f9f810c7a2b5691",
       "version_major": 2,
       "version_minor": 0
      },
      "text/plain": [
       "  0%|          | 0/4 [00:00<?, ?it/s]"
      ]
     },
     "metadata": {},
     "output_type": "display_data"
    },
    {
     "data": {
      "application/vnd.jupyter.widget-view+json": {
       "model_id": "5ed7a98a7e274298b0f4340496ecc9de",
       "version_major": 2,
       "version_minor": 0
      },
      "text/plain": [
       "  0%|          | 0/4 [00:00<?, ?it/s]"
      ]
     },
     "metadata": {},
     "output_type": "display_data"
    },
    {
     "data": {
      "application/vnd.jupyter.widget-view+json": {
       "model_id": "a343d51c66684c038571617c5db6c87c",
       "version_major": 2,
       "version_minor": 0
      },
      "text/plain": [
       "  0%|          | 0/4 [00:00<?, ?it/s]"
      ]
     },
     "metadata": {},
     "output_type": "display_data"
    },
    {
     "data": {
      "application/vnd.jupyter.widget-view+json": {
       "model_id": "202ed49bb8924465ac0b0eae0e380124",
       "version_major": 2,
       "version_minor": 0
      },
      "text/plain": [
       "  0%|          | 0/4 [00:00<?, ?it/s]"
      ]
     },
     "metadata": {},
     "output_type": "display_data"
    },
    {
     "data": {
      "application/vnd.jupyter.widget-view+json": {
       "model_id": "1c1913a5542a4043982aaf6976fa8f94",
       "version_major": 2,
       "version_minor": 0
      },
      "text/plain": [
       "  0%|          | 0/4 [00:00<?, ?it/s]"
      ]
     },
     "metadata": {},
     "output_type": "display_data"
    },
    {
     "data": {
      "application/vnd.jupyter.widget-view+json": {
       "model_id": "e21a1e6401124fb1864ad4a44069337a",
       "version_major": 2,
       "version_minor": 0
      },
      "text/plain": [
       "  0%|          | 0/4 [00:00<?, ?it/s]"
      ]
     },
     "metadata": {},
     "output_type": "display_data"
    },
    {
     "data": {
      "application/vnd.jupyter.widget-view+json": {
       "model_id": "cfa3bf37b3d44c759189aab553931325",
       "version_major": 2,
       "version_minor": 0
      },
      "text/plain": [
       "  0%|          | 0/4 [00:00<?, ?it/s]"
      ]
     },
     "metadata": {},
     "output_type": "display_data"
    },
    {
     "data": {
      "application/vnd.jupyter.widget-view+json": {
       "model_id": "a23124515c0548fd9fb987706757e218",
       "version_major": 2,
       "version_minor": 0
      },
      "text/plain": [
       "  0%|          | 0/4 [00:00<?, ?it/s]"
      ]
     },
     "metadata": {},
     "output_type": "display_data"
    },
    {
     "data": {
      "application/vnd.jupyter.widget-view+json": {
       "model_id": "145fb9ee57a44dbd83c086b131d85040",
       "version_major": 2,
       "version_minor": 0
      },
      "text/plain": [
       "  0%|          | 0/4 [00:00<?, ?it/s]"
      ]
     },
     "metadata": {},
     "output_type": "display_data"
    },
    {
     "data": {
      "application/vnd.jupyter.widget-view+json": {
       "model_id": "60e5b3f87bf346f68a0bbdd0a8bf5eba",
       "version_major": 2,
       "version_minor": 0
      },
      "text/plain": [
       "  0%|          | 0/4 [00:00<?, ?it/s]"
      ]
     },
     "metadata": {},
     "output_type": "display_data"
    },
    {
     "data": {
      "application/vnd.jupyter.widget-view+json": {
       "model_id": "786635bb4eeb4b6ba588e78af7ac0f78",
       "version_major": 2,
       "version_minor": 0
      },
      "text/plain": [
       "  0%|          | 0/4 [00:00<?, ?it/s]"
      ]
     },
     "metadata": {},
     "output_type": "display_data"
    },
    {
     "data": {
      "application/vnd.jupyter.widget-view+json": {
       "model_id": "817dc5f656344e25b7466568b975dae8",
       "version_major": 2,
       "version_minor": 0
      },
      "text/plain": [
       "  0%|          | 0/4 [00:00<?, ?it/s]"
      ]
     },
     "metadata": {},
     "output_type": "display_data"
    },
    {
     "data": {
      "application/vnd.jupyter.widget-view+json": {
       "model_id": "a3057b3473f941069da0aef22d834086",
       "version_major": 2,
       "version_minor": 0
      },
      "text/plain": [
       "  0%|          | 0/4 [00:00<?, ?it/s]"
      ]
     },
     "metadata": {},
     "output_type": "display_data"
    },
    {
     "data": {
      "application/vnd.jupyter.widget-view+json": {
       "model_id": "41d4d3ccafc6424293f46d01277cd55b",
       "version_major": 2,
       "version_minor": 0
      },
      "text/plain": [
       "  0%|          | 0/4 [00:00<?, ?it/s]"
      ]
     },
     "metadata": {},
     "output_type": "display_data"
    },
    {
     "data": {
      "application/vnd.jupyter.widget-view+json": {
       "model_id": "68c6113ee6b043278a4ce1142250c5a4",
       "version_major": 2,
       "version_minor": 0
      },
      "text/plain": [
       "  0%|          | 0/4 [00:00<?, ?it/s]"
      ]
     },
     "metadata": {},
     "output_type": "display_data"
    },
    {
     "data": {
      "application/vnd.jupyter.widget-view+json": {
       "model_id": "46360f8627e5459187dc4c043aa51aa1",
       "version_major": 2,
       "version_minor": 0
      },
      "text/plain": [
       "  0%|          | 0/4 [00:00<?, ?it/s]"
      ]
     },
     "metadata": {},
     "output_type": "display_data"
    },
    {
     "data": {
      "application/vnd.jupyter.widget-view+json": {
       "model_id": "49573c72fa1c49889b0012ba7d1ae62d",
       "version_major": 2,
       "version_minor": 0
      },
      "text/plain": [
       "  0%|          | 0/4 [00:00<?, ?it/s]"
      ]
     },
     "metadata": {},
     "output_type": "display_data"
    },
    {
     "data": {
      "application/vnd.jupyter.widget-view+json": {
       "model_id": "7a1d67d08e5a4c009276daf53cecdbee",
       "version_major": 2,
       "version_minor": 0
      },
      "text/plain": [
       "  0%|          | 0/4 [00:00<?, ?it/s]"
      ]
     },
     "metadata": {},
     "output_type": "display_data"
    },
    {
     "data": {
      "application/vnd.jupyter.widget-view+json": {
       "model_id": "faf993df46d443338df1d0b7eeb37824",
       "version_major": 2,
       "version_minor": 0
      },
      "text/plain": [
       "  0%|          | 0/4 [00:00<?, ?it/s]"
      ]
     },
     "metadata": {},
     "output_type": "display_data"
    },
    {
     "data": {
      "application/vnd.jupyter.widget-view+json": {
       "model_id": "f0265161d2f741a5be8d08e4641ca89d",
       "version_major": 2,
       "version_minor": 0
      },
      "text/plain": [
       "  0%|          | 0/4 [00:00<?, ?it/s]"
      ]
     },
     "metadata": {},
     "output_type": "display_data"
    },
    {
     "data": {
      "application/vnd.jupyter.widget-view+json": {
       "model_id": "bdf12eca65da4c30bfdef8c535ee172d",
       "version_major": 2,
       "version_minor": 0
      },
      "text/plain": [
       "  0%|          | 0/4 [00:00<?, ?it/s]"
      ]
     },
     "metadata": {},
     "output_type": "display_data"
    },
    {
     "data": {
      "application/vnd.jupyter.widget-view+json": {
       "model_id": "47e8cf633ca446a59dba329cbb3a7cbd",
       "version_major": 2,
       "version_minor": 0
      },
      "text/plain": [
       "  0%|          | 0/4 [00:00<?, ?it/s]"
      ]
     },
     "metadata": {},
     "output_type": "display_data"
    },
    {
     "data": {
      "application/vnd.jupyter.widget-view+json": {
       "model_id": "45494bbd7859452887b666c5d9e10fc6",
       "version_major": 2,
       "version_minor": 0
      },
      "text/plain": [
       "  0%|          | 0/4 [00:00<?, ?it/s]"
      ]
     },
     "metadata": {},
     "output_type": "display_data"
    },
    {
     "data": {
      "application/vnd.jupyter.widget-view+json": {
       "model_id": "e398d403a01a490f8676cec669752d10",
       "version_major": 2,
       "version_minor": 0
      },
      "text/plain": [
       "  0%|          | 0/4 [00:00<?, ?it/s]"
      ]
     },
     "metadata": {},
     "output_type": "display_data"
    },
    {
     "data": {
      "application/vnd.jupyter.widget-view+json": {
       "model_id": "cba161690d4f4969953885166aae6887",
       "version_major": 2,
       "version_minor": 0
      },
      "text/plain": [
       "  0%|          | 0/4 [00:00<?, ?it/s]"
      ]
     },
     "metadata": {},
     "output_type": "display_data"
    },
    {
     "data": {
      "application/vnd.jupyter.widget-view+json": {
       "model_id": "e612ec1fa05745219efbea21af11e3d7",
       "version_major": 2,
       "version_minor": 0
      },
      "text/plain": [
       "  0%|          | 0/4 [00:00<?, ?it/s]"
      ]
     },
     "metadata": {},
     "output_type": "display_data"
    },
    {
     "data": {
      "application/vnd.jupyter.widget-view+json": {
       "model_id": "8fcc90879388407e927ae47c913b6f92",
       "version_major": 2,
       "version_minor": 0
      },
      "text/plain": [
       "  0%|          | 0/4 [00:00<?, ?it/s]"
      ]
     },
     "metadata": {},
     "output_type": "display_data"
    },
    {
     "data": {
      "application/vnd.jupyter.widget-view+json": {
       "model_id": "b5d3782b858449cc8dd93398b1df2698",
       "version_major": 2,
       "version_minor": 0
      },
      "text/plain": [
       "  0%|          | 0/4 [00:00<?, ?it/s]"
      ]
     },
     "metadata": {},
     "output_type": "display_data"
    },
    {
     "data": {
      "application/vnd.jupyter.widget-view+json": {
       "model_id": "db2ac3da2c294df680f3846ea6227357",
       "version_major": 2,
       "version_minor": 0
      },
      "text/plain": [
       "  0%|          | 0/4 [00:00<?, ?it/s]"
      ]
     },
     "metadata": {},
     "output_type": "display_data"
    },
    {
     "data": {
      "application/vnd.jupyter.widget-view+json": {
       "model_id": "2730b8d1ec684eecad7e5936d975950e",
       "version_major": 2,
       "version_minor": 0
      },
      "text/plain": [
       "  0%|          | 0/4 [00:00<?, ?it/s]"
      ]
     },
     "metadata": {},
     "output_type": "display_data"
    },
    {
     "data": {
      "application/vnd.jupyter.widget-view+json": {
       "model_id": "7e22b5f903b84b3b839ff372ad795ec5",
       "version_major": 2,
       "version_minor": 0
      },
      "text/plain": [
       "  0%|          | 0/4 [00:00<?, ?it/s]"
      ]
     },
     "metadata": {},
     "output_type": "display_data"
    },
    {
     "data": {
      "application/vnd.jupyter.widget-view+json": {
       "model_id": "1e4159a92cd24a4ba3cdf2d0cb66d616",
       "version_major": 2,
       "version_minor": 0
      },
      "text/plain": [
       "  0%|          | 0/4 [00:00<?, ?it/s]"
      ]
     },
     "metadata": {},
     "output_type": "display_data"
    },
    {
     "data": {
      "application/vnd.jupyter.widget-view+json": {
       "model_id": "de6a9162933e42b780e53af15370a7d8",
       "version_major": 2,
       "version_minor": 0
      },
      "text/plain": [
       "  0%|          | 0/4 [00:00<?, ?it/s]"
      ]
     },
     "metadata": {},
     "output_type": "display_data"
    },
    {
     "data": {
      "application/vnd.jupyter.widget-view+json": {
       "model_id": "0c6584a31e414678bbceaf923f199e85",
       "version_major": 2,
       "version_minor": 0
      },
      "text/plain": [
       "  0%|          | 0/4 [00:00<?, ?it/s]"
      ]
     },
     "metadata": {},
     "output_type": "display_data"
    },
    {
     "data": {
      "application/vnd.jupyter.widget-view+json": {
       "model_id": "933ab8bc87524115be7006040636333a",
       "version_major": 2,
       "version_minor": 0
      },
      "text/plain": [
       "  0%|          | 0/4 [00:00<?, ?it/s]"
      ]
     },
     "metadata": {},
     "output_type": "display_data"
    },
    {
     "data": {
      "application/vnd.jupyter.widget-view+json": {
       "model_id": "63723e5f91794952aa23be07defff442",
       "version_major": 2,
       "version_minor": 0
      },
      "text/plain": [
       "  0%|          | 0/4 [00:00<?, ?it/s]"
      ]
     },
     "metadata": {},
     "output_type": "display_data"
    },
    {
     "data": {
      "application/vnd.jupyter.widget-view+json": {
       "model_id": "40075def0e79424db8201c2dc4331f59",
       "version_major": 2,
       "version_minor": 0
      },
      "text/plain": [
       "  0%|          | 0/4 [00:00<?, ?it/s]"
      ]
     },
     "metadata": {},
     "output_type": "display_data"
    },
    {
     "data": {
      "application/vnd.jupyter.widget-view+json": {
       "model_id": "2effab3440d148acb05497a4e82497ed",
       "version_major": 2,
       "version_minor": 0
      },
      "text/plain": [
       "  0%|          | 0/4 [00:00<?, ?it/s]"
      ]
     },
     "metadata": {},
     "output_type": "display_data"
    },
    {
     "data": {
      "application/vnd.jupyter.widget-view+json": {
       "model_id": "ca5b395346c449b4b86f4528e6afbdfa",
       "version_major": 2,
       "version_minor": 0
      },
      "text/plain": [
       "  0%|          | 0/4 [00:00<?, ?it/s]"
      ]
     },
     "metadata": {},
     "output_type": "display_data"
    },
    {
     "data": {
      "application/vnd.jupyter.widget-view+json": {
       "model_id": "75ac7461f6194a9da3e0fd92239e218c",
       "version_major": 2,
       "version_minor": 0
      },
      "text/plain": [
       "  0%|          | 0/4 [00:00<?, ?it/s]"
      ]
     },
     "metadata": {},
     "output_type": "display_data"
    },
    {
     "data": {
      "application/vnd.jupyter.widget-view+json": {
       "model_id": "3f25d49bea38406f9f1ba769ec2bc67b",
       "version_major": 2,
       "version_minor": 0
      },
      "text/plain": [
       "  0%|          | 0/4 [00:00<?, ?it/s]"
      ]
     },
     "metadata": {},
     "output_type": "display_data"
    },
    {
     "data": {
      "application/vnd.jupyter.widget-view+json": {
       "model_id": "c634c8cfb60d4863959565a45405141d",
       "version_major": 2,
       "version_minor": 0
      },
      "text/plain": [
       "  0%|          | 0/4 [00:00<?, ?it/s]"
      ]
     },
     "metadata": {},
     "output_type": "display_data"
    },
    {
     "data": {
      "application/vnd.jupyter.widget-view+json": {
       "model_id": "ad176ba5421f49cc86d9fda2c59a9ac3",
       "version_major": 2,
       "version_minor": 0
      },
      "text/plain": [
       "  0%|          | 0/4 [00:00<?, ?it/s]"
      ]
     },
     "metadata": {},
     "output_type": "display_data"
    }
   ],
   "source": [
    "# fig, axis = plt.subplots(1, 4, figsize=(12,6), sharex = False, sharey = False, squeeze = False)\n",
    "noiseDataset = []\n",
    "for seed in tqdm(seeds, leave=False):\n",
    "    for bi, baseFrequency in enumerate(tqdm([1,2,4,8], leave=False)):\n",
    "        for octaves in  tqdm([1,2,4,8], leave=False):\n",
    "            for persistence in  tqdm([0.125, 0.25, 0.5, 0.75], leave=False):\n",
    "            # for persistence in [0.5]:\n",
    "                for r in tqdm([0.125, 0.25, 0.5, 0.75], leave=False):\n",
    "                    noise = generate1DPeriodicNoise(numSamples = numParticles, r = r, freq = baseFrequency, octaves = octaves, persistence = persistence, plot = False, seed = seed)\n",
    "                    \n",
    "                    noiseDataset.append({\n",
    "                        'octaves': octaves,\n",
    "                        'persistence': persistence,\n",
    "                        'r': r,\n",
    "                        'baseFrequency': baseFrequency,\n",
    "                        'noise': noise,\n",
    "                        'seed': seed\n",
    "                    })\n",
    "\n",
    "\n"
   ]
  },
  {
   "cell_type": "code",
   "execution_count": 57,
   "id": "dab363c0",
   "metadata": {},
   "outputs": [
    {
     "data": {
      "application/vnd.jupyter.widget-view+json": {
       "model_id": "6f3994857b414b3cb1e362d230e2683c",
       "version_major": 2,
       "version_minor": 0
      },
      "image/png": "[encoded data removed]",
      "text/html": [
       "\n",
       "            <div style=\"display: inline-block;\">\n",
       "                <div class=\"jupyter-widgets widget-label\" style=\"text-align: center;\">\n",
       "                    Figure\n",
       "                </div>\n",
       "                <img src='data:image/png;base64,iVBORw0KGgoAAAANSUhEUgAAAyAAAAGQCAYAAABWJQQ0AAAAOnRFWHRTb2Z0d2FyZQBNYXRwbG90bGliIHZlcnNpb24zLjEwLjEsIGh0dHBzOi8vbWF0cGxvdGxpYi5vcmcvc2/+5QAAAAlwSFlzAAAPYQAAD2EBqD+naQAAtFJJREFUeJzs3Xd8U/Uax/FPZnfTCaWlZW9BkA0yZAiCbBAEBRW3gl63iKKo4MC9Nw5ARNlLkCl77z0KbWnpTkc6Ms79I1BFAVva5qTp83698io3yTnnWy62ec5vPBpFURSEEEIIIYQQwgW0agcQQgghhBBCVB5SgAghhBBCCCFcRgoQIYQQQgghhMtIASKEEEIIIYRwGSlAhBBCCCGEEC4jBYgQQgghhBDCZaQAEUIIIYQQQriMFCBCCCGEEEIIl5ECRAghhBBCCOEyUoAIIYQQQgghXEYKECGEEEIIIYTLSAEihBBCCCGEcBkpQIQQQgghhBAuo1c7gCs4HA7OnTtHQEAAGo1G7ThCCCGEEEJUWIqikJ2dTWRkJFptycczKkUBcu7cOaKjo9WOIYQQQgghhMeIi4ujevXqJT6uUhQgAQEBgPMvKTAwUOU0QgghhBBCVFxZWVlER0cXfcYuqUpRgFycdhUYGCgFiBBCCCGEEGXgWpc2yCJ0IYQQQgghhMuoVoB88skn1KxZE29vb9q2bcu2bduu+v45c+bQsGFDvL29adq0KUuXLnVRUiGEEEIIIURZUaUAmT17Nk888QSTJk1i165dXH/99fTq1Yvk5OTLvn/Tpk3cfvvtjB07lt27dzNw4EAGDhzIgQMHXJxcCCGEEEIIURoaRVEUV1+0bdu2tG7dmo8//hhwbpMbHR3NuHHjeO655/71/uHDh5Obm8vixYuLnmvXrh3Nmzfn888//8/rZWVlYTKZMJvNsgZECCGEEEKIUijtZ2uXj4AUFhayc+dOevTo8VcIrZYePXqwefPmyx6zefPmS94P0KtXryu+v6CggKysrEseQgghhBBCCPW5vABJTU3FbrdTtWrVS56vWrUqSUlJlz0mKSmpRO+fOnUqJpOp6CE9QIQQQgghhHAPHrkL1vPPP4/ZbC56xMXFqR1JCCGEEEIIgQp9QMLCwtDpdJw/f/6S58+fP09ERMRlj4mIiCjR+728vPDy8iqbwEIIIYQQQogy4/IREKPRSMuWLVm1alXRcw6Hg1WrVtG+ffvLHtO+fftL3g+wcuXKK75fCCGEEEII4Z5U6YT+xBNPMGbMGFq1akWbNm14//33yc3N5e677wZg9OjRREVFMXXqVAAee+wxunTpwjvvvEPfvn35+eef2bFjB19++aUa8YUQQgghhBDXSJUCZPjw4aSkpPDSSy+RlJRE8+bNWb58edFC87Nnz6LV/jU406FDB2bOnMnEiROZMGEC9erVY/78+Vx33XVqxBdCCCGEEEJcI1X6gLia9AERQgghXM9RUEDB8RPYM9JBq8UQGYmxRg00Wo/cA0eISqO0n61VGQERQgghhGdSFIXcP/8kY9bP5GzYAFbrJa/rQkII6NmT4JEj8W5QX6WUQgg1yQiIEEIIIcpEwfHjJE56mbxdu4qe0wUFoa9WDWxWCuPiUfLzi14L7N+Pqs8+iz40VI24QohrJCMgQgghhFBd5m9zSXr5ZRSrFY23N8HDhxM0dAjGunXRaDQAKIWFWHbuJOPn2WT//jtZCxeRu2EjkW++gX+nTip/B0IIV5ERECGEEEJcM8XhIPmdd0j/5lsA/Dp3otrkyRiu0Kvrorz9+0l8YSIFx46BVkvEixMJvv12V0QWQpRSaT9byyowIYQQQlwTRVE4//qUouIj7OGHif788/8sPgB8mjal5q9zMA0aBA4HSa9MJuXDj8o7shDCDUgBIoQQQohrkvLBB2TMmAEaDdWmTiV8/LgS7XClNRqpNuV1wh9/DIDUTz8l7ZtvyiuuEMJNSAEihBBCiBLLnDuPtM+/ACBi0ksEDRp4TefRaDSEPfgg4f/7HwDJb08jc+68soophHBDUoAIIYQQokTyDx8m6ZVXAOe0q+ARI0p9zrAH7if0vvsASJo0iby9e0t9TiGEe5ICRAghhBDFZs/JJf6xx1EKCvDr3ImwRx8ps3OH/+9xAnr2QLFaiR83HmtycpmdWwjhPqQAEUIIIUSxJb8zDevZs+gjqxH11ltl2tVco9VSbeobGOvWwZacTOJzz6M4HGV2fiGEe5ACRAghhBDFkrt1G5mzfgYgcsoUdEFBZX4Nnb8f1T/8EI23N7mbNpHx449lfg0hhLqkABFCCCHEf3Lk55P44osABA0fjl+7duV2La/atan63LMAJE97h/yjx8rtWkII15MCRAghhBD/KX36986pV1WrUuXpp8r9ekHDh+PftSuK1UrSSy/JVCwhPIgUIEIIIYS4Kuv5ZFK//BKAKk89hc7fv9yvqdFoiHjlZbR+fuTt3Uvm7Nnlfk0hhGtIASKEEEKIq0p57z0UiwWf668n8Na+LruuoWrVv/qDvPOu7IolhIeQAkQIIYQQV5R/9BjmBQsAqDrheTQajUuvH3z7CLybNsWRk8P5qVNdem0hRPmQAkQIIYQQV5T6ySegKAT06oXP9de7/PoanY5qk18BnY7sZcuxbN/u8gxCiLIlBYgQQgghLiv/8GGyV6wAjYawRx5WLYd3o0YEDRsKwPk335IF6UJUcFKACCGEEOKyUj7+BIDAW27Bu359VbOEjxuH1s+P/AMHyFqyRNUsQojSkQJECCGEEP9ScOIEOatWqT76cZE+NJTQ++8HIPnd93Dk56ucSAhxraQAEUIIIcS/pE2fDkBAjx541amjbpgLQsaMRh9ZDVtiIuk/SId0ISoqKUCEEEIIcQlbSgpZCxYCEHLP3Sqn+YvW25sqjz8OQNo332DPzlY3kBDimkgBIoQQQohLpM+YgWK14tOiBb4tWqgd5xKBfftirFMHh9lM+vc/qB1HCHENpAARQgghRBGHxULGrJ8B9xr9uEij0xH+6CMApE+fjj0zU91AQogSkwJECCGEEEUy583DYTZjqBFDQLduase5rIBevfBq0ABHTg5p301XO44QooSkABFCCCEEAIqikDFrFgAhd45Go9OpnOjyNFot4eMeBSD9xx+xZWSonEgIURJSgAghhBACgLxduyg8cRKNjw+mAf3VjnNV/t2749W4EYrFQsaPP6kdRwhRAlKACCGEEAKAjJ9nA2C6tS+6gACV01ydRqMh7EJfkPQZM7Dn5KqcSAhRXFKACCGEEAJbRgbZy5cDEDR8hMppiiegZ0+MNWviMJvJ/OUXteMIIYpJChAhhBBCYJ47D8VqxbtJE3yua6J2nGLR6HSE3jsWcO6I5SgsVDmREKI4pAARQgghKjnF4SgaQQgaMVzlNCVj6t8ffdWq2JKTMc+fr3YcIUQxSAEihBBCVHJ5O3dSeOYMWj8/TH36qB2nRDRGIyF33wU4u6Mrdru6gYQQ/0kKECGEEKKSy7wwchDY5xa0fn7qhrkGwcOGoTOZsJ45S/bKlWrHEUL8BylAhBBCiErMkZdH9vLfATANGKBymmuj9fMjeNQoANKnf69yGiHEf5ECRAghhKjEsletxpGbi6F6dXxuuEHtONcseOTtaAwG8vbsIW/vXrXjCCGuQgoQIYQQohK7uHDb1L8/Gm3F/VigDwsj8NZbAUj/XkZBhHBnFfcnjRBCCCFKxXo+mdxNmwDcvvN5cYSMGQ1A1u8rsJ47p3IaIcSVSAEihBBCVFJZixeDw4HPDTdgrFFD7Til5t2wIb5t24LdTsbMmWrHEUJcgRQgQgghRCVlXrwYcE6/8hQhY8YAkPHLHBy5uSqnEUJcjhQgQgghRCVUcPo0BYcPg15PQK+b1Y5TZvy7dsFQIwZHVlbR9sJCCPciBYgQQghRCWUvXw6AX/v26IODVU5TdjRaLSF3OteCZPzwI4rDoXIiIcQ/SQEihBBCVEJZS5cBENi7t8pJyl7QoIFoAwMpPHOGnPXr1Y4jhPgHKUCEEEKISqbgxAkKjh8Hg4GAHt3VjlPmtH5+BA0eDEDGrFkqpxFC/JMUIEIIIUQlk7XMOf3Kv0MHdCaTymnKR/CI4QDkrv+Twrg4ldMIIf5OChAhhBCiElEUhawL6z8C+9yicpryY6xZE78bbwRFIXP2bLXjCCH+RgoQIYQQohIpOH6cwpMn0RiN+Hf3vOlXfxc88nYAMn/9DUdBgcpphBAXSQEihBBCVCLZK1cC4NexIzp/f5XTlC//Ll3QR1bDnplZtOuXEEJ9UoAIIYQQlUj2qlUABPTooXKS8qfR6Qi+zbkWJF06owvhNqQAEUIIISoJa0ICBYcOg1aL/01d1Y7jEkFDh4DBQP7efeQdOKh2HCEEUoAIIYQQlUb26jUA+N5wA/qQEJXTuIY+LIzAm52d3jN+li15hXAHUoAIIYQQlcTF6Vf+Htj742ouLkbPWrwEu9mschohhBQgQgghRCVgz8zEsn07AAEevvvVP/nccANe9eqh5OdjXrRY7ThCVHpSgAghhBCVQM66dWC341W/PsboaLXjuJRGoyFo2DAAMufMQVEUlRMJUblJASKEEEJUAtl/XNz9qnKNflxk6t8PjdFIwdGj5O/fr3YcISo1KUCEEEIID+fIzydnwwYAj28+eCW6oCACevUCnKMgQgj1SAEihBBCeLjcTZtR8vLQV6uGd+PGasdRTdCwoQCYlyzFnpOrchohKi8pQIQQQggPl7PGuf1uwE03odFoVE6jHt/WrTHWrIlisZC1dInacYSotKQAEUIIITyYoijkrF8PUGmaD16JczG6cxQkc86vKqcRovKSAkQIIYTwYAXHjmE7fx6Ntze+rVurHUd1poEDnZ3R9+8n/8gRteMIUSm5tABJT09n1KhRBAYGEhQUxNixY8nJybnqMV9++SVdu3YlMDAQjUZDZmama8IKIYQQHiBnnXP0w69tW7Te3iqnUZ8+NJSAbt0AyPxFFqMLoQaXFiCjRo3i4MGDrFy5ksWLF7N+/Xruv//+qx5jsVjo3bs3EyZMcFFKIYQQwnPkrF8HgH/XLioncR8Xe4KYFy3CkZenchohKh+9qy50+PBhli9fzvbt22nVqhUAH330EX369GHatGlERkZe9rjHH38cgLVr17ooqRBCCOEZ7GYzebv3AODXqbO6YdyIX4f2GKKisCYkkPX77wQNHKh2JCEqFZeNgGzevJmgoKCi4gOgR48eaLVatm7d6qoYQgghRKWRu2kT2O0Y69bBWD1K7ThuQ6PVEjR0CCCL0YVQg8sKkKSkJKpUqXLJc3q9npCQEJKSksr0WgUFBWRlZV3yEEIIISqbi+s//DvL9Kt/Mg0eDFoteTt3UnDypNpxhKhUSl2APPfcc2g0mqs+jrh4l4mpU6diMpmKHtHR0S69vhBCCKE2xeEg588/AfDvLNOv/slQtSr+XZyFWebcuSqnEaJyKfUakCeffJK77rrrqu+pXbs2ERERJCcnX/K8zWYjPT2diIiI0sa4xPPPP88TTzxR9L+zsrKkCBFCCFGp5B88hD0tDa2fH743tFA7jlsKGjKYnDVrMC9YSJXHH0djMKgdSYhKodQFSHh4OOHh4f/5vvbt25OZmcnOnTtp2bIlAKtXr8bhcNC2bdvSxriEl5cXXl5eZXpOIYQQoiLJWefc/cqvQwc0RqPKadyTf5cu6EJCsKemkvPnBgK63aR2JCEqBZetAWnUqBG9e/fmvvvuY9u2bWzcuJFHH32UESNGFO2AlZCQQMOGDdm2bVvRcUlJSezZs4cTJ04AsH//fvbs2UN6erqrogshhBAVTs6fF/p/dO6kchL3pTEYMPXrB4B5nkzDEsJVXNoHZMaMGTRs2JDu3bvTp08fbrzxRr788sui161WK0ePHsVisRQ99/nnn9OiRQvuu+8+ADp37kyLFi1YuHChK6MLIYQQFYbdbCZ//wEA/G+8UeU07s00eDAA2WvWYpObm0K4hEZRFEXtEOUtKysLk8mE2WwmMDBQ7ThCCCFEucpasYKE8Y9hrF2bOkuXqB3H7Z0eOoz8Aweo+vxzhIwZo3YcIdxeaT9bu3QERAghhBDlL3fjJsC5/kP8N9PgQQBk/jaXSnBfVgjVSQEihBBCeJjcTVKAlISpb180RiMFx46Rf/CQ2nGE8HhSgAghhBAepPDsWaxxcaDX49umjdpxKgSdyURAj+4AmKUniBDlTgoQIYQQwoNcHP3waX49On8/ldNUHKZBzsXo5iVLcBQUqJxGCM8mBYgQQgjhQS6u//Dv2FHlJBWLX4f26CMicJjN5KxerXYcITyaFCBCCCGEh1BsNnK3bgVk/UdJaXQ6TAMHAJA5d57KaYTwbFKACCGEEB4i/8ABHFlZaAMD8b7uOrXjVDhBg5y7YeVu3Ig1KUnlNEJ4LilAhBBCCA+Rc3H3q3bt0Oh0KqepeIw1auDTqiU4HJjnL1A7jhAeSwoQIYQQwkPI9rulFzR4CACZ86QniBDlRQoQIYQQwgPYc3LJ27MXAL+OUoBcq8BeN6Px9cV65ix5u3apHUcIjyQFiBBCCOEBLNu2gc2GISYGY3S02nEqLK2fH4G9ewOQKT1BhCgXUoAIIYQQHuCv6VftVU5S8QUNdi5Gz162HEdurspphPA8UoAIIYQQHiB340ZA1n+UBZ+WLTHUiMFhsZC1YqXacYTwOFKACCGEEBWcNTGRwtOnQavFr107teNUeBqNpmhLXvMC2Q1LiLImBYgQQghRweVu3gKAd9Pr0AUGqpzGM5j69QPAsnUr1nPnVE4jhGeRAkQIIYSo4CwXu5+3ldGPsmKIisK3bVtQFMwLF6kdRwiPIgWIEEIIUYEpikLutm0A+LZto3Iaz2IaMAAA8/z50hNEiDIkBYgQQghRgVnj47ElJoLBgG+LFmrH8SgBN9+MxseHwthY8vftUzuOEB5DChAhhBCiArs4/cqnaVO0vr4qp/EsOn8/Anr2AGQxuhBlSQoQIYQQogLL3SrTr8pT0TSsJUtxFBaqnEYIzyAFiBBCCFFBKYrytwXobVVO45n82rVDX7UqDrOZnLVr1Y4jhEeQAkSUmOJwYEtLozAuDmtCAvbsbLUjCSFEpVQYG4stORmNwYBP8+Zqx/FIGp0OU3/nlrzmBQtVTiOEZ9CrHUC4P4fFQs7ateRs2kT+3r0UnI4Fm+2S92j9/fGqUwef5s3x69Ae3/bt0RqN6gQWQohKwnJh+pVP8+Zovb1VTuO5TP37k/bV1+SsW4ctPR19SIjakYSo0KQAEVeUf/QY6dOnk7VsGUp+/qUvajRovL3BbkcpLMSRk0Pe3r3k7d1L+vffo/X3J/CWWwi+4w68G9RX5xsQQggPZ7m4/W4bWf9Rnrzq1cO7SRPyDx4ka8lSQu68Q+1IQlRoUoCIfyk4fZrkae+Qs2pV0XOG6GgCevbEt+UNeDdqhD48HI3BADhHSKznzpF/6BCWHTvJWbMGW0oKmXPmkDlnDn5dOlPliSfwbtBArW9JCCE8jvT/cC3TwIHkHzyIecECKUCEKCWNUgk662RlZWEymTCbzQQGBqodx20phYWkfPIpad9845xipdUScPPNhIwZjU/z5mg0muKdx+HAsmMHGTNmkv3HH2C3g0ZD0PDbqPLUU+j8/cv5OxFCCM9XcPIkp/reisbLi/rbt8m013JmS0/neOcuYLNRe/EivOrWVTuSEKop7WdrWYQuAMg/dozTw0eQ9sUXYLPh16UztRcuoPr77+HbokWxiw8AjVaLX5s2VP/gfeosWUzALb1BUcj8eTan+vUn588N5fidCCFE5ZB7sf9HixZSfLiAPiQE/86dAekJIkRpSQEiMC9YQOzQYRQcPowuKIio998n5osvyuTujrFmTaq/9x4x06djiI7GlphI3H33kfzOOyj/WMguhBCi+C4uQPeT6VcuYxp4oSfIgoUodrvKaYSouKQAqcQUu53zb7/NuWefQyksdI56LFpIYO9eZX4tv3Ztqb1gPsGjRgGQ9tXXnL33Pmzp6WV+LSGE8HSKw/HXAnTp/+Ey/l27ojWZsCUnk7tli9pxhKiwpACppBwFBcSPG0/6N98CEPrQg0R/9hn68PByu6bW15eIFycS9d67aHx9sWzZQuyw2yg4dbrcrimEEJ6o4PgJ7BkZaHx88LnuOrXjVBpao5HAPrcAMg1LiNKQAqQScuTmEvfgg+SsXo3Gy4uod9+hymOPodG65p9D4C23UOuX2RhqxGBNSODMyJHk7d3rkmsLIYQnKBr9aNECjaz/cKmggQMByF75B/acXHXDCFFBSQFSydizszl7731YNm9B6+tL9FdfEtinj8tzeNWtS82ZM/Fu2hR7ZiZnxtxFzoaNLs8hhBAVkWWbcwG6TL9yPe9mzTDWrImSl0f2ihVqxxGiQpICpBJx5OUR99BD5O3ejTYwkJhvv8FPxeZV+tBQakz/Dr/OnVDy84l/5BFyNkoRIoQQV+Nc/7EdkAXoatBoNH9bjC7TsIS4FlKAVBJKYSHxjz9O3o6daP39ifnuW3yaN1c7Flo/P6I//hj/bt1QCgqIf/gRcjdtUjuWEEK4rYKjR7GbzWh9ffFu0kTtOJWSqX9/ACxbt2JNSFA5jRAVjxQglYDicHDu+QnkrluPxtub6C8+x8eNfmlpjEaqv/8e/jfdhFJQQNxDD5O7ebPasYQQwi0V9f9o1RKNwaBymsrJEBmJ74UZBOYlS1VOI0TFIwVIJZDy0UdkLVkCej3VP/wA35Yt1Y70LxqjkagP3se/a1fnSMgjj5J38KDasYQQwu0U9f9QcQqtgMB+twKQtWghiqKonEaIikUKEA9nXriQtM8+B6Da5MlFXVzdkdZoJOrDD/Bt1w6HxULc/Q9QePas2rGEEMJtKHY7lh07AFmArrbAXr3QGAwUHD9BwdGjascRokKRAsSDWXbtIvGFiQCE3ncfQYMHqZzov2mNRqp//BFeDRtiT0tzNitMS1M7lhBCuIX8w0dwZGej9ffHu1EjteNUarrAQPy7dgXAvGiRumGEqGCkAPFQ1oQE4h95FMVqJaBnD8L/97jakYpN5+9P9JdfYIiKwnr2LHEPPoQjL0/tWEIIoTrLhfUfvq1aodHrVU4jiqZhLVmK4nConEaIikMKEA/kKCgg/rHHsWdk4N24MZFvvumyJoNlxVClCtFff4UuKIj8/fs5N2GCzLEVQlR6udL/w634d+mCNiAAW1ISlu071I4jRIVRsT6VimI5//oU8g8cQGcyUf2jD9H6+qod6Zp41apF1IcfgF5P9rLlpH7yqdqRhBBCNYrNRt6OnYD0/3AXWi8vAnrdDIB50UKV0whRcUgB4mEyf5tL5i+/gEZD5DvvYIiKUjtSqfi1aUO1lycBkPrxx2QtW6ZyIiGEUEf+wYM4cnPRBgbi1aCB2nHEBaZ+zp4g2b+vwFFQoHIaISoGKUA8SN7BgyS98goA4ePH4X9jR5UTlY2goUMJuesuAM499zx5+w+oG0gIIVSQu825/a5v69ZodDqV04iLfFu3Qh8RgSM7m5x169SOI0SFIAWIh7BnZZHw2OMohYX4d+1K6AMPqB2pTFV5+in8unR29ggZN052xhJCVDpF/T9k+pVb0Wi1BPbtA0DWosUqpxGiYpACxAMoikLiS5OwxsdjqF6dyDffqHCLzv+LRqcj6p13MNaqhS0piYQnnkSx2dSOJYQQLqFYrVh27QJkAbo7MvXrB0DO2rXYzWaV0wjh/jzrU2ollTlnDtnLl4NeT9S776AzmdSOVC50/v5U/+hDNL6+WLZuJfm999SOJIQQLpG3/wCKxYIuKAivevXUjiP+watBA7zq1UOxWslasULtOEK4PSlAKriCEyc4P2UqAFX+9zg+zZqpnKh8edWtS+SU1wFI/+Zbspb/rnIiIYQof5aL2++2aeNxI9yeQKPREHhhFESmYQnx3+SnWAXmyM93TkXKz8evY0dC7r5b7UguEdi7NyH33ANA4oQJFJw8qXIiIYQoX7kXGxDK+g+3ZbqwDsSyfTvWxESV0wjh3qQAqcCS33qLgmPH0IWGEvnG1Ep1V6zKE//Dt00bHBYL8ePGY8/JVTuSEEKUC0dhIXm7dgPOrcmFezJEReHTqiUoCllLlqgdRwi3Vnk+sXqY7D/+IGPmLAAi33gDfXi4yolcS6PXE/Xeu+irVqXw1CkSJ06UTulCCI+Uv28fSkEButBQjHXrqh1HXMXFniBmmYYlxFVJAVIB2VJTSZz4IgAh99yDf6cbVU6kDn1oKFHvv+fslL58ORk//KB2JCGEKHNF06/atEaj0aicRlxNYK+bwWCg4OhR8o8dUzuOEG5LCpAKRlEUEl98CXtmJl4NG1Ll8cfUjqQq3xYtqPrsswCcf3ta0TaVQgjhKf7q/yHb77o7XVAQ/p07A7IYXYirkQKkgjHPnUfOmjVoDAZnvw+jUe1Iqgu+YxSBffqAzUbC4/+TJoVCCI/hKCggb88eAHzbSAFSEZj63QqAefFiFIdD5TRCuCcpQCqQwvgEzk+ZAkD4Y+PxbtBA5UTuQaPRUO3VyRjr1MGWnCxNCoUQHiNv9x6UwkL04eEYa9VUO44oBv+uXdH6+2NLTCRv50614wjhlqQAqSAUh4PE55/HkZuLzw03VJotd4tL6+dH9Q8/KGpSmPLhR2pHEkKIUruk/4es/6gQtN7eBPTsCYBZdsMS4rL0agcQxZPx0wws27ej8fV1brmr06kdye141alDtVcnc+7Jp0j78kt8mjcnoNtNascSQohrlrvNuf7Dnft/pOenczLzJOct50m2JFNoLwRAr9UT5hNGFd8q1AqsRYRfRKUpogL79sU8bx7Zy38n4oUX0BgMakcSwq1IAVIBFMYnkPz++wBUffopjDEx6gZyY6a+fcnbvYeMn37i3LPPUmvubxijo9WOJYQQJebIyyNv7z7AvRag59ny+DP+T9bFr2N38m7isuOKdVyIdwhNw5rSMaojN0XfRIRfRDknVY9fu7boQkOxp6WRu3lz0cJ0IYSTFCBuTlEUkl5+GcViwbdVK4KGD1c7ktur+szT5O/fT97evcQ/9hg1Z85E6+2tdiwhhCiRvN27wWpFHxGBwQ1uPO1L2ceMwzNYE7eGPFveJa9FB0QT6RdJFd8qeOudP28L7AWk5qVyPvc8sVmxpOensy5+Hevi1zFl6xSahTVjSP0h9K7ZG1+DrxrfUrnR6PUE9upFxsyZZC1ZIgWIEP8gBYiby1q8mNwNG9AYjURMnlypup1fK43RSNQH73N60GAKDh0m6bXXiHztNbVjCSFEieQWbb+r3voPRVH4M+FPvtz3JXtT9hY9H+Ufxc01bqZttbY0DW9KoDHwqufJt+VzJP0IO8/vZF38OvYk72Ff6j72pe7j7e1vM6zBMO5qchch3iHl/S25TOCtt5IxcybZK//A8Uq+3AgT4m80SiVoH52VlYXJZMJsNhMYePUfku7Elp7OqT59sWdmEv7444Q9+IDakSqU3E2bODv2XlAUqr3+GkFDhqgdSQghii12xO3k7dlDtddfJ2jIYJdf/2DaQd7d8S7bkpyFkF6rp0+tPgxvMJymYU1LVRSl5qWy6OQi5hybUzSFy0fvw4gGI7i32b3/WdBUBIqicLJ7D6znzhH1/vsE9u6ldiQhykxpP1u7/HZ6eno6o0aNIjAwkKCgIMaOHUtOTs5V3z9u3DgaNGiAj48PMTExjB8/HrPZ7MLU6jj/xhvOhoP16xM69h6141Q4fh06ED5+HABJk18l//BhlRMJIUTxOHJzyTtwAHD9AvRcay5Ttk7h9sW3sy1pGwatgTGNx7By6Epev/F1moU3K/WITJhPGHdfdzeLBy3m424f0yS0CXm2PL47+B395vVj3vF5OJSK3UNDo9EQ2LcPAFlLpCmhEH/n8gJk1KhRHDx4kJUrV7J48WLWr1/P/ffff8X3nzt3jnPnzjFt2jQOHDjA9OnTWb58OWPHjnVhatfL2bCRrIWLQKul2muvyg4a1yj0gQfw69IZpaCA+PGPYc/KUjuSEEL8J8uuXWCzYYiMxFi9usuuu/ncZgYtGMSsI7NQUOhbuy+LBy3mqdZPEeYTVubX02q0dInuwqy+s/ik+yfUMtUiPT+dlza9xJhlYziTdabMr+lKgX37ApCzbj327GyV0wjhPlw6Bevw4cM0btyY7du306pVKwCWL19Onz59iI+PJzIysljnmTNnDnfccQe5ubno9f+9jKWiTcFyFBZyul9/Cs+cIXj0nURMmKB2pArNnpnJ6SFDsSYk4N+tG9U//kjW0ggh3FryO++Q9tXXmAYNInLqlHK/ns1h45M9n/D1/q8B5xqPl9q/RIfIDuV+7b+z2q3MPDKTT/d8isVmwVvnzeMtH+f2hrej1VS8n9uKonDq1n4UnjxJtSlTCBo8SO1IQpSJCjUFa/PmzQQFBRUVHwA9evRAq9WydevWYp/n4jd7peKjoKCArKysSx4VSfr331N45gy6sDDCx49XO06FpwsKIuqDD9AYDOSsXk3KR9KkUAjh3i4uQHfF9KsUSwpjfx9bVHwMbzCcuf3nurz4ADDoDIxpMoZ5A+bRtlpb8u35vLHtDcavHo+5oOJNvb50GpY0JRTiIpcWIElJSVSpUuWS5/R6PSEhISQlJRXrHKmpqbz66qtXnbY1depUTCZT0SO6AvWBsCYlkfrZ54Cz54fO31/lRJ7B57omRLzyCgBpn31O5rz56gYSQogrsOfkkH/wIFD+/T+Oph/l9iW3syt5F/4Gf6Z1mcbEdhNV3xY30j+SL3t+yYS2EzBqjayLX8fwxcM5nFbx1vKZLkzDyt2yBVtamspphHAPZVKAPPfcc2g0mqs+jhw5UurrZGVl0bdvXxo3bszLL798xfc9//zzmM3mokdcXPGaJLmD5LfeQrFY8LnhBgL791c7jkcJGjyI0AuFa+JLLxXdYRRCCHdi2bED7HYMMTEYqlUrt+usjVvLncvu5LzlPLVMtZh962x61XSfnZq0Gi23N7ydH/v8SJR/FAk5Cdyx9A4WnVykdrQSMdaogfd114HdTtby5WrHEcItlEkfkCeffJK77rrrqu+pXbs2ERERJCcnX/K8zWYjPT2diIird0TNzs6md+/eBAQEMG/ePAxXWZTt5eWFl5dXsfO7i9wtW8laugy0WiJenKjavu+eLPzxxyg8e5bs5cuJHz+emrNm4VW7ltqxKj1FUbCdP0/h6dNYzyViTUrElpyCIzcXR14eSl4e6HVovbzQeHmjCwrCEFEVfdUIjNHV8apXD62fn9rfhhBlwvK3/h/l5ecjPzNl6xQUFNpWa8u7Xd91261vG4c2Zvats5m4YSJr49cyYcME4nPiebDZgxXm92TgrX3JP3CArCVLCRk1Su04QqiuTAqQ8PBwwsPD//N97du3JzMzk507d9KyZUsAVq9ejcPhoO1VhpmzsrLo1asXXl5eLFy4EG8PbOajWK2cf93ZLC94xHC8GzVSOZFn0mi1RL4xlbOJieTt3UvcAw9Qc9ZM9GFlv7uLuDJ7djaWHTuwbNtO/sGDFBw9ir00W2trNM67jI0b4dumDX7t22OIiakwH06E+DvLhTWRvm3KZ/rVN/u/4f1d7wMwtP5QJrSdgEHr3jstmrxMfNDtAz7c9SHfHPiGT/d8SkJ2ApPaT8Kgc+/sAIG39CH5zbfI27ULa0IChqgotSMJoSqXNyK85ZZbOH/+PJ9//jlWq5W7776bVq1aMXPmTAASEhLo3r07P/zwA23atCErK4ubb74Zi8XCvHnz8PvbXc7w8HB0Ot1/XrMi7IKVPmMG5199DV1QEHWWL0MXFKR2JI9mS0sjdvgIrPHxeDVsSI3vp6MzmdSO5bEURSH/wAGy/1hF7saN5B86BI5/7PGv02GMicEQGYkhshr6KlXR+vuj9fFB6+ONYrOjFBbgyC/Anp6O9XwStsQkCmNjsaWk/Oua+shqBHTvgalvH7yvv16KEVEh2DMzOda+AygKddevw/CPdZOloSgKn+z5hC/2fQHAA80e4JHmj1S4/zZ+OfoLr299HYfioENkB96/6X189D5qx/pPZ0aPwbJtG+FPPkHYffepHUeIUintZ+syGQEpiRkzZvDoo4/SvXt3tFotQ4YM4cMPPyx63Wq1cvToUSwWCwC7du0q2iGrbt26l5zr9OnT1KxZ02XZy4s9O5vUjz8BIGz8OCk+XEAfGkrMN18TO+oOCo4cIe6BB4n59hu0vuouvPQkit2OZfsOsleuJHvVKmz/2GjCWKMGvm3a4NOiBd4NG2CsUwftNU6dtKWmkn/kKHl792DZvAXL3r3YziWS8eOPZPz4I4aYGIJH3k7QkCHoAgLK4tsTolxYduwARcFYq1aZFx/v7XyP7w5+B8DjNzzO2KYVs5/WbQ1uI8IvgqfWPcWmc5t4+I+H+bj7x/gZ3HsaZmDfvli2bSNryVIpQESl5/IREDW4+whI8jvvkvbVVxhr16b2gvnSdNCF8o8e48zo0TjMZvw6dKD655+hNRrVjlWhFRw/jnnBAswLF2H725ovja8v/p06EdDtJnzbtsXwH+u+SsNhsVxYU7WU7NWrUS7c0ND6+hJ0+wjC7rtPCn3hlpJen0LGjz8SdPsIqk2aVGbn/WzPZ3y691MAnm/zPCMbjSyzc6tld/JuHv7jYXKsOTQLb8ZnPT5z23UsALaMDI536gw2G7WXLMarTh21IwlxzUr72VoKEJVZz53jZO9bUAoLqf7ppwR0u0ntSJVO3p49nLlnLIrFgl/nTlT/6KNrvhNfWdlzcpxFx9x5RduHAmhNJgK6dyegRw/8OrRHq8L6LYfFgnnRYtJ//IHCEyeduQICCB07lpC775L/r4VbOdV/AAXHjhH1/nsE9u5dJuf88dCPvLX9LQCea/Mcoxp5ziLog6kHuX/l/WQVZtEopBFf9/rarYuQuAceJGfdOsIefkj6fIkKTQqQYnDnAiThmWfIWrgI3zZtiPl+eoWbi+spcrdsJe7BB1Hy850jIZ98jNbH/ecUq63g+HHSZ84ka8FCHBdGGdDr8e/SBdOA/vh37eo2I0qKopCzbh0p771PwdGjABhr16baa6/he0MLldMJAbb0dI536AhAvU0b0YeElPqc847P46VNLwHwaPNHeeD6B0p9TndzNP0o96+8n/T8dK4Pv54ve36peh+TKzEvWsS5p5/BUCOGOsuXy+98UWFVqE7o4lJ5Bw6StdC5n3mVZ56RH0Qq8mvXlugvv0Dj60vupk3EPfjQXx+oxSUURSF7zRrOjB7DqX79yZz1Mw6LBWPt2lSd8Dz11q8j+pOPCbz5ZrcpPsDZkTiga1dqzZtL5FtvogsLo/DUKc6MGsX5qW+gFBaqHVFUcpZt2wHwqlevTIqPdXHreHnzywDc1eQu7m925Qa+FVmDkAZ82fNLAo2B7E3Zy7jV48i35asd67ICunVD4+2N9cxZ8g8c/O8DhPBQUoCoRFEUkt9yDokH9u+Hz3VNVE4k/Nq0Iebrr9D6+WHZupWzd9+DLSND7VhuQ7HZMC9azOkBA4l/6GEs27aBVktAzx7EfPcttZcsJmT06DL54FSeNFotpv79qbN4EaZBg0BRSP/+e86MuQvr+fNqxxOVWO7WLQD4lkH388Nph3l6/dM4FAcD6w7kiZZPePRNrgYhDfii5xf4GfzYlrSNJ9c9idVuVTvWv2j9/IqmWmctWaJyGiHUIwWISnL//BPLtm1ojEaqPP642nHEBb433ODcDctkIm/vXs7cPpLC+AS1Y6lKsVrJ+OUXTt7Sh3NPP03BsWNofX0Juece6q76g+offYRf+/YV7sONLiiIyKlTqP7pJ2gDAsjbvZvTg4dg2bVb7WiikipqQNiudAVIUm4Sj656lDxbHm2rteWl9i9VuP8+r8V1YdfxcbeP8dZ5sz5+PS9vfhl3nGUe2LcvAFlLl6LY7SqnEUIdUoCoQHE4SH7/fQCCR43CEBmpbiBxCZ/rr6fmzBnoI6tRGBtL7O0jnH0rKhnF4SBr6VJO3norSS9NwhoXhy44mPDHxlN3zWqqPvM0hmrV1I5ZagHdulHr1zl4NWiAPS2Ns/fcQ/batWrHEpWMNTmZwlOnQKPBt3Xraz5PrjWXR1Y9QnJeMnVMdXi367tu32SwLLWKaMW7Xd9Fp9Gx8ORCPtv7mdqR/sWvUye0gYHYkpOx7NipdhwhVCEFiAqyV6yk4NBhtL6+hN4ve4G7I686dag5axZe9etjT0kldtQdZP2+Qu1YLqEoCjl/buD00KEkPPEk1jNn0YWEUPX556i76g/CHnrI45o2GmvUoOasmfh16YySn0/8I49iXrBA7ViiEila/9Go4TX/96UoChM3TORYxjFCvUP5tMenbr0jVHnpVL0TE9tNBOCzvZ8x7/g8lRNdSms0EtCzByDTsETlJQWIiyl2OykXGi+G3HUX+uBglROJKzFUrUqNn37Er0N7lLw8Eh57jJQPP0L5ZwdvD5K3dy9nx9xF3H33OYtkPz/Cxo+jzooVhIwZ49GNGrW+vkR//DGB/fuB3c65556XIkS4jOVCw12/Ntc+/eqbA9/wx9k/0Gv1fNDtAyL9K+/o+tD6Q7mvqfMG3+TNk9mUsEnlRJcyXZiGlf3777IBhqiUpABxMfPCRRSeOoXOZCLk7rvUjiP+gy4wkOgvvyRkzGgAUj/9lPhHx2HPzFQ3WBkrOHmS+HHjiB0+omhtUsjdd1Pnj5WEP/wwOn/37jBcVjQGA5FvvEHwyJGgKJx7fkKlGfkS6sq9UID4tm1zTcdvSNjAh7ucN7deaPsC14dfX2bZKqpxLcbRp1YfbIqNJ9Y9wYmME2pHKuLbti26sDDsZjM5m9yrOBLCFaQAcSGlsJDUjz8GIPS+e9EFBKicSBSHRq+n6vPPU23KFDQGAzmrV3Nq0GAsO3aoHa3UrElJnJs4kVP9+pO98g/QajENGUyd35dT9dlnKuUInUarperEFzANGQwOBwlPPUXO+vVqxxIezJqYiPXsWdDprmn9R1xWHM+sfwYFhaH1hzK0/tBySFnxaDQaXu34Kq2qtiLXmstjax7DXGBWOxYAGp2uqNFk1tKlKqcRwvWkAHGhjF9/xZqQgC48jOBRntOJtrIIGjyIGrNmYagRgy0xkTOjx5Dy0ccoVvfb6vG/WM8nc/7NtzjZqzfmX38DhwP/Ht2pvWghka+/7hGLy0tDo9VSbfJkAvvcAlYr8Y//j/zDh9WOJTzUxdEP7yZN0Pn7l+jYPFsej619jOzCbJqFN+P5Ns+XR8QKy6gz8m7Xd4n0i+Rs9lmeWf8Mdod77DwV2LcPADl/rMKRl6dyGiFcSwoQF3Hk5ZH22ecAhD34oHTZrqB8rmtCrd/mYho4EBwOUj/5pEJt3Vp45gyJL77EyR49SP/uO5SCAnxbtaLGrJlEf/wxXnXqqB3RbWh0OiLffBPf9u1QLBbiHnxI+oSIclG0/e41TL96Y9sbHM84Tqh3KO91fQ+jzn2af7qLYO9gPuz2IT56Hzad28QHuz5QOxIAPs2bY4iMxGGxkLNORllF8XlCjzIpQFwkY+ZMbCkpGCIjCR42TO04ohR0/n5EvjGVyGnT0AUHU3D8OGdGjiTxxZfc8oeC4nCQs3Ej8eMf4+QtfcicMwfFasWnZUuiv/qSmB9/wLdFC7VjuiWNwUD1Dz7AWKcOtvPniXvoIRwWi9qxhIe5uADdt4QL0BefWszc43PRarS83eVtqvhWKY94HqFBSAMmd5wMwHcHv2PJKfV3n9JoNEWjILIbliguxWYjdsQIztx1d4XuUyYFiAsoikLWCudC1rBHH0VjlDtUnsB0a19qL13iXCsAZM6Zw8kePUn5+BPsObkqp4PCs2dJ/fwLTvbqTdzYe8lesQIcDvy6dKbGjJ+oOeMn/Dt1qhQNykpDFxhI9BefowsJoeDQYRJfmuSWzc1ExVQYH4/13DnQ6/G9ofg3AmLNsUze7PxA/WCzB2kdce29QyqL3jV7c2/TewGYtGkSR9OPqpwIAvtcmIa1bh32nByV04iKwLx4MdYzZyk4cgR9cJDaca6ZFCAuoNFoqPnTT0S+9Sam/v3UjiPKkD44mMjXX6fGjz/g3bgxjtxcUj/+mJPdu5P8zrtYk5JclkVRFApOnCD1iy85NXgwJ2/uRcr772ONi0Pr70/wyJHUWriAmC++wLdlS5fl8gTG6tWp/uEHoNORtXgxGT/NUDuS8BCWLVsA8GnaFK1f8XabK7AX8NS6p8iz5dE6ojX3N7u/PCN6lEebP0rHqI5Ff4e5VnVvFnk1bIixdm2UwkKy//hD1SzC/Sk2G6mfOZtrhoy9p9g/M9yRFCAuojEYMPXvj0avVzuKKAe+rVtT89c5RL3/HsZatbCbzaR99RUnuvcg7oEHMS9YUOZ3txSHg4LTp8n8bS4JTz/Dic5dOHVrP1Lee4+CQ4dBp8OvQweqvf4a9davI+KlF/GuX79MM1Qmvq1aUeXppwA4/+abFWbdj3BvuRfWf/i2K/70q7e3v83RjKOEeIfwRqc30Gl15RXP4+i0OqbeOJWqvlWJzYrl5U0vqzqiqdFoikZBZDcs8V8ujn7ogoIIGTlS7TilolEqwVyCrKwsTCYTZrOZwMDK1xVWuJZit5Ozdi3p3/+AZdu2v17Q6/Fp0gTf1q3wvu46jLVqY6xZA62X11XP5ygsxBqfgDUhnsK4OApPnSb/8GEKDh/+13oEjZcXvq1bE9DrZgJ69KiU2+iWJ0VRSHjiCbKXLUcfEUHt+fPQBQWpHUtUUIqicKJLV2zJycRM/w6/du3+85g1Z9cwfs14AD7v8TkdozqWd0yPtCd5D3cvvxubYuOFti8wouEI1bIUnD7NqVv6gF5PvT/Xy89tcVmKzcapvrdSeOYM4U8+Qdh996map7SfraUAEaIcFZw4Qday5WQtW0bhqVOXfY82IABdSDBaXz/QgAYNit2OPTsLhzkLR+6VpwhovL3xbtQI37Zt8GvXHp8Wzf+zoBGlY8/JJXbIEArPnCGgVy+i3n9P1tGIa3Lxg6fGYKD+9m1ovb2v+v7UvFSGLBxCen46dzW5iydbPemipJ7ph4M/8PaOtzFoDfx4y480CWuiWpbTg4eQf+gQES9PIniEesWQcF/mxUs499RT6Ewm6q5epfr0q9J+tpb5QEKUI6+6dQkf9yjh4x7FmpCAZccOLDt2UnDsGAWnTuHIzi56XI3G1xdj9eoYqlfHGB2Nd+NGeDdujLFWLZnW52I6fz8ip71N7O0jyf79d8xz5xI0ZIjasUQFdHH7XZ/mzf+z+FAUhZc3vUx6fjr1g+szrsU4V0T0aHc2vpOd53eyOm41T657ktm3zsbkZVIlS2DfPuQfOkTWkqVSgIh/URwO0r74AoDgMaNVLz7KgnxyEcJFDFFRmKKiMA0YADg/UNgzM7FnZGBPT8eRlw8ooCig06ELDEQXEIDWZEIXFCR32d2IT9OmhI8fT8q775L0+hR8W7bEWLOm2rFEBWPZdmH73bb/vf5jzrE5rItfh0FrYGqnqdLvowxoNBpevfFVji06RnxOPJM2TeK9ruqMaAbecgvJb0/DsmMH1vPnMVSt6vIMwn3lrF1LwfHjaP38CPGQRtayCF0IlWg0GvTBwXjVro1vq1b4d7oR/06d8O/cGf+OHfFp2hRjzZrog4Ol+HBDoWPvwbdNGxSLhXMvTERxONSOJCoQRVGKFqD7/ccC9FhzLNN2TAPgsRseo36wbCZRVgKNgUzrOg29Vs+qs6v47fhvquQwREbic8MNoChkLVumSgbhnhRFIfXzC6MfI0eiM6kzSlfWpAARQohroNHpqDZlChpfX/J27iRj5iy1I4kKpPDECexpac51XM2aXfF9VoeVCRsmkGfLo21EW+5sfKcLU1YOTUKb8FiLxwB4c9ubnDJffr1eefurKaHshiX+Ytmyhfx9+9B4eREyZrTaccqMFCBCCHGNjNWjqPLkEwAkv/tuhe5KK1wrd8uF6Vc3tEB7lea0X+//mv2p+wkwBvDaja+h1civ7fIwuslo2lVrR749n2fXP0uhvdDlGQJ79QKtlvz9+yk8e9bl1xfu6eLoR9CwYejDwlROU3bkJ5kQQpRC8O2349OqJYrFQtJLL0qXdFEsuZs3A+Dbvv0V33M0/Shf7v0SgBfavkCEX4RLslVGWo2WKTdOIdgrmCPpR/hg1wcuz6APCyvaill6gggAy+7dWLZuBb2e0LH3qB2nTEkBIoQQpaDRaqn26qtovLzI3bQZ89y5akcSbk6x2Yp6BPm173DZ91gdVl7c+CI2xUa36G70qdXHlRErpXDfcCZ3nAzAD4d+YGPCRpdnkGlY4u/SvvwKANOA/hiqVVM5TdmSAkQIIUrJq1Ytwsc7t0VNfuttbBkZKicS7iz/wAEcOTloTSa8GzW87Hu+O/Adh9MPE2gM5MX2L8pGFC7SNborIxo4t8F9YcMLpOWlufT6AT17gsFAwfHj5B875tJrC/dScOIEOWvWgEZD6L33qh2nzEkBIoQQZSBkzBi86tfHbjaT8u57ascRbix3yxYA/Nq2RaPT/ev14xnH+WzvZwA81+Y5wnw8Z953RfBkqyepG1SXtPw0Xtr0kkunVeoCA/Hv1AmQaViVXdr06QAE9OiOV61a6oYpB1KACCFEGdDo9US89CIAmb/+St7evSonEu4qd5Nz/Ydf+3b/es3msDmnXjlsdK3elVtr3+rqeJWet96bNzu/iUFrYH38euafmO/S6/99GpasKaucbCkpZC1YCEDI3Z619uMiKUCEEKKM+LZq5Ww0qSgkTX4VxW5XO5JwM468PPJ27wbA7zIL0KcfnM7BtIMEGANk6pWK/t5t/s3tb5KQ47od7gJuugmNjw/WuDjyDxxw2XWF+0ifORPFasWneXN8b2ihdpxyIQWIEEKUoSpPP4U2IID8gwfJ/OUXteMIN2PZuQvFakVfrRqGGjUuee1k5kk+3fMpAM+2fpYqvlXUiCguGN14NC2qtCDXmstLG1/Cobim2ajW15eAm24CIGvxEpdcU7gPh8VC5oW+UiH33K1ymvIjBYgQQpQhfVgY4Y85m5olv/8B9sxMdQMJt2LZcnH6VftLRjfsDjsvbXwJq8NKp6hO9K/TX62I4gKdVsdrHV/DR+/DtqRtzDriumajRdOwli1Dcbim8BHuIXPePOxmM4aYGAK6d1c7TrmRAkQIIcpY8IjheNWrh8NsJvWzz9SOI9zIldZ//HT4J/al7sPf4M9L7V+SqVduIiYwhidaOpuNvr/zfWLNsS65rl+nTmgDArAlJ2PZscMl1xTqU+x20qd/D0DImNGX3aTCU0gBIoQQZUyj11Pl2WcBSJ8xk4LTp1VOJNyBLSOD/MOHAYoazgEk5CTwyZ5PAHiq1VPScNDNDG8wnPbV2pNvz+eFjS9gc9jK/Zpao9G5JS+yG1Zlkr1qFda4OHQmE0GDBqkdp1xJASKEEOXA/8aO+HXuBDYbye+8o3Yc4QYsW7eBouBVry768HAAFEXhtS2vkWfLo1XVVgyuN1jllOKfNBoNkztOJsAQwL6UfUw/ON0l1704DSt7+e8oVqtLrinUlf7tdwAE3T4Cra+vymnKlxQgQghRTqo+8wzodOT8sYrcrdvUjiNUlrvZOf3K92+7X/0e+zsbEjZg0Bpk6pUbi/CL4Lm2zwHw6Z5POZl5styv6de2LbrQUOyZmUW9Y4TnsuzaTd6ePWgMBkJGjVI7TrmTAkQIIcqJV926BN02DIDzb74hi0krudyLC9DbOQsQc4GZqdumAnBfs/uoZfK8ZmOepF/tfnSp3gWrw8qkTZOwO8p3m22NXk9gr16A7IZVGaT/+AMAgf37FY2QejIpQIQQohyFjxuH1t+fgkOHyVq6TO04QiXWhASsZ86CTodvm9YAvLfzPdLz06ltqs3Y68aqnFD8F41Gw8R2E/Ez+LE3ZS8/H/253K9ZNA3rjz9wFBSU+/WEOqyJiWSvWAlAyOjRKqdxDSlAhBCiHOlDQggd6+xkm/LRhzKXu5K6OIXGp2lTdP7+bE/azm/HfwNgUvtJGHVGNeOJYorwiyjaFeuDXR+Ue4NCnxYt0FerhiM3l5x168r1WkI9GbN+Brsd3zZt8G7QQO04LiEFiBBClLPgO0ejCwnBeuYsmfPmqR1HqKBo+90O7Sm0FzJ582QAhtUfxg1Vb1AzmiihofWH0qpqK/Jsebyy6RUURSm3a2m0WgL73AIgI6geypGfX9S0NvjOO1RO4zpSgAghRDnT+fsR9uADAKR+8qlMpahkFEUpGgHxbdeOr/d/TWxWLGE+YTze8nF1w4kS02q0vNzhZbx0XmxO3MyCkwvK9XqBfZzTsHLWrMGek1uu1xKul7V4MfbMTAyRkQR066Z2HJeRAkQIIVwgaPhw9NWqYTt/noyZruuoLNRXcOw49rQ0ND4+JNU08dX+rwB4rs1zBBoDVU4nrkWNwBo80vwRAN7a/hapeanldi3vxo0x1qyJUlBAzprV5XYd4XqKopD+408ABI8a5dGNB/9JChAhhHABrZcX4Y88DEDaF19gz8lROZFwFcuF3a98Wt7A5J1TsDlsdKnehZtr3KxyMlEadza+k8ahjckuzOb1La+X23U0Gk3RKIjshuVZLNu3U3D0KBofH4KGDlE7jktJASKEEC5iGjgQY82a2DMzyfhphtpxhItcXP9xsp4fu5J34aP34YW2L0jPjwpOr9UzucNk9Bo9f5z9g9Vny2904uJuWDkbN2LPzCy36wjXyrgw+mHq3x+dyaRyGteSAkQIIVxEo9cTdmEUJH36dBy5Mp/b0ylWK5bt2wH4Uu8sRMa3GE81/2pqxhJlpEFIA8Y0GQPA1G1TsVgt5XIdrzp18GrYEGw2slasKJdrCNcqjE8ge9UqAELu8PzGg/8kBYgQQrhQ4C23YKgR4xwF+Xm22nFEOcvbtw+HxUK+n4FDoRaahDbh9oa3qx1LlKEHrn+AKP8oknKT+GzvZ+V2nYujILIblmfImDUTHA78OrTHq149teO4nBQgQgjhQhq9nrD7nTtipX37LY68PJUTifKUu3EjADtjbGi1el7u8DI6beVZaFoZ+Oh9mNB2AgA/HvqRo+lHy+U6gbc4CxDL1q1Yk5PL5RrCNRwWC5lzfgUg+I47VU6jDilAhBDCxUz9+2GIisKelkbmnDlqxxHlKOvP9QDsqa1hdOPRNAxpqHIiUR46V+9Mzxo9sSt2Jm+ZjENxlPk1jNWj8GneHBSF7OXLy/z8wnXMixbjyMrCEB2Nf5fOasdRhRQgQgjhYhqDgdD77wcg7etvpC+Ih7JnZlJw4CAAKU2q8eD1D6qcSJSnZ1s/i6/el30p+4q63Je1ot2wliwtl/OL8qcoChk//QhA8KiRlWrr3b+TAkQIIVRgGjQQfUQEtuRkzHPnqh1HlIMjK+egUeBsGIzv9Qq+Bl+1I4lyVNWvKuNajAPgvZ3vlUtvkMBbeoNWS97evRTGx5f5+UX5s2zZQsHxE2h8fQkaUrm23v07KUCEEEIFWqOR0HvvBSD1q69QCgtVTiTKks1hY/ei7wDIbl6bjlEdVU4kXGFEwxE0CmlEdmE27+x4p8zPrw8Px7dNG0AWo1dUFxsPBg0ciC4gQOU06pECRAghVBI0bCi68DBs5xIxy5QKjzLr8ExijmQA0GHgwyqnEa6i1+p5qf1LaNCw+NRitiRuKfNrFO2GtUSaElY0hXFx5KxZA0BwJdx69++kABFCCJVovbwIHePsIZD+7TcojrJfuCpcLzEnkTl/fEh4FjgMeiI6dlM7knCh68KuY0TDEQC8vuV1rHZrmZ4/sGdPMBgoOHqUghMnyvTconxl/DQDFAW/G2/Eq3ZtteOoSgoQIYRQUdDw4Wj9/Cg4foKc9evVjiNKSVEUpmydQoMTzu2V/Vu1Ruvjo3Iq4WrjWowj1DuU2KxYfjz8Y5meWxcUhH9H55S+rKUyclpROHJzyfzNuTlByOjKufXu30kBIoQQKtIFBBA0fDgA6V9/o3IaUVqrzq5ibfxamp92/m//G2XtR2UUYAzgiVZPAPD53s85n3u+TM9/cRqWefESFEUp03OL8pG5YAGOnByMNWrgd+ONasdRnRQgQgihspDRd4LBgGXHDvL27lU7jrhGOYU5TN06Fb1N4fo4569Xv45SgFRWt9a+levDryfPlse7O98t03MHdO+O1tcX69mz5O3eXabnFmVPcTic06+A4DvuQKOVj9/yNyCEECozRERguvVWANK++VblNOJafbj7Q5LzkumUUQVdgQ1dWBhe9eurHUuoRKvRMqHtBDRoWHp6KTuSdpTduX19CejVCwDzvPlldl5RPnI3babw1Cm0fn6YBg1UO45bkAJECCHcQOg9dwOQvXIlhbGx6oYRJbY/ZT8/H/kZgLstNwDg16G93Oms5BqHNmZo/aEATN02FZvDVmbnNg0cCEDWsmU48vPL7Lyi7GX86FwHZBo8GJ2/v8pp3IP8ZBRCCDfgVa8e/l26gKKQ9t10teOIErA6rLyy+RUUFPrV7kfQ3liAooXConIb32I8Ji8TxzKOMefYnDI7r2/rVhgiI3Hk5JC9alWZnVeUrcLYWHLWrQMgZNRIldO4DylAhBDCTYTeOxYA87x52NLSVE4jimvGoRkczTiKycvEE3XGkn/oEAB+HTqonEy4gyDvIMY1d3ZI/2j3R6Tnp5fJeTVaLYED+gNgnr+gTM4pyl76zJkA+HXpjLFmTXXDuBGXFyDp6emMGjWKwMBAgoKCGDt2LDk5OVc95oEHHqBOnTr4+PgQHh7OgAEDOHLkiIsSCyGEa/i0aoV306YohYVkzJ6tdhxRDAk5CXy691MAnmz5JIbdR0BR8GrYEH14uMrphLsYWn8oDUMakl2YzYe7Piyz8wYNGABA7saNWM8nl9l5Rdmw5+Ri/m0uACF3yNa7f+fyAmTUqFEcPHiQlStXsnjxYtavX8/9999/1WNatmzJd999x+HDh/n9999RFIWbb74Zu93uotRCCFH+NBoNIaNHA5AxaxaOwkKVE4mrURSF17e8Tp4tj1ZVWzGw7kByN2wEwK+jjH6Iv+i0Oia0nQDA3ONzOZh6sEzOa6xZE58WLcDhIGvxojI5pyg75vnzceTmYqxVS34m/INLC5DDhw+zfPlyvv76a9q2bcuNN97IRx99xM8//8y5c+eueNz9999P586dqVmzJjfccAOvvfYacXFxxMpCTSGEhwnsdTP6KlWwp6SSvWyZ2nHEVaw4s4I/E/7EoDXwYvsXAeedaJD1H+LfWlRpwa21b0VBYcq2KTgUR5mc9+JidPP8+dITxI04t979CYDgO0bJhhT/4NK/jc2bNxMUFESrVq2KnuvRowdarZatW7cW6xy5ubl899131KpVi+jo6PKKKoQQqtAYjQSPdC5UTPv+e/lA4abMBWambp0KwL1N76W2qTaFJ05gS05G4+WFT8uWKicU7uiJlk/gq/dlX8o+Fp0smxGLwFt6ozEaKTh+gvyDh8rknKL0cjdupDA2Fq2/P6YBA9WO43ZcWoAkJSVRpUqVS57T6/WEhISQlJR01WM//fRT/P398ff3Z9myZaxcuRKj0XjZ9xYUFJCVlXXJQwghKoqg4beh8fKi4NBh8nbuVDuOuIy3t79NWn4atUy1uLfpvQDkXBj98G3dGq2Xl5rxhJsK9w3nwesfBOCDXR9gsVpKfU5dYCABPboDzlEQ4R7SL4x+BA0ZjM7fT+U07qdMCpDnnnsOjUZz1UdpF42PGjWK3bt3s27dOurXr89tt91G/hX2vZ46dSomk6noISMlQoiKRB8cjOnC4tL0739QOY34p00Jm1hwcgEaNEzuMBmjznkzLHfjJkC6n4urG9VoFNEB0aTkpfD1/q/L5JxFPUEWL0aRtWOqK4yNJXfdetBoika0xaXKpAB58sknOXz48FUftWvXJiIiguTkS3dpsNlspKenExERcdVrmEwm6tWrR+fOnfn11185cuQI8+bNu+x7n3/+ecxmc9EjLi6uLL5NIYRwmZDRzh1TsletojA+XuU04iKL1cIrm18BnB8km1dpDoCjoADL9u0A+N8oBYi4MqPOyFOtngLg+4Pfk5CTUOpz+nXogC48DHtmJtkXek4I9aTPcG6969+lC8YaNVRO457KpAAJDw+nYcOGV30YjUbat29PZmYmO/82pWD16tU4HA7atm1b7OspioKiKBQUFFz2dS8vLwIDAy95CCFEReJVt67zTrrDQcZPM9SOIy74YNcHnMs9R5R/FONajCt6Pm/XLpT8fPRVqmCsW1fFhKIiuCn6JtpGtKXQUci7O94t9fk0en3RlrzmX38r9fnEtbPn5GCe69x6N/jOO1RO475cugakUaNG9O7dm/vuu49t27axceNGHn30UUaMGEFkZCQACQkJNGzYkG3btgFw6tQppk6dys6dOzl79iybNm1i2LBh+Pj40KdPH1fGF0IIlwoZ49ySN/PXX7Hn5KqcRuxO3s2sI7MAeKn9S/gafItey9mwAXDeidZoNKrkExWHRqPhmTbPoNVoWXFmBTuSdpT6nKYhQwDI+fNPrP+xrlaUH/O8C1vv1qkjzUivwuV7gs2YMYOGDRvSvXt3+vTpw4033siXX35Z9LrVauXo0aNYLM6FWd7e3vz555/06dOHunXrMnz4cAICAti0adO/FrQLIYQn8bvxRoy1auHIycF8hSmnwjUK7AVM2jQJBYVBdQfRIfLSDxa56/8EwK/TjWrEExVQ/eD6DK03FIC3tr+F3VG63mZetWrh26oVOBxkXrgDL1zrkq13R42UmxFXoVEqwR6PWVlZmEwmzGazTMcSohgURcHmsFHoKKTQXojVYaXQXohdsaPVaNFpdM6HVodBa8DX4ItBa1A7tkfKmDWLpFcmY4iJoc7yZbKXvEo+3PUhX+3/ijCfMOYPmI/Jy1T0mjUxkRM3dQOtlvqbNqILClIvqKhQ0vPTuXXurWRbs3mlwysMrje4VOczL1zIuWeexRAZSZ0/VsrPCxfLWb+euPsfQOvvT711a9H6ee7uV6X9bK0vh0xCCDegKApZhVmk56eTnp9ORn5G0Z+zC7PJseY4vxbmkGvNJdvq/HOONYd8Wz4KJbs34a3zxt/oj7/Bn0BjICE+IVTxqUK4bzhVfKsQ7uP8Wj2gOn4Gz/2hXNZMAwaQ/N77WM+eJWftOgK63aR2pEpnf8p+vj3wLQAT2068pPgA55QXAJ9mzaT4ECUS4h3CA9c/wLQd0/hw14fcXONm/I3+13y+gJtvRvvqa1jPnSN382ZpiOli6T9e3Hp3iEcXH2VBChAhKihFUUjNSyU+J5647DjisuOIz3b+OTEnkfSCdGwOW5lcS6fRYdQZ0Wv02BV70ePv58+355Ofl09qXup/ni/MJ4yYgBhiAmOICYihRmAN6gbXJSYgBr1Wfiz9ndbXl6ChQ0n/9lsyZs6UAsTF8mx5TNgwAbti55aat9C9Rvd/vSf3QgHi17mTq+MJDzCy4Uh+PfYrsVmxfLX/K/7X8n/XfC6ttzemfv3ImDmTzDm/SgHiQgWnTjt/Fmg0BI+SrXf/i/ymF8KNWe1WEnISnMXFPwqNhJwE8mx5/3mOAEMAwd7BhHiHEOIdQrB3MIHGQPwMfvgb/QkwBuBv+Ourv9EfH70PBq0Bo86IUWtEp9Vd8fw2h805glKYXTSyklWYRVpeGsmWZFLyUkixpJCSl0JSbhKZBZmk5qWSmpfKruRdl5zLqDVSO6g29YLqUTe4LvWC6lEvuB5VfatW6rm0wbePIP2778jdsIGC06fxqlVL7UiVxge7PiA2K5YqPlV4od0L/3pdKSwkd9NmAPw7dXZ1POEBDDoDT7V6ikdXP8qPh35kaL2hRAdee/+yoGFDyZg5k+xVq7Clp6MPCSnDtOJKMmY4dyv079oVY0yMymncnxQgQqjMXGAuKi7is+OLRjHisuNIyk266lQorUZLNb9qVPevTvWA6kQHRBMdEE2UfxShPqGEeIcUNUkrL3qtHpOX6V/TUq4kqzCLuKw4zmaf5WzWWc5mn+W0+TQnMk+QZ8vjSPoRjqRf2rg0wBBQVJDUD65Pg5AG1AuuV2mmchmjo/Hv0oWctWvJmDWLiAkT1I5UKWxJ3MKMw84PFZM7Tr7sv3HL7j04cnPRhYbi3aSxqyMKD9G5emc6RHZg07lNvLPzHd6/6f1rPpd3o0Z4X3cd+QcOYF6wkNC77yqznOLy7NnZRRuFhMjWu8UiBYgQ5czusJNsSb7sKEZcdhxZhVlXPd5H7+MsLvyjLykyqgdUJ9IvEoOuYi3+DjQG0iSsCU3CmlzyvENxkJCTwPGM45zIPFH0NdYcS7Y1m93Ju9mdvPuSY6IDomkQ3ID6IfVpENyABiENiPSL9MjRkuBRo8hZuxbz3HlUeewxmV9czrIKs5i4YSIAwxsMp2PU5aey5P65HnA2H5QFv+JaaTQanm71NEMXDWXV2VVsS9xGm2ptrvl8QUOHknTgAJlz5hBy1xiP/JnoTszz5uGwWDDWqYNv+/Zqx6kQpAARooyk56dzKvMUp7NOcyrzFLFZsUVTpawO61WPDfUOvaSw+PufQ71DK8UvD61GW/R9d4vpVvR8ob2Q2KxYjmcc53jGcY5mHOVY+jGS85KLirk/zv5R9P4AQwD1guvRIKSBc7QkuAF1g+vio/dR49sqM34dO2CsUYPCM2cwL1pE8IgRakfyaG9ue5PzlvPEBMTwRMsnrvi+nHXOAsRPpl+JUqobXJdh9Yfx89GfeXP7m/xy6y9Xnf56NYG39uX8m29SeOoUeTt24Nu6dRmnFRcpdjvpF5rFhtx5R6X4fV0WpAARogQcioPE3EROZZ7ilPkUp82nOW0+zSnzKTILMq94nF6rJ8o/6pKpUkVf/atf0tBMXMqoM1I/uD71g+tf8nxGfgZHM45yNP0oxzKOcTT9KCfNJ8m2ZrMredcl60u0Gi0xATE0CGlQNFJSP7h+hVpbotFqCR41kvNTppIxYwZBw4dXmOwVzYrYFSw8uRCtRsvrN75+xf8+rYmJFBw/Dlotfh2l4ZgovUeaP8LS00s5lnGMuSfmMqz+sGs6j87fH9Otfcmc8ysZs2ZJAVKOctauxXr2LFqTCVP//mrHqTCkABHiMgrthZzJOlNUXFwsNmLNseTb8694XKRfJLWCalHbVJtaplpFd/QjfCOu+U6WuLxg72DaVWtHu2rtip6z2q2czjp9SVFyNOMo6fnpxGbFEpsVy++xvxe93+Rlck7hurCupEloE+oE1UGrcc+pNKaBA0l+/wMKjp/Asm07fm2vfYqGuLyEnARe3vQyAGOvG0vzKs2v+N6i7XebNkUfHOyCdMLTBXkH8XDzh3lj2xt8vPtjetfsTYAx4JrOFTxyJJlzfiVrxUqqJCdjkObN5SJ9+vcABN82DK2v3EwsLilARKWWXZj9ryLjtPk08dnx2JXLd6XVa/XUDKxJLVMtapmcxUZtU21qmmpW+Gk+FZ1BZ7jsaElqXmpRMXKxODltPo25wMy2pG1sS9pW9N4AQwDNwptxfZXraR7enGbhzdxmsbsuMBBT/35k/jybjBkzpAApY1aHlWfWP0O2NZvrw6/noeYPXfX9sv2uKA+3NbiN2Udnc9p8mi/2fsFTrZ+6pvN4N2qET4sW5O3eTeacOYQ/8kgZJxV5Bw9i2b4d9HqCR41SO06FIgWI8Hj5tvyirWzjsuM4m3W2qNBIzku+4nF+Br+ikYy/FxrVA6pLr4oKJswnjLCosEsWEhfYCziZebKoIDmSfoSDaQfJtmaz8dxGNp7bCDinb9ULqkfzKs1pFdGKthFtCfZW72538MiRZP48m+xVq7AmJmKoVk21LJ7m490fsy9lHwHGAN7s/CYG7ZU3eLhk+93Osv5DlB2D1sDTrZ7m4VUPM+PIDIY1GEaNwBrXdK7gkSOdBcjsXwi7/340hoq1aYm7S//eOfoR2Ls3hogIldNULPIpSngEc4G5qMD45yPZcuUiAyDcJ7xoBKO2qTa1g5yFRrhPuMyx92BeOi8ahzamcehfW6faHDaOZxxnT8oe9iTvYW/KXhJyEpwjJxlHmX10NgCNQhrRrlo72lZryw1Vb3DpyJd3/fr4tmmDZds2MmbPpsrjj7vs2p5sY8LGom7nkztMJso/6qrvL9p+NyQE7yZNrvpeIUqqU/VO3Bh1IxsSNjBt+zQ+6v7RNZ0noNfN6N54A1tyMtmrVhHYu3cZJ628rOfPk7V0GQAhY8aonKbikQJEVAgOxVG0le3lHtmF2Vc93t/gf8nC75qBNakd5BzdCDQGuui7EO5Or9XTKLQRjUIbcXvD2wFItiSzN2Uvu87vYmvSVo5nHOdw+mEOpx/mu4PfYdAaaFetHd1jutMlugthPmHlnjN41Cgs27aR+cscwh5+GK2xfHu9eLoUSwoTNjh7qwxvMJweNXr85zEXt9/1k+13RTl5uvXTbD63mbXxa9l0bhMdIku+0YHWaCRo2FDSPv+CjBkzpQApQxkzZoLNhk+rlvg0vU7tOBWORlGUK3c58xBZWVmYTCbMZjOBgfJh013ZHDYScxI5m32WM1ln/poylX2WhOwECh2FVz0+3Cf8X9vYXnwEeQXJaIYoE6l5qWxN3MqWxC1sPreZ85bzRa9p0NCiSgu6xXSjV81eRPiVz5C8YrNxokdPbElJRL71puy8UgpWu5V7fr+HPSl7qBdcj5l9ZuKt9/7P4071H0DBsWNEvv02pn63uiCpqIze2PYGMw7PoG5QXeb0m3NN03+tiYmc6NET7HZqLVyAd/36/32QuCqHxcKJm7phN5uJ+uhDAnv2VDuSy5X2s7UUIMLlzAVmjmUc40TmCc5knSkqNhKyE7Aptisep9foifSPvGyREeUfJVvZCpdTFIUTmSdYE7eG1WdXczDtYNFrGjS0imhFv9r96FmjJ/5G/zK9durnn5Py/gd4X9+MWrNnl+m5K5PXtrzG7KOzCTAEMOvWWcWaa29NSuJE15tAo6Hepo2yA5YoN+YCM33n9cVcYGZC2wlFI7MlFT9uPNkrVxJ0+wiqTZpUxikrn4xZs0h6ZTKG6GjqLF+GRlf5drmUAqQYpABRh6IoxGXHsT91P0fSjxQ1krvawm8vnRfRAdHEBMQQExhzSbFRza+aLP4Wbi0pN4k1cWtYEbuCHed3FD3vpfOiW0w3hjcYzg1VbiiT0ThbWhonut6EYrVSc84v+DRtWupzVjbzT8znxY0vAvBxt4/pEt2lWMdlzJlD0osvSfEnXGLWkVlM2ToFk5eJJYOWYPIylfgcuVu2cPauu9H4+lJv7Rp08lnomikOB6f69KUwNpaqEyYQMvpOtSOporSfreXTnCgzFquFXcm72Jeyj32p+ziQegBzgfmy7430i6RecD1qm2oTHRhNjYAaxATGUMW3itv2YBDiv0T4RXB7w9u5veHtJOYksuT0EhadXMQp8ymWnV7GstPLqBtUlxENRnBrnVtLtb2vPjSUgFt6k7VwERkzZuLzxtQy/E4838HUg7y6+VUAHr7+4WIXHwC5653b7/pL93PhAsPqD+OXo79wIvMEn+39jOfaPFfic/i2bYtXvboUHD9B5pw5hI4dWw5JK4ec9espjI1FGxCAafBgteNUWDICIq6Z1WFlX8o+tiZuZWviVval7PvXFCqj1kjD0IY0CW1CveB61AuqR92gumU+HUUId6UoCofSDjHn2ByWnl5Kni0PAF+9L4PrDebOxncS6R95TefO27uX2OEj0BiN1F27Bn1ISFlG91ipeancvuR2knKT6Fq9Kx90+6DYNz4chYUcb9ceh8UiI0/CZTad28QDKx9Ap9Ext/9cagfVLvE5Mn+bS+ILL6CvWpW6K1egkc0rrsmZu+7GsmULIffcQ9VnnlY7jmpkClYxSAFSdvJseWxK2MSqs6tYF7+OrMKsS16P9IukZdWWNA1vSrOwZtQPro9BJ/uOCwGQVZjFopOLipqMAeg0OnrX6s3dTe6mQUiDEp1PURRih91G/oEDhD/xBGH331cesT1Kni2Psb+PZX/qfmoG1mRm35kl6jSds2Ejcffeiy48jHrr1skOWMJlxq0ax9r4tXSM6sjnPT4v8fGOwkJOdO+OPSVVNq+4RnkHDhI7dCjodNRduQJD5LXdPPIEMgVLlDurw8qG+A0sPLmQDQkbyLfnF70W7BVM22ptix7RAdEqJhXCvQUaAxnVaBQjG45k87nNfHfwO7YkbmHJqSUsObWEDpEduLfpvbSOaF2s82k0GoJHjSLx+efJmDWL0HvuRqOXH+tX4lAcTPhzAvtT92PyMvFx949LVHwA5KxZA0BA165SfAiXeqr1U2w4t4GNCRtZH7+eztVLNgVQazQScsedpLz3Hmnffkdgv36yO2QJpX3zNQCBfftU6uKjLMgIiLiio+lHmX9iPktPLyU9P73o+Ui/SLrFdKNHjR40D2+OTlv5dn8QoqwcSjvE9APT+f3M7zgUBwCtqrbi4eYPF6sQcRQUcKLrTdgzMqj+8UcE9PjvHhaV1bTt0/j+0PcYtAa+vvlrbqh6Q4mOVxSFk917YD13juqffkJAt27llFSIy7v4b7hmYE3mDpiLQVuyGQb2zEyOd+uOYrEQ8+03+HUoeW+RyqrwzBlO3tIHHA5qLViAd4PKvZ1xaT9by+0bcQmr3cqSU0sYuWQkQxcN5afDP5Gen06odyhjGo9h9q2zWT5kOc+2eZaWVVtK8SFEKTUObcxbXd5iyaAlDG8wHIPWwI7zO7jn93u45/d72J60/arHa728CBo6FICMmTNdEblCmnF4Bt8f+h6A1zq+VuLiA6Dg2HGs586h8fLCr337so4oxH964PoHCPEOITYrlp+P/Fzi43VBQQQNGQJA2rfflXU8j5b27XfgcODfpUulLz7KgoyACAAy8jP4+ejP/HL0F1LzUgEwaA10je7KwLoD6RDZQbbAFcIFknKT+Hr/18w9PherwwpA64jWPHT9Q1ccEbEmJHCi583gcFB76RK8apd8gaon+/t2u+NbjOe+Zte2Vib1iy9Jee89/Lp0JuaLL8oyohDF9uuxX3ll8ysEGANYMmgJwd4l60NTGB/PyZt7XbiTPx/vBiVbe1YZ2VJSONG9B0phITV++hHfVq3UjqQ6GQERpZKal8q07dPo9VsvPt3zKal5qYT7hPNo80dZOXQl73Z9l87VO0vxIYSLRPhFMLHdRJYOXlo0IrI9aTv3/H4P9664l93Ju/91jCEqCv+bbgIgY+YsV0d2ayvPrGTSJmfjtdGNR3Nv03uv+VxF6z8u/F0LoYZBdQfRILgB2YXZfLLnkxIfb6xencDevQBnQ1Px39J/+BGlsBCfFi3wadlS7TgeQUZAKqkUSwpf7/+a347/RoG9AIBGIY0Y02QMN9e4WXauEsJNXBwR+e34b9gczm2uO0Z25OHmD9MsvFnR+3I2biRu7L1o/fyou24dOv9r7zHiKTYkbGDc6nHYHDaG1BvCpPaTrnnRrS0tjeM3dgJFoe7aNRgiIso4rRDFd/GmhFajZU6/OdQPLtmUoPyjxzg9YABoNNRetBCvunXLKWnFZ8/O5sRN3XDk5Mjar7+RERBRIharhU/3fErfeX2ZeWQmBfYCmoU345PunzD71tn0rd1Xig8h3MjFEZElg5YwtP5Q9Bo9G89tZNTSUTyy6hEOph0EwK99e4w1a+LIzSVr0UKVU6tvzdk1jF89HpvDRu+avXmx3Yul2vEnZ916UBS8GjeS4kOornVEa3rW6IlDcfDW9rco6b1k7wb1CejZExSF1M9lOuHVZM6ejSMnB2PdOvh37ap2HI8hBUglYXfY+eXoL/SZ24fP9n5Gni2PZmHN+Ormr/jplp/oXL2zbMcnhBuL9I9kUvtJLBq0iEF1B6HT6Fgfv54Ri0cwfvV4jmYeI3jkSMC5GL0SDG5f0e+xv/PE2iewOqz0rNGTKTdOKfWGGX/fflcId/BEyycwao1sTdzKmrg1JT4+7KEHAchaupSCU6fLOp5HcOTlkTbduXlF6Nh7ZevtMiR/k5XAgdQD3L7kdl7d8ipp+WlEB0TzTpd3+KnPT7Sr1k4KDyEqkOoB1ZnccTILBi6gX+1+aDVa1sStYdiiYbwZvg18vCk4fgLLtqvvnuWpFp5cyDPrn8Gm2Ohbuy9vdX6r1KO6jsJCcjduBChaayOE2qoHVGd0k9EATNsxjUJ7YYmO927c2Pnv2eEgTTZVuKyM2bOxp6ZiiIrCdGtfteN4FClAPFhWYRavbXmNkUtGcjj9MAGGAJ5r8xwLBizg5po3S+EhRAVWI7AGUzpNYd6AedxS6xY0aFiavJYVDZ0fQuK//1LlhK6lKApf7P2CFza8gENxMLjeYF7v+HqZbKBh2bYdh8WCLjwM7yZNyiCtEGXj3qb3EuYTRlx2HDMOzyjx8WEPPwSAefFiCs+cKet4FZojL4+0r78BnKNFGoNMTy9LUoB4qFVnV9F/Xn9mH52NgsKttW9l4aCFjGo0StZ4COFBaptq81bnt5jbfy4317iZ31s6byxY12xk8oLHiDXHqhvQBawOKy9teomP93wMwF1N7mJS+0ll1qcoZ/VqQLqfC/fjZ/DjsRseA+CLfV8UbaNfXD5Nm+LXuRPY7aR++ml5RKywMn6+MPpRvTqmAQPUjuNx5CephzEXmHn+z+d5fM3jpOWnUctUi29u/oapnaYS5hOmdjwhRDmpG1yXd7q+w3v3/Ma5esHoFNAsXMmABQOYuGEicdlxakcsFxn5GTz0x0PMPzEfrUbLxLYTebLVk2g1ZfPrTXE4yF61CgD/m2T3G+F++tfpT5PQJuRac/l498clPj583HgAzAsXkX/0aFnHq5AcFgtpX38NyOhHeZFteD3In/F/8vKml0nOS0ar0XJXk7t4pPkjGHVGtaMJIVwoa/lyEh7/H5YAI2MfsmPXadBpdAyoO4B7r7uX6MBotSOWiX0p+3hy3ZMk5Sbho/dhWpdpdK7euUyvkbdvH7G3DUfr60u9zZvQenmV6flLzWGHnPNgToCseMhOAkvahUc65KVDXgYUWsCWD9a8v77y91//GtBoQGcEox8Y/MDo6/yzVyD4hYFfOPiGOr/6V4GgGDBFg7fn/l6tKHYn72b0stFo0DD71tk0Cm1UouPjH/8f2cuXS5PNC9K+/Y7kt97CUL06dZYtlQLkMkr72Vq6y3kAq93Ke7ve48dDPwJQM7Amr934GteHX69yMiGEGgK6d0dfpQq+ycn85DOeT8L3sSFhA3OPz2X+ifl0i+7GmCZjaF6ludpRr4lDcfDjoR95f9f72Bw2agTW4N2u75a4F0JxZK9cCYBfl87qFR8OB2QlQNpxSD0OqcecX9NPQ/Y5uNAfpnQUUBRncWLLB9KKf6h3kLMYCYqB8AYQ3tD5NbSes4gR5a5FlRbcUvMWlsUu441tbzC99/QSrfOs8vhjZK9cSe669Vi2b8e3detyTOveHLm5pH0jaz/KmxQgFVx8djxPr3uaA2kHABjZcCSPt3wcH72PysmEEGrRGAwEDb+N1I8+xn/hn3w2ayZ7kvfwxb4v2JCwgT/O/sEfZ//g+vDrGdNkDN2iu5XZeonyFp8dz8SNE9l5ficAPWv0ZHKHyfgb/cv8WoqikL3CWYAE9uxZ5ue/LFshpByGxL1/Pc4fAmvulY/R6CCgGpiiIDASfMPAN8Q5WuETAj7BF0Y1vEHv89dXjZaiwuPiV3uBc7TEaoHCXOfXvEywpEJu6l9fsxMhM845wpKfCUmZkLQPjiz+ezAIrgHhjSCyBUTd4PzqJ9OBy8P/Wv6PNXFr2JW8ixVnVtCrZq9iH2usWZOgYUPJ/Hk2ydPeocbPsyrtRjVp06djT0vDEBODqX9/teN4LJmCVYGtiF3By5teJtuaTaAxkNc6vsZNMbJFpBACrMnJnOjWHWw2as39De/GjQE4kXGCHw79wOJTi7E6rABU96/OsAbDGFBnAKE+oWrGviKr3cqPh3/k872fk2fLw0fvw1OtnmJY/WHl9kGp4PhxTvXrj8ZgoN7mTej8y77IITMO4rbC2S0Qv81ZbFz4/+USWj2E1HaOKoTVg7D6EFrHOQXKvyroVLqfWJAD5jjIPOsckUk9CslHnEVUXsbljzHFQFQLiGoFNTtCxPXq5fcwn+z5hM/3fk6kXyQLBi7AW+9d7GOtycmc7NUbJS+PqI8+dF3R7UZsqamcvLkXDouFqHffIbBPH7Ujua3SfraWAqQCsjlsvLPjHX46/BMAzcOb81bnt6jmX03lZEIId5LwxJNkLV2KaegQIl977ZLXUvNSmXl4Jr8c+wVzgRkAvVbPTdE3MbTeUNpFtiuzhdyloSgK6+LX8c6Od4jNigXghio38NqNrxEdUL5rWVI/+4yUDz7Ev0sXor/4vPQndDgg+RCc2egsOOK2OqdW/ZO3Capd73xEXA/VmjmLj4q0g6GiOEdKUo7A+QNwbjck7HJOI/snYwDEtIWaN0KNGyGyecX6Xt2IxWqh3/x+JFuSGddiHPc3u79Exye//z5pn3+BsUYNai1aiNZYudaQJk2eTMbMWXg3bUrN2T/LrndXIQVIMXhSAZKZn8lT655ia9JWAO657h4ebfEoBq38sBZCXMqycydnRt2BxtubemvXoAsK+vd7rBaWnV7Gb8d/Y3/q/qLnI/wi6FWjF71r9aZJaBOXT8dwKA7+jP+Tz/Z+xsG0gwCEeofyv5b/o1+dfi4pjk4NHkzBocNUe+1VgoYOvbaTZMTCqbVwah2cXu+cwvR3Gp2zwIhu63xEtXSupfDU6S/5Zue0soRdzgLszEbnc3/nZYI6XaHezVC3BwREqBK1olp8ajHP//k8PnofFg9aTBXfKsU+1p6Tw8net2BPTSX8yScIu+++ckzqXgpjYzl5az+w2Yj5/nv82rZRO5JbkwKkGDylADmWcYzxq8eTkJOAr96XKZ2m0D2mu9qxhBBuSlEUTg8aTMGRI1R55hlC77n7qu8/mn6UX4/9ypJTS8i2Zhc9X92/Ot1jutMxqiMtq7Ys1531MvMzWXByAXOOzeFMlrMxmo/eh5ENR3Jv03vLZa3H5RTGJ3CyRw/Qaqm34U/0ISHFO9CSDqfW/FV0ZP6juZvBF2LaQUx759eols71GZWVww7nDzoLkdgNzq//nLpV7XpnMdKgj3MNiacWZ2VEURTuWHYH+1L20b9Of16/8fUSHZ85bz6Jzz+PxteXOsuWYqhatZySupf4xx4n+/ffZSewYpICpBg8oQBZeWYlL2x4gTxbHtX9q/Nhtw+pF1xP7VhCCDeX8csvJL00CUNMDHWWLyvWlIJ8Wz4bEjawPHY56+PXk2fLK3rNR+9Dm4g2tKraimbhzWgc2rhE88z/SVEUEnIS2Jy4mT/O/MG2xG3YFOeuTn4GP25rcBt3NbmLEO9iFgBlJG36dJLfeBPf1q2p8eMPV36jokDSfjj+OxxfCfHbQXH89bpW71zrULsL1O7q/LO+ck1rKRGH3Tld6/gK59/nuV2Xvh4UA40HQONBzkXtUoxc1v6U/YxcOhKAGX1m0Cy8WbGPVRwOztw+kry9ewns14+ot98qr5huw7J7N2duHwlaLbXmz8O7ftnvqOdppAAphopcgCiKwvSD03l357sAtKvWjmldpmHyMqmcTAhRETgsFo53vQlHVhbRX36Bf+eS9cmwWC38mfAnf8b/ycZzG//VaVmv0VMrqBY1A2tSy1SL6IBoQrxDCPEOweRlQqf5a3et7MJsMgsyOW85T6w5ltPm0+xL2UdyXvIl52wU0ohhDYbRt1ZffA3qbOMae8cd5O3YSdUJEwgZfeelLxZkO0c3LhYd2YmXvl6lMdS+yVlw1GgPXgEuy+1xcpLhxCo4tsz5d221/PWaKRoa9YdmtzlHSaQYucQLG15g4cmFNA5tzMw+M0u0013egYPEDhsGikKNGT/h27JlOSZVl2K3EzvsNvIPHcI0ZDCRr5dsxKiykgKkGCpqAWJ32Hlz+5vMOjILcG6x+3Trp9FrZbcQIUTxnZ/6Bunff1/qqQWKonAs4xgbz21kb/Je9qXu+1dBci30Wj1NQpvQNborPWJ6UNNUs9TnLA1bairHO3UGRaHu6lUYIiMh9cSFgmMFxG68dKcqgy/U6gL1b4a6PSHIMxo9up1CC5xYCQfnw7HfL92aOLwRNL8dmg2XNSMXpOal0m9eP3KsObzY7kVua3BbiY5PfPElMufMwathQ2rN+cVj+2Fk/DybpJdfRhsQQJ3ly9CHuudOgO5GCpBiqIgFSL4tn2fXP8vquNVo0PBUq6cY3WS02rGEEBVQ4ZkznOzVGzQa6vy+HGNMTJmcV1EUknKTOJ553DmikXWacznnyMjPID0/nazCLBRFQbnQcdvf4E+QVxChPqHUCKxBzcCaNAptxHVh17lV76KM2b+QNGkS3vViqPVwc2fRkX7q0jcF14L6vaBeT+fOTYZrn4YmroE1zzkycuBXOLLU2b8EnL1N6nSD62+Hhn3B4D7/rtTw06GfeHP7m5i8TCweuJgg76BiH2vLyOBU71uwm82EP/EEYfd73oL0v3+PVV94gZA771A7UoUhBUgxVLQCJCM/g3Grx7E3ZS9GrZEpnaaUqKGQEEL809n77if3zz8Juftuqj77jNpx3JM5Ho6v4MyLn2E5nUN4syzCGuc4X9ManD0r6t0M9Xo5e3DIlB/3kJfhHBXZO8u5s9ZF3iZoPgpa3g3hlXNOv81h47bFt3E84zhD6w9lUvtJJTo+c/58Ep97Ho3RSK358/GqXauckqojcdLLZM6ejVeDBtT67Vc0eplhUlxSgBRDRSpAknKTuH/l/Zw2nybQGMiH3T6kZVXPnXsphHCN7LVriX/wIbQmE/XWrkHrU7nvDANgtzkXjV9cy3H+ALY8LccXVgVFQ53hCsaWPZ0FR+0uspajIkg7CXt/dj7MZ/96vmYnaHU3NOxX6TYB2JG0g7t/vxsNGmb1nUWTsCbFPlZRFOLuu5/cDRvwadmSGj/+4DG9MXK3bePs6DEA1PjxB3xbt1Y5UcUiBUgxVJQC5GzWWe5bcR/ncs8R4RfBFz2+oHZQbbVjCSE8gGK3c7JXb6zx8aXra1HR5abBiT+cRceJVZCf+bcXNaQnN+L86ky8G9al1ryFMspRUTkccHIV7PgWji3/a2cyv3BocSe0vhdMUepmdKHn/nyOJaeW0CysGT/2+bFEfXSsCQmc7NcfxWLxmGlKjrw8Tg0YiPXsWYKGDaPaq5PVjlThlPaztWeUsR7geMZxxiwfw7ncc9QIrMEPvX+Q4kMIUWY0Oh3Bt48AIH3GTCrBvScnuxXObIY1U+DrHvB2HZh3Pxz4zVl8+ARD02Ew+Ct4+iRZ5joABA4cIsVHRabVOtfn3D4LHt8PnZ8B/wjITYEN78IHzeC3e50NESuBJ1s+iZ/Bj32p+5h/Yn6JjjVERVHlyScASJ42jYLjl+lmX8GkvP8+1rNn0UdEUOWZp9WOUynJCIgb2J+yn4dWPYS5wEz94Pp80fMLwnzC1I4lhPAwtowMTnS9CaWggBozZ+J7Qwu1I5U9RYHU485mgCfXOJvbFWZf+p6qTZ07VtXrBdVbwYXtSa2JiZy4qRsAddeuwRAhuyl5FLsVji6FbV9B7J9/PR/TAdo/7Gx0WIKtaiua7w9+z7Qd0wj2CmbRoEUl2s5fURTi7n+A3D//xKt+fWrO+QWtl1c5pi0/lp07OXPHnaAoRH/1Jf6dOqkdqUIq7WdrWW2jsu1J23l01aNYbBaahTfj0+6fSo8PIUS50AcHE9i3L+a5c8nwpAIkK9HZQfvkGmfhkZVw6es+Ic6eHHVugro9IDDy8qdZttz59lYtpfjwRDrDhSaGA+DcHtjyqXMk7Owm5yO4JrR7GFrc4ZHd6Uc2Gsn8E/M5kXmCj3Z/xMR2E4t9rEajIXLqFE4NGEjBsWMkv/MOERMmlGPa8mHLyCDhyadAUTANHizFh4pkBERFWxK38OiqRymwF9A2oi0fdvtQtaZbQojKIe/gQWKHDAWDgXprVqMPq2CjrYoCmWfgzCZn0XFm07+3yNUZIaa9s+CofRNENHNOyfkPp4fdRv7+/VR96UVCRo4sp29AuJWsc84RkR3f/rUeyCfEWYi0udc5Rc+DbEvcxtgVY9FqtPzc92cahTYq0fE569YR98CDAER98AGBvW4uj5jlQnE4iH/oYXLWrcNYowY1f/sNnb/nFZquIovQi8EdC5DN5zYzbvU4CuwFdK7emXe7vouXrmIOZwohKpbY4SPI27uX8MfGE/bQQ2rHuTqHA1KPwtktF4qOTZAV/483aSDiOmczwDo3OafUGEt2M6fw7FlO3twLtFrqrV9X8QozUTqFuc5tfDd9DBmnnc8ZA6D1WGj/CPhXUTdfGXp63dMsj11Os7Bm/HDLDyXqkA5w/s23SP/uOzS+vtT8eRbe9SvGFsdp33xL8ttvozEaqfnLbLwbNlQ7UoUmBUgxuFsBsuncJsavHk+BvYAu1bvwbtd3Meoq17aAQgj1mBct4tzTz6CvUoW6f6xEY3Sjnz85yRC/AxJ2XPi6699rOLR6iGwBNTo6H9FtwCeoVJdN/fwLUt5/H78O7Yn59ttSnUtUYHYbHJoPf74DyYecz+m94YbR0GG8R3S5T7Yk039+f3KtuUxsO5HhDYeX6HjFZuPsffdh2bwFQ3Q0teb8gi4oqHzClpGcjRuJu/8BsNuJePllgkeU7HsW/yYFSDG4UwGyKWET49c4i4+u1bvyTtd3pPgQQriUo7CQE927Y09JJfLttzD166dOkIJsSDoA53Y7+3Ek7IDMs/9+n8EPom6AGh2cj+qty3SOvqIonOrXj8ITJ4l4dTLBw4aV2blFBeVwOLdqXj/N+e8SnIVv85HQ+WkIilE3XynNPDyTqdum4m/wZ+HAhYT7hpfoeFtGBrFDh2FNSMC3bVuiv/oSrTvdyPib/GPHODNyFI6cHEwD+lPtjTfQyA53pSYFSDG4SwGyMWEj41ePp9BRKMWHEEJVqZ9/Tsr7H+DVuBG1fvut/H8h56ZB0l5I3AeJeyFpn7NpHP/8FaSB8AbO3amiWjm/hjcCXfntmZK3fz+xw25D4+VFvQ1/oguQhoPiAkWB0+udIyKn1zmf0xqcIyKdnqywvUTsDjujlo7iYNpBetXsxbQu00p8jvyjRzlz+0gcFgsBvXoR9e47aHTutYuYLSWF08OHYzuXiG+rVkR/+43bFkolYXPY0Gl0qhZSUoAUgzsUIBsSNvDY6scodBRyU/RNvNPlHQw6gypZhBDClpHBiZu6oeTnEzN9On7t2pbNiR0OyIyF84cgab+z0Ejc+++dqS4KqAbVmkP1ls6CI+oG8HbtToBJk18lY+ZMAvv0Ierdd1x6bVGBnN0Ka17/qxDReTm7q9/4PwioeLumHU47zIglI3AoDj7t/imdqpd8R6jcLVuIu+9+FKuVoOHDiXh5ktuMLtgyMjg75i4Kjh3DWLMmNX+e5fZTxYrD7rDz/IbnCTQGMqHthBI1lSxLUoAUg9oFiN1hZ9jiYRzPOE636G5M6zJNig8hhOoSX3mFzFk/49+lC9FffF6ygxXFuYNQ8mFIOez8mnwIUo6C1XL5Y0JqO3ekqnY9VGsGEdeDf8mmfpQ1R2EhJzp1xm42S08AUTyxG5yNLc9sdP5vvbezs3rHx1X/91xSb29/mx8O/UCUfxTzBszDR+9T4nNkLf+dhP/9DxSF4FGjqPrCBDTF2HWuPNkzMzlz9z0UHD6MLjyMmj/9hLFGDVUzlQWH4mDSpknMPzEfvUbPzL4zS7yTWVmRAqQY1C5AAM7nnmf6wek80fIJKT6EEG6hMDaWk7f0AUWh9tIleNWu/e83OexgjoO0E5B6AlKOXCg2DkOB+fIn1nlBeH1nw79qFwqOqteBt/qbgPxT1ooVJIx/DH14OHXXrnG7KSTCTSmKcyRk9esQv835nMHXuWNWh/Fu+W/9cixWCwMWDCApN4l7rruH/7X83zWdJ2POHJJemuTsrzFoENVenYxGr06rOWtiImfvu4/CEyfRhYVR44fvL/+zrYJRFIUpW6fw89Gf0Wq0TOsyjZ41eqqWRwqQYnCHAkQIIdxR3COPkrNqFUGD+lHtgQHOQiPthHN9RtoJ55ak9sLLH6zRQWhdqNIIqjT+62twzXJds1GW4h5+hJzVqwkZew9Vn35a7TiiolEUOLHKOTXr3C7nc76hzoXqre4Bvftvr7/m7BrGrxmPXqNndr/Z1A++tm11zQsXcu75CWC349+jO1FvvonWz7V9NvIPHSLuoYexnT+PvmpVYr75Gq+6dV2aoTwoisK7O99l+sHpaNDw+o2v06+OSpuHXCAFSDFIASKEEEBeJqSf/Ku4SDuBZe8hzswxo9Ep1O13Hr2349/H6byc06dC60BY/b+KjbB6FeID1pXY0tM53rkL2GzUXrQQr3r11I4kKipFgSOL4Y9XIO2487mgGLjpBWg6DErYa8PVHl/zOKvOrrrm3iAXZf/xBwn/ewLFasWrXj2qf/IxxhjX7BiW+euvJE1+FaWwEGPdOsR89RWGatVccu3y9uW+L/lo90cAvNz+ZYbUH6JyIilAikUKECFEpWHNg/TT/x7JSDsBltR/vV1RIHZlGPnpRsJa6Qjv3QBC6jhHNkIvfDVVd/sPUNci/YcfOD9lKt7XXUetX+eoHUd4ArsN9vwEa9+A7ETnc1Wvgx4vQ90e4CYLtP8pKTeJgQsGkmvN5elWTzO6yehrPpdl927ix4/HnpKK1s+PqhOexzR4cLktTrelpJD06mtkr1gBgH+XLkS+9SY6k2s3sygvvxz9hVe3vArAs62f5Y7Gd6icyEkKkGKQAkQI4VHsNsg8A+mn/lZoXCg2zPH8e2vbv/GP+Ftx4SwwzLsTOffKO+iCg6m76g+0viXrIl4RKYrC6cFDKDh8mKoTJxJyxyi1IwlPUmiBrZ/Dhvf/WitV40bo+Ypza2k3NOfYHCZvnoy3zpvf+v9GTOC1j1xYzyeT8MQT5O3cCYBfx45Uff65Mp0O5SgsJHPWLFI+/QyH2Qx6PeGPPkro/fepvgi+rKyIXcFT655CQeH+ZvczrsU4tSMVkQKkGKQAEUJUOEWLv086C430Uxf+fBIyzoDDeuVjvUwQVtdZaIT8VWgQWge8/t3jQrHZOHlLH6xxcVSd8Dwho6/97mdFUdT7w2Cg7vp16IOD1Y4kPJElHTa8C1u/BHuB87lG/Z0jIqF1VI32T4qicN+K+9iatJVWVVvxTa9vSrXFq2K3k/7dd6R88CGK1Qo6HaaBAwgdO7ZUi8LtOTmYf/uNtO+/x3bOOcrk3bgx1V5/De9G6uwIVR62JG7h4T8exuqwMqz+MF5s96LbbHEMFbAASU9PZ9y4cSxatAitVsuQIUP44IMP8Pf3/89jFUWhT58+LF++nHnz5jFw4MBiXVMKECGEW3LYnf0xLhYWaaecX9NPQUbslRd/g3Prz38WF6EXig7f0BJP9ciY/QtJkyahr1qVuitXoPGAZl1Xc27iRMy//kZgv35Evf2W2nGEp8uMc07L2jsTFIezmWHbB6DzU+DjPsVvXHYcQxYOIc+Wx8S2ExnecHipz1kYG8v5t6eRs2pV0XO+rVsT2Lcv/p07YYiM/M9z2DIysGzbTvbvv5O9di2KxbnVt75KFcLGPUrQoEGq7bpVHg6mHuSe3+/BYrPQs0ZP3u789jWvyykvFa4AueWWW0hMTOSLL77AarVy991307p1a2bOnPmfx7733nusXLmSZcuWSQEihKgYHA5nkZF+6q8F4BdHMzJi/7orejk6IwTXchYXIbX/WggeUgcCo6AMpxk4Cgs52aMntuRkIl6dTPCwYWV2bndjz87meOcuKHl51PjpR3xbueeUGOGBzh+ClS/CiT+c/9snGLo+79wxy0226J9xeAZvbHsDX70v8wbMI9L/vwuE4rDs2k3at9+Qs2q1c/HZBYbISIx162CMjkFnCkRj9MKRl4cjNxdrYiKFp05RePr0Jecy1qlDyJ13YhrQH61PyXuXuLNT5lPctewuMgoyaFetHZ90/wSjzv1uCFWoAuTw4cM0btyY7du30+rCD/zly5fTp08f4uPjibxKFbxnzx5uvfVWduzYQbVq1aQAEUK4D4fDueD07wVGUZFxGmz5Vz5Wa4CQWhcKjDoQWvuvkY3AKJcu/k6bPp3kN97EEBNDnaVLPOqO4t+lz5jB+Vdfw1i3DrUXLXKraQ2ikjj+B6yY6GziCc6Ry56vQoNbVF+o7lAc3LX8LnYn76ZDZAc+7/F5mf43Yk1IIGvZMrJWriT/wEGw24t1nLFOHfxvvJHAvn3wbtrUI/+7TcpN4s5ld5KUm8R1odfxda+v8TO4divj4irtZ2uX/nbZvHkzQUFBRcUHQI8ePdBqtWzdupVBgwZd9jiLxcLIkSP55JNPiIiI+M/rFBQUUFDw113FrKys0ocXQlRu+f9v787jo6ru/4+/Zl8yS/aEhC2gsuOGWFxbRcH6Vduq39ZSv7ijQuteUb9qFxW1ta1aN+pPaetCtV+tS90QFKUimyCrrEIg+zpLJrOf3x93MkkgaIDJTBI+z8fjPu4sNzNnmEsy7znnfI5H67Fo2qXtm3e1X28u/+aeDL1RWxujLVh07M1wD+o1FaZyLr6YhqefIVJejvf993Gfe26mm5RySima5/8DgJz//nG//BAj+oAjJ8Ow78Lqv2triDRsg/mXwNBTYcr92uKdGaLX6fnNSb/horcu4rPKz/i/rf/HRUddlLLHN5WWknfVVeRddRUxfwvBDRsI79xJpKKCuN9PPBxCb7Ojt9sxFhRgLhuKdeRIjHl5KWtDb9QcbGbGghlUt1Qz1DWUJyc/2WvDRyqkNYBUV1dTWFjYuQFGI7m5uVRXV+/352666SZOOukkLrjggm49z5w5c/j1r399SG0VQhxGlIJAgzZUylupVZLy7O4cOILN3/wYOgPkDOkQMtp6M4aBe3CfWJhPn5VFzv9cSv1jj9PwzFxc55zTb6rJtGldvYbQ1q3orFbcF5yf6eaIw5nBCBMuh7EXwpI/wtInYOen8MzpcMw0OON/wZWZdSyGuofy82N/zu9X/p6HVzzMxOKJh1QVa38MjiyyTpxI1okTU/7YfUkgEmDmwpns8OygyF7E3LPmkmPtPXODekJK/iLOnj2bhx566BuP2bRp00E99ptvvsmiRYtYvXp1t3/mjjvu4Oabb05e93q9DBo06KCeXwjRx8Xj0NrYOVx4K/e9/k09GG2yCiB7iBY0coYmLg/VrrsG9omQ8W1yp02j8f89R2jLFnwfLMA1dUqmm5RSTS++CIDrnHP6zToBoo+zumDyvVoY+fDXsP6f2loiG16Dk2+Ak34B5vSXxr509KUs3rOYFdUruHPJncybOg+jvu//juttIrEIN318E2vr1+K2uJl71lwGOPrHAorfJCVzQOrq6mhoaPjGY4YNG8YLL7zALbfcQlNTU/L2aDSK1Wrl1Vdf7XII1o033shjjz2GvsO3cLFYDL1ez6mnnsrHH3/8re2TOSBC9DNKaUOi/LXgr4GW2vbL/rrEvka7raUOVPfGGJNVCO5Sbe6Fe2DnkJE9GCzfXq2vP6h7/M/UP/EE5uHDGfbmG+gMvWOI2KGKVFezbfJZEI1S9tr/YR09OtNNArRhYbG4IhpXRGJxojFFJK7t2y63/6nWodNB28AxnU6HjvZpA3qdDpNBj9mox2TQYTbqMRv0MtSsL9m9At6/E/Ys1647S7SyveMuTmnhie6o9Fdy4ZsX4o/4mXXMLGYcPSOtz9/fxVWc2Z/M5t2d72Iz2nj27GcZXzA+083qlj45CX3lypUcf/zxAHzwwQdMnTp1v5PQq6urqa/vvHrvuHHjePTRRznvvPMoKyv71ueVACJELxdp1erlBxq03opAQ+J6417XG7TNX9u9HouOsgq0YOEqTYSMEq3XwlWiXXeWgLH3VRrJhJjPx7bJZxH3eCh5+CHc5/ePoUq1jzxCw1+exX7CCQz5+98O+OfD0Ti+YARfMIo/FMWbuKxtEfzBKK2RGIFwjGAkRmskRmt4r30kRjAcIxCJEYrEicbjRGI9/2fYZNBhNugxJQKJ1WTAbjbgsBixW4w4LAbsZiMOi5GsDpddNiPZNjPZdhPZdjPZNhMumwmDXgJNj1IKNrwOC+4FT7l2W8lxMPVBGHxiWpvy1va3uHPJnRh1Rl74/guMyR+T1ufvr5RSzFk+h5e/ehmj3sgTZzzBSaUnZbpZ3danAghoZXhramp4+umnk2V4J0yYkCzDW1FRwZlnnsnf/vY3Jk7sekygTqeTKlhC9EZKQbilQ5BohNamzgGiq4ARCRzc81nc4CgARxE4CrUeDEdh4npR+31ZBb2mxGVfUf/MXOr++EdMQwYz/O230Zn69r9fPBBg6/fOIO7xkP37P9J64ik0BSI0B8Id9u2Xva3RZNjwJgJGKBpPa5tNBh1GvR6jQYdBr0tWLlVKaWvdt11P3AYQV2i9KPGe+9Ou04HLakqGkhy7iXyHhQKnhQKHhUKXti9wapvDYpQemIMVCcLnT8Knj0DYr9025kfaiurZqZ+T0RWlFLcuvpUPdn3AUNdQXjnvFWzG/lX6NhOe/vJpnljzBDp0PHzaw0wtm5rpJh2QPlUFC+DFF19k1qxZnHnmmcmFCB977LHk/ZFIhM2bNxMIHOQHEiFE6kSC7cObWuo69Eh07Jlo6nzbNy2e9030Rm0BPVsu2BObLVe7zZ7b4b68RMgoBJP8EewpuT+bRuNf/0pkVzmeN94g+6LUVcFJFaUULeEYDf4Q9f4Q9f4wDf4wjS0hmgIRmgJhmhP7cSs/5BKPh6qsPM79NEJ8yeKDfl672YDTasRpNXXaO8xG7BYDtkTvgtVkwGbe67pJ612wmfVYjAaMiZBhMugwGvQY9TqMei1wHMqH9nhcEY7FtS0aJ9JhH4rGCUZitIRiBMJR/Ml9lEAopu3DUVpCMTytEZpbwzS1RPC0RvCHoigFnlbt+q6Gb/9bbTMZKHBaKHRaKMm2MSDbSmm2jRJ3+2W3zSQhpSsmK5x6szYp/aP74Iu/a3NDvvo3nDQLTrkJLM4ebYJOp+OeSfewpnYNO707mbNsDr85+Tc9+pz93SubX+GJNU8AMHvi7D4XPlIh7T0gmSA9IELsJdwCngqt0lPH+RKd9jXaPIuDYbTuP0h0ChUdrlucGa9/LzpreH4etQ89hLFkAMPfew99GlZHj8biNAUiNLSEqPeFaWgJUecL0dASTgSN9n29P9StXgmdivPMwt8xyF/HU+Mu4M3hp+KwGMm2m8ixm5P7nA7f6Ltspg4Bw4irLWRYjBgN/asy2IEIR+OJ8NHWWxShqSVMnV97n+r8Ieq8oeR1fyjarce1mw0McFspybZRmm1jUK6dIXl2huRmMTjPjtvWt3vgUqZqrTY/ZOen2nVHEZxxNxzz0x4v5728ajlXL7iauIrzwCkPcN7w83r0+fqrD3Z+wK2Lb0WhmDF+BrOOnZXpJh2UPjcEKxMkgIjDTtDTvtK2Z0+Hbbe2b23s/mMZLIlhTHmdeyj2CRgdwkQGKraI1IsHg2w/ewrR2loKZ99O3mWXHdTjKKXwtEao9YWo9Yao9QWTl+v8Iep9IRpaQlrvRSDMgf5VspkM5DvN5GVZyHeYyc0yJ4KFFiYGrP2cwt/fC1lZ5P77fXLyczAbD98QkU6BcJR6X5g6f5AqT5Cq5iCVnlYqm1upbA5S2dxKQ8u395pm200MybUzOC8rsbczJNfO0PwsCp2Ww6v3RCnY/A68f5e20ClA8TiYMgfKTu3Rp35qzVM8+eWT2Iw25v/XfIa5h/Xo8/U3n1d9zvUfXk8kHuHioy7m7u/c3WfPXQkg3SABRPRLIb+2eFXjdmjYoe3bVt8O1H/7z5udWqUnZ7G2dZo70eGy1S09E4expldfpfrue9C73Rzx/nsYsrOT98XiigZ/SAsTvmAiXHS+XJfYwrHuz5/Q6SDXbibPkQgVTgt5WWbyHWbyHRbyHBbyHGYKEnu7ef+jiZVSfH3hhYQ2biLv2hkU3njjIfxriJ4QjMSo8mhhpKK5lYqmVsobA+xqaKG8MUC9/5sDSpbZwPBCB8MLHBxR6GB4QRbDCxwMzrNjMfaPCm5dioZg+VxY/DsIJXqrR/4XnP1bbf2hHhCLx5ixYAbLqpdxZM6RvPT9l7AarT3yXP3NhoYNXPHeFQSiAc4acha/O+13GHrJIrQHQwJIN0gAEX1apBXqt0Dtps5bW2WU/ckqhNwybaKie2BiG9R+2SprIIiuRWJxan0hqj1B6ppbKLjlaux7drL+pO/zzqk/ToSMEA3+EAcy1znbbqLQaaHQaaXQ2T5JucBpSQQNLXDk2E0pG+bkX7yY3TOuRWezccSihRhz+vfiXv2RPxSlvCFAeWMLuxoC7GoMUN4QYFdjCxVNrfs9Bw16HYNz7clAMrzAwfBCB0cVOXBa+9GQrpZ6+HgOrHxeKzmuN8F3roXTbuuR3/P1rfVc+OaFNAYbueioi7h30r0pf47+ZqdnJ9Pfm05jsJETi0/kyclPYjb07aqLEkC6QQKI6DN8NVD1JVStgeq1WtBo3AFqP98e2/P3WnV7uPbNV+4wbXErIfbiD0Wp9gSp8WpDYmq8Qao9HS57g9T7Q52GQR1Xu5n7P/sLEZ2BGWfeRpUjP3mfXgf5icpHhU5rsgqSFjCsHS5b0v5ttFKKXZf8lNY1a8i9/HKKbv9lWp9f9LxQNEZ5Q4DtdX6217WwvdafvPxN809Ks22MLHYyosM2LN/Rt4fm1W7S5odsX6Rdt+fD9+6E46anfJHUpZVLmbFgBgrFb076DT88ct913ISmuqWa6e9Op7KlklG5o3huynM4zH1/TSkJIN0gAUT0Okppq2+3hY2qL7XNV9X18bYcKBwNhaO0rSCxt+emtdmi94rHFQ0t4fZA4Q1S49ECRXViX+MJ4uvmpGCTQaf1VCQCxH+/+gglW9bgmXAyrf/7gFbVyKX1XPTWNSFaPl9G+WWXoTObGf7hAkyFhZlukkgTpRS1vlCnQLKt1s/WWh813q7XEDLqdQwvcHBUsVMLJ0VaMCnNtqHvpef4PpSCrQvgg7u0nnPQ/l5MuR+OODOlT9VWRtakN/HclOc4pvCYlD5+f1DfWs9l713GLu8uhriG8NepfyXPlpfpZqWEBJBukAAiMi7QCHtWwp4VUPmFFjZa6ro4UAf5R8GAo7WtaIwWPByFMg/jMBaOxpO9Ex17L9pCRZUnSK0v2O0F7ZwWI8Vuq7a5tH2Ry8qAxL7YbSXXbu70oSu0dSs7fvBDiMUY9Je5OE7t2cmuh0opxa6fXUrrqlXk/PSnFN9zd6abJHqJppYwm2t8bKnx8VW1j83VPrZU+/Ybzp0WI6NKXIwpcTF6gIsxJW6OLHJg6s3V0GIRbUjWxw9oazEBHDkFzr4PCo5KyVPEVZxbPr6FD8s/JN+Wz/xz51OUVZSSx+4PmoJNXPH+FWxr3kZJVgnzps5jgGNAppuVMhJAukECiEirWARq1icCRyJ0NG7f9zidAQpGQskxHQLHWLD0/a5Z0X0toWgyWFR5glR7WhP79sDRnSpBoGXUfIelPUi4OoeMtstZloMbjlHz4EM0zpuHadAghr31Jnpr75186lu0iD3Xz0RnsTD8/fcwFRdnukmiF1NKUekJsrnay+ZqP5urvXxV7WN7nb/LYG826Dmq2MGYAW7GlGrhZNQA1zcWRMiI1iZY/LA2WT0e1dZbOuEqOP32lPSgByIBpr0zjW3N2xiXP47npz6PxWBJQcP7Nm/Yy1XvX8Wmxk0U2gqZN3Ueg1yDMt2slJIA0g0SQESP8lZqIWPPCi1wVK6GaHDf4/KOhIEnQOlxUHIcFI2WhfT6MaUU3mA0ESxaOwQMbXhUdeI2b7B7Q6LMRr0WJPYKEx17Lwqclh79Vjbmb2HHuecSrakh//rrKPjFL3rsuQ6FikbZ8YMfEN62nbyrr6bwlpsz3STRR0VicbbX+dlQ4WVDpZcNlR42VnnxdfH/VqeDsvwsxpS4GVPiYmyJm3Glbtz2XjDhvX4rfHA3bHlXu27Nhu/eASdcCYZDa99u725+8u+f4A17OX/4+dx38n19trRsKrREWrhmwTWsrVtLrjWX56c+3y/LFUsA6QYJICJlIq1QuUYLGxWJHg5vxb7HWd1a2Bh4AgycAKXHa/M4RL8QjysaA2Gtl6JDoEj2XCTCRmsk1q3H23tI1AC3lWK3jWK3hWKXjWK3lRx771gp2vv+B1TccAM6k4myN97AMqws003aR/M//0nV/96Nwe1m+IIPMMjvfZFCSil2N7ayodKTDCUbKr3U+rqeWzIkz864UjfjB7oZV5rN2FJX5qpwbf9IWz+kdoN2Pe9IbX7IkWcf0jDfpZVLufbDa4mrONcdfR3XH3N9ihrct/jDfmYunMkXtV/gMrt4bspzjMgdkelm9QgJIN0gAUQcFKW0ClRtw6j2rNCGVsX3+uZLp9fmaiQDxwlaNSp9Lx4fLPYrGotT7w8nhj+1h4r23otWajzdX9cix27SwoTLQrHblggXWshoGyrVl0qCKqXYPWMGLZ98iu3ooxny0ovoDL2nln28tZXtU6Ye8uKJQhyoWl+QDZVeNiZCyfoKL+WNgS6PHVaQxfhSN+MGZjN+oNZjkrbhW/EYfPE3WHRf+5pRw74HUx7QeuYP0iubX+G3n/8WgF9N+hUXHnVhKlrbZ3jDXq5bcB1r69fiNDmZe/ZcxuaPzXSzeowEkG6QACK6JeiBilUdAsfKrlcMdxR1Dhslx4A5K+3NFQcmEotTl1i/osarrcRd5w1S02Fl7hqvtiJ3d38rFjgtyWFQHYNFsas9aFhNvefDeapEKivZcf4FxP1+Cm6+mfxrrs50k5Jq//QnGp5+BlNpKcPefQe9uW/X2hd9W3MgzLoKD2v3eFi3x8O6Cg8Vza37HKfXwRGFDsYnAsm4UjejBrh69vdH0AOfPgKfPwWxsPZl2vGXwffugqz8b/3xrjy++nHmrp2LQWfgsTMe47SBp6W2zb2UJ+ThmgXXsLFhI26Lm7lnzWV03sGHub5AAkg3SAAR+4jHtJrpFR3CRt1mYK//DgaLNjm8bSjVwBO0Rfx6wVAYoQlFYx1W3e4QKLwhanwhar1B6nyhbk/kBm0Bs0KnpctA0bYvdFr79poBh6j5tdepuvNOMJko++erWEdkfphBaMfXfH3BBahIhNLHH8N11lmZbpIQ+6j3h1hXoQWStXs8rKto7rI0sFGv46gipxZIBroZX5rNiGJn6n/vNH4NC+6BTW9q1y0uOO1WmDgDTAdWaEIpxd3/uZs3tr+BzWjjqclPcXzR8altby/T0NrANQuuYUvTFnKtucw9a26/HXbVkQSQbpAAIvDXtgeNPSu0ieJh/77H5QztPHejaBwY5RvUTAhGYokQEUwEjPZwUdehF6M5EOn2Yxr1usT6FdbEitwWitouJxbS6+1rW/QWSin2zJyFf9EiLCNGMPQf8zNaFUspxe4rr6Tls6VknX4ag55+ulfMmRGiO2q8QS2QVHhYt6eZtXs8XX5pYjboGTnA2WlOScpKAu/8D7w3W1sEF8BZAqffBsdeekAT1SPxCD9f9HP+U/Ef7EY7z5z1TL9dI2S3bzfXLriWcl85+bZ8nj37WYZnD890s9JCAkg3SAA5zERDULW2w0TxFdBcvu9xZodWkaotcJROAEdB+tt7mGkJRalN9Ex07KFoCxRtQ6S6qjKzP2aDPrkwXlGHxfPag4aVIpeFnL3WthCHJlpfz47zLyDW2Ij7ogspue++jLWlrUdGZ7Ew7O23MA/qXyUvxeFFKUWVJ8jaPR7W7mlODuPytO77hYvZqGf0AFdy6Nb4gdkML8jCeDChJB6HL1+Gj+5vL7CSMxROnw3j/xv03RsSFowGmbVwFsuql+EwOXj27GcZkz/mwNvTi21o2MD1H15PY7CRUkcpT09+mqHuoZluVtpIAOkGCSD9WCyiDaWqXK2tKF65RpsoHtv7myOdtuZG2zCqgSdAwYhu/zIV30wphT8U3beHwtseKNrmX/i7uRI3gMWo77KHoi1QFDq1+7J7SYWow1HL0qWUX3kVxOMMuO+3ZF90Udrb0GlOyi03k39175mTIkSqKKUobwxow7cSQ7jW7fF0uYCizWTQSgEnekrGD3RTlu/ofs9uJAir5mlzRFpqtdvyj4Lv3QmjLuhWkZVAJMD1C69nVc0qnGYnc8/qP5OyP6v4jJs+volANMDI3JE8eeaTFNgPry8wJYB0gwSQfqItbLQFjcrVULMBYl2UPrTndZ63UXIcWOW9P1BKKbyt0S6HQbX1Ymj7ULdLzgLYzQaKXNq6FV0NgypyWShwWnFZjRIs+oD6p5+h7k9/Qmc2M+Tll7CNSd83nSoep/yKKwl8/jm2Y45hyIsv9KqqXEL0pHhcsasxoPWSJIZwbajw0BLe9/dxltnAmFJ3ovqW1lsyNC/rm3uFwy3aIoZL/gTBZu224nHaQoYjzv3WINISaeHaBdeypm4NNqONR7/3KJNKJh38C+4F/rnln9z/+f1EVZQTB5zIn777Jxzmw28BYQkg3SABpA+KhqF+c3vQqFoD1eu7DhsWNwwYDyXHahWpSo6FnDKZKP4NlFL4QlFtGJRX66Fo23cMGTXeEOFo98rNgraeRcFew6Dag0ai18JlxXGQK3GL3knF4+y5fib+jz/GWFjI0PkvYyopSctz1/35Cer//Gd0VivD/vU65qFD0/K8QvRWsbji6/oW1lU0J6tvbaj0dvklkdNiTPaStE10H5Rr2/eLn6AHlj4JS5+AsE+7rWAUnHoLjPkhGPb/O70l0sINH93AsqplGPVGHjz1QaYMnZLKl5wWkXiEh5c/zPzN8wH4ftn3ue/k+zAd4kKOfZUEkG6QANLLBRqhep221azXgkbdVxDvYnLx3mFjwDFa2JA1N5La5lhooSJRDSox30K7rgWLA+mxcNtMyR6KIqeVgi6GQRW6LOmrYy96nZjXy65p0wht3Yb5iOEMffFFDG53jz6nf/Fidl97HSjFgAceIPtHP+zR5xOir4rG4myva2HtnmbWV2g9JRsrvYS6+ILJbTMxLtFLMqbExegBrvaekkCjFkKWz4WQV/uB3GFwys0w/sf7LdoSjoW549M7+GDXB+jQ8csTfsm0UdP6TA93Y7CRWxffyorqFejQ8fNjf85V467qM+3vCRJAukECSC8Rj2kL+yWDxjotbPgquz5ewkYnHatCtfVY1Ho7XE4Mk+pqPPD+OK1GilxakNB6LRKXE0Oi2nov+uNaFiL1IlVV7PzxT4jW1mIdN47B/+/ZHluFPLR1Kzun/Yy410v2T37MgF/9qkeeR4j+KhKLs7XG395TUuHhqypfl4us2s0GRhY7GV3iYtQAF+NyFaN2/wPTiqfb18tyDYSTfwHHTAPLvkOSYvEYc5bP4R+b/wHABcMv4O5Jd2MxWHr0dR6q5VXLmf3pbOpa67Ab7Tx02kN8d9B3M92sjJMA0g0SQDIg5IOajVo5v7ZejdqNEOl6VVhyyqB4LBSPh6Kx2mX3oMNiGFU4GqfO37l3omOoaLvcVfWT/bGbDRS7tGFQWsBoDxQd51tIj4VIteDmLZRPn06suVkLIc/+JeU9IZHKSnZe8lOiNTXYjjmGwX/7qyw4KEQKhKNxttT4kuuTbKz08lW1r8ueEr0ORuXpucq2mLM9r5AVbtDusLrh+Mth4jXgLu30M0op/r7x7zyy6hHiKs64/HH88bt/pCirKB0v74BE41GeXPMkz657FoWizF3GH07/A0fkHJHppvUKEkC6QQJID1IKPLu1gFGzXgsc1euh6euujzfaoGi0NomtaGxiPwYszvS2Ow2isTgNLWGqPcH21bfbAoavvQfjQBbIa6sK1TaXosjZoceiQ9iQORYik4JffUX5ZZcTa27GPGwYg555OmVlcSMVFZRfcSXhXbu0oV4vvIAhOzsljy2E2Fc0FmdnQwsbKr1srPKyqcrHxkoP9f72v10WwlxsWMyVhnco09cAEMPA7pKptB5/LaVjJuGyts+VWFq5lNs+uQ1PyEOOJYdfnfQrzhh8Rtpf2/5sbtzMr5f+mnX16wD40ZE/4vYTbsdusme4Zb2HBJBukACSIpGgNjej41yNmnXa5LSuOEu0noy2oFE8Thsr2sdL3yqlaApEqPYEE9WhOvZatF+u94eId/N/l8mgS86paAsRBckei8TeacVlk6pQom8Ibt7C7hkziFZXY8jNpfSR35M16dCq34S2bqX8qquJ1tRgKilhyEsvYiouTlGLhRAHotYXZGNlIpBUedlY6WFnvY/v6VZzlfEdvqPflDx2Zfwo/m2eSnnx2ZQV53FUsZNsl49nNt3DlubNAFx45IXcOuHWjFaUCkaDPLP2Geatn0dURXGYHNw76V6mlk3NWJt6Kwkg3SAB5ADF49C8SxsyVbMRajdo5W4btoPqYuKy3qitsZEMGmO1FcSz8tLf9kPQaS0Lb5DqvSpDVXu063W+UJdjZLti0OvId5gTw6Ha51rs3WORbTPJAnmi34nU1LLnuusIbtwIOh15V15B/s9/jt5y4GO+PW++SfWvfk08EMB8xHAGP/ushA8hepnWcIyvqr1sqfHh3bGS0bv+zomBxRjRPjs0qyz+GTuNl2NnsF2Vgi5K3sCPCGctAp3CYczlJ8NncdGIcxngtqXt76JSivd3vs+jXzzKHv8eACYPnszsibN75fCw3kACSDdIAPkGLQ2JgLGxw34TRFq6Pt6Wkxg2Na69d6NgBBh77ySytmBR5wslF8NrW3V7716LQBe10/cnL8vcOVS4OweMIreFvCxL9xd+EqIfire2UvPgQzT/Q5t4aho4kMLbbsN51mR03SgoEd6zh9rfP4LvvfcAsJ9wAgMff0yGXQnRV/iqCS7/K7ov5mFpaS86s0o3hpdCp/Je/ASC9kqsA15Db9bmkURbhkHTOQzJGs3wAgdl+VnaVpDF0LwsclK0+KxSiiUVS3hyzZOsb1gPQKGtkDu/cydnDj7zkB+/P5MA0g0SQIBIK9Rt1noyaje27/01XR9vMGvBonCMNmejbe8c0GsmhgcjMer9oWSwqOt4ea/rXU2g25+9K0MVua0UtS2W52ovPWs2Hp7VuIQ4GL4PP6T6t/cRrdF+55jLysj56U9xnnnGPmuGKKVoXb0Gz+uv4fnXG6hIBPR68mfNJH/GDFloUIi+KB6DbR/Cyudh6/ugtL/LMYOV3YXfY0nWd3kpupvdvAM6rZpj1D+CcMNpxALDgPbPHg6LkYE5Ngbm2BmUm9jn2BiUa2dQrv1b50G2Rlv5YOcHzNswj23N2wCwG+1cPvZy/mf0/8hcj26QANINh1UAiUWhaSfUbercq9G4PfmffR/ZQ7SJ4IWj28NG3nBI8+I64WicpkCYBn+YpkCYxpa9tkCYhg6hwhvsfrlZ0BZcyndaKHBYksOfuqoUlSUTuIXoEfFAgIZnn6Xxb38n7vcnbzcNHox58GD0NiuxZg+hLVuIedrnlmWdNInC227DOmpUJpothEg1zx5Y8xKs/Qc0bGu/3Z5PxaipPGWK8FbtcuKJYd8OfQmO8Ml46kdS25T1rQ+fbTcxKMdOsVv7O1/stpLvMOBjCxt9n/BZ9SJaItrvILvRzsVHXczlYy8nz9a3ho5nkgSQbuiXASQW0dbUqPsKar/S9nWboWErxPZTVcmWu2/QKByZ8gpU4WgcbzCCtzWCpzWCNxjV9onrntbIPuGiqSV8QOtXtDEb9RQ4LMlgUeDssCWuFzot5Dss2MzyrakQvUHM34LntdfwvvcerWvWaPPO9qKz23GdfTbZF/4I24QJUnxBiP5IKaj8Ata+Auv+CYH65F3lznzmlQzn7WgDrfH2zzVHZh/FyOxjyTEOwxgdhM+XRY0HdjcF2N0YoCkQAaLojD70ljoM1gr0tt0Y7dvQGdofR0VycYRPZqh5MsWOHPIcFnKzzOQ7zORlWch1mMlP7LPMBvkdtBcJIN3QpwNINKR9O9AWMJJBYxvE9/OB3WiDgqO0oFE4WgsdRWPAUbTf4VNKKVojMfyhKIFQYh+O0RKO0tLptigt4RgtoSj+tmARTASNVu36gaywvTeDXkeO3URulpkcu5k8R2KfZSYny0xulplCpzUZMlxWqQolRF8W83gIbtpEpKISFQ6hd7owDxmMdcQIdLK2hxCHj1gUdnwM6/8PtrwLrU0A+HU6/u3O4b3cQr5QrcTZ92Or3WjHbrKjlCISj+INd12dUx93Em8ZRaDxaGKBMqB7Q6ktRj35Dgs5WSZcVm1z20y4bEbtum3f6zaTAbvZQJbFiMWo73efVSSAdENvCCCfbatnd1MAHbrkMEYdoNPp0CmFJVSPM7ALZ8tOnP5dOPw7cfi/JqulHH1XlaeAsMFOo72MRtsw6m1DqbUOpdZaRp2+kGAMQtEYoWicUKRtH2+/rcPtwUiMQCRGqs8Ep8WIy9b2H9OY/A/rtpnIdZjJtWuBouPmsko1KCGEEOKwFotC+Wew6W346m3wVgDQrNezxGZlnSufDQ4X2+JBWuJdj/ow6o2UOkoZnTuaUXmjmFg8kVF5o9Dr9LSEolqlS49W8bLeH6KhRRsC3uAP0dgSpt4fpqElRDDS/Tmk+6PTgd1kwGY2YjdrwcRmNpBlNmI1GbAY9ZgMOkwGPWajvsO+/TazQbvdaNBh0OnQ63VceNzAjBW6kQDSDb0hgFz/4io+XbeDobpqynRVDNNXUZa4XKarxqlr3e/PepWdraqUrfFStqpStqmBbIkPpIpcOk7KSgWdDrIS/0GyLEayLAbsZiNZbdfNxuTtWRZjMlC4bZ2/EXBaTVL9SQghhBCHRiltkePti7St/PNOQ80DOh217lJCJeOheDyGojHklUzE7ShErzv0YjGBcFQLJonh4m1DzDsOL+84EqTt/kA4dkAFcA6Ejji5+Fj+wCUSQHqz3hBAdjx+PsMaFu/3/jg66g1FVBsHUmUqpcpYSqVhIFWWMnzGPIwGPQa9DqNe27dtxg6X265bjFqatpj0XV82GhLX22+zWww4LEasRoP0QAghhBCidwq3wM7/wI6PoHwpVK3dd40yvRHyR8CA8YmlA8ZA3hHaAsndKP+dKrG4IhCO0hqOEUhsrZFo++VwjNZIjHA0TiQWJxyLE4kqItEYplA9tkA1WcFqnKEqskOV5IQryQ9Xkh+tIooR692V3Spn3hMO9bO1lPtJk2FDhkAD2jyMvCO0KlN5R2hb7nD0uWUUGi0UAuMz3VghhBBCiN7InAVHna1tACE/VKyC3cu03pGqNRBIrHFWuwG+fLn9Z422xOev4ZBTBq5ScA0AV4kWThyFoE9dwRqDXofTasJpTVQVjce0uS0t9dBSB6oOwvXQWgveSvDs1oabeSogFvrGxzbp4hBsBntuytqbTtIDki7+Om2xPmsfmwQvhBBCCNFXKKV9mK9eq/WOVK/Vivc0fb3/4j1tdHqwuMCWDdbsxN4NRqu2PprRou0NZq2XRcW0UBGPJS5HteJBYb8WjJJ7H4R8WvjY35II+zYGnMVaSHIPhJyhnTf3IDBkrh9BekD6CkdBplsghBBCCNG/6XTgLtW2Eee03x6LQHM5NGzXKok27QRfpRZWvFXgr9bCQbBZ23qSLReyChJbvra5SsA1UAsb7oHaws/G/lsJUAKIEEIIIYTo3wym9uFXnL3v/fGYNjQq2AytzR32HogGtYnvsbDWwxGLQDyi9YLo9Npeb9D2BhOYnWBxgNmR2Ceu2/O1IVNpXui5N5IAIoQQQgghDm96AziLtE30uMxMnRdCCCGEEEIcliSACCGEEEIIIdJGAogQQgghhBAibSSACCGEEEIIIdJGAogQQgghhBAibSSACCGEEEIIIdJGAogQQgghhBAibSSACCGEEEIIIdJGAogQQgghhBAibSSACCGEEEIIIdJGAogQQgghhBAibSSACCGEEEIIIdLGmOkGpINSCgCv15vhlgghhBBCCNG3tX2mbvuMfaAOiwDi8/kAGDRoUIZbIoQQQgghRP/g8/lwu90H/HM6dbDRpQ+Jx+NUVlbidDrR6XQZaYPX62XQoEHs3r0bl8uVkTaIzJPzQMg5IOQcEHIOiL5+Diil8Pl8lJSUoNcf+IyOw6IHRK/XM3DgwEw3AwCXy9UnTzSRWnIeCDkHhJwDQs4B0ZfPgYPp+Wgjk9CFEEIIIYQQaSMBRAghhBBCCJE2EkDSxGKxcO+992KxWDLdFJFBch4IOQeEnANCzgFxuJ8Dh8UkdCGEEEIIIUTvID0gQgghhBBCiLSRACKEEEIIIYRIGwkgQgghhBBCiLSRACKEEEIIIYRIGwkgafLEE08wdOhQrFYrJ554IsuXL890k0QKzJkzhxNOOAGn00lhYSE/+MEP2Lx5c6djgsEgM2fOJC8vD4fDwYUXXkhNTU2nY8rLyzn33HOx2+0UFhZy2223EY1G0/lSRIo8+OCD6HQ6brzxxuRtcg4cHioqKvjZz35GXl4eNpuNcePGsXLlyuT9SinuueceBgwYgM1mY/LkyWzdurXTYzQ2NjJt2jRcLhfZ2dlceeWV+P3+dL8UcRBisRh33303ZWVl2Gw2hg8fzm9/+1s61vqRc6B/+eSTTzjvvPMoKSlBp9Pxr3/9q9P9qXq/165dy6mnnorVamXQoEE8/PDDPf3Sep4SPW7+/PnKbDar5557Tm3YsEFdffXVKjs7W9XU1GS6aeIQTZkyRT3//PNq/fr1as2aNer73/++Gjx4sPL7/cljrr32WjVo0CC1cOFCtXLlSvWd73xHnXTSScn7o9GoGjt2rJo8ebJavXq1euedd1R+fr664447MvGSxCFYvny5Gjp0qBo/fry64YYbkrfLOdD/NTY2qiFDhqjLLrtMLVu2TO3YsUO9//77atu2bcljHnzwQeV2u9W//vUv9eWXX6rzzz9flZWVqdbW1uQxU6dOVUcffbT6/PPP1aeffqqOOOIIdckll2TiJYkDdP/996u8vDz19ttvq6+//lq9+uqryuFwqEcffTR5jJwD/cs777yj7rrrLvXaa68pQL3++uud7k/F++3xeFRRUZGaNm2aWr9+vXr55ZeVzWZTzzzzTLpeZo+QAJIGEydOVDNnzkxej8ViqqSkRM2ZMyeDrRI9oba2VgFq8eLFSimlmpublclkUq+++mrymE2bNilALV26VCml/QLT6/Wquro6ecxTTz2lXC6XCoVC6X0B4qD5fD515JFHqgULFqjTTz89GUDkHDg83H777eqUU07Z7/3xeFwVFxer3/3ud8nbmpublcViUS+//LJSSqmNGzcqQK1YsSJ5zLvvvqt0Op2qqKjoucaLlDj33HPVFVdc0em2H/3oR2ratGlKKTkH+ru9A0iq3u8nn3xS5eTkdPpbcPvtt6sRI0b08CvqWTIEq4eFw2FWrVrF5MmTk7fp9XomT57M0qVLM9gy0RM8Hg8Aubm5AKxatYpIJNLp/R85ciSDBw9Ovv9Lly5l3LhxFBUVJY+ZMmUKXq+XDRs2pLH14lDMnDmTc889t9N7DXIOHC7efPNNJkyYwMUXX0xhYSHHHnssf/nLX5L3f/3111RXV3c6D9xuNyeeeGKn8yA7O5sJEyYkj5k8eTJ6vZ5ly5al78WIg3LSSSexcOFCtmzZAsCXX37JkiVLOOeccwA5Bw43qXq/ly5dymmnnYbZbE4eM2XKFDZv3kxTU1OaXk3qGTPdgP6uvr6eWCzW6YMFQFFREV999VWGWiV6Qjwe58Ybb+Tkk09m7NixAFRXV2M2m8nOzu50bFFREdXV1cljujo/2u4Tvd/8+fP54osvWLFixT73yTlweNixYwdPPfUUN998M3feeScrVqzgF7/4BWazmenTpyffx67e547nQWFhYaf7jUYjubm5ch70AbNnz8br9TJy5EgMBgOxWIz777+fadOmAcg5cJhJ1ftdXV1NWVnZPo/Rdl9OTk6PtL+nSQARIkVmzpzJ+vXrWbJkSaabItJo9+7d3HDDDSxYsACr1Zrp5ogMicfjTJgwgQceeACAY489lvXr1/P0008zffr0DLdOpMMrr7zCiy++yEsvvcSYMWNYs2YNN954IyUlJXIOCLEXGYLVw/Lz8zEYDPtUvKmpqaG4uDhDrRKpNmvWLN5++20++ugjBg4cmLy9uLiYcDhMc3Nzp+M7vv/FxcVdnh9t94nebdWqVdTW1nLcccdhNBoxGo0sXryYxx57DKPRSFFRkZwDh4EBAwYwevToTreNGjWK8vJyoP19/Ka/BcXFxdTW1na6PxqN0tjYKOdBH3Dbbbcxe/ZsfvKTnzBu3DguvfRSbrrpJubMmQPIOXC4SdX73V//PkgA6WFms5njjz+ehQsXJm+Lx+MsXLiQSZMmZbBlIhWUUsyaNYvXX3+dRYsW7dNNevzxx2MymTq9/5s3b6a8vDz5/k+aNIl169Z1+iW0YMECXC7XPh9oRO9z5plnsm7dOtasWZPcJkyYwLRp05KX5Rzo/04++eR9SnBv2bKFIUOGAFBWVkZxcXGn88Dr9bJs2bJO50FzczOrVq1KHrNo0SLi8TgnnnhiGl6FOBSBQAC9vvPHKoPBQDweB+QcONyk6v2eNGkSn3zyCZFIJHnMggULGDFiRJ8dfgVIGd50mD9/vrJYLGrevHlq48aN6pprrlHZ2dmdKt6Ivum6665Tbrdbffzxx6qqqiq5BQKB5DHXXnutGjx4sFq0aJFauXKlmjRpkpo0aVLy/rYSrGeffbZas2aNeu+991RBQYGUYO3DOlbBUkrOgcPB8uXLldFoVPfff7/aunWrevHFF5XdblcvvPBC8pgHH3xQZWdnqzfeeEOtXbtWXXDBBV2W5Dz22GPVsmXL1JIlS9SRRx4pJVj7iOnTp6vS0tJkGd7XXntN5efnq1/+8pfJY+Qc6F98Pp9avXq1Wr16tQLUH/7wB7V69Wq1a9cupVRq3u/m5mZVVFSkLr30UrV+/Xo1f/58ZbfbpQyv6J7HH39cDR48WJnNZjVx4kT1+eefZ7pJIgWALrfnn38+eUxra6u6/vrrVU5OjrLb7eqHP/yhqqqq6vQ4O3fuVOecc46y2WwqPz9f3XLLLSoSiaT51YhU2TuAyDlweHjrrbfU2LFjlcViUSNHjlRz587tdH88Hld33323KioqUhaLRZ155plq8+bNnY5paGhQl1xyiXI4HMrlcqnLL79c+Xy+dL4McZC8Xq+64YYb1ODBg5XValXDhg1Td911V6fyqXIO9C8fffRRl58Bpk+frpRK3fv95ZdfqlNOOUVZLBZVWlqqHnzwwXS9xB6jU6rDEp1CCCGEEEII0YNkDogQQgghhBAibSSACCGEEEIIIdJGAogQQgghhBAibSSACCGEEEIIIdJGAogQQgghhBAibSSACCGEEEIIIdJGAogQQgghhBAibSSACCGEEEIIIdJGAogQQgghhBAibSSACCGEEEIIIdJGAogQQgghhBAibSSACCGEEEIIIdJGAogQQgghhBAibSSACCGEEEIIIdJGAogQQgghhBAibSSACCGEEEIIIdJGAogQQgghhBAibf4/1gKOUcqu1tMAAAAASUVORK5CYII=' width=800.0/>\n",
       "            </div>\n",
       "        "
      ],
      "text/plain": [
       "Canvas(toolbar=Toolbar(toolitems=[('Home', 'Reset original view', 'home', 'home'), ('Back', 'Back to previous …"
      ]
     },
     "metadata": {},
     "output_type": "display_data"
    }
   ],
   "source": [
    "fig, axis = plt.subplots(1, 1, figsize=(8,4), sharex = False, sharey = False, squeeze = False)\n",
    "\n",
    "for i, noise in enumerate(noiseDataset):\n",
    "    if noise['baseFrequency'] == 1 and noise['octaves'] == 8 and noise['persistence'] == 0.125:\n",
    "        axis[0,0].plot(noise['noise'])\n",
    "\n",
    "fig.tight_layout()"
   ]
  },
  {
   "cell_type": "code",
   "execution_count": 58,
   "id": "142e8350",
   "metadata": {},
   "outputs": [],
   "source": [
    "torch.save(noiseDataset, 'noiseDataset.pt')"
   ]
  },
  {
   "cell_type": "code",
   "execution_count": null,
   "id": "3a8d38d0",
   "metadata": {},
   "outputs": [],
   "source": []
  },
  {
   "cell_type": "code",
   "execution_count": 40,
   "id": "165bfbb7",
   "metadata": {},
   "outputs": [],
   "source": [
    "positions = torch.tensor(samplePDF(pdf, n = numParticles*2, numParticles = numParticles, plot = False, randomSampling = False), device = device, dtype = dtype).view(-1,1)\n",
    "masses = torch.ones_like(positions[:,0]) * (domain.max - domain.min)[0]/positions.shape[0] \n",
    "densities = torch.tensor(pdf(positions[:,0].cpu().numpy()), device = device, dtype = dtype)\n",
    "supports = volumeToSupport(masses, targetNeighbors, 1)\n",
    "\n",
    "particles_l = ParticleSet(positions, supports, masses, densities)\n"
   ]
  },
  {
   "cell_type": "code",
   "execution_count": 41,
   "id": "bc9b203c",
   "metadata": {},
   "outputs": [],
   "source": [
    "from sphMath.schemes.states.common import BasicState\n",
    "from sphMath.schemes.states.compressiblesph import CompressibleState\n",
    "\n",
    "particles = CompressibleState(\n",
    "    positions = positions,\n",
    "    supports = supports,\n",
    "    velocities = torch.zeros_like(positions),\n",
    "    densities = densities,\n",
    "    masses = masses,\n",
    "\n",
    "    kinds = torch.zeros_like(positions[:,0], dtype = torch.int64),\n",
    "    materials = torch.zeros_like(positions[:,0], dtype = torch.int64),\n",
    "    UIDs = torch.arange(0, positions.shape[0], device = device, dtype = torch.int64),\n",
    "    UIDcounter= positions.shape[0],\n",
    "\n",
    "    soundspeeds= torch.ones_like(positions[:,0]),\n",
    "    internalEnergies= torch.ones_like(positions[:,0]),\n",
    "    pressures= torch.ones_like(positions[:,0]),\n",
    "    totalEnergies=None,\n",
    "    entropies=None\n",
    ")"
   ]
  },
  {
   "cell_type": "code",
   "execution_count": null,
   "id": "956f861f",
   "metadata": {},
   "outputs": [],
   "source": []
  },
  {
   "cell_type": "code",
   "execution_count": 42,
   "id": "704de161",
   "metadata": {},
   "outputs": [
    {
     "data": {
      "text/plain": [
       "<matplotlib.collections.PathCollection at 0x7ef277c9d2d0>"
      ]
     },
     "execution_count": 42,
     "metadata": {},
     "output_type": "execute_result"
    },
    {
     "data": {
      "application/vnd.jupyter.widget-view+json": {
       "model_id": "f810b78f84dc492c8b10424b3741adb2",
       "version_major": 2,
       "version_minor": 0
      },
      "image/png": "[encoded data removed]",
      "text/html": [
       "\n",
       "            <div style=\"display: inline-block;\">\n",
       "                <div class=\"jupyter-widgets widget-label\" style=\"text-align: center;\">\n",
       "                    Figure\n",
       "                </div>\n",
       "                <img src='data:image/png;base64,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' width=900.0/>\n",
       "            </div>\n",
       "        "
      ],
      "text/plain": [
       "Canvas(toolbar=Toolbar(toolitems=[('Home', 'Reset original view', 'home', 'home'), ('Back', 'Back to previous …"
      ]
     },
     "metadata": {},
     "output_type": "display_data"
    }
   ],
   "source": [
    "from sphMath.neighborhood import evaluateNeighborhood, filterNeighborhoodByKind, coo_to_csr, SupportScheme\n",
    "\n",
    "neighborhood = None\n",
    "neighborhood, neighbors = evaluateNeighborhood(particles, domain, kernel, verletScale = solverConfig['neighborhood']['verletScale'], mode = SupportScheme.SuperSymmetric, priorNeighborhood=neighborhood)\n",
    "particles.numNeighbors = coo_to_csr(filterNeighborhoodByKind(particles, neighbors.neighbors, which = 'noghost')).rowEntries\n",
    "\n",
    "from sphMath.modules.density import computeDensity\n",
    "from sphMath.modules.CRKSPH import computeCRKVolume\n",
    "\n",
    "particles.densities = computeDensity(particles, kernel, neighbors.get('noghost'), SupportScheme.SuperSymmetric, solverConfig)\n",
    "particles.apparentArea = computeCRKVolume(particles, kernel, neighbors.get('noghost'), SupportScheme.SuperSymmetric, solverConfig)\n",
    "\n",
    "fig, axis = plt.subplots(1, 1, figsize=(9,6), sharex = False, sharey = False, squeeze = False)\n",
    "\n",
    "axis[0,0].scatter(particles.positions[:,0].cpu().numpy(), particles.densities.cpu().numpy(), s = 1, c = 'blue', label = 'Density')"
   ]
  },
  {
   "cell_type": "code",
   "execution_count": null,
   "id": "e5a91b3e",
   "metadata": {},
   "outputs": [],
   "source": []
  }
 ],
 "metadata": {
  "kernelspec": {
   "display_name": "torchSPH",
   "language": "python",
   "name": "python3"
  },
  "language_info": {
   "codemirror_mode": {
    "name": "ipython",
    "version": 3
   },
   "file_extension": ".py",
   "mimetype": "text/x-python",
   "name": "python",
   "nbconvert_exporter": "python",
   "pygments_lexer": "ipython3",
   "version": "3.11.8"
  }
 },
 "nbformat": 4,
 "nbformat_minor": 5
}
